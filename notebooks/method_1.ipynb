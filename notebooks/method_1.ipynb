{
  "cells": [
    {
      "cell_type": "markdown",
      "metadata": {
        "id": "16uCsccv7121"
      },
      "source": [
        "#### Setting up"
      ]
    },
    {
      "cell_type": "code",
      "execution_count": null,
      "metadata": {
        "colab": {
          "base_uri": "https://localhost:8080/"
        },
        "id": "jAy7n89UtUg_",
        "outputId": "6b2ffa1a-6fcd-4cff-f35d-45a0737dd476"
      },
      "outputs": [
        {
          "output_type": "stream",
          "name": "stdout",
          "text": [
            "Mounted at /content/drive\n",
            "/content/drive/Shared drives/Adversarial NLP\n"
          ]
        }
      ],
      "source": [
        "from google.colab import drive\n",
        "drive.mount('/content/drive')\n",
        "%cd \"/content/drive/Shared drives/Adversarial NLP\""
      ]
    },
    {
      "cell_type": "code",
      "execution_count": null,
      "metadata": {
        "colab": {
          "base_uri": "https://localhost:8080/"
        },
        "id": "7oSbL5DX7w8q",
        "outputId": "4ecc330b-9a29-443c-def1-a89ff8dd48d3"
      },
      "outputs": [
        {
          "output_type": "stream",
          "name": "stdout",
          "text": [
            "Looking in indexes: https://pypi.org/simple, https://us-python.pkg.dev/colab-wheels/public/simple/\n",
            "Collecting textattack\n",
            "  Downloading textattack-0.3.8-py3-none-any.whl (418 kB)\n",
            "\u001b[2K     \u001b[90m━━━━━━━━━━━━━━━━━━━━━━━━━━━━━━━━━━━━━━━\u001b[0m \u001b[32m418.7/418.7 KB\u001b[0m \u001b[31m9.1 MB/s\u001b[0m eta \u001b[36m0:00:00\u001b[0m\n",
            "\u001b[?25hRequirement already satisfied: pandas>=1.0.1 in /usr/local/lib/python3.9/dist-packages (from textattack) (1.4.4)\n",
            "Collecting OpenHowNet\n",
            "  Downloading OpenHowNet-2.0-py3-none-any.whl (18 kB)\n",
            "Collecting num2words\n",
            "  Downloading num2words-0.5.12-py3-none-any.whl (125 kB)\n",
            "\u001b[2K     \u001b[90m━━━━━━━━━━━━━━━━━━━━━━━━━━━━━━━━━━━━━━\u001b[0m \u001b[32m125.2/125.2 KB\u001b[0m \u001b[31m19.8 MB/s\u001b[0m eta \u001b[36m0:00:00\u001b[0m\n",
            "\u001b[?25hRequirement already satisfied: torch!=1.8,>=1.7.0 in /usr/local/lib/python3.9/dist-packages (from textattack) (1.13.1+cu116)\n",
            "Collecting pycld2\n",
            "  Downloading pycld2-0.41.tar.gz (41.4 MB)\n",
            "\u001b[2K     \u001b[90m━━━━━━━━━━━━━━━━━━━━━━━━━━━━━━━━━━━━━━━━\u001b[0m \u001b[32m41.4/41.4 MB\u001b[0m \u001b[31m37.0 MB/s\u001b[0m eta \u001b[36m0:00:00\u001b[0m\n",
            "\u001b[?25h  Preparing metadata (setup.py) ... \u001b[?25l\u001b[?25hdone\n",
            "Collecting datasets==2.4.0\n",
            "  Downloading datasets-2.4.0-py3-none-any.whl (365 kB)\n",
            "\u001b[2K     \u001b[90m━━━━━━━━━━━━━━━━━━━━━━━━━━━━━━━━━━━━━━\u001b[0m \u001b[32m365.7/365.7 KB\u001b[0m \u001b[31m39.9 MB/s\u001b[0m eta \u001b[36m0:00:00\u001b[0m\n",
            "\u001b[?25hCollecting language-tool-python\n",
            "  Downloading language_tool_python-2.7.1-py3-none-any.whl (34 kB)\n",
            "Collecting bert-score>=0.3.5\n",
            "  Downloading bert_score-0.3.13-py3-none-any.whl (61 kB)\n",
            "\u001b[2K     \u001b[90m━━━━━━━━━━━━━━━━━━━━━━━━━━━━━━━━━━━━━━━━\u001b[0m \u001b[32m61.1/61.1 KB\u001b[0m \u001b[31m9.5 MB/s\u001b[0m eta \u001b[36m0:00:00\u001b[0m\n",
            "\u001b[?25hRequirement already satisfied: more-itertools in /usr/local/lib/python3.9/dist-packages (from textattack) (9.1.0)\n",
            "Requirement already satisfied: editdistance in /usr/local/lib/python3.9/dist-packages (from textattack) (0.5.3)\n",
            "Collecting terminaltables\n",
            "  Downloading terminaltables-3.1.10-py2.py3-none-any.whl (15 kB)\n",
            "Requirement already satisfied: jieba in /usr/local/lib/python3.9/dist-packages (from textattack) (0.42.1)\n",
            "Collecting word2number\n",
            "  Downloading word2number-1.1.zip (9.7 kB)\n",
            "  Preparing metadata (setup.py) ... \u001b[?25l\u001b[?25hdone\n",
            "Collecting lru-dict\n",
            "  Downloading lru_dict-1.1.8-cp39-cp39-manylinux_2_5_x86_64.manylinux1_x86_64.manylinux_2_17_x86_64.manylinux2014_x86_64.whl (28 kB)\n",
            "Collecting flair\n",
            "  Downloading flair-0.12.1-py3-none-any.whl (374 kB)\n",
            "\u001b[2K     \u001b[90m━━━━━━━━━━━━━━━━━━━━━━━━━━━━━━━━━━━━━━\u001b[0m \u001b[32m374.3/374.3 KB\u001b[0m \u001b[31m40.3 MB/s\u001b[0m eta \u001b[36m0:00:00\u001b[0m\n",
            "\u001b[?25hCollecting lemminflect\n",
            "  Downloading lemminflect-0.2.3-py3-none-any.whl (769 kB)\n",
            "\u001b[2K     \u001b[90m━━━━━━━━━━━━━━━━━━━━━━━━━━━━━━━━━━━━━━\u001b[0m \u001b[32m769.7/769.7 KB\u001b[0m \u001b[31m59.2 MB/s\u001b[0m eta \u001b[36m0:00:00\u001b[0m\n",
            "\u001b[?25hCollecting click<8.1.0\n",
            "  Downloading click-8.0.4-py3-none-any.whl (97 kB)\n",
            "\u001b[2K     \u001b[90m━━━━━━━━━━━━━━━━━━━━━━━━━━━━━━━━━━━━━━━━\u001b[0m \u001b[32m97.5/97.5 KB\u001b[0m \u001b[31m16.0 MB/s\u001b[0m eta \u001b[36m0:00:00\u001b[0m\n",
            "\u001b[?25hCollecting transformers>=4.21.0\n",
            "  Downloading transformers-4.27.3-py3-none-any.whl (6.8 MB)\n",
            "\u001b[2K     \u001b[90m━━━━━━━━━━━━━━━━━━━━━━━━━━━━━━━━━━━━━━━━\u001b[0m \u001b[32m6.8/6.8 MB\u001b[0m \u001b[31m100.2 MB/s\u001b[0m eta \u001b[36m0:00:00\u001b[0m\n",
            "\u001b[?25hRequirement already satisfied: nltk in /usr/local/lib/python3.9/dist-packages (from textattack) (3.8.1)\n",
            "Collecting pinyin==0.4.0\n",
            "  Downloading pinyin-0.4.0.tar.gz (3.6 MB)\n",
            "\u001b[2K     \u001b[90m━━━━━━━━━━━━━━━━━━━━━━━━━━━━━━━━━━━━━━━━\u001b[0m \u001b[32m3.6/3.6 MB\u001b[0m \u001b[31m97.2 MB/s\u001b[0m eta \u001b[36m0:00:00\u001b[0m\n",
            "\u001b[?25h  Preparing metadata (setup.py) ... \u001b[?25l\u001b[?25hdone\n",
            "Requirement already satisfied: scipy>=1.4.1 in /usr/local/lib/python3.9/dist-packages (from textattack) (1.10.1)\n",
            "Requirement already satisfied: PySocks!=1.5.7,>=1.5.6 in /usr/local/lib/python3.9/dist-packages (from textattack) (1.7.1)\n",
            "Requirement already satisfied: filelock in /usr/local/lib/python3.9/dist-packages (from textattack) (3.10.1)\n",
            "Requirement already satisfied: numpy>=1.21.0 in /usr/local/lib/python3.9/dist-packages (from textattack) (1.22.4)\n",
            "Requirement already satisfied: tqdm in /usr/local/lib/python3.9/dist-packages (from textattack) (4.65.0)\n",
            "Requirement already satisfied: requests>=2.19.0 in /usr/local/lib/python3.9/dist-packages (from datasets==2.4.0->textattack) (2.27.1)\n",
            "Collecting xxhash\n",
            "  Downloading xxhash-3.2.0-cp39-cp39-manylinux_2_17_x86_64.manylinux2014_x86_64.whl (212 kB)\n",
            "\u001b[2K     \u001b[90m━━━━━━━━━━━━━━━━━━━━━━━━━━━━━━━━━━━━━━\u001b[0m \u001b[32m212.2/212.2 KB\u001b[0m \u001b[31m29.5 MB/s\u001b[0m eta \u001b[36m0:00:00\u001b[0m\n",
            "\u001b[?25hRequirement already satisfied: fsspec[http]>=2021.11.1 in /usr/local/lib/python3.9/dist-packages (from datasets==2.4.0->textattack) (2023.3.0)\n",
            "Requirement already satisfied: packaging in /usr/local/lib/python3.9/dist-packages (from datasets==2.4.0->textattack) (23.0)\n",
            "Requirement already satisfied: pyarrow>=6.0.0 in /usr/local/lib/python3.9/dist-packages (from datasets==2.4.0->textattack) (9.0.0)\n",
            "Collecting dill<0.3.6\n",
            "  Downloading dill-0.3.5.1-py2.py3-none-any.whl (95 kB)\n",
            "\u001b[2K     \u001b[90m━━━━━━━━━━━━━━━━━━━━━━━━━━━━━━━━━━━━━━━━\u001b[0m \u001b[32m95.8/95.8 KB\u001b[0m \u001b[31m14.3 MB/s\u001b[0m eta \u001b[36m0:00:00\u001b[0m\n",
            "\u001b[?25hCollecting aiohttp\n",
            "  Downloading aiohttp-3.8.4-cp39-cp39-manylinux_2_17_x86_64.manylinux2014_x86_64.whl (1.0 MB)\n",
            "\u001b[2K     \u001b[90m━━━━━━━━━━━━━━━━━━━━━━━━━━━━━━━━━━━━━━━━\u001b[0m \u001b[32m1.0/1.0 MB\u001b[0m \u001b[31m69.5 MB/s\u001b[0m eta \u001b[36m0:00:00\u001b[0m\n",
            "\u001b[?25hCollecting huggingface-hub<1.0.0,>=0.1.0\n",
            "  Downloading huggingface_hub-0.13.3-py3-none-any.whl (199 kB)\n",
            "\u001b[2K     \u001b[90m━━━━━━━━━━━━━━━━━━━━━━━━━━━━━━━━━━━━━━\u001b[0m \u001b[32m199.8/199.8 KB\u001b[0m \u001b[31m27.6 MB/s\u001b[0m eta \u001b[36m0:00:00\u001b[0m\n",
            "\u001b[?25hCollecting responses<0.19\n",
            "  Downloading responses-0.18.0-py3-none-any.whl (38 kB)\n",
            "Collecting multiprocess\n",
            "  Downloading multiprocess-0.70.14-py39-none-any.whl (132 kB)\n",
            "\u001b[2K     \u001b[90m━━━━━━━━━━━━━━━━━━━━━━━━━━━━━━━━━━━━━━\u001b[0m \u001b[32m132.9/132.9 KB\u001b[0m \u001b[31m18.3 MB/s\u001b[0m eta \u001b[36m0:00:00\u001b[0m\n",
            "\u001b[?25hRequirement already satisfied: matplotlib in /usr/local/lib/python3.9/dist-packages (from bert-score>=0.3.5->textattack) (3.7.1)\n",
            "Requirement already satisfied: python-dateutil>=2.8.1 in /usr/local/lib/python3.9/dist-packages (from pandas>=1.0.1->textattack) (2.8.2)\n",
            "Requirement already satisfied: pytz>=2020.1 in /usr/local/lib/python3.9/dist-packages (from pandas>=1.0.1->textattack) (2022.7.1)\n",
            "Requirement already satisfied: typing-extensions in /usr/local/lib/python3.9/dist-packages (from torch!=1.8,>=1.7.0->textattack) (4.5.0)\n",
            "Requirement already satisfied: regex!=2019.12.17 in /usr/local/lib/python3.9/dist-packages (from transformers>=4.21.0->textattack) (2022.10.31)\n",
            "Collecting tokenizers!=0.11.3,<0.14,>=0.11.1\n",
            "  Downloading tokenizers-0.13.2-cp39-cp39-manylinux_2_17_x86_64.manylinux2014_x86_64.whl (7.6 MB)\n",
            "\u001b[2K     \u001b[90m━━━━━━━━━━━━━━━━━━━━━━━━━━━━━━━━━━━━━━━━\u001b[0m \u001b[32m7.6/7.6 MB\u001b[0m \u001b[31m93.4 MB/s\u001b[0m eta \u001b[36m0:00:00\u001b[0m\n",
            "\u001b[?25hRequirement already satisfied: pyyaml>=5.1 in /usr/local/lib/python3.9/dist-packages (from transformers>=4.21.0->textattack) (6.0)\n",
            "Collecting bpemb>=0.3.2\n",
            "  Downloading bpemb-0.3.4-py3-none-any.whl (19 kB)\n",
            "Collecting wikipedia-api\n",
            "  Downloading Wikipedia_API-0.5.8-py3-none-any.whl (13 kB)\n",
            "Requirement already satisfied: tabulate in /usr/local/lib/python3.9/dist-packages (from flair->textattack) (0.8.10)\n",
            "Collecting conllu>=4.0\n",
            "  Downloading conllu-4.5.2-py2.py3-none-any.whl (16 kB)\n",
            "Collecting sqlitedict>=1.6.0\n",
            "  Downloading sqlitedict-2.1.0.tar.gz (21 kB)\n",
            "  Preparing metadata (setup.py) ... \u001b[?25l\u001b[?25hdone\n",
            "Collecting pptree\n",
            "  Downloading pptree-3.1.tar.gz (3.0 kB)\n",
            "  Preparing metadata (setup.py) ... \u001b[?25l\u001b[?25hdone\n",
            "Collecting pytorch-revgrad\n",
            "  Downloading pytorch_revgrad-0.2.0-py3-none-any.whl (4.6 kB)\n",
            "Collecting gdown==4.4.0\n",
            "  Downloading gdown-4.4.0.tar.gz (14 kB)\n",
            "  Installing build dependencies ... \u001b[?25l\u001b[?25hdone\n",
            "  Getting requirements to build wheel ... \u001b[?25l\u001b[?25hdone\n",
            "  Preparing metadata (pyproject.toml) ... \u001b[?25l\u001b[?25hdone\n",
            "Collecting mpld3==0.3\n",
            "  Downloading mpld3-0.3.tar.gz (788 kB)\n",
            "\u001b[2K     \u001b[90m━━━━━━━━━━━━━━━━━━━━━━━━━━━━━━━━━━━━━━\u001b[0m \u001b[32m788.5/788.5 KB\u001b[0m \u001b[31m58.1 MB/s\u001b[0m eta \u001b[36m0:00:00\u001b[0m\n",
            "\u001b[?25h  Preparing metadata (setup.py) ... \u001b[?25l\u001b[?25hdone\n",
            "Collecting flair\n",
            "  Downloading flair-0.12-py3-none-any.whl (374 kB)\n",
            "\u001b[2K     \u001b[90m━━━━━━━━━━━━━━━━━━━━━━━━━━━━━━━━━━━━━━\u001b[0m \u001b[32m374.2/374.2 KB\u001b[0m \u001b[31m40.6 MB/s\u001b[0m eta \u001b[36m0:00:00\u001b[0m\n",
            "\u001b[?25h  Downloading flair-0.11.3-py3-none-any.whl (401 kB)\n",
            "\u001b[2K     \u001b[90m━━━━━━━━━━━━━━━━━━━━━━━━━━━━━━━━━━━━━━\u001b[0m \u001b[32m401.9/401.9 KB\u001b[0m \u001b[31m42.5 MB/s\u001b[0m eta \u001b[36m0:00:00\u001b[0m\n",
            "\u001b[?25hCollecting konoha<5.0.0,>=4.0.0\n",
            "  Downloading konoha-4.6.5-py3-none-any.whl (20 kB)\n",
            "Requirement already satisfied: scikit-learn>=0.21.3 in /usr/local/lib/python3.9/dist-packages (from flair->textattack) (1.2.2)\n",
            "Collecting janome\n",
            "  Downloading Janome-0.4.2-py2.py3-none-any.whl (19.7 MB)\n",
            "\u001b[2K     \u001b[90m━━━━━━━━━━━━━━━━━━━━━━━━━━━━━━━━━━━━━━━━\u001b[0m \u001b[32m19.7/19.7 MB\u001b[0m \u001b[31m76.7 MB/s\u001b[0m eta \u001b[36m0:00:00\u001b[0m\n",
            "\u001b[?25hCollecting deprecated>=1.2.4\n",
            "  Downloading Deprecated-1.2.13-py2.py3-none-any.whl (9.6 kB)\n",
            "Requirement already satisfied: lxml in /usr/local/lib/python3.9/dist-packages (from flair->textattack) (4.9.2)\n",
            "Requirement already satisfied: gensim>=3.4.0 in /usr/local/lib/python3.9/dist-packages (from flair->textattack) (4.3.1)\n",
            "Collecting langdetect\n",
            "  Downloading langdetect-1.0.9.tar.gz (981 kB)\n",
            "\u001b[2K     \u001b[90m━━━━━━━━━━━━━━━━━━━━━━━━━━━━━━━━━━━━━━\u001b[0m \u001b[32m981.5/981.5 KB\u001b[0m \u001b[31m71.8 MB/s\u001b[0m eta \u001b[36m0:00:00\u001b[0m\n",
            "\u001b[?25h  Preparing metadata (setup.py) ... \u001b[?25l\u001b[?25hdone\n",
            "Requirement already satisfied: hyperopt>=0.2.7 in /usr/local/lib/python3.9/dist-packages (from flair->textattack) (0.2.7)\n",
            "Collecting sentencepiece==0.1.95\n",
            "  Downloading sentencepiece-0.1.95-cp39-cp39-manylinux2014_x86_64.whl (1.2 MB)\n",
            "\u001b[2K     \u001b[90m━━━━━━━━━━━━━━━━━━━━━━━━━━━━━━━━━━━━━━━━\u001b[0m \u001b[32m1.2/1.2 MB\u001b[0m \u001b[31m68.0 MB/s\u001b[0m eta \u001b[36m0:00:00\u001b[0m\n",
            "\u001b[?25hCollecting segtok>=1.5.7\n",
            "  Downloading segtok-1.5.11-py3-none-any.whl (24 kB)\n",
            "Collecting ftfy\n",
            "  Downloading ftfy-6.1.1-py3-none-any.whl (53 kB)\n",
            "\u001b[2K     \u001b[90m━━━━━━━━━━━━━━━━━━━━━━━━━━━━━━━━━━━━━━━━\u001b[0m \u001b[32m53.1/53.1 KB\u001b[0m \u001b[31m8.2 MB/s\u001b[0m eta \u001b[36m0:00:00\u001b[0m\n",
            "\u001b[?25hRequirement already satisfied: beautifulsoup4 in /usr/local/lib/python3.9/dist-packages (from gdown==4.4.0->flair->textattack) (4.11.2)\n",
            "Requirement already satisfied: six in /usr/local/lib/python3.9/dist-packages (from gdown==4.4.0->flair->textattack) (1.16.0)\n",
            "Requirement already satisfied: joblib in /usr/local/lib/python3.9/dist-packages (from nltk->textattack) (1.1.1)\n",
            "Collecting docopt>=0.6.2\n",
            "  Downloading docopt-0.6.2.tar.gz (25 kB)\n",
            "  Preparing metadata (setup.py) ... \u001b[?25l\u001b[?25hdone\n",
            "Requirement already satisfied: setuptools in /usr/local/lib/python3.9/dist-packages (from OpenHowNet->textattack) (67.6.0)\n",
            "Collecting anytree\n",
            "  Downloading anytree-2.8.0-py2.py3-none-any.whl (41 kB)\n",
            "\u001b[2K     \u001b[90m━━━━━━━━━━━━━━━━━━━━━━━━━━━━━━━━━━━━━━━━\u001b[0m \u001b[32m41.7/41.7 KB\u001b[0m \u001b[31m6.3 MB/s\u001b[0m eta \u001b[36m0:00:00\u001b[0m\n",
            "\u001b[?25hRequirement already satisfied: wrapt<2,>=1.10 in /usr/local/lib/python3.9/dist-packages (from deprecated>=1.2.4->flair->textattack) (1.15.0)\n",
            "Requirement already satisfied: attrs>=17.3.0 in /usr/local/lib/python3.9/dist-packages (from aiohttp->datasets==2.4.0->textattack) (22.2.0)\n",
            "Collecting async-timeout<5.0,>=4.0.0a3\n",
            "  Downloading async_timeout-4.0.2-py3-none-any.whl (5.8 kB)\n",
            "Collecting aiosignal>=1.1.2\n",
            "  Downloading aiosignal-1.3.1-py3-none-any.whl (7.6 kB)\n",
            "Requirement already satisfied: charset-normalizer<4.0,>=2.0 in /usr/local/lib/python3.9/dist-packages (from aiohttp->datasets==2.4.0->textattack) (2.0.12)\n",
            "Collecting frozenlist>=1.1.1\n",
            "  Downloading frozenlist-1.3.3-cp39-cp39-manylinux_2_5_x86_64.manylinux1_x86_64.manylinux_2_17_x86_64.manylinux2014_x86_64.whl (158 kB)\n",
            "\u001b[2K     \u001b[90m━━━━━━━━━━━━━━━━━━━━━━━━━━━━━━━━━━━━━━\u001b[0m \u001b[32m158.8/158.8 KB\u001b[0m \u001b[31m22.6 MB/s\u001b[0m eta \u001b[36m0:00:00\u001b[0m\n",
            "\u001b[?25hCollecting yarl<2.0,>=1.0\n",
            "  Downloading yarl-1.8.2-cp39-cp39-manylinux_2_17_x86_64.manylinux2014_x86_64.whl (264 kB)\n",
            "\u001b[2K     \u001b[90m━━━━━━━━━━━━━━━━━━━━━━━━━━━━━━━━━━━━━━\u001b[0m \u001b[32m264.6/264.6 KB\u001b[0m \u001b[31m32.3 MB/s\u001b[0m eta \u001b[36m0:00:00\u001b[0m\n",
            "\u001b[?25hCollecting multidict<7.0,>=4.5\n",
            "  Downloading multidict-6.0.4-cp39-cp39-manylinux_2_17_x86_64.manylinux2014_x86_64.whl (114 kB)\n",
            "\u001b[2K     \u001b[90m━━━━━━━━━━━━━━━━━━━━━━━━━━━━━━━━━━━━━━\u001b[0m \u001b[32m114.2/114.2 KB\u001b[0m \u001b[31m17.8 MB/s\u001b[0m eta \u001b[36m0:00:00\u001b[0m\n",
            "\u001b[?25hRequirement already satisfied: smart-open>=1.8.1 in /usr/local/lib/python3.9/dist-packages (from gensim>=3.4.0->flair->textattack) (6.3.0)\n",
            "Requirement already satisfied: networkx>=2.2 in /usr/local/lib/python3.9/dist-packages (from hyperopt>=0.2.7->flair->textattack) (3.0)\n",
            "Requirement already satisfied: py4j in /usr/local/lib/python3.9/dist-packages (from hyperopt>=0.2.7->flair->textattack) (0.10.9.7)\n",
            "Requirement already satisfied: cloudpickle in /usr/local/lib/python3.9/dist-packages (from hyperopt>=0.2.7->flair->textattack) (2.2.1)\n",
            "Requirement already satisfied: future in /usr/local/lib/python3.9/dist-packages (from hyperopt>=0.2.7->flair->textattack) (0.18.3)\n",
            "Collecting importlib-metadata<4.0.0,>=3.7.0\n",
            "  Downloading importlib_metadata-3.10.1-py3-none-any.whl (14 kB)\n",
            "Collecting overrides<4.0.0,>=3.0.0\n",
            "  Downloading overrides-3.1.0.tar.gz (11 kB)\n",
            "  Preparing metadata (setup.py) ... \u001b[?25l\u001b[?25hdone\n",
            "Requirement already satisfied: fonttools>=4.22.0 in /usr/local/lib/python3.9/dist-packages (from matplotlib->bert-score>=0.3.5->textattack) (4.39.2)\n",
            "Requirement already satisfied: kiwisolver>=1.0.1 in /usr/local/lib/python3.9/dist-packages (from matplotlib->bert-score>=0.3.5->textattack) (1.4.4)\n",
            "Requirement already satisfied: pyparsing>=2.3.1 in /usr/local/lib/python3.9/dist-packages (from matplotlib->bert-score>=0.3.5->textattack) (3.0.9)\n",
            "Requirement already satisfied: cycler>=0.10 in /usr/local/lib/python3.9/dist-packages (from matplotlib->bert-score>=0.3.5->textattack) (0.11.0)\n",
            "Requirement already satisfied: contourpy>=1.0.1 in /usr/local/lib/python3.9/dist-packages (from matplotlib->bert-score>=0.3.5->textattack) (1.0.7)\n",
            "Requirement already satisfied: pillow>=6.2.0 in /usr/local/lib/python3.9/dist-packages (from matplotlib->bert-score>=0.3.5->textattack) (8.4.0)\n",
            "Requirement already satisfied: importlib-resources>=3.2.0 in /usr/local/lib/python3.9/dist-packages (from matplotlib->bert-score>=0.3.5->textattack) (5.12.0)\n",
            "Requirement already satisfied: certifi>=2017.4.17 in /usr/local/lib/python3.9/dist-packages (from requests>=2.19.0->datasets==2.4.0->textattack) (2022.12.7)\n",
            "Requirement already satisfied: urllib3<1.27,>=1.21.1 in /usr/local/lib/python3.9/dist-packages (from requests>=2.19.0->datasets==2.4.0->textattack) (1.26.15)\n",
            "Requirement already satisfied: idna<4,>=2.5 in /usr/local/lib/python3.9/dist-packages (from requests>=2.19.0->datasets==2.4.0->textattack) (3.4)\n",
            "Requirement already satisfied: threadpoolctl>=2.0.0 in /usr/local/lib/python3.9/dist-packages (from scikit-learn>=0.21.3->flair->textattack) (3.1.0)\n",
            "Requirement already satisfied: wcwidth>=0.2.5 in /usr/local/lib/python3.9/dist-packages (from ftfy->flair->textattack) (0.2.6)\n",
            "Collecting multiprocess\n",
            "  Downloading multiprocess-0.70.13-py39-none-any.whl (132 kB)\n",
            "\u001b[2K     \u001b[90m━━━━━━━━━━━━━━━━━━━━━━━━━━━━━━━━━━━━━━\u001b[0m \u001b[32m132.3/132.3 KB\u001b[0m \u001b[31m18.4 MB/s\u001b[0m eta \u001b[36m0:00:00\u001b[0m\n",
            "\u001b[?25hRequirement already satisfied: zipp>=0.5 in /usr/local/lib/python3.9/dist-packages (from importlib-metadata<4.0.0,>=3.7.0->konoha<5.0.0,>=4.0.0->flair->textattack) (3.15.0)\n",
            "Requirement already satisfied: soupsieve>1.2 in /usr/local/lib/python3.9/dist-packages (from beautifulsoup4->gdown==4.4.0->flair->textattack) (2.4)\n",
            "Building wheels for collected packages: pinyin, gdown, mpld3, pycld2, word2number, docopt, sqlitedict, langdetect, pptree, overrides\n",
            "  Building wheel for pinyin (setup.py) ... \u001b[?25l\u001b[?25hdone\n",
            "  Created wheel for pinyin: filename=pinyin-0.4.0-py3-none-any.whl size=3630492 sha256=72028bb3b3f70204ecbc1cf2834c3532ffb94cabfa40f324bee9d32ba0ed94a2\n",
            "  Stored in directory: /root/.cache/pip/wheels/91/4d/03/beb69f9530864b62f295333257151b845f5f871b9a32665b9e\n",
            "  Building wheel for gdown (pyproject.toml) ... \u001b[?25l\u001b[?25hdone\n",
            "  Created wheel for gdown: filename=gdown-4.4.0-py3-none-any.whl size=14776 sha256=8667875647f1a150286afd9d2178021974973a2ef9422d36a91fc61563f0274e\n",
            "  Stored in directory: /root/.cache/pip/wheels/7d/37/b6/b2a79c75e898c0b8e46ff255102602d7159a10d9af0d80641a\n",
            "  Building wheel for mpld3 (setup.py) ... \u001b[?25l\u001b[?25hdone\n",
            "  Created wheel for mpld3: filename=mpld3-0.3-py3-none-any.whl size=116702 sha256=fa2fa459c4bdda275dbb7530ebd5be5c5aa7c681826c9a98326b2e806a333dca\n",
            "  Stored in directory: /root/.cache/pip/wheels/a6/f4/e6/e40ff9021f6b3854af70fa8ea004f5ab95672817462df08fed\n",
            "  Building wheel for pycld2 (setup.py) ... \u001b[?25l\u001b[?25hdone\n",
            "  Created wheel for pycld2: filename=pycld2-0.41-cp39-cp39-linux_x86_64.whl size=9915742 sha256=0459b69f5b701da65172feead874936fc29204e06a02493c91483e505ef7edce\n",
            "  Stored in directory: /root/.cache/pip/wheels/ed/98/60/230df7a9368a02bf62e0e2719a31615b2aa82238dea526b637\n",
            "  Building wheel for word2number (setup.py) ... \u001b[?25l\u001b[?25hdone\n",
            "  Created wheel for word2number: filename=word2number-1.1-py3-none-any.whl size=5582 sha256=1d6c93ddaf83d0f8ed425391ad68ecc01639912d1458541777e9ca36bdf24540\n",
            "  Stored in directory: /root/.cache/pip/wheels/a0/4a/5b/d2f2df5c344ddbecb8bea759872c207ea91d93f57fb54e816e\n",
            "  Building wheel for docopt (setup.py) ... \u001b[?25l\u001b[?25hdone\n",
            "  Created wheel for docopt: filename=docopt-0.6.2-py2.py3-none-any.whl size=13721 sha256=8c39b210a2989851d1179e2b41a52c83b5b893cb9582e030f3c06540355189db\n",
            "  Stored in directory: /root/.cache/pip/wheels/70/4a/46/1309fc853b8d395e60bafaf1b6df7845bdd82c95fd59dd8d2b\n",
            "  Building wheel for sqlitedict (setup.py) ... \u001b[?25l\u001b[?25hdone\n",
            "  Created wheel for sqlitedict: filename=sqlitedict-2.1.0-py3-none-any.whl size=16863 sha256=c1f012623d37ed0b9c20b1329667f39192b52a05adb465191f8220c487b5a364\n",
            "  Stored in directory: /root/.cache/pip/wheels/f6/48/c4/942f7a1d556fddd2348cb9ac262f251873dfd8a39afec5678e\n",
            "  Building wheel for langdetect (setup.py) ... \u001b[?25l\u001b[?25hdone\n",
            "  Created wheel for langdetect: filename=langdetect-1.0.9-py3-none-any.whl size=993243 sha256=00eb7ce0815ec0775431c6cf07c434a84663367e6248db19ed187455c9c988f0\n",
            "  Stored in directory: /root/.cache/pip/wheels/d1/c1/d9/7e068de779d863bc8f8fc9467d85e25cfe47fa5051fff1a1bb\n",
            "  Building wheel for pptree (setup.py) ... \u001b[?25l\u001b[?25hdone\n",
            "  Created wheel for pptree: filename=pptree-3.1-py3-none-any.whl size=4629 sha256=a22a08660f15448b2a5848f2be91a7c1d0066404d33b52ce94def40e50eadb36\n",
            "  Stored in directory: /root/.cache/pip/wheels/52/0e/51/514e690004ea9713bc3fdb678d5e2768fcc597d0c3b6a3abd2\n",
            "  Building wheel for overrides (setup.py) ... \u001b[?25l\u001b[?25hdone\n",
            "  Created wheel for overrides: filename=overrides-3.1.0-py3-none-any.whl size=10189 sha256=e72c383eb581ecca07641fe0a67f8d06780fbf863f208b36377cf70e2adbf98f\n",
            "  Stored in directory: /root/.cache/pip/wheels/7d/11/0e/73fdcb3d71d97e33c230900efe85923ee9d49515d050503174\n",
            "Successfully built pinyin gdown mpld3 pycld2 word2number docopt sqlitedict langdetect pptree overrides\n",
            "Installing collected packages: word2number, tokenizers, sqlitedict, sentencepiece, pycld2, pptree, pinyin, overrides, mpld3, lru-dict, janome, docopt, xxhash, terminaltables, segtok, num2words, multidict, lemminflect, langdetect, importlib-metadata, ftfy, frozenlist, dill, deprecated, conllu, click, async-timeout, anytree, yarl, wikipedia-api, responses, OpenHowNet, multiprocess, language-tool-python, konoha, huggingface-hub, aiosignal, transformers, gdown, bpemb, aiohttp, flair, bert-score, datasets, textattack\n",
            "  Attempting uninstall: importlib-metadata\n",
            "    Found existing installation: importlib-metadata 6.1.0\n",
            "    Uninstalling importlib-metadata-6.1.0:\n",
            "      Successfully uninstalled importlib-metadata-6.1.0\n",
            "  Attempting uninstall: click\n",
            "    Found existing installation: click 8.1.3\n",
            "    Uninstalling click-8.1.3:\n",
            "      Successfully uninstalled click-8.1.3\n",
            "  Attempting uninstall: gdown\n",
            "    Found existing installation: gdown 4.6.4\n",
            "    Uninstalling gdown-4.6.4:\n",
            "      Successfully uninstalled gdown-4.6.4\n",
            "\u001b[31mERROR: pip's dependency resolver does not currently take into account all the packages that are installed. This behaviour is the source of the following dependency conflicts.\n",
            "markdown 3.4.2 requires importlib-metadata>=4.4; python_version < \"3.10\", but you have importlib-metadata 3.10.1 which is incompatible.\n",
            "gym 0.25.2 requires importlib-metadata>=4.8.0; python_version < \"3.10\", but you have importlib-metadata 3.10.1 which is incompatible.\u001b[0m\u001b[31m\n",
            "\u001b[0mSuccessfully installed OpenHowNet-2.0 aiohttp-3.8.4 aiosignal-1.3.1 anytree-2.8.0 async-timeout-4.0.2 bert-score-0.3.13 bpemb-0.3.4 click-8.0.4 conllu-4.5.2 datasets-2.4.0 deprecated-1.2.13 dill-0.3.5.1 docopt-0.6.2 flair-0.11.3 frozenlist-1.3.3 ftfy-6.1.1 gdown-4.4.0 huggingface-hub-0.13.3 importlib-metadata-3.10.1 janome-0.4.2 konoha-4.6.5 langdetect-1.0.9 language-tool-python-2.7.1 lemminflect-0.2.3 lru-dict-1.1.8 mpld3-0.3 multidict-6.0.4 multiprocess-0.70.13 num2words-0.5.12 overrides-3.1.0 pinyin-0.4.0 pptree-3.1 pycld2-0.41 responses-0.18.0 segtok-1.5.11 sentencepiece-0.1.95 sqlitedict-2.1.0 terminaltables-3.1.10 textattack-0.3.8 tokenizers-0.13.2 transformers-4.27.3 wikipedia-api-0.5.8 word2number-1.1 xxhash-3.2.0 yarl-1.8.2\n",
            "Looking in indexes: https://pypi.org/simple, https://us-python.pkg.dev/colab-wheels/public/simple/\n",
            "Requirement already satisfied: transformers in /usr/local/lib/python3.9/dist-packages (4.27.3)\n",
            "Requirement already satisfied: requests in /usr/local/lib/python3.9/dist-packages (from transformers) (2.27.1)\n",
            "Requirement already satisfied: filelock in /usr/local/lib/python3.9/dist-packages (from transformers) (3.10.1)\n",
            "Requirement already satisfied: huggingface-hub<1.0,>=0.11.0 in /usr/local/lib/python3.9/dist-packages (from transformers) (0.13.3)\n",
            "Requirement already satisfied: packaging>=20.0 in /usr/local/lib/python3.9/dist-packages (from transformers) (23.0)\n",
            "Requirement already satisfied: tqdm>=4.27 in /usr/local/lib/python3.9/dist-packages (from transformers) (4.65.0)\n",
            "Requirement already satisfied: tokenizers!=0.11.3,<0.14,>=0.11.1 in /usr/local/lib/python3.9/dist-packages (from transformers) (0.13.2)\n",
            "Requirement already satisfied: numpy>=1.17 in /usr/local/lib/python3.9/dist-packages (from transformers) (1.22.4)\n",
            "Requirement already satisfied: pyyaml>=5.1 in /usr/local/lib/python3.9/dist-packages (from transformers) (6.0)\n",
            "Requirement already satisfied: regex!=2019.12.17 in /usr/local/lib/python3.9/dist-packages (from transformers) (2022.10.31)\n",
            "Requirement already satisfied: typing-extensions>=3.7.4.3 in /usr/local/lib/python3.9/dist-packages (from huggingface-hub<1.0,>=0.11.0->transformers) (4.5.0)\n",
            "Requirement already satisfied: idna<4,>=2.5 in /usr/local/lib/python3.9/dist-packages (from requests->transformers) (3.4)\n",
            "Requirement already satisfied: urllib3<1.27,>=1.21.1 in /usr/local/lib/python3.9/dist-packages (from requests->transformers) (1.26.15)\n",
            "Requirement already satisfied: charset-normalizer~=2.0.0 in /usr/local/lib/python3.9/dist-packages (from requests->transformers) (2.0.12)\n",
            "Requirement already satisfied: certifi>=2017.4.17 in /usr/local/lib/python3.9/dist-packages (from requests->transformers) (2022.12.7)\n",
            "Looking in indexes: https://pypi.org/simple, https://us-python.pkg.dev/colab-wheels/public/simple/\n",
            "Collecting evaluate\n",
            "  Downloading evaluate-0.4.0-py3-none-any.whl (81 kB)\n",
            "\u001b[2K     \u001b[90m━━━━━━━━━━━━━━━━━━━━━━━━━━━━━━━━━━━━━━━━\u001b[0m \u001b[32m81.4/81.4 KB\u001b[0m \u001b[31m4.2 MB/s\u001b[0m eta \u001b[36m0:00:00\u001b[0m\n",
            "\u001b[?25hRequirement already satisfied: pandas in /usr/local/lib/python3.9/dist-packages (from evaluate) (1.4.4)\n",
            "Requirement already satisfied: numpy>=1.17 in /usr/local/lib/python3.9/dist-packages (from evaluate) (1.22.4)\n",
            "Requirement already satisfied: multiprocess in /usr/local/lib/python3.9/dist-packages (from evaluate) (0.70.13)\n",
            "Requirement already satisfied: dill in /usr/local/lib/python3.9/dist-packages (from evaluate) (0.3.5.1)\n",
            "Requirement already satisfied: packaging in /usr/local/lib/python3.9/dist-packages (from evaluate) (23.0)\n",
            "Requirement already satisfied: requests>=2.19.0 in /usr/local/lib/python3.9/dist-packages (from evaluate) (2.27.1)\n",
            "Requirement already satisfied: huggingface-hub>=0.7.0 in /usr/local/lib/python3.9/dist-packages (from evaluate) (0.13.3)\n",
            "Requirement already satisfied: datasets>=2.0.0 in /usr/local/lib/python3.9/dist-packages (from evaluate) (2.4.0)\n",
            "Requirement already satisfied: fsspec[http]>=2021.05.0 in /usr/local/lib/python3.9/dist-packages (from evaluate) (2023.3.0)\n",
            "Requirement already satisfied: responses<0.19 in /usr/local/lib/python3.9/dist-packages (from evaluate) (0.18.0)\n",
            "Requirement already satisfied: xxhash in /usr/local/lib/python3.9/dist-packages (from evaluate) (3.2.0)\n",
            "Requirement already satisfied: tqdm>=4.62.1 in /usr/local/lib/python3.9/dist-packages (from evaluate) (4.65.0)\n",
            "Requirement already satisfied: aiohttp in /usr/local/lib/python3.9/dist-packages (from datasets>=2.0.0->evaluate) (3.8.4)\n",
            "Requirement already satisfied: pyarrow>=6.0.0 in /usr/local/lib/python3.9/dist-packages (from datasets>=2.0.0->evaluate) (9.0.0)\n",
            "Requirement already satisfied: filelock in /usr/local/lib/python3.9/dist-packages (from huggingface-hub>=0.7.0->evaluate) (3.10.1)\n",
            "Requirement already satisfied: typing-extensions>=3.7.4.3 in /usr/local/lib/python3.9/dist-packages (from huggingface-hub>=0.7.0->evaluate) (4.5.0)\n",
            "Requirement already satisfied: pyyaml>=5.1 in /usr/local/lib/python3.9/dist-packages (from huggingface-hub>=0.7.0->evaluate) (6.0)\n",
            "Requirement already satisfied: charset-normalizer~=2.0.0 in /usr/local/lib/python3.9/dist-packages (from requests>=2.19.0->evaluate) (2.0.12)\n",
            "Requirement already satisfied: urllib3<1.27,>=1.21.1 in /usr/local/lib/python3.9/dist-packages (from requests>=2.19.0->evaluate) (1.26.15)\n",
            "Requirement already satisfied: certifi>=2017.4.17 in /usr/local/lib/python3.9/dist-packages (from requests>=2.19.0->evaluate) (2022.12.7)\n",
            "Requirement already satisfied: idna<4,>=2.5 in /usr/local/lib/python3.9/dist-packages (from requests>=2.19.0->evaluate) (3.4)\n",
            "Requirement already satisfied: python-dateutil>=2.8.1 in /usr/local/lib/python3.9/dist-packages (from pandas->evaluate) (2.8.2)\n",
            "Requirement already satisfied: pytz>=2020.1 in /usr/local/lib/python3.9/dist-packages (from pandas->evaluate) (2022.7.1)\n",
            "Requirement already satisfied: multidict<7.0,>=4.5 in /usr/local/lib/python3.9/dist-packages (from aiohttp->datasets>=2.0.0->evaluate) (6.0.4)\n",
            "Requirement already satisfied: async-timeout<5.0,>=4.0.0a3 in /usr/local/lib/python3.9/dist-packages (from aiohttp->datasets>=2.0.0->evaluate) (4.0.2)\n",
            "Requirement already satisfied: yarl<2.0,>=1.0 in /usr/local/lib/python3.9/dist-packages (from aiohttp->datasets>=2.0.0->evaluate) (1.8.2)\n",
            "Requirement already satisfied: aiosignal>=1.1.2 in /usr/local/lib/python3.9/dist-packages (from aiohttp->datasets>=2.0.0->evaluate) (1.3.1)\n",
            "Requirement already satisfied: attrs>=17.3.0 in /usr/local/lib/python3.9/dist-packages (from aiohttp->datasets>=2.0.0->evaluate) (22.2.0)\n",
            "Requirement already satisfied: frozenlist>=1.1.1 in /usr/local/lib/python3.9/dist-packages (from aiohttp->datasets>=2.0.0->evaluate) (1.3.3)\n",
            "Requirement already satisfied: six>=1.5 in /usr/local/lib/python3.9/dist-packages (from python-dateutil>=2.8.1->pandas->evaluate) (1.16.0)\n",
            "Installing collected packages: evaluate\n",
            "Successfully installed evaluate-0.4.0\n",
            "Looking in indexes: https://pypi.org/simple, https://us-python.pkg.dev/colab-wheels/public/simple/\n",
            "Requirement already satisfied: huggingface_hub in /usr/local/lib/python3.9/dist-packages (0.13.3)\n",
            "Requirement already satisfied: tqdm>=4.42.1 in /usr/local/lib/python3.9/dist-packages (from huggingface_hub) (4.65.0)\n",
            "Requirement already satisfied: packaging>=20.9 in /usr/local/lib/python3.9/dist-packages (from huggingface_hub) (23.0)\n",
            "Requirement already satisfied: typing-extensions>=3.7.4.3 in /usr/local/lib/python3.9/dist-packages (from huggingface_hub) (4.5.0)\n",
            "Requirement already satisfied: requests in /usr/local/lib/python3.9/dist-packages (from huggingface_hub) (2.27.1)\n",
            "Requirement already satisfied: filelock in /usr/local/lib/python3.9/dist-packages (from huggingface_hub) (3.10.1)\n",
            "Requirement already satisfied: pyyaml>=5.1 in /usr/local/lib/python3.9/dist-packages (from huggingface_hub) (6.0)\n",
            "Requirement already satisfied: urllib3<1.27,>=1.21.1 in /usr/local/lib/python3.9/dist-packages (from requests->huggingface_hub) (1.26.15)\n",
            "Requirement already satisfied: certifi>=2017.4.17 in /usr/local/lib/python3.9/dist-packages (from requests->huggingface_hub) (2022.12.7)\n",
            "Requirement already satisfied: charset-normalizer~=2.0.0 in /usr/local/lib/python3.9/dist-packages (from requests->huggingface_hub) (2.0.12)\n",
            "Requirement already satisfied: idna<4,>=2.5 in /usr/local/lib/python3.9/dist-packages (from requests->huggingface_hub) (3.4)\n"
          ]
        }
      ],
      "source": [
        "!pip install textattack\n",
        "!pip install transformers\n",
        "!pip install evaluate\n",
        "!pip install huggingface_hub"
      ]
    },
    {
      "cell_type": "code",
      "execution_count": null,
      "metadata": {
        "colab": {
          "base_uri": "https://localhost:8080/"
        },
        "id": "XxAX6z-otG0T",
        "outputId": "61eaef07-f2c9-4b4d-f85c-38fcfab91332"
      },
      "outputs": [
        {
          "name": "stdout",
          "output_type": "stream",
          "text": [
            "\n",
            "    _|    _|  _|    _|    _|_|_|    _|_|_|  _|_|_|  _|      _|    _|_|_|      _|_|_|_|    _|_|      _|_|_|  _|_|_|_|\n",
            "    _|    _|  _|    _|  _|        _|          _|    _|_|    _|  _|            _|        _|    _|  _|        _|\n",
            "    _|_|_|_|  _|    _|  _|  _|_|  _|  _|_|    _|    _|  _|  _|  _|  _|_|      _|_|_|    _|_|_|_|  _|        _|_|_|\n",
            "    _|    _|  _|    _|  _|    _|  _|    _|    _|    _|    _|_|  _|    _|      _|        _|    _|  _|        _|\n",
            "    _|    _|    _|_|      _|_|_|    _|_|_|  _|_|_|  _|      _|    _|_|_|      _|        _|    _|    _|_|_|  _|_|_|_|\n",
            "    \n",
            "    To login, `huggingface_hub` requires a token generated from https://huggingface.co/settings/tokens .\n",
            "Token: \n",
            "Add token as git credential? (Y/n) n\n",
            "Token is valid.\n",
            "Your token has been saved to /root/.cache/huggingface/token\n",
            "Login successful\n"
          ]
        }
      ],
      "source": [
        "!huggingface-cli login"
      ]
    },
    {
      "cell_type": "code",
      "execution_count": null,
      "metadata": {
        "colab": {
          "base_uri": "https://localhost:8080/"
        },
        "id": "Gsfik3tw71Qb",
        "outputId": "2eb4d7a9-f2cd-4ffa-a0e7-6b9583ff18c5"
      },
      "outputs": [
        {
          "output_type": "stream",
          "name": "stderr",
          "text": [
            "textattack: Updating TextAttack package dependencies.\n",
            "textattack: Downloading NLTK required packages.\n",
            "[nltk_data] Downloading package averaged_perceptron_tagger to\n",
            "[nltk_data]     /root/nltk_data...\n",
            "[nltk_data]   Unzipping taggers/averaged_perceptron_tagger.zip.\n",
            "[nltk_data] Downloading package stopwords to /root/nltk_data...\n",
            "[nltk_data]   Unzipping corpora/stopwords.zip.\n",
            "[nltk_data] Downloading package omw to /root/nltk_data...\n",
            "[nltk_data] Downloading package universal_tagset to /root/nltk_data...\n",
            "[nltk_data]   Unzipping taggers/universal_tagset.zip.\n",
            "[nltk_data] Downloading package wordnet to /root/nltk_data...\n",
            "[nltk_data] Downloading package punkt to /root/nltk_data...\n",
            "[nltk_data]   Unzipping tokenizers/punkt.zip.\n"
          ]
        }
      ],
      "source": [
        "import numpy as np\n",
        "import math\n",
        "from datasets import load_dataset\n",
        "from sklearn.feature_extraction.text import TfidfVectorizer\n",
        "import textattack\n",
        "import transformers\n",
        "from transformers import AutoTokenizer, RobertaModel, RobertaConfig, AutoModelForSequenceClassification\n",
        "from transformers import DataCollatorWithPadding,AutoModelForSequenceClassification, Trainer, TrainingArguments, AutoModel, AutoConfig\n",
        "from transformers.modeling_outputs import TokenClassifierOutput\n",
        "from transformers import AdamW, get_linear_schedule_with_warmup\n",
        "from transformers import PreTrainedTokenizer\n",
        "import torch\n",
        "import evaluate\n",
        "\n",
        "from textattack.datasets import HuggingFaceDataset\n",
        "from textattack.models.wrappers import HuggingFaceModelWrapper\n",
        "from textattack.attack_recipes import TextFoolerJin2019\n",
        "from textattack.models.wrappers import ModelWrapper\n",
        "\n",
        "import torch.nn as nn\n",
        "import torch.nn.functional as F\n",
        "from transformers import RobertaModel, RobertaTokenizer, RobertaForSequenceClassification\n",
        "import torch.optim as optim\n",
        "from torch.utils.data import DataLoader\n",
        "from datasets import load_dataset\n",
        "\n",
        "import random\n",
        "\n",
        "from textattack.models.helpers import T5ForTextToText\n",
        "from textattack.models.tokenizers import T5Tokenizer\n",
        "\n",
        "from textattack.models.wrappers.pytorch_model_wrapper import PyTorchModelWrapper"
      ]
    },
    {
      "cell_type": "code",
      "execution_count": null,
      "metadata": {
        "colab": {
          "base_uri": "https://localhost:8080/",
          "height": 253,
          "referenced_widgets": [
            "3ee35b90d45b4eaba783b1a660732a28",
            "2685efdd61404a91b458577e2b0ed298",
            "9c3b6a090b5a48a1be506c59e499ecb7",
            "1d795db43a73470e91e6a090a6f90226",
            "3cb0ba4e588e442b9c50dfd0be67fe09",
            "0caef24231a342fdb563ff3f10a5f2e3",
            "4a435840256c452fa02d9278304feb56",
            "771fbeeb9f8a49098b152f38a20f7c62",
            "c58225a4ec994a3387c741b9eac8cea2",
            "dce4c5baa8334b319e0cc9f8a06bfa4a",
            "672050aef7ca4e70a6431eca191cf68d",
            "30b27fa8ffa647c9ac03fe2c19110141",
            "838747f3cf8149808ea2b8a3941c471d",
            "c34b509efe8c40f8b4a9f98ba60bd58f",
            "2f98709f2e214386a7ad71effccfbc9a",
            "9af61782215f497b9b8bec5cf2afa080",
            "9e0b2c92ca9d4a15895fa6dca9a6b9e8",
            "334146807d7f4fca81569af8fb7d052e",
            "4d28d6b664c9405db0755985a04968b1",
            "cb7590278bae481b8545ddcd88caa33f",
            "2127462ef9ce4024a4c5c79ec3e4e3ef",
            "a8081724f66e4d938cdb2643eee8497e",
            "763a64d07ad74b92b5208aa6ca677c75",
            "2a569d68f43445df83b08292bfe565d5",
            "707d57243d6b4581b395854d5da36f0a",
            "c8085f06b4a14395a9d3da123d66d9e8",
            "9f371205f2e541cea1503052305c0a86",
            "f05ee84dce184dd0860618b566385f2b",
            "4e8eb872178f4e9ca33695143bf5e015",
            "c0bc663164744fb5b4db73a90e5fdc35",
            "8cc605ad034f43739baa4bcacfd4a5bd",
            "7f0ae84cbd7e46a5a6d5a29bc23de503",
            "8136b4d2ba1345a29fd68f577394ef82",
            "c3e82f45aab84e3e83407cbd10198cd0",
            "e09c2d0bb3614191bb6009df565f631c",
            "4df3ea42441f41e8badc201c6cf8521b",
            "5fc72d2bba174fc9a5ce71095a30b913",
            "5553f20d06404df089c74ba51b346f61",
            "dc50e9ece0cb41bab6360cddb4f32628",
            "63bdfdd8f5624cd095343b406b727f73",
            "f611d225abef42979a04608db1f39163",
            "aad15b669f3548c0b407022104fe6cdc",
            "92e5ce7f76834a6381c3d55e3a5c4330",
            "85b633c637e24b35a67269ca88990803",
            "3f5dc942b5ae469faaece0c4e3dfc655",
            "b37cc184bf3d41d7b31b326deee0a6e0",
            "7435944b5fb94d6bb975d0ac40ce10dc",
            "615d1b30066e44ed907f1a2033556f69",
            "2cd5b7c8b2a145e6ba2c18dedbeb15d9",
            "d8ee299919cf442b9877b7298ea6cf60",
            "8aa873a34927449491b8115ede9f18de",
            "1d3aae6917794767ac40e96acb47991c",
            "8fbc719d192c4299a9fa9403c17a4c46",
            "88f1b3d4f91d43d4b7574e9ebc183b14",
            "35f93162fffa473c944be20746df9129",
            "5d7832732f734e0a81dabb19cb0eb294",
            "83bf2cd8a1724b7785292d3957cf8c2a",
            "e5ddea631d0e41a284192a245b22771e",
            "d5d6c6d741c54ab3b4e07a81eee70bbb",
            "adee46dba91f4c629110e8e1a24d7c81",
            "77e1ec5979734919b3c7bc0a92cbfacf",
            "dc994a3dd21f466faf11cfc094dd7b2c",
            "a90fb73da2384336b026e7ff6e7f7a94",
            "e2b2142722e84ab1b2cb70ad593eaef4",
            "bbd551095e70453ca905208b7e370af0",
            "8b8fee810a2c4208bbf261190b052d4a"
          ]
        },
        "id": "bx_GdjhK2oAy",
        "outputId": "d67682e3-d914-4988-9794-36d0a57b1fdb"
      },
      "outputs": [
        {
          "output_type": "display_data",
          "data": {
            "text/plain": [
              "Downloading builder script:   0%|          | 0.00/1.83k [00:00<?, ?B/s]"
            ],
            "application/vnd.jupyter.widget-view+json": {
              "version_major": 2,
              "version_minor": 0,
              "model_id": "3ee35b90d45b4eaba783b1a660732a28"
            }
          },
          "metadata": {}
        },
        {
          "output_type": "display_data",
          "data": {
            "text/plain": [
              "Downloading metadata:   0%|          | 0.00/1.28k [00:00<?, ?B/s]"
            ],
            "application/vnd.jupyter.widget-view+json": {
              "version_major": 2,
              "version_minor": 0,
              "model_id": "30b27fa8ffa647c9ac03fe2c19110141"
            }
          },
          "metadata": {}
        },
        {
          "output_type": "stream",
          "name": "stderr",
          "text": [
            "WARNING:datasets.builder:Using custom data configuration default\n"
          ]
        },
        {
          "output_type": "stream",
          "name": "stdout",
          "text": [
            "Downloading and preparing dataset ag_news/default (download: 29.88 MiB, generated: 30.23 MiB, post-processed: Unknown size, total: 60.10 MiB) to /root/.cache/huggingface/datasets/ag_news/default/0.0.0/bc2bcb40336ace1a0374767fc29bb0296cdaf8a6da7298436239c54d79180548...\n"
          ]
        },
        {
          "output_type": "display_data",
          "data": {
            "text/plain": [
              "Downloading data:   0%|          | 0.00/11.0M [00:00<?, ?B/s]"
            ],
            "application/vnd.jupyter.widget-view+json": {
              "version_major": 2,
              "version_minor": 0,
              "model_id": "763a64d07ad74b92b5208aa6ca677c75"
            }
          },
          "metadata": {}
        },
        {
          "output_type": "display_data",
          "data": {
            "text/plain": [
              "Downloading data:   0%|          | 0.00/751k [00:00<?, ?B/s]"
            ],
            "application/vnd.jupyter.widget-view+json": {
              "version_major": 2,
              "version_minor": 0,
              "model_id": "c3e82f45aab84e3e83407cbd10198cd0"
            }
          },
          "metadata": {}
        },
        {
          "output_type": "display_data",
          "data": {
            "text/plain": [
              "Generating train split:   0%|          | 0/120000 [00:00<?, ? examples/s]"
            ],
            "application/vnd.jupyter.widget-view+json": {
              "version_major": 2,
              "version_minor": 0,
              "model_id": "3f5dc942b5ae469faaece0c4e3dfc655"
            }
          },
          "metadata": {}
        },
        {
          "output_type": "display_data",
          "data": {
            "text/plain": [
              "Generating test split:   0%|          | 0/7600 [00:00<?, ? examples/s]"
            ],
            "application/vnd.jupyter.widget-view+json": {
              "version_major": 2,
              "version_minor": 0,
              "model_id": "5d7832732f734e0a81dabb19cb0eb294"
            }
          },
          "metadata": {}
        },
        {
          "output_type": "stream",
          "name": "stdout",
          "text": [
            "Dataset ag_news downloaded and prepared to /root/.cache/huggingface/datasets/ag_news/default/0.0.0/bc2bcb40336ace1a0374767fc29bb0296cdaf8a6da7298436239c54d79180548. Subsequent calls will reuse this data.\n"
          ]
        },
        {
          "output_type": "stream",
          "name": "stderr",
          "text": [
            "WARNING:datasets.builder:Using custom data configuration default\n",
            "WARNING:datasets.builder:Reusing dataset ag_news (/root/.cache/huggingface/datasets/ag_news/default/0.0.0/bc2bcb40336ace1a0374767fc29bb0296cdaf8a6da7298436239c54d79180548)\n"
          ]
        }
      ],
      "source": [
        "train = load_dataset('ag_news', split='train')\n",
        "test = load_dataset('ag_news', split='test')"
      ]
    },
    {
      "cell_type": "code",
      "execution_count": null,
      "metadata": {
        "colab": {
          "base_uri": "https://localhost:8080/",
          "height": 367,
          "referenced_widgets": [
            "d504028e350f4bcdb42d3e1a66b92a99",
            "8c56820f86d74486ace45506c3e529e0",
            "cdbbfa837f6248719f50f2fdf8742680",
            "d66a7980775647daacc59a5b87dee5df",
            "2f648b33f97f48b8a1845b954749b4d7",
            "a3a62ac92b554a948e5a34161bc8c08d",
            "b489f70803314220b60ecf5c7ea6a2cf",
            "70fb0be4db844aa0ac3c44e90c805b95",
            "70885d5bd5424b94a0718bd0294ec211",
            "025f1b8dbb6b4e3b8306fc80cb5b240d",
            "13acadb394e34ecb8d56c55c989cba04",
            "20cec0d988e1430381ae6219fb4164fc",
            "12e60b5e07224476b04ea35b709ea30f",
            "92017fa4bd624c1a8a77463468f1036d",
            "68e3fc51ea9449e0aca8d634a7c33d6f",
            "79a5c2f3393647e4b66dfabd61a2f10d",
            "95cfe0eda1c344dbae8e607da972bbd9",
            "b6b48cb25f464e36beb4477d472cdc97",
            "5277135959414d0b95d7c99043435766",
            "2765eb537f19406aabbc934d19184da0",
            "b5a70c0dab704791ad8cbc2057d5320d",
            "e1c9f41a1cc84925bcca681428e39bc4",
            "67d008d8e70548239c1fc30912ddf02d",
            "d5fe7109da6e440eb76e4c9f6e15b5d1",
            "866d1eecb58c4c62bed0e111a5426e76",
            "998d977b65fd40bf8e828e9e191e5ff1",
            "72aa96323ea445e5a356a70a3e03baef",
            "56b7a3787f4f4ae9b16c14f454203fbc",
            "de39d882a11e4a69bd712bcdfa71383b",
            "7f5766727111477aa01fea7e946abcf8",
            "85057e393ca248e2a42cd8393ddb0b2d",
            "7c22b78735b945b08d1d3ef070bb23b1",
            "2d51bd30594b47ceab835aa9cac3207c",
            "1f408055a11c4c2e8ffcba4e8e3058e9",
            "202a6f8be0e04947a64c084031e7b1f3",
            "db695e00d8914ba4ae53a9486285bd21",
            "ecc81477fe65469cbc59b9f01678894d",
            "3821baa63aea451aad3acbfdc2899bbd",
            "91dec0dd6ad24c0fa433750af8f2dfd8",
            "dd56e682496246bb84a1aa192e8809cb",
            "4a7243295d79448e8ccf0819dae703d2",
            "9c2b94706582402d89ed291a094ee153",
            "17483589e2aa445a8c86bc2469bf8dae",
            "9d9023e821b34f3e8b1b9d186591ea4b",
            "9f8937fbc1814674b5e9f8b07a001c0e",
            "c95f03b75e284013a7cfd054af807b81",
            "d2b4957549e3423c853fc4d89972e612",
            "0f42cfb858114c009c045a141057a894",
            "2f9d4147a8f04c529b51581c72966eaf",
            "4a4b303a34474263b26eda89f541b73d",
            "0ce79201045e4fcaa4f7e59ea820189d",
            "9e46e4ebd48a4d64a0ae8f22d2dd436f",
            "be59126e790c460d835334e5aaad2257",
            "79a4aa12ac3a4fafa67376cf7f9334fa",
            "9f7cf9900abf4d408001aefc4b8b50d7",
            "8d8e5ae550644e6b864aeb8c99857e36",
            "13b67d2624074ca78268cf9f6c9703bc",
            "5d8b2f7151634870bfdcbcec121ed7af",
            "af1866fdeeea463c899e709c35d52815",
            "fb2319cad48742f8bbfa5f76222867b9",
            "52cd33c9b81e464ba43960a0300e1e29",
            "5369c4686390449a98fb4b60db2b7deb",
            "2bb4dbfe14574df88cd5cbfc7e4443b1",
            "c612fa60ecab49fa8119494bf4676eeb",
            "500e267c5cb54654b8f288477afdab15",
            "3b24a2848bb44d1f85882b0248e7237f",
            "cee4bec4852e4becaced65b3f5a88514",
            "c46550994f2a4e9d9baa5c0569dc40f4",
            "9cf6a3c1d39e4ba1b37398d0788190cd",
            "12d9df3958cc42078a9264c2ee309e80",
            "579f103674ac400bbf0e2d72f2e89a6e",
            "2d25a7c91de148e2bafd22ee5679171f",
            "71e1c9ecdc18439db6145fe6c5228bcb",
            "bd1099e893fa47efa8bc1282bf9fe675",
            "5265dfa5e9f445caad0477170fad8b19",
            "cb3d83f347e94c36851d6d5c52914aca",
            "ccfdc4cf59cf428b860e49224fa7dbc4"
          ]
        },
        "id": "7TvUtPxbjvXi",
        "outputId": "8e1d1c93-d53b-44dc-dccc-17b2c0aeb44a"
      },
      "outputs": [
        {
          "output_type": "display_data",
          "data": {
            "text/plain": [
              "Downloading (…)lve/main/config.json:   0%|          | 0.00/754 [00:00<?, ?B/s]"
            ],
            "application/vnd.jupyter.widget-view+json": {
              "version_major": 2,
              "version_minor": 0,
              "model_id": "d504028e350f4bcdb42d3e1a66b92a99"
            }
          },
          "metadata": {}
        },
        {
          "output_type": "display_data",
          "data": {
            "text/plain": [
              "Downloading pytorch_model.bin:   0%|          | 0.00/501M [00:00<?, ?B/s]"
            ],
            "application/vnd.jupyter.widget-view+json": {
              "version_major": 2,
              "version_minor": 0,
              "model_id": "20cec0d988e1430381ae6219fb4164fc"
            }
          },
          "metadata": {}
        },
        {
          "output_type": "stream",
          "name": "stderr",
          "text": [
            "Some weights of the model checkpoint at textattack/roberta-base-ag-news were not used when initializing RobertaForSequenceClassification: ['roberta.pooler.dense.weight', 'roberta.pooler.dense.bias']\n",
            "- This IS expected if you are initializing RobertaForSequenceClassification from the checkpoint of a model trained on another task or with another architecture (e.g. initializing a BertForSequenceClassification model from a BertForPreTraining model).\n",
            "- This IS NOT expected if you are initializing RobertaForSequenceClassification from the checkpoint of a model that you expect to be exactly identical (initializing a BertForSequenceClassification model from a BertForSequenceClassification model).\n"
          ]
        },
        {
          "output_type": "display_data",
          "data": {
            "text/plain": [
              "Downloading (…)okenizer_config.json:   0%|          | 0.00/25.0 [00:00<?, ?B/s]"
            ],
            "application/vnd.jupyter.widget-view+json": {
              "version_major": 2,
              "version_minor": 0,
              "model_id": "67d008d8e70548239c1fc30912ddf02d"
            }
          },
          "metadata": {}
        },
        {
          "output_type": "display_data",
          "data": {
            "text/plain": [
              "Downloading (…)olve/main/vocab.json:   0%|          | 0.00/798k [00:00<?, ?B/s]"
            ],
            "application/vnd.jupyter.widget-view+json": {
              "version_major": 2,
              "version_minor": 0,
              "model_id": "1f408055a11c4c2e8ffcba4e8e3058e9"
            }
          },
          "metadata": {}
        },
        {
          "output_type": "display_data",
          "data": {
            "text/plain": [
              "Downloading (…)olve/main/merges.txt:   0%|          | 0.00/456k [00:00<?, ?B/s]"
            ],
            "application/vnd.jupyter.widget-view+json": {
              "version_major": 2,
              "version_minor": 0,
              "model_id": "9f8937fbc1814674b5e9f8b07a001c0e"
            }
          },
          "metadata": {}
        },
        {
          "output_type": "display_data",
          "data": {
            "text/plain": [
              "Downloading (…)cial_tokens_map.json:   0%|          | 0.00/239 [00:00<?, ?B/s]"
            ],
            "application/vnd.jupyter.widget-view+json": {
              "version_major": 2,
              "version_minor": 0,
              "model_id": "8d8e5ae550644e6b864aeb8c99857e36"
            }
          },
          "metadata": {}
        },
        {
          "output_type": "stream",
          "name": "stderr",
          "text": [
            "WARNING:datasets.builder:Using custom data configuration default\n",
            "WARNING:datasets.builder:Reusing dataset ag_news (/root/.cache/huggingface/datasets/ag_news/default/0.0.0/bc2bcb40336ace1a0374767fc29bb0296cdaf8a6da7298436239c54d79180548)\n"
          ]
        },
        {
          "output_type": "display_data",
          "data": {
            "text/plain": [
              "  0%|          | 0/2 [00:00<?, ?it/s]"
            ],
            "application/vnd.jupyter.widget-view+json": {
              "version_major": 2,
              "version_minor": 0,
              "model_id": "cee4bec4852e4becaced65b3f5a88514"
            }
          },
          "metadata": {}
        },
        {
          "output_type": "stream",
          "name": "stderr",
          "text": [
            "textattack: Loading \u001b[94mdatasets\u001b[0m dataset \u001b[94mag_news\u001b[0m, split \u001b[94mtest\u001b[0m.\n"
          ]
        }
      ],
      "source": [
        "# raw model attack\n",
        "\n",
        "# recipe: textfooler\n",
        "model = transformers.AutoModelForSequenceClassification.from_pretrained(\"textattack/roberta-base-ag-news\")\n",
        "tokenizer = transformers.AutoTokenizer.from_pretrained(\"textattack/roberta-base-ag-news\")\n",
        "model_wrapper = HuggingFaceModelWrapper(model, tokenizer)\n",
        "# Load the dataset\n",
        "dataset = textattack.datasets.HuggingFaceDataset(\"ag_news\", split=\"test\")"
      ]
    },
    {
      "cell_type": "code",
      "execution_count": null,
      "metadata": {
        "colab": {
          "base_uri": "https://localhost:8080/"
        },
        "id": "O6LqLhffqi0_",
        "outputId": "3fc188e1-0bb0-4290-9adf-170c30b4cd47"
      },
      "outputs": [
        {
          "output_type": "stream",
          "name": "stderr",
          "text": [
            "textattack: Downloading https://textattack.s3.amazonaws.com/word_embeddings/paragramcf.\n",
            "100%|██████████| 481M/481M [00:38<00:00, 12.4MB/s]\n",
            "textattack: Unzipping file /root/.cache/textattack/tmp6fotmu7o.zip to /root/.cache/textattack/word_embeddings/paragramcf.\n",
            "textattack: Successfully saved word_embeddings/paragramcf to cache.\n",
            "textattack: Unknown if model of class <class 'transformers.models.roberta.modeling_roberta.RobertaForSequenceClassification'> compatible with goal function <class 'textattack.goal_functions.classification.untargeted_classification.UntargetedClassification'>.\n",
            "textattack: Logging to CSV at path 1_log_textfooler.csv\n"
          ]
        },
        {
          "output_type": "stream",
          "name": "stdout",
          "text": [
            "Attack(\n",
            "  (search_method): GreedyWordSwapWIR(\n",
            "    (wir_method):  delete\n",
            "  )\n",
            "  (goal_function):  UntargetedClassification\n",
            "  (transformation):  WordSwapEmbedding(\n",
            "    (max_candidates):  50\n",
            "    (embedding):  WordEmbedding\n",
            "  )\n",
            "  (constraints): \n",
            "    (0): WordEmbeddingDistance(\n",
            "        (embedding):  WordEmbedding\n",
            "        (min_cos_sim):  0.5\n",
            "        (cased):  False\n",
            "        (include_unknown_words):  True\n",
            "        (compare_against_original):  True\n",
            "      )\n",
            "    (1): PartOfSpeech(\n",
            "        (tagger_type):  nltk\n",
            "        (tagset):  universal\n",
            "        (allow_verb_noun_swap):  True\n",
            "        (compare_against_original):  True\n",
            "      )\n",
            "    (2): UniversalSentenceEncoder(\n",
            "        (metric):  angular\n",
            "        (threshold):  0.840845057\n",
            "        (window_size):  15\n",
            "        (skip_text_shorter_than_window):  True\n",
            "        (compare_against_original):  False\n",
            "      )\n",
            "    (3): RepeatModification\n",
            "    (4): StopwordModification\n",
            "    (5): InputColumnModification(\n",
            "        (matching_column_labels):  ['premise', 'hypothesis']\n",
            "        (columns_to_ignore):  {'premise'}\n",
            "      )\n",
            "  (is_black_box):  True\n",
            ") \n",
            "\n"
          ]
        },
        {
          "output_type": "stream",
          "name": "stderr",
          "text": [
            "[Succeeded / Failed / Skipped / Total] 5 / 0 / 0 / 5:  50%|█████     | 5/10 [01:06<01:06, 13.40s/it]textattack: Saving checkpoint under \"checkpoints/1679710560822.ta.chkpt\" at 2023-03-25 02:16:00 after 5 attacks.\n"
          ]
        },
        {
          "output_type": "stream",
          "name": "stdout",
          "text": [
            "\n",
            "\n",
            "=============================================================================================================================\n",
            "=============================================================================================================================\n",
            "\n"
          ]
        },
        {
          "output_type": "stream",
          "name": "stderr",
          "text": [
            "[Succeeded / Failed / Skipped / Total] 8 / 2 / 0 / 10: 100%|██████████| 10/10 [01:43<00:00, 10.32s/it]textattack: Saving checkpoint under \"checkpoints/1679710597013.ta.chkpt\" at 2023-03-25 02:16:37 after 10 attacks.\n",
            "[Succeeded / Failed / Skipped / Total] 8 / 2 / 0 / 10: 100%|██████████| 10/10 [01:43<00:00, 10.32s/it]"
          ]
        },
        {
          "output_type": "stream",
          "name": "stdout",
          "text": [
            "\n",
            "\n",
            "=============================================================================================================================\n",
            "=============================================================================================================================\n",
            "\n",
            "\n",
            "+-------------------------------+--------+\n",
            "| Attack Results                |        |\n",
            "+-------------------------------+--------+\n",
            "| Number of successful attacks: | 8      |\n",
            "| Number of failed attacks:     | 2      |\n",
            "| Number of skipped attacks:    | 0      |\n",
            "| Original accuracy:            | 100.0% |\n",
            "| Accuracy under attack:        | 20.0%  |\n",
            "| Attack success rate:          | 80.0%  |\n",
            "| Average perturbed word %:     | 16.07% |\n",
            "| Average num. words per input: | 63.0   |\n",
            "| Avg num queries:              | 469.7  |\n",
            "+-------------------------------+--------+\n"
          ]
        },
        {
          "output_type": "stream",
          "name": "stderr",
          "text": [
            "\n"
          ]
        },
        {
          "output_type": "execute_result",
          "data": {
            "text/plain": [
              "[<textattack.attack_results.successful_attack_result.SuccessfulAttackResult at 0x7f5ad90c9fd0>,\n",
              " <textattack.attack_results.successful_attack_result.SuccessfulAttackResult at 0x7f5a6b1102e0>,\n",
              " <textattack.attack_results.successful_attack_result.SuccessfulAttackResult at 0x7f5ca0867880>,\n",
              " <textattack.attack_results.successful_attack_result.SuccessfulAttackResult at 0x7f5a53a4cac0>,\n",
              " <textattack.attack_results.successful_attack_result.SuccessfulAttackResult at 0x7f5a69c1a040>,\n",
              " <textattack.attack_results.successful_attack_result.SuccessfulAttackResult at 0x7f5c7eac7400>,\n",
              " <textattack.attack_results.failed_attack_result.FailedAttackResult at 0x7f5a33f34f10>,\n",
              " <textattack.attack_results.failed_attack_result.FailedAttackResult at 0x7f5a9abad220>,\n",
              " <textattack.attack_results.successful_attack_result.SuccessfulAttackResult at 0x7f5a9ab8daf0>,\n",
              " <textattack.attack_results.successful_attack_result.SuccessfulAttackResult at 0x7f5a9ab7b3a0>]"
            ]
          },
          "metadata": {},
          "execution_count": 6
        }
      ],
      "source": [
        "# build the textfooler attack\n",
        "attack = textattack.attack_recipes.textfooler_jin_2019.TextFoolerJin2019.build(model_wrapper)\n",
        "\n",
        "attack_args = textattack.AttackArgs(\n",
        "    num_examples=10,\n",
        "    log_to_csv=\"1_log_textfooler.csv\",\n",
        "    checkpoint_interval=5,\n",
        "    checkpoint_dir=\"checkpoints\",\n",
        "    csv_coloring_style=\"plain\",\n",
        "    disable_stdout=True\n",
        ")\n",
        "\n",
        "attacker = textattack.Attacker(attack, dataset, attack_args)\n",
        "attacker.attack_dataset()"
      ]
    },
    {
      "cell_type": "code",
      "execution_count": null,
      "metadata": {
        "id": "Zl3b35OnrxA0"
      },
      "outputs": [],
      "source": [
        "attack = textattack.attack_recipes.bert_attack_li_2020.BERTAttackLi2020.build(model_wrapper)\n",
        "\n",
        "# Load the dataset\n",
        "dataset = textattack.datasets.HuggingFaceDataset(\"ag_news\", split=\"test\")\n",
        "\n",
        "# run the attack\n",
        "attack_args = textattack.AttackArgs(\n",
        "    num_examples=10,\n",
        "    log_to_csv=\"1_log_BERTattack.csv\",\n",
        "    checkpoint_interval=5,\n",
        "    checkpoint_dir=\"checkpoints\",\n",
        "    csv_coloring_style=\"plain\",\n",
        "    disable_stdout=True\n",
        ")\n",
        "\n",
        "transformation = WordSwapMaskedLM(max_length=128)\n",
        "\n",
        "attacker = textattack.Attacker(attack, dataset, attack_args)\n",
        "attacker.attack_dataset()"
      ]
    },
    {
      "cell_type": "markdown",
      "metadata": {
        "id": "7-KzkPLVFThB"
      },
      "source": [
        "#### Random masking"
      ]
    },
    {
      "cell_type": "code",
      "execution_count": null,
      "metadata": {
        "id": "2N_uPpo4y0aC"
      },
      "outputs": [],
      "source": [
        "torch.cuda.empty_cache()\n",
        "\n",
        "# HuggingFaceModelWrapper\n",
        "class MyWrapperRandomMask(PyTorchModelWrapper):\n",
        "    \"\"\"Loads a HuggingFace ``transformers`` model and tokenizer.\"\"\"\n",
        "\n",
        "    def __init__(self, model, tokenizer):\n",
        "        assert isinstance(\n",
        "            model, (transformers.PreTrainedModel, T5ForTextToText)\n",
        "        ), f\"`model` must be of type `transformers.PreTrainedModel`, but got type {type(model)}.\"\n",
        "        assert isinstance(\n",
        "            tokenizer,\n",
        "            (\n",
        "                transformers.PreTrainedTokenizer,\n",
        "                transformers.PreTrainedTokenizerFast,\n",
        "                T5Tokenizer,\n",
        "            ),\n",
        "        ), f\"`tokenizer` must of type `transformers.PreTrainedTokenizer` or `transformers.PreTrainedTokenizerFast`, but got type {type(tokenizer)}.\"\n",
        "\n",
        "        self.model = model\n",
        "        self.tokenizer = tokenizer\n",
        "        # self.tfidf_vocab = tfidf_vocab\n",
        "\n",
        "    def __call__(self, text_input_list):\n",
        "        \"\"\"Passes inputs to HuggingFace models as keyword arguments.\n",
        "        (Regular PyTorch ``nn.Module`` models typically take inputs as\n",
        "        positional arguments.)\n",
        "        \"\"\"\n",
        "\n",
        "        \"\"\"\n",
        "        Option 1 Make a custom preprocessing function for text_input_list\n",
        "        \"\"\"\n",
        "#############################       \n",
        "        percent_to_mask = 30\n",
        "        for i in range(len(text_input_list)):\n",
        "            words = text_input_list[i].split()\n",
        "            num_words = len(words)\n",
        "            num_to_mask = int(num_words * percent_to_mask / 100)\n",
        "            indices_to_mask = random.sample(range(num_words), num_to_mask)\n",
        "            text_input_list[i] = (\" \".join([\"<mask>\" if i in indices_to_mask else word for i, word in enumerate(words)]))\n",
        "#############################\n",
        "        # Default max length is set to be int(1e30), so we force 512 to enable batching.\n",
        "        max_length = (\n",
        "            512\n",
        "            if self.tokenizer.model_max_length == int(1e30)\n",
        "            else self.tokenizer.model_max_length\n",
        "        )\n",
        "        inputs_dict = self.tokenizer(\n",
        "            text_input_list,\n",
        "            add_special_tokens=True,\n",
        "            padding=\"max_length\",\n",
        "            max_length=max_length,\n",
        "            truncation=True,\n",
        "            return_tensors=\"pt\",\n",
        "        )\n",
        "\n",
        "       \n",
        "        model_device = next(self.model.parameters()).device\n",
        "        inputs_dict.to(model_device)\n",
        "\n",
        "        with torch.no_grad():\n",
        "            outputs = self.model(**inputs_dict)\n",
        "\n",
        "        if isinstance(outputs[0], str):\n",
        "            # HuggingFace sequence-to-sequence models return a list of\n",
        "            # string predictions as output. In this case, return the full\n",
        "            # list of outputs.\n",
        "            return outputs\n",
        "        else:\n",
        "            # HuggingFace classification models return a tuple as output\n",
        "            # where the first item in the tuple corresponds to the list of\n",
        "            # scores for each input.\n",
        "            return outputs.logits\n",
        "\n",
        "    def get_grad(self, text_input):\n",
        "        \"\"\"Get gradient of loss with respect to input tokens.\n",
        "        Args:\n",
        "            text_input (str): input string\n",
        "        Returns:\n",
        "            Dict of ids, tokens, and gradient as numpy array.\n",
        "        \"\"\"\n",
        "        if isinstance(self.model, textattack.models.helpers.T5ForTextToText):\n",
        "            raise NotImplementedError(\n",
        "                \"`get_grads` for T5FotTextToText has not been implemented yet.\"\n",
        "            )\n",
        "\n",
        "        self.model.train()\n",
        "        embedding_layer = self.model.get_input_embeddings()\n",
        "        original_state = embedding_layer.weight.requires_grad\n",
        "        embedding_layer.weight.requires_grad = True\n",
        "\n",
        "        emb_grads = []\n",
        "\n",
        "        def grad_hook(module, grad_in, grad_out):\n",
        "            emb_grads.append(grad_out[0])\n",
        "\n",
        "        emb_hook = embedding_layer.register_backward_hook(grad_hook)\n",
        "\n",
        "        self.model.zero_grad()\n",
        "        model_device = next(self.model.parameters()).device\n",
        "        input_dict = self.tokenizer(\n",
        "            [text_input],\n",
        "            add_special_tokens=True,\n",
        "            return_tensors=\"pt\",\n",
        "            padding=\"max_length\",\n",
        "            truncation=True,\n",
        "        )\n",
        "        input_dict.to(model_device)\n",
        "        predictions = self.model(**input_dict).logits\n",
        "\n",
        "        try:\n",
        "            labels = predictions.argmax(dim=1)\n",
        "            loss = self.model(**input_dict, labels=labels)[0]\n",
        "        except TypeError:\n",
        "            raise TypeError(\n",
        "                f\"{type(self.model)} class does not take in `labels` to calculate loss. \"\n",
        "                \"One cause for this might be if you instantiatedyour model using `transformer.AutoModel` \"\n",
        "                \"(instead of `transformers.AutoModelForSequenceClassification`).\"\n",
        "            )\n",
        "\n",
        "        loss.backward()\n",
        "\n",
        "        # grad w.r.t to word embeddings\n",
        "        grad = emb_grads[0][0].cpu().numpy()\n",
        "\n",
        "        embedding_layer.weight.requires_grad = original_state\n",
        "        emb_hook.remove()\n",
        "        self.model.eval()\n",
        "\n",
        "        output = {\"ids\": input_dict[\"input_ids\"], \"gradient\": grad}\n",
        "\n",
        "        return output\n",
        "\n",
        "    def _tokenize(self, inputs):\n",
        "        \"\"\"Helper method that for `tokenize`\n",
        "        Args:\n",
        "            inputs (list[str]): list of input strings\n",
        "        Returns:\n",
        "            tokens (list[list[str]]): List of list of tokens as strings\n",
        "        \"\"\"\n",
        "        return [\n",
        "            self.tokenizer.convert_ids_to_tokens(\n",
        "                self.tokenizer([x], truncation=True)[\"input_ids\"][0]\n",
        "            )\n",
        "            for x in inputs\n",
        "        ]"
      ]
    },
    {
      "cell_type": "code",
      "execution_count": null,
      "metadata": {
        "colab": {
          "base_uri": "https://localhost:8080/",
          "height": 292,
          "referenced_widgets": [
            "5f6a145315b147988fad13cefb7abee8",
            "7df3c8a9bc0f4769abceba0af78b97df",
            "c83dea5105b3415a9e7b0ecec1e5cecc",
            "5166b26f4a0d4027b10f6cff64741810",
            "412e3f1c397e42538d208f1298aadab3",
            "13f4ae49208b40ca9da6beaf28a3f470",
            "de175045fccc4fb19d38d2224560f8d3",
            "63a69b0c5e3146759d98b40693c0ea5d",
            "4e7f5b7426734109b5e95fbc6e147958",
            "866ae830c35f429db2eb4684eaed74f1",
            "f8a9dae58aa446bdbce7b2605cc45fab",
            "f96fcd603fc74c69ac19e468683bd9e6",
            "97624d116c6f446b98c7a864aea28a34",
            "78c0da13ebf047a3afaaf6211b7712b7",
            "5fff42156b1441a98cc539c00942f7eb",
            "67e371cbb18b448d80681fa7fd37d6cc",
            "0975fe9163f64b5abb5e5905688d4b6b",
            "6380ae6959544640a2aba8a6b82a6d7e",
            "16fcbfc39b7442e4a1d5d616fe1d8f79",
            "11de3c19cbd5404d8025b078dc94f875",
            "9189e7d7a7754f0185a95a94360719e9",
            "a9e5d3afad60423490092159a728d432"
          ]
        },
        "id": "wV0mIKmH0wnv",
        "outputId": "c6150c21-dd5b-4070-ea3f-98fdff54f1cd"
      },
      "outputs": [
        {
          "data": {
            "application/vnd.jupyter.widget-view+json": {
              "model_id": "5f6a145315b147988fad13cefb7abee8",
              "version_major": 2,
              "version_minor": 0
            },
            "text/plain": [
              "Downloading pytorch_model.bin:   0%|          | 0.00/501M [00:00<?, ?B/s]"
            ]
          },
          "metadata": {},
          "output_type": "display_data"
        },
        {
          "name": "stderr",
          "output_type": "stream",
          "text": [
            "Some weights of the model checkpoint at textattack/roberta-base-ag-news were not used when initializing RobertaForSequenceClassification: ['roberta.pooler.dense.weight', 'roberta.pooler.dense.bias']\n",
            "- This IS expected if you are initializing RobertaForSequenceClassification from the checkpoint of a model trained on another task or with another architecture (e.g. initializing a BertForSequenceClassification model from a BertForPreTraining model).\n",
            "- This IS NOT expected if you are initializing RobertaForSequenceClassification from the checkpoint of a model that you expect to be exactly identical (initializing a BertForSequenceClassification model from a BertForSequenceClassification model).\n",
            "textattack: Downloading https://textattack.s3.amazonaws.com/word_embeddings/paragramcf.\n",
            "100%|██████████| 481M/481M [00:09<00:00, 49.7MB/s]\n",
            "textattack: Unzipping file /root/.cache/textattack/tmp8bufqz6g.zip to /root/.cache/textattack/word_embeddings/paragramcf.\n",
            "textattack: Successfully saved word_embeddings/paragramcf to cache.\n",
            "textattack: Unknown if model of class <class 'transformers.models.roberta.modeling_roberta.RobertaForSequenceClassification'> compatible with goal function <class 'textattack.goal_functions.classification.untargeted_classification.UntargetedClassification'>.\n",
            "WARNING:datasets.builder:Using custom data configuration default\n",
            "WARNING:datasets.builder:Reusing dataset ag_news (/root/.cache/huggingface/datasets/ag_news/default/0.0.0/bc2bcb40336ace1a0374767fc29bb0296cdaf8a6da7298436239c54d79180548)\n"
          ]
        },
        {
          "data": {
            "application/vnd.jupyter.widget-view+json": {
              "model_id": "f96fcd603fc74c69ac19e468683bd9e6",
              "version_major": 2,
              "version_minor": 0
            },
            "text/plain": [
              "  0%|          | 0/2 [00:00<?, ?it/s]"
            ]
          },
          "metadata": {},
          "output_type": "display_data"
        },
        {
          "name": "stderr",
          "output_type": "stream",
          "text": [
            "textattack: Loading \u001b[94mdatasets\u001b[0m dataset \u001b[94mag_news\u001b[0m, split \u001b[94mtest\u001b[0m.\n"
          ]
        }
      ],
      "source": [
        "# first generate adversarial examples using textattack\n",
        "# recipe: textfooler\n",
        "model = transformers.AutoModelForSequenceClassification.from_pretrained(\"textattack/roberta-base-ag-news\")\n",
        "tokenizer = transformers.AutoTokenizer.from_pretrained(\"textattack/roberta-base-ag-news\")\n",
        "model_wrapper = MyWrapperRandomMask(model, tokenizer)\n",
        "\n",
        "# build the textfooler attack\n",
        "attack = textattack.attack_recipes.textfooler_jin_2019.TextFoolerJin2019.build(model_wrapper)\n",
        "\n",
        "# Load the dataset\n",
        "dataset = textattack.datasets.HuggingFaceDataset(\"ag_news\", split=\"test\")\n",
        "# dataset = load_dataset(\"ag_news\")"
      ]
    },
    {
      "cell_type": "code",
      "execution_count": null,
      "metadata": {
        "colab": {
          "base_uri": "https://localhost:8080/"
        },
        "id": "2wdhIX4m07jD",
        "outputId": "02602aa8-59f5-44b3-900a-1d9681fe2627"
      },
      "outputs": [
        {
          "name": "stderr",
          "output_type": "stream",
          "text": [
            "textattack: Logging to CSV at path <masking>_words_30.csv\n"
          ]
        },
        {
          "name": "stdout",
          "output_type": "stream",
          "text": [
            "Attack(\n",
            "  (search_method): GreedyWordSwapWIR(\n",
            "    (wir_method):  delete\n",
            "  )\n",
            "  (goal_function):  UntargetedClassification\n",
            "  (transformation):  WordSwapEmbedding(\n",
            "    (max_candidates):  50\n",
            "    (embedding):  WordEmbedding\n",
            "  )\n",
            "  (constraints): \n",
            "    (0): WordEmbeddingDistance(\n",
            "        (embedding):  WordEmbedding\n",
            "        (min_cos_sim):  0.5\n",
            "        (cased):  False\n",
            "        (include_unknown_words):  True\n",
            "        (compare_against_original):  True\n",
            "      )\n",
            "    (1): PartOfSpeech(\n",
            "        (tagger_type):  nltk\n",
            "        (tagset):  universal\n",
            "        (allow_verb_noun_swap):  True\n",
            "        (compare_against_original):  True\n",
            "      )\n",
            "    (2): UniversalSentenceEncoder(\n",
            "        (metric):  angular\n",
            "        (threshold):  0.840845057\n",
            "        (window_size):  15\n",
            "        (skip_text_shorter_than_window):  True\n",
            "        (compare_against_original):  False\n",
            "      )\n",
            "    (3): RepeatModification\n",
            "    (4): StopwordModification\n",
            "    (5): InputColumnModification(\n",
            "        (matching_column_labels):  ['premise', 'hypothesis']\n",
            "        (columns_to_ignore):  {'premise'}\n",
            "      )\n",
            "  (is_black_box):  True\n",
            ") \n",
            "\n"
          ]
        },
        {
          "name": "stderr",
          "output_type": "stream",
          "text": [
            "[Succeeded / Failed / Skipped / Total] 3 / 1 / 1 / 5:   2%|▎         | 5/200 [00:54<35:40, 10.98s/it]textattack: Saving checkpoint under \"checkpoints/1678853289022.ta.chkpt\" at 2023-03-15 04:08:09 after 5 attacks.\n"
          ]
        },
        {
          "name": "stdout",
          "output_type": "stream",
          "text": [
            "\n",
            "\n",
            "=============================================================================================================================\n",
            "=============================================================================================================================\n",
            "\n"
          ]
        },
        {
          "name": "stderr",
          "output_type": "stream",
          "text": [
            "[Succeeded / Failed / Skipped / Total] 5 / 4 / 1 / 10:   5%|▌         | 10/200 [03:41<1:10:11, 22.17s/it]textattack: Saving checkpoint under \"checkpoints/1678853455802.ta.chkpt\" at 2023-03-15 04:10:55 after 10 attacks.\n"
          ]
        },
        {
          "name": "stdout",
          "output_type": "stream",
          "text": [
            "\n",
            "\n",
            "=============================================================================================================================\n",
            "=============================================================================================================================\n",
            "\n"
          ]
        },
        {
          "name": "stderr",
          "output_type": "stream",
          "text": [
            "[Succeeded / Failed / Skipped / Total] 8 / 6 / 1 / 15:   8%|▊         | 15/200 [04:52<1:00:05, 19.49s/it]textattack: Saving checkpoint under \"checkpoints/1678853526511.ta.chkpt\" at 2023-03-15 04:12:06 after 15 attacks.\n",
            "[Succeeded / Failed / Skipped / Total] 8 / 6 / 2 / 16:   8%|▊         | 16/200 [04:52<56:02, 18.28s/it]  "
          ]
        },
        {
          "name": "stdout",
          "output_type": "stream",
          "text": [
            "\n",
            "\n",
            "=============================================================================================================================\n",
            "=============================================================================================================================\n",
            "\n"
          ]
        },
        {
          "name": "stderr",
          "output_type": "stream",
          "text": [
            "[Succeeded / Failed / Skipped / Total] 10 / 8 / 2 / 20:  10%|█         | 20/200 [05:51<52:47, 17.60s/it]textattack: Saving checkpoint under \"checkpoints/1678853586087.ta.chkpt\" at 2023-03-15 04:13:06 after 20 attacks.\n"
          ]
        },
        {
          "name": "stdout",
          "output_type": "stream",
          "text": [
            "\n",
            "\n",
            "=============================================================================================================================\n",
            "=============================================================================================================================\n",
            "\n"
          ]
        },
        {
          "name": "stderr",
          "output_type": "stream",
          "text": [
            "[Succeeded / Failed / Skipped / Total] 12 / 9 / 4 / 25:  12%|█▎        | 25/200 [06:09<43:06, 14.78s/it]textattack: Saving checkpoint under \"checkpoints/1678853603672.ta.chkpt\" at 2023-03-15 04:13:23 after 25 attacks.\n"
          ]
        },
        {
          "name": "stdout",
          "output_type": "stream",
          "text": [
            "\n",
            "\n",
            "=============================================================================================================================\n",
            "=============================================================================================================================\n",
            "\n"
          ]
        },
        {
          "name": "stderr",
          "output_type": "stream",
          "text": [
            "[Succeeded / Failed / Skipped / Total] 15 / 11 / 4 / 30:  15%|█▌        | 30/200 [07:28<42:22, 14.96s/it]textattack: Saving checkpoint under \"checkpoints/1678853682877.ta.chkpt\" at 2023-03-15 04:14:42 after 30 attacks.\n"
          ]
        },
        {
          "name": "stdout",
          "output_type": "stream",
          "text": [
            "\n",
            "\n",
            "=============================================================================================================================\n",
            "=============================================================================================================================\n",
            "\n"
          ]
        },
        {
          "name": "stderr",
          "output_type": "stream",
          "text": [
            "[Succeeded / Failed / Skipped / Total] 18 / 13 / 4 / 35:  18%|█▊        | 35/200 [08:50<41:41, 15.16s/it]textattack: Saving checkpoint under \"checkpoints/1678853764660.ta.chkpt\" at 2023-03-15 04:16:04 after 35 attacks.\n"
          ]
        },
        {
          "name": "stdout",
          "output_type": "stream",
          "text": [
            "\n",
            "\n",
            "=============================================================================================================================\n",
            "=============================================================================================================================\n",
            "\n"
          ]
        },
        {
          "name": "stderr",
          "output_type": "stream",
          "text": [
            "[Succeeded / Failed / Skipped / Total] 22 / 13 / 5 / 40:  20%|██        | 40/200 [09:36<38:27, 14.42s/it]textattack: Saving checkpoint under \"checkpoints/1678853811077.ta.chkpt\" at 2023-03-15 04:16:51 after 40 attacks.\n"
          ]
        },
        {
          "name": "stdout",
          "output_type": "stream",
          "text": [
            "\n",
            "\n",
            "=============================================================================================================================\n",
            "=============================================================================================================================\n",
            "\n"
          ]
        },
        {
          "name": "stderr",
          "output_type": "stream",
          "text": [
            "[Succeeded / Failed / Skipped / Total] 25 / 15 / 5 / 45:  22%|██▎       | 45/200 [10:25<35:53, 13.89s/it]textattack: Saving checkpoint under \"checkpoints/1678853859398.ta.chkpt\" at 2023-03-15 04:17:39 after 45 attacks.\n"
          ]
        },
        {
          "name": "stdout",
          "output_type": "stream",
          "text": [
            "\n",
            "\n",
            "=============================================================================================================================\n",
            "=============================================================================================================================\n",
            "\n"
          ]
        },
        {
          "name": "stderr",
          "output_type": "stream",
          "text": [
            "[Succeeded / Failed / Skipped / Total] 29 / 16 / 5 / 50:  25%|██▌       | 50/200 [11:10<33:32, 13.42s/it]textattack: Saving checkpoint under \"checkpoints/1678853905092.ta.chkpt\" at 2023-03-15 04:18:25 after 50 attacks.\n"
          ]
        },
        {
          "name": "stdout",
          "output_type": "stream",
          "text": [
            "\n",
            "\n",
            "=============================================================================================================================\n",
            "=============================================================================================================================\n",
            "\n"
          ]
        },
        {
          "name": "stderr",
          "output_type": "stream",
          "text": [
            "[Succeeded / Failed / Skipped / Total] 32 / 18 / 5 / 55:  28%|██▊       | 55/200 [12:08<32:01, 13.25s/it]textattack: Saving checkpoint under \"checkpoints/1678853963100.ta.chkpt\" at 2023-03-15 04:19:23 after 55 attacks.\n"
          ]
        },
        {
          "name": "stdout",
          "output_type": "stream",
          "text": [
            "\n",
            "\n",
            "=============================================================================================================================\n",
            "=============================================================================================================================\n",
            "\n"
          ]
        },
        {
          "name": "stderr",
          "output_type": "stream",
          "text": [
            "[Succeeded / Failed / Skipped / Total] 35 / 20 / 5 / 60:  30%|███       | 60/200 [12:59<30:17, 12.98s/it]textattack: Saving checkpoint under \"checkpoints/1678854013146.ta.chkpt\" at 2023-03-15 04:20:13 after 60 attacks.\n"
          ]
        },
        {
          "name": "stdout",
          "output_type": "stream",
          "text": [
            "\n",
            "\n",
            "=============================================================================================================================\n",
            "=============================================================================================================================\n",
            "\n"
          ]
        },
        {
          "name": "stderr",
          "output_type": "stream",
          "text": [
            "[Succeeded / Failed / Skipped / Total] 38 / 22 / 5 / 65:  32%|███▎      | 65/200 [14:07<29:21, 13.04s/it]textattack: Saving checkpoint under \"checkpoints/1678854082038.ta.chkpt\" at 2023-03-15 04:21:22 after 65 attacks.\n"
          ]
        },
        {
          "name": "stdout",
          "output_type": "stream",
          "text": [
            "\n",
            "\n",
            "=============================================================================================================================\n",
            "=============================================================================================================================\n",
            "\n"
          ]
        },
        {
          "name": "stderr",
          "output_type": "stream",
          "text": [
            "[Succeeded / Failed / Skipped / Total] 43 / 22 / 5 / 70:  35%|███▌      | 70/200 [14:28<26:53, 12.41s/it]textattack: Saving checkpoint under \"checkpoints/1678854102830.ta.chkpt\" at 2023-03-15 04:21:42 after 70 attacks.\n"
          ]
        },
        {
          "name": "stdout",
          "output_type": "stream",
          "text": [
            "\n",
            "\n",
            "=============================================================================================================================\n",
            "=============================================================================================================================\n",
            "\n"
          ]
        },
        {
          "name": "stderr",
          "output_type": "stream",
          "text": [
            "[Succeeded / Failed / Skipped / Total] 45 / 24 / 6 / 75:  38%|███▊      | 75/200 [15:22<25:38, 12.31s/it]textattack: Saving checkpoint under \"checkpoints/1678854157073.ta.chkpt\" at 2023-03-15 04:22:37 after 75 attacks.\n"
          ]
        },
        {
          "name": "stdout",
          "output_type": "stream",
          "text": [
            "\n",
            "\n",
            "=============================================================================================================================\n",
            "=============================================================================================================================\n",
            "\n"
          ]
        },
        {
          "name": "stderr",
          "output_type": "stream",
          "text": [
            "[Succeeded / Failed / Skipped / Total] 48 / 26 / 6 / 80:  40%|████      | 80/200 [16:10<24:15, 12.13s/it]textattack: Saving checkpoint under \"checkpoints/1678854204453.ta.chkpt\" at 2023-03-15 04:23:24 after 80 attacks.\n"
          ]
        },
        {
          "name": "stdout",
          "output_type": "stream",
          "text": [
            "\n",
            "\n",
            "=============================================================================================================================\n",
            "=============================================================================================================================\n",
            "\n"
          ]
        },
        {
          "name": "stderr",
          "output_type": "stream",
          "text": [
            "[Succeeded / Failed / Skipped / Total] 51 / 27 / 7 / 85:  42%|████▎     | 85/200 [16:39<22:32, 11.76s/it]textattack: Saving checkpoint under \"checkpoints/1678854234110.ta.chkpt\" at 2023-03-15 04:23:54 after 85 attacks.\n"
          ]
        },
        {
          "name": "stdout",
          "output_type": "stream",
          "text": [
            "\n",
            "\n",
            "=============================================================================================================================\n",
            "=============================================================================================================================\n",
            "\n"
          ]
        },
        {
          "name": "stderr",
          "output_type": "stream",
          "text": [
            "[Succeeded / Failed / Skipped / Total] 56 / 27 / 7 / 90:  45%|████▌     | 90/200 [17:04<20:52, 11.39s/it]textattack: Saving checkpoint under \"checkpoints/1678854259057.ta.chkpt\" at 2023-03-15 04:24:19 after 90 attacks.\n"
          ]
        },
        {
          "name": "stdout",
          "output_type": "stream",
          "text": [
            "\n",
            "\n",
            "=============================================================================================================================\n",
            "=============================================================================================================================\n",
            "\n"
          ]
        },
        {
          "name": "stderr",
          "output_type": "stream",
          "text": [
            "[Succeeded / Failed / Skipped / Total] 59 / 29 / 7 / 95:  48%|████▊     | 95/200 [18:00<19:53, 11.37s/it]textattack: Saving checkpoint under \"checkpoints/1678854314238.ta.chkpt\" at 2023-03-15 04:25:14 after 95 attacks.\n"
          ]
        },
        {
          "name": "stdout",
          "output_type": "stream",
          "text": [
            "\n",
            "\n",
            "=============================================================================================================================\n",
            "=============================================================================================================================\n",
            "\n"
          ]
        },
        {
          "name": "stderr",
          "output_type": "stream",
          "text": [
            "[Succeeded / Failed / Skipped / Total] 60 / 33 / 7 / 100:  50%|█████     | 100/200 [19:40<19:40, 11.81s/it]textattack: Saving checkpoint under \"checkpoints/1678854414693.ta.chkpt\" at 2023-03-15 04:26:54 after 100 attacks.\n",
            "[Succeeded / Failed / Skipped / Total] 60 / 33 / 8 / 101:  50%|█████     | 101/200 [19:40<19:17, 11.69s/it]"
          ]
        },
        {
          "name": "stdout",
          "output_type": "stream",
          "text": [
            "\n",
            "\n",
            "=============================================================================================================================\n",
            "=============================================================================================================================\n",
            "\n"
          ]
        },
        {
          "name": "stderr",
          "output_type": "stream",
          "text": [
            "[Succeeded / Failed / Skipped / Total] 64 / 33 / 8 / 105:  52%|█████▎    | 105/200 [20:06<18:11, 11.49s/it]textattack: Saving checkpoint under \"checkpoints/1678854440699.ta.chkpt\" at 2023-03-15 04:27:20 after 105 attacks.\n"
          ]
        },
        {
          "name": "stdout",
          "output_type": "stream",
          "text": [
            "\n",
            "\n",
            "=============================================================================================================================\n",
            "=============================================================================================================================\n",
            "\n"
          ]
        },
        {
          "name": "stderr",
          "output_type": "stream",
          "text": [
            "[Succeeded / Failed / Skipped / Total] 66 / 35 / 9 / 110:  55%|█████▌    | 110/200 [20:44<16:58, 11.31s/it]textattack: Saving checkpoint under \"checkpoints/1678854478755.ta.chkpt\" at 2023-03-15 04:27:58 after 110 attacks.\n"
          ]
        },
        {
          "name": "stdout",
          "output_type": "stream",
          "text": [
            "\n",
            "\n",
            "=============================================================================================================================\n",
            "=============================================================================================================================\n",
            "\n"
          ]
        },
        {
          "name": "stderr",
          "output_type": "stream",
          "text": [
            "[Succeeded / Failed / Skipped / Total] 68 / 36 / 11 / 115:  57%|█████▊    | 115/200 [21:18<15:45, 11.12s/it]textattack: Saving checkpoint under \"checkpoints/1678854512936.ta.chkpt\" at 2023-03-15 04:28:32 after 115 attacks.\n"
          ]
        },
        {
          "name": "stdout",
          "output_type": "stream",
          "text": [
            "\n",
            "\n",
            "=============================================================================================================================\n",
            "=============================================================================================================================\n",
            "\n"
          ]
        },
        {
          "name": "stderr",
          "output_type": "stream",
          "text": [
            "[Succeeded / Failed / Skipped / Total] 68 / 41 / 11 / 120:  60%|██████    | 120/200 [23:02<15:21, 11.52s/it]textattack: Saving checkpoint under \"checkpoints/1678854616692.ta.chkpt\" at 2023-03-15 04:30:16 after 120 attacks.\n",
            "[Succeeded / Failed / Skipped / Total] 68 / 41 / 12 / 121:  60%|██████    | 121/200 [23:02<15:02, 11.43s/it]"
          ]
        },
        {
          "name": "stdout",
          "output_type": "stream",
          "text": [
            "\n",
            "\n",
            "=============================================================================================================================\n",
            "=============================================================================================================================\n",
            "\n"
          ]
        },
        {
          "name": "stderr",
          "output_type": "stream",
          "text": [
            "[Succeeded / Failed / Skipped / Total] 70 / 43 / 12 / 125:  62%|██████▎   | 125/200 [24:02<14:25, 11.54s/it]textattack: Saving checkpoint under \"checkpoints/1678854677018.ta.chkpt\" at 2023-03-15 04:31:17 after 125 attacks.\n"
          ]
        },
        {
          "name": "stdout",
          "output_type": "stream",
          "text": [
            "\n",
            "\n",
            "=============================================================================================================================\n",
            "=============================================================================================================================\n",
            "\n"
          ]
        },
        {
          "name": "stderr",
          "output_type": "stream",
          "text": [
            "[Succeeded / Failed / Skipped / Total] 73 / 45 / 12 / 130:  65%|██████▌   | 130/200 [24:45<13:20, 11.43s/it]textattack: Saving checkpoint under \"checkpoints/1678854719914.ta.chkpt\" at 2023-03-15 04:31:59 after 130 attacks.\n"
          ]
        },
        {
          "name": "stdout",
          "output_type": "stream",
          "text": [
            "\n",
            "\n",
            "=============================================================================================================================\n",
            "=============================================================================================================================\n",
            "\n"
          ]
        },
        {
          "name": "stderr",
          "output_type": "stream",
          "text": [
            "[Succeeded / Failed / Skipped / Total] 77 / 46 / 12 / 135:  68%|██████▊   | 135/200 [25:29<12:16, 11.33s/it]textattack: Saving checkpoint under \"checkpoints/1678854763900.ta.chkpt\" at 2023-03-15 04:32:43 after 135 attacks.\n"
          ]
        },
        {
          "name": "stdout",
          "output_type": "stream",
          "text": [
            "\n",
            "\n",
            "=============================================================================================================================\n",
            "=============================================================================================================================\n",
            "\n"
          ]
        },
        {
          "name": "stderr",
          "output_type": "stream",
          "text": [
            "[Succeeded / Failed / Skipped / Total] 80 / 47 / 13 / 140:  70%|███████   | 140/200 [26:17<11:16, 11.27s/it]textattack: Saving checkpoint under \"checkpoints/1678854812134.ta.chkpt\" at 2023-03-15 04:33:32 after 140 attacks.\n"
          ]
        },
        {
          "name": "stdout",
          "output_type": "stream",
          "text": [
            "\n",
            "\n",
            "=============================================================================================================================\n",
            "=============================================================================================================================\n",
            "\n"
          ]
        },
        {
          "name": "stderr",
          "output_type": "stream",
          "text": [
            "[Succeeded / Failed / Skipped / Total] 85 / 47 / 13 / 145:  72%|███████▎  | 145/200 [26:37<10:05, 11.01s/it]textattack: Saving checkpoint under \"checkpoints/1678854831163.ta.chkpt\" at 2023-03-15 04:33:51 after 145 attacks.\n"
          ]
        },
        {
          "name": "stdout",
          "output_type": "stream",
          "text": [
            "\n",
            "\n",
            "=============================================================================================================================\n",
            "=============================================================================================================================\n",
            "\n"
          ]
        },
        {
          "name": "stderr",
          "output_type": "stream",
          "text": [
            "[Succeeded / Failed / Skipped / Total] 88 / 49 / 13 / 150:  75%|███████▌  | 150/200 [27:53<09:17, 11.16s/it]textattack: Saving checkpoint under \"checkpoints/1678854908059.ta.chkpt\" at 2023-03-15 04:35:08 after 150 attacks.\n"
          ]
        },
        {
          "name": "stdout",
          "output_type": "stream",
          "text": [
            "\n",
            "\n",
            "=============================================================================================================================\n",
            "=============================================================================================================================\n",
            "\n"
          ]
        },
        {
          "name": "stderr",
          "output_type": "stream",
          "text": [
            "[Succeeded / Failed / Skipped / Total] 89 / 52 / 14 / 155:  78%|███████▊  | 155/200 [28:55<08:23, 11.20s/it]textattack: Saving checkpoint under \"checkpoints/1678854969746.ta.chkpt\" at 2023-03-15 04:36:09 after 155 attacks.\n",
            "[Succeeded / Failed / Skipped / Total] 89 / 52 / 15 / 156:  78%|███████▊  | 156/200 [28:55<08:09, 11.13s/it]"
          ]
        },
        {
          "name": "stdout",
          "output_type": "stream",
          "text": [
            "\n",
            "\n",
            "=============================================================================================================================\n",
            "=============================================================================================================================\n",
            "\n"
          ]
        },
        {
          "name": "stderr",
          "output_type": "stream",
          "text": [
            "[Succeeded / Failed / Skipped / Total] 92 / 53 / 15 / 160:  80%|████████  | 160/200 [29:29<07:22, 11.06s/it]textattack: Saving checkpoint under \"checkpoints/1678855003549.ta.chkpt\" at 2023-03-15 04:36:43 after 160 attacks.\n"
          ]
        },
        {
          "name": "stdout",
          "output_type": "stream",
          "text": [
            "\n",
            "\n",
            "=============================================================================================================================\n",
            "=============================================================================================================================\n",
            "\n"
          ]
        },
        {
          "name": "stderr",
          "output_type": "stream",
          "text": [
            "[Succeeded / Failed / Skipped / Total] 95 / 55 / 15 / 165:  82%|████████▎ | 165/200 [30:32<06:28, 11.11s/it]textattack: Saving checkpoint under \"checkpoints/1678855066978.ta.chkpt\" at 2023-03-15 04:37:46 after 165 attacks.\n"
          ]
        },
        {
          "name": "stdout",
          "output_type": "stream",
          "text": [
            "\n",
            "\n",
            "=============================================================================================================================\n",
            "=============================================================================================================================\n",
            "\n"
          ]
        },
        {
          "name": "stderr",
          "output_type": "stream",
          "text": [
            "[Succeeded / Failed / Skipped / Total] 98 / 57 / 15 / 170:  85%|████████▌ | 170/200 [31:38<05:34, 11.16s/it]textattack: Saving checkpoint under \"checkpoints/1678855132191.ta.chkpt\" at 2023-03-15 04:38:52 after 170 attacks.\n"
          ]
        },
        {
          "name": "stdout",
          "output_type": "stream",
          "text": [
            "\n",
            "\n",
            "=============================================================================================================================\n",
            "=============================================================================================================================\n",
            "\n"
          ]
        },
        {
          "name": "stderr",
          "output_type": "stream",
          "text": [
            "[Succeeded / Failed / Skipped / Total] 103 / 57 / 15 / 175:  88%|████████▊ | 175/200 [32:24<04:37, 11.11s/it]textattack: Saving checkpoint under \"checkpoints/1678855178874.ta.chkpt\" at 2023-03-15 04:39:38 after 175 attacks.\n"
          ]
        },
        {
          "name": "stdout",
          "output_type": "stream",
          "text": [
            "\n",
            "\n",
            "=============================================================================================================================\n",
            "=============================================================================================================================\n",
            "\n"
          ]
        },
        {
          "name": "stderr",
          "output_type": "stream",
          "text": [
            "[Succeeded / Failed / Skipped / Total] 105 / 60 / 15 / 180:  90%|█████████ | 180/200 [33:10<03:41, 11.06s/it]textattack: Saving checkpoint under \"checkpoints/1678855224480.ta.chkpt\" at 2023-03-15 04:40:24 after 180 attacks.\n"
          ]
        },
        {
          "name": "stdout",
          "output_type": "stream",
          "text": [
            "\n",
            "\n",
            "=============================================================================================================================\n",
            "=============================================================================================================================\n",
            "\n"
          ]
        },
        {
          "name": "stderr",
          "output_type": "stream",
          "text": [
            "[Succeeded / Failed / Skipped / Total] 107 / 62 / 16 / 185:  92%|█████████▎| 185/200 [34:29<02:47, 11.19s/it]textattack: Saving checkpoint under \"checkpoints/1678855304012.ta.chkpt\" at 2023-03-15 04:41:44 after 185 attacks.\n"
          ]
        },
        {
          "name": "stdout",
          "output_type": "stream",
          "text": [
            "\n",
            "\n",
            "=============================================================================================================================\n",
            "=============================================================================================================================\n",
            "\n"
          ]
        },
        {
          "name": "stderr",
          "output_type": "stream",
          "text": [
            "[Succeeded / Failed / Skipped / Total] 110 / 63 / 17 / 190:  95%|█████████▌| 190/200 [35:25<01:51, 11.19s/it]textattack: Saving checkpoint under \"checkpoints/1678855359607.ta.chkpt\" at 2023-03-15 04:42:39 after 190 attacks.\n"
          ]
        },
        {
          "name": "stdout",
          "output_type": "stream",
          "text": [
            "\n",
            "\n",
            "=============================================================================================================================\n",
            "=============================================================================================================================\n",
            "\n"
          ]
        },
        {
          "name": "stderr",
          "output_type": "stream",
          "text": [
            "[Succeeded / Failed / Skipped / Total] 110 / 68 / 17 / 195:  98%|█████████▊| 195/200 [37:21<00:57, 11.49s/it]textattack: Saving checkpoint under \"checkpoints/1678855475220.ta.chkpt\" at 2023-03-15 04:44:35 after 195 attacks.\n"
          ]
        },
        {
          "name": "stdout",
          "output_type": "stream",
          "text": [
            "\n",
            "\n",
            "=============================================================================================================================\n",
            "=============================================================================================================================\n",
            "\n"
          ]
        },
        {
          "name": "stderr",
          "output_type": "stream",
          "text": [
            "[Succeeded / Failed / Skipped / Total] 111 / 71 / 18 / 200: 100%|██████████| 200/200 [38:15<00:00, 11.48s/it]textattack: Saving checkpoint under \"checkpoints/1678855529192.ta.chkpt\" at 2023-03-15 04:45:29 after 200 attacks.\n",
            "[Succeeded / Failed / Skipped / Total] 111 / 71 / 18 / 200: 100%|██████████| 200/200 [38:15<00:00, 11.48s/it]"
          ]
        },
        {
          "name": "stdout",
          "output_type": "stream",
          "text": [
            "\n",
            "\n",
            "=============================================================================================================================\n",
            "=============================================================================================================================\n",
            "\n",
            "\n",
            "+-------------------------------+--------+\n",
            "| Attack Results                |        |\n",
            "+-------------------------------+--------+\n",
            "| Number of successful attacks: | 111    |\n",
            "| Number of failed attacks:     | 71     |\n",
            "| Number of skipped attacks:    | 18     |\n",
            "| Original accuracy:            | 91.0%  |\n",
            "| Accuracy under attack:        | 35.5%  |\n",
            "| Attack success rate:          | 60.99% |\n",
            "| Average perturbed word %:     | 8.45%  |\n",
            "| Average num. words per input: | 41.98  |\n",
            "| Avg num queries:              | 381.13 |\n",
            "+-------------------------------+--------+\n"
          ]
        },
        {
          "name": "stderr",
          "output_type": "stream",
          "text": [
            "\n"
          ]
        },
        {
          "data": {
            "text/plain": [
              "[<textattack.attack_results.successful_attack_result.SuccessfulAttackResult at 0x7f45e5a57af0>,\n",
              " <textattack.attack_results.failed_attack_result.FailedAttackResult at 0x7f45cc10f490>,\n",
              " <textattack.attack_results.successful_attack_result.SuccessfulAttackResult at 0x7f4581d577c0>,\n",
              " <textattack.attack_results.skipped_attack_result.SkippedAttackResult at 0x7f45b48970a0>,\n",
              " <textattack.attack_results.successful_attack_result.SuccessfulAttackResult at 0x7f45e67e8c40>,\n",
              " <textattack.attack_results.failed_attack_result.FailedAttackResult at 0x7f45e5e125b0>,\n",
              " <textattack.attack_results.failed_attack_result.FailedAttackResult at 0x7f45b73562b0>,\n",
              " <textattack.attack_results.failed_attack_result.FailedAttackResult at 0x7f45cdae6d90>,\n",
              " <textattack.attack_results.successful_attack_result.SuccessfulAttackResult at 0x7f47827fcee0>,\n",
              " <textattack.attack_results.successful_attack_result.SuccessfulAttackResult at 0x7f45e58e61f0>,\n",
              " <textattack.attack_results.failed_attack_result.FailedAttackResult at 0x7f459b628a00>,\n",
              " <textattack.attack_results.failed_attack_result.FailedAttackResult at 0x7f4782884430>,\n",
              " <textattack.attack_results.successful_attack_result.SuccessfulAttackResult at 0x7f45cdae6df0>,\n",
              " <textattack.attack_results.successful_attack_result.SuccessfulAttackResult at 0x7f45e5a57d00>,\n",
              " <textattack.attack_results.successful_attack_result.SuccessfulAttackResult at 0x7f47802251f0>,\n",
              " <textattack.attack_results.skipped_attack_result.SkippedAttackResult at 0x7f45e5a57b50>,\n",
              " <textattack.attack_results.failed_attack_result.FailedAttackResult at 0x7f45e5e13400>,\n",
              " <textattack.attack_results.failed_attack_result.FailedAttackResult at 0x7f45e59b9cd0>,\n",
              " <textattack.attack_results.successful_attack_result.SuccessfulAttackResult at 0x7f45e5f81d90>,\n",
              " <textattack.attack_results.successful_attack_result.SuccessfulAttackResult at 0x7f45e58e60d0>,\n",
              " <textattack.attack_results.successful_attack_result.SuccessfulAttackResult at 0x7f45a3f3b310>,\n",
              " <textattack.attack_results.successful_attack_result.SuccessfulAttackResult at 0x7f45e5a57880>,\n",
              " <textattack.attack_results.failed_attack_result.FailedAttackResult at 0x7f45e5f81790>,\n",
              " <textattack.attack_results.skipped_attack_result.SkippedAttackResult at 0x7f45b4897280>,\n",
              " <textattack.attack_results.skipped_attack_result.SkippedAttackResult at 0x7f45b4897550>,\n",
              " <textattack.attack_results.successful_attack_result.SuccessfulAttackResult at 0x7f45cc8bd760>,\n",
              " <textattack.attack_results.successful_attack_result.SuccessfulAttackResult at 0x7f45b4897310>,\n",
              " <textattack.attack_results.successful_attack_result.SuccessfulAttackResult at 0x7f45cc8bd5b0>,\n",
              " <textattack.attack_results.failed_attack_result.FailedAttackResult at 0x7f459b5671f0>,\n",
              " <textattack.attack_results.failed_attack_result.FailedAttackResult at 0x7f45cc8bda90>,\n",
              " <textattack.attack_results.successful_attack_result.SuccessfulAttackResult at 0x7f45e5e0a5b0>,\n",
              " <textattack.attack_results.failed_attack_result.FailedAttackResult at 0x7f45a3f57970>,\n",
              " <textattack.attack_results.successful_attack_result.SuccessfulAttackResult at 0x7f45b6a45b20>,\n",
              " <textattack.attack_results.successful_attack_result.SuccessfulAttackResult at 0x7f45b616e640>,\n",
              " <textattack.attack_results.failed_attack_result.FailedAttackResult at 0x7f45e5a57a00>,\n",
              " <textattack.attack_results.successful_attack_result.SuccessfulAttackResult at 0x7f45cc8bdc70>,\n",
              " <textattack.attack_results.skipped_attack_result.SkippedAttackResult at 0x7f45cc8bd700>,\n",
              " <textattack.attack_results.successful_attack_result.SuccessfulAttackResult at 0x7f45cc8bdd00>,\n",
              " <textattack.attack_results.successful_attack_result.SuccessfulAttackResult at 0x7f45e5e0a100>,\n",
              " <textattack.attack_results.successful_attack_result.SuccessfulAttackResult at 0x7f45b6a45c40>,\n",
              " <textattack.attack_results.failed_attack_result.FailedAttackResult at 0x7f45cceeae50>,\n",
              " <textattack.attack_results.successful_attack_result.SuccessfulAttackResult at 0x7f45e5e0adc0>,\n",
              " <textattack.attack_results.successful_attack_result.SuccessfulAttackResult at 0x7f45b61a2550>,\n",
              " <textattack.attack_results.successful_attack_result.SuccessfulAttackResult at 0x7f45b7117760>,\n",
              " <textattack.attack_results.failed_attack_result.FailedAttackResult at 0x7f45b616ef40>,\n",
              " <textattack.attack_results.failed_attack_result.FailedAttackResult at 0x7f45ccb0d430>,\n",
              " <textattack.attack_results.successful_attack_result.SuccessfulAttackResult at 0x7f45b6af9d30>,\n",
              " <textattack.attack_results.successful_attack_result.SuccessfulAttackResult at 0x7f45a3bc79d0>,\n",
              " <textattack.attack_results.successful_attack_result.SuccessfulAttackResult at 0x7f45e59fb1f0>,\n",
              " <textattack.attack_results.successful_attack_result.SuccessfulAttackResult at 0x7f45a4727f40>,\n",
              " <textattack.attack_results.successful_attack_result.SuccessfulAttackResult at 0x7f45b5cf2220>,\n",
              " <textattack.attack_results.failed_attack_result.FailedAttackResult at 0x7f45b61a2d60>,\n",
              " <textattack.attack_results.successful_attack_result.SuccessfulAttackResult at 0x7f45cc8bdca0>,\n",
              " <textattack.attack_results.successful_attack_result.SuccessfulAttackResult at 0x7f47828c28b0>,\n",
              " <textattack.attack_results.failed_attack_result.FailedAttackResult at 0x7f45b6c1d430>,\n",
              " <textattack.attack_results.successful_attack_result.SuccessfulAttackResult at 0x7f45b3319910>,\n",
              " <textattack.attack_results.successful_attack_result.SuccessfulAttackResult at 0x7f45b6c1d880>,\n",
              " <textattack.attack_results.failed_attack_result.FailedAttackResult at 0x7f45e59fb2e0>,\n",
              " <textattack.attack_results.successful_attack_result.SuccessfulAttackResult at 0x7f45a4578a90>,\n",
              " <textattack.attack_results.failed_attack_result.FailedAttackResult at 0x7f45b61a2700>,\n",
              " <textattack.attack_results.successful_attack_result.SuccessfulAttackResult at 0x7f45b6af96d0>,\n",
              " <textattack.attack_results.successful_attack_result.SuccessfulAttackResult at 0x7f459b4b46a0>,\n",
              " <textattack.attack_results.failed_attack_result.FailedAttackResult at 0x7f45e5e0a8b0>,\n",
              " <textattack.attack_results.failed_attack_result.FailedAttackResult at 0x7f45e5e0a940>,\n",
              " <textattack.attack_results.successful_attack_result.SuccessfulAttackResult at 0x7f45814aa910>,\n",
              " <textattack.attack_results.successful_attack_result.SuccessfulAttackResult at 0x7f45a2bfc1f0>,\n",
              " <textattack.attack_results.successful_attack_result.SuccessfulAttackResult at 0x7f45b3545b50>,\n",
              " <textattack.attack_results.successful_attack_result.SuccessfulAttackResult at 0x7f45b61a2f40>,\n",
              " <textattack.attack_results.successful_attack_result.SuccessfulAttackResult at 0x7f45a4578ac0>,\n",
              " <textattack.attack_results.successful_attack_result.SuccessfulAttackResult at 0x7f45a41d6130>,\n",
              " <textattack.attack_results.successful_attack_result.SuccessfulAttackResult at 0x7f45b3033f10>,\n",
              " <textattack.attack_results.failed_attack_result.FailedAttackResult at 0x7f45b6c1d550>,\n",
              " <textattack.attack_results.failed_attack_result.FailedAttackResult at 0x7f45b64b4d00>,\n",
              " <textattack.attack_results.successful_attack_result.SuccessfulAttackResult at 0x7f45a44af370>,\n",
              " <textattack.attack_results.skipped_attack_result.SkippedAttackResult at 0x7f45a44af5e0>,\n",
              " <textattack.attack_results.successful_attack_result.SuccessfulAttackResult at 0x7f45814aaac0>,\n",
              " <textattack.attack_results.successful_attack_result.SuccessfulAttackResult at 0x7f45b69b61c0>,\n",
              " <textattack.attack_results.failed_attack_result.FailedAttackResult at 0x7f45b6c1d580>,\n",
              " <textattack.attack_results.failed_attack_result.FailedAttackResult at 0x7f45e5dfe6d0>,\n",
              " <textattack.attack_results.successful_attack_result.SuccessfulAttackResult at 0x7f45b6a45b50>,\n",
              " <textattack.attack_results.successful_attack_result.SuccessfulAttackResult at 0x7f45b52983d0>,\n",
              " <textattack.attack_results.successful_attack_result.SuccessfulAttackResult at 0x7f45b3cf5730>,\n",
              " <textattack.attack_results.failed_attack_result.FailedAttackResult at 0x7f45b3c69340>,\n",
              " <textattack.attack_results.skipped_attack_result.SkippedAttackResult at 0x7f45b3c69a60>,\n",
              " <textattack.attack_results.successful_attack_result.SuccessfulAttackResult at 0x7f45b53d25b0>,\n",
              " <textattack.attack_results.successful_attack_result.SuccessfulAttackResult at 0x7f459efda730>,\n",
              " <textattack.attack_results.successful_attack_result.SuccessfulAttackResult at 0x7f45b71171f0>,\n",
              " <textattack.attack_results.successful_attack_result.SuccessfulAttackResult at 0x7f45b3155190>,\n",
              " <textattack.attack_results.successful_attack_result.SuccessfulAttackResult at 0x7f45b6a4a850>,\n",
              " <textattack.attack_results.successful_attack_result.SuccessfulAttackResult at 0x7f45b35761f0>,\n",
              " <textattack.attack_results.failed_attack_result.FailedAttackResult at 0x7f45b6a45e80>,\n",
              " <textattack.attack_results.successful_attack_result.SuccessfulAttackResult at 0x7f45b33237f0>,\n",
              " <textattack.attack_results.successful_attack_result.SuccessfulAttackResult at 0x7f45a3f3b9d0>,\n",
              " <textattack.attack_results.failed_attack_result.FailedAttackResult at 0x7f45b4897370>,\n",
              " <textattack.attack_results.successful_attack_result.SuccessfulAttackResult at 0x7f45cc10f400>,\n",
              " <textattack.attack_results.failed_attack_result.FailedAttackResult at 0x7f47828e0910>,\n",
              " <textattack.attack_results.failed_attack_result.FailedAttackResult at 0x7f45a36ceb50>,\n",
              " <textattack.attack_results.failed_attack_result.FailedAttackResult at 0x7f45e5e0a1f0>,\n",
              " <textattack.attack_results.failed_attack_result.FailedAttackResult at 0x7f45e5dfe550>,\n",
              " <textattack.attack_results.successful_attack_result.SuccessfulAttackResult at 0x7f45e5dfe700>,\n",
              " <textattack.attack_results.skipped_attack_result.SkippedAttackResult at 0x7f4780225160>,\n",
              " <textattack.attack_results.successful_attack_result.SuccessfulAttackResult at 0x7f45e5dea910>,\n",
              " <textattack.attack_results.successful_attack_result.SuccessfulAttackResult at 0x7f45cdab62e0>,\n",
              " <textattack.attack_results.successful_attack_result.SuccessfulAttackResult at 0x7f45b616e160>,\n",
              " <textattack.attack_results.successful_attack_result.SuccessfulAttackResult at 0x7f45a44af400>,\n",
              " <textattack.attack_results.successful_attack_result.SuccessfulAttackResult at 0x7f45a44af100>,\n",
              " <textattack.attack_results.skipped_attack_result.SkippedAttackResult at 0x7f45a44af3d0>,\n",
              " <textattack.attack_results.failed_attack_result.FailedAttackResult at 0x7f45b3155cd0>,\n",
              " <textattack.attack_results.failed_attack_result.FailedAttackResult at 0x7f45b6af9a00>,\n",
              " <textattack.attack_results.successful_attack_result.SuccessfulAttackResult at 0x7f45b07a7490>,\n",
              " <textattack.attack_results.successful_attack_result.SuccessfulAttackResult at 0x7f45cda248b0>,\n",
              " <textattack.attack_results.skipped_attack_result.SkippedAttackResult at 0x7f45cda24a90>,\n",
              " <textattack.attack_results.skipped_attack_result.SkippedAttackResult at 0x7f45cda24df0>,\n",
              " <textattack.attack_results.failed_attack_result.FailedAttackResult at 0x7f45e5dfe9a0>,\n",
              " <textattack.attack_results.successful_attack_result.SuccessfulAttackResult at 0x7f45cc8bde50>,\n",
              " <textattack.attack_results.failed_attack_result.FailedAttackResult at 0x7f45a2bfc520>,\n",
              " <textattack.attack_results.failed_attack_result.FailedAttackResult at 0x7f459b4b47f0>,\n",
              " <textattack.attack_results.failed_attack_result.FailedAttackResult at 0x7f45cda246d0>,\n",
              " <textattack.attack_results.failed_attack_result.FailedAttackResult at 0x7f45814aaa90>,\n",
              " <textattack.attack_results.failed_attack_result.FailedAttackResult at 0x7f45814aa2b0>,\n",
              " <textattack.attack_results.skipped_attack_result.SkippedAttackResult at 0x7f45cc8bd6d0>,\n",
              " <textattack.attack_results.failed_attack_result.FailedAttackResult at 0x7f45e59fb5b0>,\n",
              " <textattack.attack_results.successful_attack_result.SuccessfulAttackResult at 0x7f45cc8bd0a0>,\n",
              " <textattack.attack_results.successful_attack_result.SuccessfulAttackResult at 0x7f45b1b937f0>,\n",
              " <textattack.attack_results.failed_attack_result.FailedAttackResult at 0x7f45cda240d0>,\n",
              " <textattack.attack_results.successful_attack_result.SuccessfulAttackResult at 0x7f45d21acd00>,\n",
              " <textattack.attack_results.successful_attack_result.SuccessfulAttackResult at 0x7f45814aa220>,\n",
              " <textattack.attack_results.successful_attack_result.SuccessfulAttackResult at 0x7f45cc8bdd90>,\n",
              " <textattack.attack_results.failed_attack_result.FailedAttackResult at 0x7f45b6482e80>,\n",
              " <textattack.attack_results.failed_attack_result.FailedAttackResult at 0x7f45cda244c0>,\n",
              " <textattack.attack_results.successful_attack_result.SuccessfulAttackResult at 0x7f45b45a0340>,\n",
              " <textattack.attack_results.successful_attack_result.SuccessfulAttackResult at 0x7f45cda24c40>,\n",
              " <textattack.attack_results.failed_attack_result.FailedAttackResult at 0x7f45b6af9460>,\n",
              " <textattack.attack_results.successful_attack_result.SuccessfulAttackResult at 0x7f45cca2f310>,\n",
              " <textattack.attack_results.successful_attack_result.SuccessfulAttackResult at 0x7f459b4b4670>,\n",
              " <textattack.attack_results.successful_attack_result.SuccessfulAttackResult at 0x7f45a3cd4070>,\n",
              " <textattack.attack_results.successful_attack_result.SuccessfulAttackResult at 0x7f45b64b4880>,\n",
              " <textattack.attack_results.failed_attack_result.FailedAttackResult at 0x7f45b3323040>,\n",
              " <textattack.attack_results.successful_attack_result.SuccessfulAttackResult at 0x7f45b61a2cd0>,\n",
              " <textattack.attack_results.skipped_attack_result.SkippedAttackResult at 0x7f45b61a2ee0>,\n",
              " <textattack.attack_results.successful_attack_result.SuccessfulAttackResult at 0x7f45b61a2e80>,\n",
              " <textattack.attack_results.successful_attack_result.SuccessfulAttackResult at 0x7f45b07a7100>,\n",
              " <textattack.attack_results.successful_attack_result.SuccessfulAttackResult at 0x7f45a3bc7c40>,\n",
              " <textattack.attack_results.successful_attack_result.SuccessfulAttackResult at 0x7f45b61a2730>,\n",
              " <textattack.attack_results.successful_attack_result.SuccessfulAttackResult at 0x7f45cce2ad60>,\n",
              " <textattack.attack_results.successful_attack_result.SuccessfulAttackResult at 0x7f45b45a7280>,\n",
              " <textattack.attack_results.successful_attack_result.SuccessfulAttackResult at 0x7f45b6a45d30>,\n",
              " <textattack.attack_results.successful_attack_result.SuccessfulAttackResult at 0x7f45e59fbd60>,\n",
              " <textattack.attack_results.failed_attack_result.FailedAttackResult at 0x7f45ccb0deb0>,\n",
              " <textattack.attack_results.failed_attack_result.FailedAttackResult at 0x7f45a45785e0>,\n",
              " <textattack.attack_results.failed_attack_result.FailedAttackResult at 0x7f45b61a2e20>,\n",
              " <textattack.attack_results.successful_attack_result.SuccessfulAttackResult at 0x7f45b07a7910>,\n",
              " <textattack.attack_results.failed_attack_result.FailedAttackResult at 0x7f45b45a0cd0>,\n",
              " <textattack.attack_results.failed_attack_result.FailedAttackResult at 0x7f45e5e0aac0>,\n",
              " <textattack.attack_results.skipped_attack_result.SkippedAttackResult at 0x7f4782803400>,\n",
              " <textattack.attack_results.skipped_attack_result.SkippedAttackResult at 0x7f45cce2a4f0>,\n",
              " <textattack.attack_results.successful_attack_result.SuccessfulAttackResult at 0x7f45cce2a130>,\n",
              " <textattack.attack_results.successful_attack_result.SuccessfulAttackResult at 0x7f45e5a578b0>,\n",
              " <textattack.attack_results.successful_attack_result.SuccessfulAttackResult at 0x7f45cc8bd850>,\n",
              " <textattack.attack_results.failed_attack_result.FailedAttackResult at 0x7f45cddbceb0>,\n",
              " <textattack.attack_results.failed_attack_result.FailedAttackResult at 0x7f45b45a0910>,\n",
              " <textattack.attack_results.failed_attack_result.FailedAttackResult at 0x7f459b4b4dc0>,\n",
              " <textattack.attack_results.successful_attack_result.SuccessfulAttackResult at 0x7f45b7117160>,\n",
              " <textattack.attack_results.successful_attack_result.SuccessfulAttackResult at 0x7f45cda241f0>,\n",
              " <textattack.attack_results.successful_attack_result.SuccessfulAttackResult at 0x7f45a3420dc0>,\n",
              " <textattack.attack_results.successful_attack_result.SuccessfulAttackResult at 0x7f45e5f818b0>,\n",
              " <textattack.attack_results.failed_attack_result.FailedAttackResult at 0x7f45cce2a460>,\n",
              " <textattack.attack_results.failed_attack_result.FailedAttackResult at 0x7f45cc8bd1c0>,\n",
              " <textattack.attack_results.successful_attack_result.SuccessfulAttackResult at 0x7f459b4b4850>,\n",
              " <textattack.attack_results.successful_attack_result.SuccessfulAttackResult at 0x7f45b2a82130>,\n",
              " <textattack.attack_results.successful_attack_result.SuccessfulAttackResult at 0x7f45cda24f40>,\n",
              " <textattack.attack_results.successful_attack_result.SuccessfulAttackResult at 0x7f45b61a2f10>,\n",
              " <textattack.attack_results.successful_attack_result.SuccessfulAttackResult at 0x7f459b4b49d0>,\n",
              " <textattack.attack_results.successful_attack_result.SuccessfulAttackResult at 0x7f45a4578430>,\n",
              " <textattack.attack_results.successful_attack_result.SuccessfulAttackResult at 0x7f45cda244f0>,\n",
              " <textattack.attack_results.successful_attack_result.SuccessfulAttackResult at 0x7f45a4578e50>,\n",
              " <textattack.attack_results.failed_attack_result.FailedAttackResult at 0x7f45cc8bddf0>,\n",
              " <textattack.attack_results.failed_attack_result.FailedAttackResult at 0x7f45b6c1d7c0>,\n",
              " <textattack.attack_results.successful_attack_result.SuccessfulAttackResult at 0x7f458fb22ee0>,\n",
              " <textattack.attack_results.failed_attack_result.FailedAttackResult at 0x7f45b7a285b0>,\n",
              " <textattack.attack_results.failed_attack_result.FailedAttackResult at 0x7f45a34201f0>,\n",
              " <textattack.attack_results.successful_attack_result.SuccessfulAttackResult at 0x7f45b61a2640>,\n",
              " <textattack.attack_results.failed_attack_result.FailedAttackResult at 0x7f45e59fb430>,\n",
              " <textattack.attack_results.skipped_attack_result.SkippedAttackResult at 0x7f45e59fb280>,\n",
              " <textattack.attack_results.successful_attack_result.SuccessfulAttackResult at 0x7f45b77211c0>,\n",
              " <textattack.attack_results.successful_attack_result.SuccessfulAttackResult at 0x7f45e5f811c0>,\n",
              " <textattack.attack_results.failed_attack_result.FailedAttackResult at 0x7f45b6fdbfa0>,\n",
              " <textattack.attack_results.successful_attack_result.SuccessfulAttackResult at 0x7f45b61a2a60>,\n",
              " <textattack.attack_results.skipped_attack_result.SkippedAttackResult at 0x7f45b61a2a00>,\n",
              " <textattack.attack_results.successful_attack_result.SuccessfulAttackResult at 0x7f45cca2f250>,\n",
              " <textattack.attack_results.failed_attack_result.FailedAttackResult at 0x7f45e59fb730>,\n",
              " <textattack.attack_results.failed_attack_result.FailedAttackResult at 0x7f45b6a45a30>,\n",
              " <textattack.attack_results.failed_attack_result.FailedAttackResult at 0x7f45b07a7ca0>,\n",
              " <textattack.attack_results.failed_attack_result.FailedAttackResult at 0x7f45b6fdb820>,\n",
              " <textattack.attack_results.failed_attack_result.FailedAttackResult at 0x7f45b1a4a730>,\n",
              " <textattack.attack_results.successful_attack_result.SuccessfulAttackResult at 0x7f45cca2f6d0>,\n",
              " <textattack.attack_results.skipped_attack_result.SkippedAttackResult at 0x7f45cca2fca0>,\n",
              " <textattack.attack_results.failed_attack_result.FailedAttackResult at 0x7f45b7117ac0>,\n",
              " <textattack.attack_results.failed_attack_result.FailedAttackResult at 0x7f45a41daeb0>,\n",
              " <textattack.attack_results.failed_attack_result.FailedAttackResult at 0x7f45b5cf2df0>]"
            ]
          },
          "execution_count": 15,
          "metadata": {},
          "output_type": "execute_result"
        }
      ],
      "source": [
        "# Attack 100 samples with CSV logging and checkpoint saved every 5 interval\n",
        "attack_args = textattack.AttackArgs(\n",
        "    num_examples=200,\n",
        "    log_to_csv=\"<masking>_words_30.csv\",\n",
        "    checkpoint_interval=5,\n",
        "    checkpoint_dir=\"checkpoints\",\n",
        "    disable_stdout=True\n",
        ")\n",
        "\n",
        "attacker = textattack.Attacker(attack, dataset, attack_args)\n",
        "attacker.attack_dataset()"
      ]
    },
    {
      "cell_type": "markdown",
      "metadata": {
        "id": "NfGLRsTWlNn9"
      },
      "source": [
        "#### Word replacing with tfidf (importance_dict)"
      ]
    },
    {
      "cell_type": "code",
      "execution_count": null,
      "metadata": {
        "id": "IBGTHRzCgNkP"
      },
      "outputs": [],
      "source": [
        "torch.cuda.empty_cache()\n",
        "\n",
        "# HuggingFaceModelWrapper\n",
        "class MyWrapperImportanceBasedMask(PyTorchModelWrapper):\n",
        "    \"\"\"Loads a HuggingFace ``transformers`` model and tokenizer.\"\"\"\n",
        "\n",
        "    def __init__(self, model, tokenizer, importance_dict):\n",
        "        assert isinstance(\n",
        "            model, (transformers.PreTrainedModel, T5ForTextToText)\n",
        "        ), f\"`model` must be of type `transformers.PreTrainedModel`, but got type {type(model)}.\"\n",
        "        assert isinstance(\n",
        "            tokenizer,\n",
        "            (\n",
        "                transformers.PreTrainedTokenizer,\n",
        "                transformers.PreTrainedTokenizerFast,\n",
        "                T5Tokenizer,\n",
        "            ),\n",
        "        ), f\"`tokenizer` must of type `transformers.PreTrainedTokenizer` or `transformers.PreTrainedTokenizerFast`, but got type {type(tokenizer)}.\"\n",
        "\n",
        "        self.model = model\n",
        "        self.tokenizer = tokenizer\n",
        "        self.importance_dict = importance_dict\n",
        "\n",
        "    def __call__(self, text_input_list):\n",
        "        \"\"\"Passes inputs to HuggingFace models as keyword arguments.\n",
        "        (Regular PyTorch ``nn.Module`` models typically take inputs as\n",
        "        positional arguments.)\n",
        "        \"\"\"\n",
        "\n",
        "        \"\"\"\n",
        "        Option 1 Put preprocessing function for text_input_list before tokenizing\n",
        "        \"\"\"\n",
        "#############################       \n",
        "        percent_to_mask = 30\n",
        "        for i in range(len(text_input_list)):\n",
        "            # truncate n% of words using tfidf\n",
        "            words = text_input_list[i].split()\n",
        "\n",
        "            # Sort the words in descending order of importance\n",
        "            sorted_words = sorted(words, key=lambda w: self.importance_dict.get(w, 0), reverse=True)\n",
        "\n",
        "            # Replace the n most important words with \"<mask>\"\n",
        "            n_words_to_mask = int(len(sorted_words) * (int(percent_to_mask) / 100))\n",
        "            masked_words = [\"<mask>\" if w in sorted_words[:n_words_to_mask] else w for w in words]\n",
        "\n",
        "            # Join the remaining words back into a sentence\n",
        "            remaining_sentence = \" \".join(masked_words)\n",
        "\n",
        "            text_input_list[i] = remaining_sentence\n",
        "#############################\n",
        "\n",
        "        # Default max length is set to be int(1e30), so we force 512 to enable batching.\n",
        "        max_length = (\n",
        "            512\n",
        "            if self.tokenizer.model_max_length == int(1e30)\n",
        "            else self.tokenizer.model_max_length\n",
        "        )\n",
        "        inputs_dict = self.tokenizer(\n",
        "            text_input_list,\n",
        "            add_special_tokens=True,\n",
        "            padding=\"max_length\",\n",
        "            max_length=max_length,\n",
        "            truncation=True,\n",
        "            return_tensors=\"pt\",\n",
        "        )\n",
        "\n",
        "        model_device = next(self.model.parameters()).device\n",
        "        inputs_dict.to(model_device)\n",
        "\n",
        "        with torch.no_grad():\n",
        "            outputs = self.model(**inputs_dict)\n",
        "\n",
        "        if isinstance(outputs[0], str):\n",
        "            # HuggingFace sequence-to-sequence models return a list of\n",
        "            # string predictions as output. In this case, return the full\n",
        "            # list of outputs.\n",
        "            return outputs\n",
        "        else:\n",
        "            # HuggingFace classification models return a tuple as output\n",
        "            # where the first item in the tuple corresponds to the list of\n",
        "            # scores for each input.\n",
        "            return outputs.logits\n",
        "\n",
        "    def get_grad(self, text_input):\n",
        "        \"\"\"Get gradient of loss with respect to input tokens.\n",
        "        Args:\n",
        "            text_input (str): input string\n",
        "        Returns:\n",
        "            Dict of ids, tokens, and gradient as numpy array.\n",
        "        \"\"\"\n",
        "        if isinstance(self.model, textattack.models.helpers.T5ForTextToText):\n",
        "            raise NotImplementedError(\n",
        "                \"`get_grads` for T5FotTextToText has not been implemented yet.\"\n",
        "            )\n",
        "\n",
        "        self.model.train()\n",
        "        embedding_layer = self.model.get_input_embeddings()\n",
        "        original_state = embedding_layer.weight.requires_grad\n",
        "        embedding_layer.weight.requires_grad = True\n",
        "\n",
        "        emb_grads = []\n",
        "\n",
        "        def grad_hook(module, grad_in, grad_out):\n",
        "            emb_grads.append(grad_out[0])\n",
        "\n",
        "        emb_hook = embedding_layer.register_backward_hook(grad_hook)\n",
        "\n",
        "        self.model.zero_grad()\n",
        "        model_device = next(self.model.parameters()).device\n",
        "        input_dict = self.tokenizer(\n",
        "            [text_input],\n",
        "            add_special_tokens=True,\n",
        "            return_tensors=\"pt\",\n",
        "            padding=\"max_length\",\n",
        "            truncation=True,\n",
        "        )\n",
        "        input_dict.to(model_device)\n",
        "        predictions = self.model(**input_dict).logits\n",
        "\n",
        "        try:\n",
        "            labels = predictions.argmax(dim=1)\n",
        "            loss = self.model(**input_dict, labels=labels)[0]\n",
        "        except TypeError:\n",
        "            raise TypeError(\n",
        "                f\"{type(self.model)} class does not take in `labels` to calculate loss. \"\n",
        "                \"One cause for this might be if you instantiatedyour model using `transformer.AutoModel` \"\n",
        "                \"(instead of `transformers.AutoModelForSequenceClassification`).\"\n",
        "            )\n",
        "\n",
        "        loss.backward()\n",
        "\n",
        "        # grad w.r.t to word embeddings\n",
        "        grad = emb_grads[0][0].cpu().numpy()\n",
        "\n",
        "        embedding_layer.weight.requires_grad = original_state\n",
        "        emb_hook.remove()\n",
        "        self.model.eval()\n",
        "\n",
        "        output = {\"ids\": input_dict[\"input_ids\"], \"gradient\": grad}\n",
        "\n",
        "        return output\n",
        "\n",
        "    def _tokenize(self, inputs):\n",
        "        \"\"\"Helper method that for `tokenize`\n",
        "        Args:\n",
        "            inputs (list[str]): list of input strings\n",
        "        Returns:\n",
        "            tokens (list[list[str]]): List of list of tokens as strings\n",
        "        \"\"\"\n",
        "        return [\n",
        "            self.tokenizer.convert_ids_to_tokens(\n",
        "                self.tokenizer([x], truncation=True)[\"input_ids\"][0]\n",
        "            )\n",
        "            for x in inputs\n",
        "        ]"
      ]
    },
    {
      "cell_type": "code",
      "execution_count": null,
      "metadata": {
        "id": "WBk-0cHEitzO"
      },
      "outputs": [],
      "source": [
        "# IMPROVE THIS\n",
        "# tfidf for words\n",
        "# maybe implement removing stop words from the corpus and maybe implement lemmatization?\n",
        "from collections import Counter\n",
        "from nltk.stem import WordNetLemmatizer\n",
        "\n",
        "def tfidf_vocab(sentences):\n",
        "    # lemmatizer = WordNetLemmatizer()\n",
        "\n",
        "    # Step 1: Calculate the term frequency (TF) for each word in each sentence\n",
        "    tf_dict = {}\n",
        "    sentence_count = len(sentences)\n",
        "    for i, sentence in enumerate(sentences):\n",
        "        words = sentence.split()\n",
        "        word_count = len(words)\n",
        "        word_freq = Counter(words)\n",
        "        for word in word_freq:\n",
        "            tf = word_freq[word] / word_count\n",
        "            if word in tf_dict:\n",
        "                if i in tf_dict[word]:\n",
        "                    tf_dict[word][i] += tf\n",
        "                else:\n",
        "                    tf_dict[word][i] = tf\n",
        "            else:\n",
        "                tf_dict[word] = {i: tf}\n",
        "    \n",
        "    # Step 2: Calculate the inverse document frequency (IDF) for each word\n",
        "    idf_dict = {}\n",
        "    for word in tf_dict:\n",
        "        idf_dict[word] = math.log(sentence_count / len(tf_dict[word]))\n",
        "    \n",
        "    # Step 3: Calculate the TF-IDF score for each word in each sentence\n",
        "    tfidf_dict = {}\n",
        "    for word in tf_dict:\n",
        "        for sentence_index in tf_dict[word]:\n",
        "            tf = tf_dict[word][sentence_index]\n",
        "            idf = idf_dict[word]\n",
        "            tfidf = tf * idf\n",
        "            if sentence_index in tfidf_dict:\n",
        "                tfidf_dict[sentence_index][word] = tfidf\n",
        "            else:\n",
        "                tfidf_dict[sentence_index] = {word: tfidf}\n",
        "    \n",
        "    # Step 4: Sum up TF-IDF scores for each unique word\n",
        "    tfidf_corpus = {}\n",
        "    for i in range(len(tfidf_dict)):\n",
        "        for word in tfidf_dict[i]:\n",
        "            if word in tfidf_corpus:\n",
        "                tfidf_corpus[word] += tfidf_dict[i][word]\n",
        "            else:\n",
        "                tfidf_corpus[word] = tfidf_dict[i][word]\n",
        " \n",
        "    return tfidf_corpus"
      ]
    },
    {
      "cell_type": "code",
      "execution_count": null,
      "metadata": {
        "id": "tS8F93BCi8Vc"
      },
      "outputs": [],
      "source": [
        "tfidf_corpus = tfidf_vocab(train['text'])"
      ]
    },
    {
      "cell_type": "code",
      "execution_count": null,
      "metadata": {
        "id": "DYTLg1rAYtCb"
      },
      "outputs": [],
      "source": [
        "# remove stop words from the important word corpus\n",
        "# more like stop words and words that probably won't be perturbed but are important (?)\n",
        "def remove_stop_words(word_importance_dict):\n",
        "    # add more \n",
        "    stop_words = [\"the\", \"a\", \"an\", \"and\", \"in\", \"on\", \"at\", \"to\", \"of\", \"are\", \"is\", \"am\", \"were\"]\n",
        "    # Create a new dictionary that excludes the stop words\n",
        "    return {k: v for k, v in word_importance_dict.items() if k not in stop_words}\n",
        "\n",
        "tfidf_corpus = remove_stop_words(tfidf_corpus)"
      ]
    },
    {
      "cell_type": "code",
      "execution_count": null,
      "metadata": {
        "colab": {
          "base_uri": "https://localhost:8080/",
          "height": 1000,
          "referenced_widgets": [
            "7fb9981f1ec040c28106bf0b409e8ceb",
            "e6670ff69f0f47eea8962170aa07380f",
            "7a94b8f0ac3649d7affee9b2661f9a38",
            "ce3e72ec3bc34d54a9c50d6661a2405c",
            "ffcaf934003e4994a7809474f351567e",
            "08513640aceb40fea8519cdd657d2bfd",
            "04ee1e81c42e42ae958f2bdd50f18884",
            "a2afd618802448bdb62a2ab0fe3b96f5",
            "fbed7e77f5f24d139f097a2df16577ba",
            "93902de0ebe1482c98f4dcbbbdb71972",
            "ff661a0fc054417ea5626f3efff3cbb4"
          ]
        },
        "id": "kr50cwaekN22",
        "outputId": "b1850bd0-4737-4160-ba22-86cb47bb931b"
      },
      "outputs": [
        {
          "name": "stderr",
          "output_type": "stream",
          "text": [
            "Some weights of the model checkpoint at textattack/roberta-base-ag-news were not used when initializing RobertaForSequenceClassification: ['roberta.pooler.dense.weight', 'roberta.pooler.dense.bias']\n",
            "- This IS expected if you are initializing RobertaForSequenceClassification from the checkpoint of a model trained on another task or with another architecture (e.g. initializing a BertForSequenceClassification model from a BertForPreTraining model).\n",
            "- This IS NOT expected if you are initializing RobertaForSequenceClassification from the checkpoint of a model that you expect to be exactly identical (initializing a BertForSequenceClassification model from a BertForSequenceClassification model).\n",
            "textattack: Unknown if model of class <class 'transformers.models.roberta.modeling_roberta.RobertaForSequenceClassification'> compatible with goal function <class 'textattack.goal_functions.classification.untargeted_classification.UntargetedClassification'>.\n",
            "WARNING:datasets.builder:Using custom data configuration default\n",
            "WARNING:datasets.builder:Reusing dataset ag_news (/root/.cache/huggingface/datasets/ag_news/default/0.0.0/bc2bcb40336ace1a0374767fc29bb0296cdaf8a6da7298436239c54d79180548)\n"
          ]
        },
        {
          "data": {
            "application/vnd.jupyter.widget-view+json": {
              "model_id": "7fb9981f1ec040c28106bf0b409e8ceb",
              "version_major": 2,
              "version_minor": 0
            },
            "text/plain": [
              "  0%|          | 0/2 [00:00<?, ?it/s]"
            ]
          },
          "metadata": {},
          "output_type": "display_data"
        },
        {
          "name": "stderr",
          "output_type": "stream",
          "text": [
            "textattack: Loading \u001b[94mdatasets\u001b[0m dataset \u001b[94mag_news\u001b[0m, split \u001b[94mtest\u001b[0m.\n",
            "textattack: Logging to CSV at path tfidf_30_<mask>.csv\n"
          ]
        },
        {
          "name": "stdout",
          "output_type": "stream",
          "text": [
            "Attack(\n",
            "  (search_method): GreedyWordSwapWIR(\n",
            "    (wir_method):  delete\n",
            "  )\n",
            "  (goal_function):  UntargetedClassification\n",
            "  (transformation):  WordSwapEmbedding(\n",
            "    (max_candidates):  50\n",
            "    (embedding):  WordEmbedding\n",
            "  )\n",
            "  (constraints): \n",
            "    (0): WordEmbeddingDistance(\n",
            "        (embedding):  WordEmbedding\n",
            "        (min_cos_sim):  0.5\n",
            "        (cased):  False\n",
            "        (include_unknown_words):  True\n",
            "        (compare_against_original):  True\n",
            "      )\n",
            "    (1): PartOfSpeech(\n",
            "        (tagger_type):  nltk\n",
            "        (tagset):  universal\n",
            "        (allow_verb_noun_swap):  True\n",
            "        (compare_against_original):  True\n",
            "      )\n",
            "    (2): UniversalSentenceEncoder(\n",
            "        (metric):  angular\n",
            "        (threshold):  0.840845057\n",
            "        (window_size):  15\n",
            "        (skip_text_shorter_than_window):  True\n",
            "        (compare_against_original):  False\n",
            "      )\n",
            "    (3): RepeatModification\n",
            "    (4): StopwordModification\n",
            "    (5): InputColumnModification(\n",
            "        (matching_column_labels):  ['premise', 'hypothesis']\n",
            "        (columns_to_ignore):  {'premise'}\n",
            "      )\n",
            "  (is_black_box):  True\n",
            ") \n",
            "\n"
          ]
        },
        {
          "name": "stderr",
          "output_type": "stream",
          "text": [
            "[Succeeded / Failed / Skipped / Total] 4 / 1 / 0 / 5:   2%|▎         | 5/200 [00:45<29:53,  9.20s/it]textattack: Saving checkpoint under \"checkpoints/1678855854448.ta.chkpt\" at 2023-03-15 04:50:54 after 5 attacks.\n"
          ]
        },
        {
          "name": "stdout",
          "output_type": "stream",
          "text": [
            "\n",
            "\n",
            "=============================================================================================================================\n",
            "=============================================================================================================================\n",
            "\n"
          ]
        },
        {
          "name": "stderr",
          "output_type": "stream",
          "text": [
            "[Succeeded / Failed / Skipped / Total] 7 / 3 / 0 / 10:   5%|▌         | 10/200 [02:28<46:57, 14.83s/it]textattack: Saving checkpoint under \"checkpoints/1678855956763.ta.chkpt\" at 2023-03-15 04:52:36 after 10 attacks.\n"
          ]
        },
        {
          "name": "stdout",
          "output_type": "stream",
          "text": [
            "\n",
            "\n",
            "=============================================================================================================================\n",
            "=============================================================================================================================\n",
            "\n"
          ]
        },
        {
          "name": "stderr",
          "output_type": "stream",
          "text": [
            "[Succeeded / Failed / Skipped / Total] 10 / 5 / 0 / 15:   8%|▊         | 15/200 [03:37<44:39, 14.48s/it]textattack: Saving checkpoint under \"checkpoints/1678856025728.ta.chkpt\" at 2023-03-15 04:53:45 after 15 attacks.\n"
          ]
        },
        {
          "name": "stdout",
          "output_type": "stream",
          "text": [
            "\n",
            "\n",
            "=============================================================================================================================\n",
            "=============================================================================================================================\n",
            "\n"
          ]
        },
        {
          "name": "stderr",
          "output_type": "stream",
          "text": [
            "[Succeeded / Failed / Skipped / Total] 15 / 5 / 0 / 20:  10%|█         | 20/200 [04:19<38:58, 12.99s/it]textattack: Saving checkpoint under \"checkpoints/1678856068345.ta.chkpt\" at 2023-03-15 04:54:28 after 20 attacks.\n",
            "[Succeeded / Failed / Skipped / Total] 15 / 5 / 1 / 21:  10%|█         | 21/200 [04:19<36:55, 12.38s/it]"
          ]
        },
        {
          "name": "stdout",
          "output_type": "stream",
          "text": [
            "\n",
            "\n",
            "=============================================================================================================================\n",
            "=============================================================================================================================\n",
            "\n"
          ]
        },
        {
          "name": "stderr",
          "output_type": "stream",
          "text": [
            "[Succeeded / Failed / Skipped / Total] 17 / 5 / 3 / 25:  12%|█▎        | 25/200 [04:26<31:05, 10.66s/it]textattack: Saving checkpoint under \"checkpoints/1678856075023.ta.chkpt\" at 2023-03-15 04:54:35 after 25 attacks.\n"
          ]
        },
        {
          "name": "stdout",
          "output_type": "stream",
          "text": [
            "\n",
            "\n",
            "=============================================================================================================================\n",
            "=============================================================================================================================\n",
            "\n"
          ]
        },
        {
          "name": "stderr",
          "output_type": "stream",
          "text": [
            "[Succeeded / Failed / Skipped / Total] 21 / 6 / 3 / 30:  15%|█▌        | 30/200 [05:29<31:04, 10.97s/it]textattack: Saving checkpoint under \"checkpoints/1678856137530.ta.chkpt\" at 2023-03-15 04:55:37 after 30 attacks.\n"
          ]
        },
        {
          "name": "stdout",
          "output_type": "stream",
          "text": [
            "\n",
            "\n",
            "=============================================================================================================================\n",
            "=============================================================================================================================\n",
            "\n"
          ]
        },
        {
          "name": "stderr",
          "output_type": "stream",
          "text": [
            "[Succeeded / Failed / Skipped / Total] 26 / 6 / 3 / 35:  18%|█▊        | 35/200 [06:21<29:57, 10.89s/it]textattack: Saving checkpoint under \"checkpoints/1678856189765.ta.chkpt\" at 2023-03-15 04:56:29 after 35 attacks.\n"
          ]
        },
        {
          "name": "stdout",
          "output_type": "stream",
          "text": [
            "\n",
            "\n",
            "=============================================================================================================================\n",
            "=============================================================================================================================\n",
            "\n"
          ]
        },
        {
          "name": "stderr",
          "output_type": "stream",
          "text": [
            "[Succeeded / Failed / Skipped / Total] 30 / 6 / 4 / 40:  20%|██        | 40/200 [07:06<28:26, 10.67s/it]textattack: Saving checkpoint under \"checkpoints/1678856235170.ta.chkpt\" at 2023-03-15 04:57:15 after 40 attacks.\n"
          ]
        },
        {
          "name": "stdout",
          "output_type": "stream",
          "text": [
            "\n",
            "\n",
            "=============================================================================================================================\n",
            "=============================================================================================================================\n",
            "\n"
          ]
        },
        {
          "name": "stderr",
          "output_type": "stream",
          "text": [
            "[Succeeded / Failed / Skipped / Total] 35 / 6 / 4 / 45:  22%|██▎       | 45/200 [08:04<27:50, 10.78s/it]textattack: Saving checkpoint under \"checkpoints/1678856293366.ta.chkpt\" at 2023-03-15 04:58:13 after 45 attacks.\n"
          ]
        },
        {
          "name": "stdout",
          "output_type": "stream",
          "text": [
            "\n",
            "\n",
            "=============================================================================================================================\n",
            "=============================================================================================================================\n",
            "\n"
          ]
        },
        {
          "name": "stderr",
          "output_type": "stream",
          "text": [
            "[Succeeded / Failed / Skipped / Total] 40 / 6 / 4 / 50:  25%|██▌       | 50/200 [08:36<25:49, 10.33s/it]textattack: Saving checkpoint under \"checkpoints/1678856325119.ta.chkpt\" at 2023-03-15 04:58:45 after 50 attacks.\n"
          ]
        },
        {
          "name": "stdout",
          "output_type": "stream",
          "text": [
            "\n",
            "\n",
            "=============================================================================================================================\n",
            "=============================================================================================================================\n",
            "\n"
          ]
        },
        {
          "name": "stderr",
          "output_type": "stream",
          "text": [
            "[Succeeded / Failed / Skipped / Total] 45 / 6 / 4 / 55:  28%|██▊       | 55/200 [09:09<24:07,  9.98s/it]textattack: Saving checkpoint under \"checkpoints/1678856357531.ta.chkpt\" at 2023-03-15 04:59:17 after 55 attacks.\n"
          ]
        },
        {
          "name": "stdout",
          "output_type": "stream",
          "text": [
            "\n",
            "\n",
            "=============================================================================================================================\n",
            "=============================================================================================================================\n",
            "\n"
          ]
        },
        {
          "name": "stderr",
          "output_type": "stream",
          "text": [
            "[Succeeded / Failed / Skipped / Total] 47 / 8 / 5 / 60:  30%|███       | 60/200 [09:57<23:15,  9.96s/it]textattack: Saving checkpoint under \"checkpoints/1678856406324.ta.chkpt\" at 2023-03-15 05:00:06 after 60 attacks.\n"
          ]
        },
        {
          "name": "stdout",
          "output_type": "stream",
          "text": [
            "\n",
            "\n",
            "=============================================================================================================================\n",
            "=============================================================================================================================\n",
            "\n"
          ]
        },
        {
          "name": "stderr",
          "output_type": "stream",
          "text": [
            "[Succeeded / Failed / Skipped / Total] 51 / 9 / 5 / 65:  32%|███▎      | 65/200 [10:43<22:16,  9.90s/it]textattack: Saving checkpoint under \"checkpoints/1678856452065.ta.chkpt\" at 2023-03-15 05:00:52 after 65 attacks.\n"
          ]
        },
        {
          "name": "stdout",
          "output_type": "stream",
          "text": [
            "\n",
            "\n",
            "=============================================================================================================================\n",
            "=============================================================================================================================\n",
            "\n"
          ]
        },
        {
          "name": "stderr",
          "output_type": "stream",
          "text": [
            "[Succeeded / Failed / Skipped / Total] 55 / 10 / 5 / 70:  35%|███▌      | 70/200 [11:34<21:30,  9.93s/it]textattack: Saving checkpoint under \"checkpoints/1678856503438.ta.chkpt\" at 2023-03-15 05:01:43 after 70 attacks.\n"
          ]
        },
        {
          "name": "stdout",
          "output_type": "stream",
          "text": [
            "\n",
            "\n",
            "=============================================================================================================================\n",
            "=============================================================================================================================\n",
            "\n"
          ]
        },
        {
          "name": "stderr",
          "output_type": "stream",
          "text": [
            "[Succeeded / Failed / Skipped / Total] 58 / 12 / 5 / 75:  38%|███▊      | 75/200 [12:34<20:57, 10.06s/it]textattack: Saving checkpoint under \"checkpoints/1678856562791.ta.chkpt\" at 2023-03-15 05:02:42 after 75 attacks.\n"
          ]
        },
        {
          "name": "stdout",
          "output_type": "stream",
          "text": [
            "\n",
            "\n",
            "=============================================================================================================================\n",
            "=============================================================================================================================\n",
            "\n"
          ]
        },
        {
          "name": "stderr",
          "output_type": "stream",
          "text": [
            "[Succeeded / Failed / Skipped / Total] 62 / 13 / 5 / 80:  40%|████      | 80/200 [13:13<19:49,  9.92s/it]textattack: Saving checkpoint under \"checkpoints/1678856601720.ta.chkpt\" at 2023-03-15 05:03:21 after 80 attacks.\n"
          ]
        },
        {
          "name": "stdout",
          "output_type": "stream",
          "text": [
            "\n",
            "\n",
            "=============================================================================================================================\n",
            "=============================================================================================================================\n",
            "\n"
          ]
        },
        {
          "name": "stderr",
          "output_type": "stream",
          "text": [
            "[Succeeded / Failed / Skipped / Total] 66 / 13 / 6 / 85:  42%|████▎     | 85/200 [13:32<18:19,  9.56s/it]textattack: Saving checkpoint under \"checkpoints/1678856621228.ta.chkpt\" at 2023-03-15 05:03:41 after 85 attacks.\n"
          ]
        },
        {
          "name": "stdout",
          "output_type": "stream",
          "text": [
            "\n",
            "\n",
            "=============================================================================================================================\n",
            "=============================================================================================================================\n",
            "\n"
          ]
        },
        {
          "name": "stderr",
          "output_type": "stream",
          "text": [
            "[Succeeded / Failed / Skipped / Total] 70 / 14 / 6 / 90:  45%|████▌     | 90/200 [14:45<18:02,  9.84s/it]textattack: Saving checkpoint under \"checkpoints/1678856694152.ta.chkpt\" at 2023-03-15 05:04:54 after 90 attacks.\n"
          ]
        },
        {
          "name": "stdout",
          "output_type": "stream",
          "text": [
            "\n",
            "\n",
            "=============================================================================================================================\n",
            "=============================================================================================================================\n",
            "\n"
          ]
        },
        {
          "name": "stderr",
          "output_type": "stream",
          "text": [
            "[Succeeded / Failed / Skipped / Total] 75 / 14 / 6 / 95:  48%|████▊     | 95/200 [15:22<16:59,  9.71s/it]textattack: Saving checkpoint under \"checkpoints/1678856730731.ta.chkpt\" at 2023-03-15 05:05:30 after 95 attacks.\n"
          ]
        },
        {
          "name": "stdout",
          "output_type": "stream",
          "text": [
            "\n",
            "\n",
            "=============================================================================================================================\n",
            "=============================================================================================================================\n",
            "\n"
          ]
        },
        {
          "name": "stderr",
          "output_type": "stream",
          "text": [
            "[Succeeded / Failed / Skipped / Total] 79 / 15 / 6 / 100:  50%|█████     | 100/200 [16:42<16:42, 10.03s/it]textattack: Saving checkpoint under \"checkpoints/1678856811081.ta.chkpt\" at 2023-03-15 05:06:51 after 100 attacks.\n"
          ]
        },
        {
          "name": "stdout",
          "output_type": "stream",
          "text": [
            "\n",
            "\n",
            "=============================================================================================================================\n",
            "=============================================================================================================================\n",
            "\n"
          ]
        },
        {
          "name": "stderr",
          "output_type": "stream",
          "text": [
            "[Succeeded / Failed / Skipped / Total] 83 / 15 / 7 / 105:  52%|█████▎    | 105/200 [17:02<15:24,  9.74s/it]textattack: Saving checkpoint under \"checkpoints/1678856830799.ta.chkpt\" at 2023-03-15 05:07:10 after 105 attacks.\n"
          ]
        },
        {
          "name": "stdout",
          "output_type": "stream",
          "text": [
            "\n",
            "\n",
            "=============================================================================================================================\n",
            "=============================================================================================================================\n",
            "\n"
          ]
        },
        {
          "name": "stderr",
          "output_type": "stream",
          "text": [
            "[Succeeded / Failed / Skipped / Total] 88 / 15 / 7 / 110:  55%|█████▌    | 110/200 [17:36<14:24,  9.60s/it]textattack: Saving checkpoint under \"checkpoints/1678856864536.ta.chkpt\" at 2023-03-15 05:07:44 after 110 attacks.\n",
            "[Succeeded / Failed / Skipped / Total] 88 / 15 / 9 / 112:  56%|█████▌    | 112/200 [17:36<13:49,  9.43s/it]"
          ]
        },
        {
          "name": "stdout",
          "output_type": "stream",
          "text": [
            "\n",
            "\n",
            "=============================================================================================================================\n",
            "=============================================================================================================================\n",
            "\n"
          ]
        },
        {
          "name": "stderr",
          "output_type": "stream",
          "text": [
            "[Succeeded / Failed / Skipped / Total] 89 / 17 / 9 / 115:  57%|█████▊    | 115/200 [18:17<13:30,  9.54s/it]textattack: Saving checkpoint under \"checkpoints/1678856905572.ta.chkpt\" at 2023-03-15 05:08:25 after 115 attacks.\n"
          ]
        },
        {
          "name": "stdout",
          "output_type": "stream",
          "text": [
            "\n",
            "\n",
            "=============================================================================================================================\n",
            "=============================================================================================================================\n",
            "\n"
          ]
        },
        {
          "name": "stderr",
          "output_type": "stream",
          "text": [
            "[Succeeded / Failed / Skipped / Total] 92 / 19 / 9 / 120:  60%|██████    | 120/200 [19:22<12:54,  9.69s/it]textattack: Saving checkpoint under \"checkpoints/1678856970914.ta.chkpt\" at 2023-03-15 05:09:30 after 120 attacks.\n",
            "[Succeeded / Failed / Skipped / Total] 92 / 19 / 10 / 121:  60%|██████    | 121/200 [19:22<12:39,  9.61s/it]"
          ]
        },
        {
          "name": "stdout",
          "output_type": "stream",
          "text": [
            "\n",
            "\n",
            "=============================================================================================================================\n",
            "=============================================================================================================================\n",
            "\n"
          ]
        },
        {
          "name": "stderr",
          "output_type": "stream",
          "text": [
            "[Succeeded / Failed / Skipped / Total] 95 / 20 / 10 / 125:  62%|██████▎   | 125/200 [20:21<12:12,  9.77s/it]textattack: Saving checkpoint under \"checkpoints/1678857029630.ta.chkpt\" at 2023-03-15 05:10:29 after 125 attacks.\n"
          ]
        },
        {
          "name": "stdout",
          "output_type": "stream",
          "text": [
            "\n",
            "\n",
            "=============================================================================================================================\n",
            "=============================================================================================================================\n",
            "\n"
          ]
        },
        {
          "name": "stderr",
          "output_type": "stream",
          "text": [
            "[Succeeded / Failed / Skipped / Total] 100 / 20 / 10 / 130:  65%|██████▌   | 130/200 [21:12<11:24,  9.79s/it]textattack: Saving checkpoint under \"checkpoints/1678857080534.ta.chkpt\" at 2023-03-15 05:11:20 after 130 attacks.\n"
          ]
        },
        {
          "name": "stdout",
          "output_type": "stream",
          "text": [
            "\n",
            "\n",
            "=============================================================================================================================\n",
            "=============================================================================================================================\n",
            "\n"
          ]
        },
        {
          "name": "stderr",
          "output_type": "stream",
          "text": [
            "[Succeeded / Failed / Skipped / Total] 104 / 21 / 10 / 135:  68%|██████▊   | 135/200 [21:40<10:26,  9.64s/it]textattack: Saving checkpoint under \"checkpoints/1678857109374.ta.chkpt\" at 2023-03-15 05:11:49 after 135 attacks.\n"
          ]
        },
        {
          "name": "stdout",
          "output_type": "stream",
          "text": [
            "\n",
            "\n",
            "=============================================================================================================================\n",
            "=============================================================================================================================\n",
            "\n"
          ]
        },
        {
          "name": "stderr",
          "output_type": "stream",
          "text": [
            "[Succeeded / Failed / Skipped / Total] 108 / 22 / 10 / 140:  70%|███████   | 140/200 [22:23<09:35,  9.60s/it]textattack: Saving checkpoint under \"checkpoints/1678857151832.ta.chkpt\" at 2023-03-15 05:12:31 after 140 attacks.\n"
          ]
        },
        {
          "name": "stdout",
          "output_type": "stream",
          "text": [
            "\n",
            "\n",
            "=============================================================================================================================\n",
            "=============================================================================================================================\n",
            "\n"
          ]
        },
        {
          "name": "stderr",
          "output_type": "stream",
          "text": [
            "[Succeeded / Failed / Skipped / Total] 112 / 22 / 11 / 145:  72%|███████▎  | 145/200 [22:50<08:39,  9.45s/it]textattack: Saving checkpoint under \"checkpoints/1678857178585.ta.chkpt\" at 2023-03-15 05:12:58 after 145 attacks.\n"
          ]
        },
        {
          "name": "stdout",
          "output_type": "stream",
          "text": [
            "\n",
            "\n",
            "=============================================================================================================================\n",
            "=============================================================================================================================\n",
            "\n"
          ]
        },
        {
          "name": "stderr",
          "output_type": "stream",
          "text": [
            "[Succeeded / Failed / Skipped / Total] 116 / 23 / 11 / 150:  75%|███████▌  | 150/200 [23:47<07:55,  9.51s/it]textattack: Saving checkpoint under \"checkpoints/1678857235518.ta.chkpt\" at 2023-03-15 05:13:55 after 150 attacks.\n"
          ]
        },
        {
          "name": "stdout",
          "output_type": "stream",
          "text": [
            "\n",
            "\n",
            "=============================================================================================================================\n",
            "=============================================================================================================================\n",
            "\n"
          ]
        },
        {
          "name": "stderr",
          "output_type": "stream",
          "text": [
            "[Succeeded / Failed / Skipped / Total] 120 / 24 / 11 / 155:  78%|███████▊  | 155/200 [24:41<07:10,  9.56s/it]textattack: Saving checkpoint under \"checkpoints/1678857290075.ta.chkpt\" at 2023-03-15 05:14:50 after 155 attacks.\n",
            "[Succeeded / Failed / Skipped / Total] 120 / 24 / 12 / 156:  78%|███████▊  | 156/200 [24:41<06:57,  9.50s/it]"
          ]
        },
        {
          "name": "stdout",
          "output_type": "stream",
          "text": [
            "\n",
            "\n",
            "=============================================================================================================================\n",
            "=============================================================================================================================\n",
            "\n"
          ]
        },
        {
          "name": "stderr",
          "output_type": "stream",
          "text": [
            "[Succeeded / Failed / Skipped / Total] 124 / 24 / 12 / 160:  80%|████████  | 160/200 [25:28<06:22,  9.55s/it]textattack: Saving checkpoint under \"checkpoints/1678857337159.ta.chkpt\" at 2023-03-15 05:15:37 after 160 attacks.\n"
          ]
        },
        {
          "name": "stdout",
          "output_type": "stream",
          "text": [
            "\n",
            "\n",
            "=============================================================================================================================\n",
            "=============================================================================================================================\n",
            "\n"
          ]
        },
        {
          "name": "stderr",
          "output_type": "stream",
          "text": [
            "[Succeeded / Failed / Skipped / Total] 129 / 24 / 12 / 165:  82%|████████▎ | 165/200 [26:10<05:33,  9.52s/it]textattack: Saving checkpoint under \"checkpoints/1678857379351.ta.chkpt\" at 2023-03-15 05:16:19 after 165 attacks.\n"
          ]
        },
        {
          "name": "stdout",
          "output_type": "stream",
          "text": [
            "\n",
            "\n",
            "=============================================================================================================================\n",
            "=============================================================================================================================\n",
            "\n"
          ]
        },
        {
          "name": "stderr",
          "output_type": "stream",
          "text": [
            "[Succeeded / Failed / Skipped / Total] 133 / 25 / 12 / 170:  85%|████████▌ | 170/200 [26:58<04:45,  9.52s/it]textattack: Saving checkpoint under \"checkpoints/1678857427048.ta.chkpt\" at 2023-03-15 05:17:07 after 170 attacks.\n"
          ]
        },
        {
          "name": "stdout",
          "output_type": "stream",
          "text": [
            "\n",
            "\n",
            "=============================================================================================================================\n",
            "=============================================================================================================================\n",
            "\n"
          ]
        },
        {
          "name": "stderr",
          "output_type": "stream",
          "text": [
            "[Succeeded / Failed / Skipped / Total] 137 / 25 / 13 / 175:  88%|████████▊ | 175/200 [27:31<03:55,  9.44s/it]textattack: Saving checkpoint under \"checkpoints/1678857459752.ta.chkpt\" at 2023-03-15 05:17:39 after 175 attacks.\n"
          ]
        },
        {
          "name": "stdout",
          "output_type": "stream",
          "text": [
            "\n",
            "\n",
            "=============================================================================================================================\n",
            "=============================================================================================================================\n",
            "\n"
          ]
        },
        {
          "name": "stderr",
          "output_type": "stream",
          "text": [
            "[Succeeded / Failed / Skipped / Total] 142 / 25 / 13 / 180:  90%|█████████ | 180/200 [28:05<03:07,  9.36s/it]textattack: Saving checkpoint under \"checkpoints/1678857493488.ta.chkpt\" at 2023-03-15 05:18:13 after 180 attacks.\n"
          ]
        },
        {
          "name": "stdout",
          "output_type": "stream",
          "text": [
            "\n",
            "\n",
            "=============================================================================================================================\n",
            "=============================================================================================================================\n",
            "\n"
          ]
        },
        {
          "name": "stderr",
          "output_type": "stream",
          "text": [
            "[Succeeded / Failed / Skipped / Total] 146 / 25 / 14 / 185:  92%|█████████▎| 185/200 [28:42<02:19,  9.31s/it]textattack: Saving checkpoint under \"checkpoints/1678857531039.ta.chkpt\" at 2023-03-15 05:18:51 after 185 attacks.\n"
          ]
        },
        {
          "name": "stdout",
          "output_type": "stream",
          "text": [
            "\n",
            "\n",
            "=============================================================================================================================\n",
            "=============================================================================================================================\n",
            "\n"
          ]
        },
        {
          "name": "stderr",
          "output_type": "stream",
          "text": [
            "[Succeeded / Failed / Skipped / Total] 151 / 25 / 14 / 190:  95%|█████████▌| 190/200 [29:16<01:32,  9.24s/it]textattack: Saving checkpoint under \"checkpoints/1678857564635.ta.chkpt\" at 2023-03-15 05:19:24 after 190 attacks.\n"
          ]
        },
        {
          "name": "stdout",
          "output_type": "stream",
          "text": [
            "\n",
            "\n",
            "=============================================================================================================================\n",
            "=============================================================================================================================\n",
            "\n"
          ]
        },
        {
          "name": "stderr",
          "output_type": "stream",
          "text": [
            "[Succeeded / Failed / Skipped / Total] 155 / 26 / 14 / 195:  98%|█████████▊| 195/200 [30:20<00:46,  9.34s/it]textattack: Saving checkpoint under \"checkpoints/1678857629162.ta.chkpt\" at 2023-03-15 05:20:29 after 195 attacks.\n"
          ]
        },
        {
          "name": "stdout",
          "output_type": "stream",
          "text": [
            "\n",
            "\n",
            "=============================================================================================================================\n",
            "=============================================================================================================================\n",
            "\n"
          ]
        },
        {
          "name": "stderr",
          "output_type": "stream",
          "text": [
            "[Succeeded / Failed / Skipped / Total] 159 / 27 / 14 / 200: 100%|██████████| 200/200 [31:04<00:00,  9.32s/it]textattack: Saving checkpoint under \"checkpoints/1678857672863.ta.chkpt\" at 2023-03-15 05:21:12 after 200 attacks.\n",
            "[Succeeded / Failed / Skipped / Total] 159 / 27 / 14 / 200: 100%|██████████| 200/200 [31:04<00:00,  9.32s/it]"
          ]
        },
        {
          "name": "stdout",
          "output_type": "stream",
          "text": [
            "\n",
            "\n",
            "=============================================================================================================================\n",
            "=============================================================================================================================\n",
            "\n",
            "\n",
            "+-------------------------------+--------+\n",
            "| Attack Results                |        |\n",
            "+-------------------------------+--------+\n",
            "| Number of successful attacks: | 159    |\n",
            "| Number of failed attacks:     | 27     |\n",
            "| Number of skipped attacks:    | 14     |\n",
            "| Original accuracy:            | 93.0%  |\n",
            "| Accuracy under attack:        | 13.5%  |\n",
            "| Attack success rate:          | 85.48% |\n",
            "| Average perturbed word %:     | 19.6%  |\n",
            "| Average num. words per input: | 41.98  |\n",
            "| Avg num queries:              | 306.97 |\n",
            "+-------------------------------+--------+\n"
          ]
        },
        {
          "name": "stderr",
          "output_type": "stream",
          "text": [
            "\n"
          ]
        },
        {
          "data": {
            "text/plain": [
              "[<textattack.attack_results.successful_attack_result.SuccessfulAttackResult at 0x7f45a39d6d00>,\n",
              " <textattack.attack_results.failed_attack_result.FailedAttackResult at 0x7f45e58e6cd0>,\n",
              " <textattack.attack_results.successful_attack_result.SuccessfulAttackResult at 0x7f45e5e88190>,\n",
              " <textattack.attack_results.successful_attack_result.SuccessfulAttackResult at 0x7f45e5f02d30>,\n",
              " <textattack.attack_results.successful_attack_result.SuccessfulAttackResult at 0x7f45d215a9a0>,\n",
              " <textattack.attack_results.successful_attack_result.SuccessfulAttackResult at 0x7f45a36ce2b0>,\n",
              " <textattack.attack_results.failed_attack_result.FailedAttackResult at 0x7f45b1a4af10>,\n",
              " <textattack.attack_results.failed_attack_result.FailedAttackResult at 0x7f45e5e13670>,\n",
              " <textattack.attack_results.successful_attack_result.SuccessfulAttackResult at 0x7f47802254c0>,\n",
              " <textattack.attack_results.successful_attack_result.SuccessfulAttackResult at 0x7f45e58e6d30>,\n",
              " <textattack.attack_results.failed_attack_result.FailedAttackResult at 0x7f45f248a6a0>,\n",
              " <textattack.attack_results.failed_attack_result.FailedAttackResult at 0x7f45b4ce8b50>,\n",
              " <textattack.attack_results.successful_attack_result.SuccessfulAttackResult at 0x7f45b48e9f70>,\n",
              " <textattack.attack_results.successful_attack_result.SuccessfulAttackResult at 0x7f478285f100>,\n",
              " <textattack.attack_results.successful_attack_result.SuccessfulAttackResult at 0x7f45b48e95e0>,\n",
              " <textattack.attack_results.successful_attack_result.SuccessfulAttackResult at 0x7f45ccf4ff40>,\n",
              " <textattack.attack_results.successful_attack_result.SuccessfulAttackResult at 0x7f45e5f02eb0>,\n",
              " <textattack.attack_results.successful_attack_result.SuccessfulAttackResult at 0x7f45e5e0adf0>,\n",
              " <textattack.attack_results.successful_attack_result.SuccessfulAttackResult at 0x7f45e5f02f10>,\n",
              " <textattack.attack_results.successful_attack_result.SuccessfulAttackResult at 0x7f45e59fbf10>,\n",
              " <textattack.attack_results.skipped_attack_result.SkippedAttackResult at 0x7f45e59fb520>,\n",
              " <textattack.attack_results.successful_attack_result.SuccessfulAttackResult at 0x7f4782858610>,\n",
              " <textattack.attack_results.successful_attack_result.SuccessfulAttackResult at 0x7f45a3420a60>,\n",
              " <textattack.attack_results.skipped_attack_result.SkippedAttackResult at 0x7f45b3c1b040>,\n",
              " <textattack.attack_results.skipped_attack_result.SkippedAttackResult at 0x7f45b3c1b7f0>,\n",
              " <textattack.attack_results.failed_attack_result.FailedAttackResult at 0x7f45e5e0ad30>,\n",
              " <textattack.attack_results.successful_attack_result.SuccessfulAttackResult at 0x7f45e5e0ad60>,\n",
              " <textattack.attack_results.successful_attack_result.SuccessfulAttackResult at 0x7f45ccaa39d0>,\n",
              " <textattack.attack_results.successful_attack_result.SuccessfulAttackResult at 0x7f45e59fbac0>,\n",
              " <textattack.attack_results.successful_attack_result.SuccessfulAttackResult at 0x7f45b34b2940>,\n",
              " <textattack.attack_results.successful_attack_result.SuccessfulAttackResult at 0x7f45b7510730>,\n",
              " <textattack.attack_results.successful_attack_result.SuccessfulAttackResult at 0x7f45b4ce8160>,\n",
              " <textattack.attack_results.successful_attack_result.SuccessfulAttackResult at 0x7f45e5e0ac10>,\n",
              " <textattack.attack_results.successful_attack_result.SuccessfulAttackResult at 0x7f459c3c4a00>,\n",
              " <textattack.attack_results.successful_attack_result.SuccessfulAttackResult at 0x7f45825a96d0>,\n",
              " <textattack.attack_results.successful_attack_result.SuccessfulAttackResult at 0x7f45b716b550>,\n",
              " <textattack.attack_results.successful_attack_result.SuccessfulAttackResult at 0x7f45b35e7f70>,\n",
              " <textattack.attack_results.skipped_attack_result.SkippedAttackResult at 0x7f45b35e7880>,\n",
              " <textattack.attack_results.successful_attack_result.SuccessfulAttackResult at 0x7f45e5dfe6a0>,\n",
              " <textattack.attack_results.successful_attack_result.SuccessfulAttackResult at 0x7f45b4ce88b0>,\n",
              " <textattack.attack_results.successful_attack_result.SuccessfulAttackResult at 0x7f45ccaa3af0>,\n",
              " <textattack.attack_results.successful_attack_result.SuccessfulAttackResult at 0x7f45b7f4c970>,\n",
              " <textattack.attack_results.successful_attack_result.SuccessfulAttackResult at 0x7f45b721c2b0>,\n",
              " <textattack.attack_results.successful_attack_result.SuccessfulAttackResult at 0x7f45b4f292b0>,\n",
              " <textattack.attack_results.successful_attack_result.SuccessfulAttackResult at 0x7f45b7356bb0>,\n",
              " <textattack.attack_results.successful_attack_result.SuccessfulAttackResult at 0x7f47a14fc370>,\n",
              " <textattack.attack_results.successful_attack_result.SuccessfulAttackResult at 0x7f45e5e170d0>,\n",
              " <textattack.attack_results.successful_attack_result.SuccessfulAttackResult at 0x7f45b6276ac0>,\n",
              " <textattack.attack_results.successful_attack_result.SuccessfulAttackResult at 0x7f459b4b4400>,\n",
              " <textattack.attack_results.successful_attack_result.SuccessfulAttackResult at 0x7f45a0b98a90>,\n",
              " <textattack.attack_results.successful_attack_result.SuccessfulAttackResult at 0x7f45e5de5550>,\n",
              " <textattack.attack_results.successful_attack_result.SuccessfulAttackResult at 0x7f47a14fc2b0>,\n",
              " <textattack.attack_results.successful_attack_result.SuccessfulAttackResult at 0x7f45a0b986a0>,\n",
              " <textattack.attack_results.successful_attack_result.SuccessfulAttackResult at 0x7f45b74530a0>,\n",
              " <textattack.attack_results.successful_attack_result.SuccessfulAttackResult at 0x7f45e5e13910>,\n",
              " <textattack.attack_results.successful_attack_result.SuccessfulAttackResult at 0x7f4570b22c70>,\n",
              " <textattack.attack_results.skipped_attack_result.SkippedAttackResult at 0x7f4570b22e80>,\n",
              " <textattack.attack_results.failed_attack_result.FailedAttackResult at 0x7f45e5dfe790>,\n",
              " <textattack.attack_results.successful_attack_result.SuccessfulAttackResult at 0x7f45a0b98b50>,\n",
              " <textattack.attack_results.failed_attack_result.FailedAttackResult at 0x7f47a14fc340>,\n",
              " <textattack.attack_results.successful_attack_result.SuccessfulAttackResult at 0x7f45b61d1f40>,\n",
              " <textattack.attack_results.successful_attack_result.SuccessfulAttackResult at 0x7f45ccaa3eb0>,\n",
              " <textattack.attack_results.successful_attack_result.SuccessfulAttackResult at 0x7f459b4b4be0>,\n",
              " <textattack.attack_results.failed_attack_result.FailedAttackResult at 0x7f45b5edb910>,\n",
              " <textattack.attack_results.successful_attack_result.SuccessfulAttackResult at 0x7f47a14fc820>,\n",
              " <textattack.attack_results.successful_attack_result.SuccessfulAttackResult at 0x7f47a14fc850>,\n",
              " <textattack.attack_results.successful_attack_result.SuccessfulAttackResult at 0x7f45b68d99d0>,\n",
              " <textattack.attack_results.failed_attack_result.FailedAttackResult at 0x7f45a0b98730>,\n",
              " <textattack.attack_results.successful_attack_result.SuccessfulAttackResult at 0x7f45e5dfe670>,\n",
              " <textattack.attack_results.successful_attack_result.SuccessfulAttackResult at 0x7f47a14fc520>,\n",
              " <textattack.attack_results.successful_attack_result.SuccessfulAttackResult at 0x7f45e5dfef10>,\n",
              " <textattack.attack_results.failed_attack_result.FailedAttackResult at 0x7f45e5f93dc0>,\n",
              " <textattack.attack_results.failed_attack_result.FailedAttackResult at 0x7f45e58e6bb0>,\n",
              " <textattack.attack_results.successful_attack_result.SuccessfulAttackResult at 0x7f45cc8bdb20>,\n",
              " <textattack.attack_results.successful_attack_result.SuccessfulAttackResult at 0x7f47828fa4f0>,\n",
              " <textattack.attack_results.successful_attack_result.SuccessfulAttackResult at 0x7f45cddb36d0>,\n",
              " <textattack.attack_results.successful_attack_result.SuccessfulAttackResult at 0x7f45b57036a0>,\n",
              " <textattack.attack_results.failed_attack_result.FailedAttackResult at 0x7f45e5ef14f0>,\n",
              " <textattack.attack_results.successful_attack_result.SuccessfulAttackResult at 0x7f45cc8d12b0>,\n",
              " <textattack.attack_results.successful_attack_result.SuccessfulAttackResult at 0x7f45e5e12fa0>,\n",
              " <textattack.attack_results.successful_attack_result.SuccessfulAttackResult at 0x7f45cd9af310>,\n",
              " <textattack.attack_results.successful_attack_result.SuccessfulAttackResult at 0x7f47a14fcee0>,\n",
              " <textattack.attack_results.successful_attack_result.SuccessfulAttackResult at 0x7f45e5f81e50>,\n",
              " <textattack.attack_results.skipped_attack_result.SkippedAttackResult at 0x7f45cc6bfa90>,\n",
              " <textattack.attack_results.successful_attack_result.SuccessfulAttackResult at 0x7f45cdb44d90>,\n",
              " <textattack.attack_results.successful_attack_result.SuccessfulAttackResult at 0x7f45cc9e1f10>,\n",
              " <textattack.attack_results.successful_attack_result.SuccessfulAttackResult at 0x7f45e5f02f40>,\n",
              " <textattack.attack_results.successful_attack_result.SuccessfulAttackResult at 0x7f45b7cd2310>,\n",
              " <textattack.attack_results.failed_attack_result.FailedAttackResult at 0x7f45cdb44580>,\n",
              " <textattack.attack_results.successful_attack_result.SuccessfulAttackResult at 0x7f459b4b4640>,\n",
              " <textattack.attack_results.successful_attack_result.SuccessfulAttackResult at 0x7f45e5a57610>,\n",
              " <textattack.attack_results.successful_attack_result.SuccessfulAttackResult at 0x7f45cc6bf970>,\n",
              " <textattack.attack_results.successful_attack_result.SuccessfulAttackResult at 0x7f45cdb0cbb0>,\n",
              " <textattack.attack_results.successful_attack_result.SuccessfulAttackResult at 0x7f45e59fb610>,\n",
              " <textattack.attack_results.successful_attack_result.SuccessfulAttackResult at 0x7f45a4578820>,\n",
              " <textattack.attack_results.successful_attack_result.SuccessfulAttackResult at 0x7f45cdb0ca90>,\n",
              " <textattack.attack_results.successful_attack_result.SuccessfulAttackResult at 0x7f45b6a4a580>,\n",
              " <textattack.attack_results.failed_attack_result.FailedAttackResult at 0x7f45e5de5c70>,\n",
              " <textattack.attack_results.successful_attack_result.SuccessfulAttackResult at 0x7f47828fac40>,\n",
              " <textattack.attack_results.successful_attack_result.SuccessfulAttackResult at 0x7f45b716b220>,\n",
              " <textattack.attack_results.successful_attack_result.SuccessfulAttackResult at 0x7f45ccf4f430>,\n",
              " <textattack.attack_results.successful_attack_result.SuccessfulAttackResult at 0x7f45cdb44460>,\n",
              " <textattack.attack_results.skipped_attack_result.SkippedAttackResult at 0x7f45a4578bb0>,\n",
              " <textattack.attack_results.successful_attack_result.SuccessfulAttackResult at 0x7f45b75db6a0>,\n",
              " <textattack.attack_results.successful_attack_result.SuccessfulAttackResult at 0x7f47a14fc310>,\n",
              " <textattack.attack_results.successful_attack_result.SuccessfulAttackResult at 0x7f45cdd58d60>,\n",
              " <textattack.attack_results.successful_attack_result.SuccessfulAttackResult at 0x7f45e5dfe5b0>,\n",
              " <textattack.attack_results.successful_attack_result.SuccessfulAttackResult at 0x7f45cc8d17c0>,\n",
              " <textattack.attack_results.successful_attack_result.SuccessfulAttackResult at 0x7f45b61d1730>,\n",
              " <textattack.attack_results.successful_attack_result.SuccessfulAttackResult at 0x7f45a45788e0>,\n",
              " <textattack.attack_results.skipped_attack_result.SkippedAttackResult at 0x7f45b7cd26d0>,\n",
              " <textattack.attack_results.skipped_attack_result.SkippedAttackResult at 0x7f45cc526a90>,\n",
              " <textattack.attack_results.successful_attack_result.SuccessfulAttackResult at 0x7f45cdd588b0>,\n",
              " <textattack.attack_results.failed_attack_result.FailedAttackResult at 0x7f45a4578d00>,\n",
              " <textattack.attack_results.failed_attack_result.FailedAttackResult at 0x7f45b41b3dc0>,\n",
              " <textattack.attack_results.failed_attack_result.FailedAttackResult at 0x7f45b23bd850>,\n",
              " <textattack.attack_results.failed_attack_result.FailedAttackResult at 0x7f45b7cd2790>,\n",
              " <textattack.attack_results.successful_attack_result.SuccessfulAttackResult at 0x7f4570b224f0>,\n",
              " <textattack.attack_results.successful_attack_result.SuccessfulAttackResult at 0x7f45b36e0520>,\n",
              " <textattack.attack_results.successful_attack_result.SuccessfulAttackResult at 0x7f459b4b4280>,\n",
              " <textattack.attack_results.skipped_attack_result.SkippedAttackResult at 0x7f459b4b4070>,\n",
              " <textattack.attack_results.successful_attack_result.SuccessfulAttackResult at 0x7f459b4b4ac0>,\n",
              " <textattack.attack_results.successful_attack_result.SuccessfulAttackResult at 0x7f45b3c1b730>,\n",
              " <textattack.attack_results.successful_attack_result.SuccessfulAttackResult at 0x7f45cc17a9a0>,\n",
              " <textattack.attack_results.failed_attack_result.FailedAttackResult at 0x7f45b4ce8be0>,\n",
              " <textattack.attack_results.successful_attack_result.SuccessfulAttackResult at 0x7f45cdae6130>,\n",
              " <textattack.attack_results.successful_attack_result.SuccessfulAttackResult at 0x7f45b115e550>,\n",
              " <textattack.attack_results.successful_attack_result.SuccessfulAttackResult at 0x7f45b4ce8250>,\n",
              " <textattack.attack_results.successful_attack_result.SuccessfulAttackResult at 0x7f45b48e98b0>,\n",
              " <textattack.attack_results.successful_attack_result.SuccessfulAttackResult at 0x7f459b4b4c70>,\n",
              " <textattack.attack_results.successful_attack_result.SuccessfulAttackResult at 0x7f45e5de5670>,\n",
              " <textattack.attack_results.successful_attack_result.SuccessfulAttackResult at 0x7f45b716b2b0>,\n",
              " <textattack.attack_results.failed_attack_result.FailedAttackResult at 0x7f459b4b4d90>,\n",
              " <textattack.attack_results.successful_attack_result.SuccessfulAttackResult at 0x7f45b48e9df0>,\n",
              " <textattack.attack_results.successful_attack_result.SuccessfulAttackResult at 0x7f45b4ce8340>,\n",
              " <textattack.attack_results.successful_attack_result.SuccessfulAttackResult at 0x7f45b48e9160>,\n",
              " <textattack.attack_results.successful_attack_result.SuccessfulAttackResult at 0x7f45cc9a1e20>,\n",
              " <textattack.attack_results.failed_attack_result.FailedAttackResult at 0x7f459b4b4df0>,\n",
              " <textattack.attack_results.successful_attack_result.SuccessfulAttackResult at 0x7f45b7feb3d0>,\n",
              " <textattack.attack_results.successful_attack_result.SuccessfulAttackResult at 0x7f4570bc3b80>,\n",
              " <textattack.attack_results.successful_attack_result.SuccessfulAttackResult at 0x7f45b23bd220>,\n",
              " <textattack.attack_results.skipped_attack_result.SkippedAttackResult at 0x7f45b23bd0a0>,\n",
              " <textattack.attack_results.successful_attack_result.SuccessfulAttackResult at 0x7f45b115e520>,\n",
              " <textattack.attack_results.successful_attack_result.SuccessfulAttackResult at 0x7f45cdb44220>,\n",
              " <textattack.attack_results.successful_attack_result.SuccessfulAttackResult at 0x7f459b628490>,\n",
              " <textattack.attack_results.successful_attack_result.SuccessfulAttackResult at 0x7f459c3c4340>,\n",
              " <textattack.attack_results.successful_attack_result.SuccessfulAttackResult at 0x7f45b5d29310>,\n",
              " <textattack.attack_results.successful_attack_result.SuccessfulAttackResult at 0x7f459b628f10>,\n",
              " <textattack.attack_results.failed_attack_result.FailedAttackResult at 0x7f45b48e9be0>,\n",
              " <textattack.attack_results.successful_attack_result.SuccessfulAttackResult at 0x7f45b7feb8b0>,\n",
              " <textattack.attack_results.successful_attack_result.SuccessfulAttackResult at 0x7f45b4ce8040>,\n",
              " <textattack.attack_results.successful_attack_result.SuccessfulAttackResult at 0x7f45814aac40>,\n",
              " <textattack.attack_results.successful_attack_result.SuccessfulAttackResult at 0x7f45e5e13c40>,\n",
              " <textattack.attack_results.failed_attack_result.FailedAttackResult at 0x7f45cddbca60>,\n",
              " <textattack.attack_results.successful_attack_result.SuccessfulAttackResult at 0x7f45e5e0aeb0>,\n",
              " <textattack.attack_results.skipped_attack_result.SkippedAttackResult at 0x7f45b41a7a30>,\n",
              " <textattack.attack_results.successful_attack_result.SuccessfulAttackResult at 0x7f45b4f456a0>,\n",
              " <textattack.attack_results.successful_attack_result.SuccessfulAttackResult at 0x7f45e5dee100>,\n",
              " <textattack.attack_results.successful_attack_result.SuccessfulAttackResult at 0x7f45e59fb6d0>,\n",
              " <textattack.attack_results.successful_attack_result.SuccessfulAttackResult at 0x7f45b4ce8070>,\n",
              " <textattack.attack_results.successful_attack_result.SuccessfulAttackResult at 0x7f45cc6bf5e0>,\n",
              " <textattack.attack_results.successful_attack_result.SuccessfulAttackResult at 0x7f45cdda1220>,\n",
              " <textattack.attack_results.successful_attack_result.SuccessfulAttackResult at 0x7f45b7b519d0>,\n",
              " <textattack.attack_results.successful_attack_result.SuccessfulAttackResult at 0x7f45cdb0ce20>,\n",
              " <textattack.attack_results.successful_attack_result.SuccessfulAttackResult at 0x7f45cdb0c730>,\n",
              " <textattack.attack_results.successful_attack_result.SuccessfulAttackResult at 0x7f45cdb0cca0>,\n",
              " <textattack.attack_results.failed_attack_result.FailedAttackResult at 0x7f45cc6bfbb0>,\n",
              " <textattack.attack_results.successful_attack_result.SuccessfulAttackResult at 0x7f45a4578760>,\n",
              " <textattack.attack_results.successful_attack_result.SuccessfulAttackResult at 0x7f47a14fca00>,\n",
              " <textattack.attack_results.successful_attack_result.SuccessfulAttackResult at 0x7f45cddb3040>,\n",
              " <textattack.attack_results.successful_attack_result.SuccessfulAttackResult at 0x7f45b6a94fa0>,\n",
              " <textattack.attack_results.successful_attack_result.SuccessfulAttackResult at 0x7f4570aff310>,\n",
              " <textattack.attack_results.successful_attack_result.SuccessfulAttackResult at 0x7f45cd8b6ee0>,\n",
              " <textattack.attack_results.skipped_attack_result.SkippedAttackResult at 0x7f45cd8b6eb0>,\n",
              " <textattack.attack_results.successful_attack_result.SuccessfulAttackResult at 0x7f45a4578220>,\n",
              " <textattack.attack_results.successful_attack_result.SuccessfulAttackResult at 0x7f45a4578dc0>,\n",
              " <textattack.attack_results.successful_attack_result.SuccessfulAttackResult at 0x7f45b5ae8e80>,\n",
              " <textattack.attack_results.successful_attack_result.SuccessfulAttackResult at 0x7f45cc526ee0>,\n",
              " <textattack.attack_results.successful_attack_result.SuccessfulAttackResult at 0x7f45b68d9370>,\n",
              " <textattack.attack_results.successful_attack_result.SuccessfulAttackResult at 0x7f45ccd4ee80>,\n",
              " <textattack.attack_results.successful_attack_result.SuccessfulAttackResult at 0x7f45cdd580d0>,\n",
              " <textattack.attack_results.successful_attack_result.SuccessfulAttackResult at 0x7f45b4f45e20>,\n",
              " <textattack.attack_results.successful_attack_result.SuccessfulAttackResult at 0x7f45cdd58e80>,\n",
              " <textattack.attack_results.skipped_attack_result.SkippedAttackResult at 0x7f45cdd58430>,\n",
              " <textattack.attack_results.successful_attack_result.SuccessfulAttackResult at 0x7f45b5edbf10>,\n",
              " <textattack.attack_results.successful_attack_result.SuccessfulAttackResult at 0x7f45e5de5640>,\n",
              " <textattack.attack_results.successful_attack_result.SuccessfulAttackResult at 0x7f45b41b32e0>,\n",
              " <textattack.attack_results.successful_attack_result.SuccessfulAttackResult at 0x7f45b6529b50>,\n",
              " <textattack.attack_results.successful_attack_result.SuccessfulAttackResult at 0x7f45b41b35b0>,\n",
              " <textattack.attack_results.successful_attack_result.SuccessfulAttackResult at 0x7f45e5e130d0>,\n",
              " <textattack.attack_results.successful_attack_result.SuccessfulAttackResult at 0x7f45cc9e1850>,\n",
              " <textattack.attack_results.successful_attack_result.SuccessfulAttackResult at 0x7f45b5ae84f0>,\n",
              " <textattack.attack_results.successful_attack_result.SuccessfulAttackResult at 0x7f45b3c1b370>,\n",
              " <textattack.attack_results.successful_attack_result.SuccessfulAttackResult at 0x7f45b4f45850>,\n",
              " <textattack.attack_results.failed_attack_result.FailedAttackResult at 0x7f45b4ce8190>,\n",
              " <textattack.attack_results.successful_attack_result.SuccessfulAttackResult at 0x7f45b6a4a5e0>,\n",
              " <textattack.attack_results.successful_attack_result.SuccessfulAttackResult at 0x7f45cdd581f0>,\n",
              " <textattack.attack_results.successful_attack_result.SuccessfulAttackResult at 0x7f45e5e17dc0>,\n",
              " <textattack.attack_results.failed_attack_result.FailedAttackResult at 0x7f45b61c48b0>,\n",
              " <textattack.attack_results.successful_attack_result.SuccessfulAttackResult at 0x7f45b5ae8550>]"
            ]
          },
          "execution_count": 26,
          "metadata": {},
          "output_type": "execute_result"
        }
      ],
      "source": [
        "# first generate adversarial examples using textattack\n",
        "# recipe: textfooler\n",
        "model = transformers.AutoModelForSequenceClassification.from_pretrained(\"textattack/roberta-base-ag-news\")\n",
        "tokenizer = transformers.AutoTokenizer.from_pretrained(\"textattack/roberta-base-ag-news\")\n",
        "model_wrapper = MyWrapperImportanceBasedMask(model, tokenizer, tfidf_corpus)\n",
        "\n",
        "# build the textfooler attack\n",
        "attack = textattack.attack_recipes.textfooler_jin_2019.TextFoolerJin2019.build(model_wrapper)\n",
        "\n",
        "# Load the dataset\n",
        "dataset = textattack.datasets.HuggingFaceDataset(\"ag_news\", split=\"test\")\n",
        "\n",
        "# Attack 100 samples with CSV logging and checkpoint saved every 5 interval\n",
        "attack_args = textattack.AttackArgs(\n",
        "    num_examples=200,\n",
        "    log_to_csv=\"tfidf_30_<mask>.csv\",\n",
        "    checkpoint_interval=5,\n",
        "    checkpoint_dir=\"checkpoints\",\n",
        "    disable_stdout=True\n",
        ")\n",
        "\n",
        "attacker = textattack.Attacker(attack, dataset, attack_args)\n",
        "attacker.attack_dataset()"
      ]
    },
    {
      "cell_type": "markdown",
      "metadata": {
        "id": "EFZGJeibgCyc"
      },
      "source": [
        "#### Random masking on vectorized tokens"
      ]
    },
    {
      "cell_type": "code",
      "execution_count": null,
      "metadata": {
        "id": "dKRITjn5mUlR"
      },
      "outputs": [],
      "source": [
        "torch.cuda.empty_cache()\n",
        "\n",
        "# HuggingFaceModelWrapper\n",
        "class MyWrapperRandomTokenMask(PyTorchModelWrapper):\n",
        "    \"\"\"Loads a HuggingFace ``transformers`` model and tokenizer.\"\"\"\n",
        "\n",
        "    def __init__(self, model, tokenizer):\n",
        "        assert isinstance(\n",
        "            model, (transformers.PreTrainedModel, T5ForTextToText)\n",
        "        ), f\"`model` must be of type `transformers.PreTrainedModel`, but got type {type(model)}.\"\n",
        "        assert isinstance(\n",
        "            tokenizer,\n",
        "            (\n",
        "                transformers.PreTrainedTokenizer,\n",
        "                transformers.PreTrainedTokenizerFast,\n",
        "                T5Tokenizer,\n",
        "            ),\n",
        "        ), f\"`tokenizer` must of type `transformers.PreTrainedTokenizer` or `transformers.PreTrainedTokenizerFast`, but got type {type(tokenizer)}.\"\n",
        "\n",
        "        self.model = model\n",
        "        self.tokenizer = tokenizer\n",
        "        # self.tfidf_vocab = tfidf_vocab\n",
        "\n",
        "    def __call__(self, text_input_list):\n",
        "        \"\"\"Passes inputs to HuggingFace models as keyword arguments.\n",
        "        (Regular PyTorch ``nn.Module`` models typically take inputs as\n",
        "        positional arguments.)\n",
        "        \"\"\"\n",
        "\n",
        "        # Default max length is set to be int(1e30), so we force 512 to enable batching.\n",
        "        max_length = (\n",
        "            512\n",
        "            if self.tokenizer.model_max_length == int(1e30)\n",
        "            else self.tokenizer.model_max_length\n",
        "        )\n",
        "        inputs_dict = self.tokenizer(\n",
        "            text_input_list,\n",
        "            add_special_tokens=True,\n",
        "            padding=\"max_length\",\n",
        "            max_length=max_length,\n",
        "            truncation=True,\n",
        "            return_tensors=\"pt\",\n",
        "        )\n",
        "\n",
        "        \"\"\"\n",
        "        Option 2 Make a function that masks vectorized tokens\n",
        "        \"\"\"\n",
        "#####################\n",
        "        # take in the inputs_dict and randomly attention_mask = 0\n",
        "        # Mask random tokens        \n",
        "        # don't touch the first and last tokens\n",
        "        percent_zero=40\n",
        "        for i in range(len(inputs_dict['attention_mask'])):\n",
        "            length = torch.count_nonzero(inputs_dict['attention_mask'][i])-2\n",
        "            num_zeros = int(length * percent_zero/100)\n",
        "            indices = np.arange(length)\n",
        "            random_indices = np.random.choice(np.arange(length), size=num_zeros, replace=False)\n",
        "            for j in random_indices:\n",
        "                inputs_dict['attention_mask'][i][j+1] = 0\n",
        "        \n",
        "######################\n",
        "\n",
        "        model_device = next(self.model.parameters()).device\n",
        "        inputs_dict.to(model_device)\n",
        "\n",
        "        with torch.no_grad():\n",
        "            outputs = self.model(**inputs_dict)\n",
        "\n",
        "        if isinstance(outputs[0], str):\n",
        "            # HuggingFace sequence-to-sequence models return a list of\n",
        "            # string predictions as output. In this case, return the full\n",
        "            # list of outputs.\n",
        "            return outputs\n",
        "        else:\n",
        "            # HuggingFace classification models return a tuple as output\n",
        "            # where the first item in the tuple corresponds to the list of\n",
        "            # scores for each input.\n",
        "            return outputs.logits\n",
        "\n",
        "    def get_grad(self, text_input):\n",
        "        \"\"\"Get gradient of loss with respect to input tokens.\n",
        "        Args:\n",
        "            text_input (str): input string\n",
        "        Returns:\n",
        "            Dict of ids, tokens, and gradient as numpy array.\n",
        "        \"\"\"\n",
        "        if isinstance(self.model, textattack.models.helpers.T5ForTextToText):\n",
        "            raise NotImplementedError(\n",
        "                \"`get_grads` for T5FotTextToText has not been implemented yet.\"\n",
        "            )\n",
        "\n",
        "        self.model.train()\n",
        "        embedding_layer = self.model.get_input_embeddings()\n",
        "        original_state = embedding_layer.weight.requires_grad\n",
        "        embedding_layer.weight.requires_grad = True\n",
        "\n",
        "        emb_grads = []\n",
        "\n",
        "        def grad_hook(module, grad_in, grad_out):\n",
        "            emb_grads.append(grad_out[0])\n",
        "\n",
        "        emb_hook = embedding_layer.register_backward_hook(grad_hook)\n",
        "\n",
        "        self.model.zero_grad()\n",
        "        model_device = next(self.model.parameters()).device\n",
        "        input_dict = self.tokenizer(\n",
        "            [text_input],\n",
        "            add_special_tokens=True,\n",
        "            return_tensors=\"pt\",\n",
        "            padding=\"max_length\",\n",
        "            truncation=True,\n",
        "        )\n",
        "###\n",
        "        percent_zero=40\n",
        "        for i in range(len(inputs_dict['attention_mask'])):\n",
        "            length = torch.count_nonzero(inputs_dict['attention_mask'][i])-2\n",
        "            num_zeros = int(length * percent_zero/100)\n",
        "            indices = np.arange(length)\n",
        "            random_indices = np.random.choice(np.arange(length), size=num_zeros, replace=False)\n",
        "            for j in random_indices:\n",
        "                inputs_dict['attention_mask'][i][j+1] = 0\n",
        "###\n",
        "        input_dict.to(model_device)\n",
        "        predictions = self.model(**input_dict).logits\n",
        "\n",
        "        try:\n",
        "            labels = predictions.argmax(dim=1)\n",
        "            loss = self.model(**input_dict, labels=labels)[0]\n",
        "        except TypeError:\n",
        "            raise TypeError(\n",
        "                f\"{type(self.model)} class does not take in `labels` to calculate loss. \"\n",
        "                \"One cause for this might be if you instantiatedyour model using `transformer.AutoModel` \"\n",
        "                \"(instead of `transformers.AutoModelForSequenceClassification`).\"\n",
        "            )\n",
        "\n",
        "        loss.backward()\n",
        "\n",
        "        # grad w.r.t to word embeddings\n",
        "        grad = emb_grads[0][0].cpu().numpy()\n",
        "\n",
        "        embedding_layer.weight.requires_grad = original_state\n",
        "        emb_hook.remove()\n",
        "        self.model.eval()\n",
        "\n",
        "        output = {\"ids\": input_dict[\"input_ids\"], \"gradient\": grad}\n",
        "\n",
        "        return output\n",
        "\n",
        "    def _tokenize(self, inputs):\n",
        "        \"\"\"Helper method that for `tokenize`\n",
        "        Args:\n",
        "            inputs (list[str]): list of input strings\n",
        "        Returns:\n",
        "            tokens (list[list[str]]): List of list of tokens as strings\n",
        "        \"\"\"\n",
        "        return [\n",
        "            self.tokenizer.convert_ids_to_tokens(\n",
        "                self.tokenizer([x], truncation=True)[\"input_ids\"][0]\n",
        "            )\n",
        "            for x in inputs\n",
        "        ]"
      ]
    },
    {
      "cell_type": "code",
      "execution_count": null,
      "metadata": {
        "colab": {
          "base_uri": "https://localhost:8080/",
          "height": 1000,
          "referenced_widgets": [
            "68882afd51ec4fb08c1c2957bfd45d81",
            "6ac52c5634904bfc85235b01c3f19a35",
            "2a9cfdb64590442893933675472b2fd4",
            "b7d4102bad3442b4aef8fd1d7cfd3e58",
            "113b1d3671734c6abc2a92f84009d40d",
            "bbe63125c8324e2890af28ed1ff5926c",
            "01b0afe9df68424f820d16d358382b3d",
            "197a105805ce453cacfccac3198ec4fe",
            "f6778ffb41c344e0bb281ed8e8956264",
            "6a482eef94844abbb31e246459600eb1",
            "14388a09e5ca4c42ac0933e08c3d93ca"
          ]
        },
        "id": "JNPf-HbDoTjz",
        "outputId": "5f987dc4-dbd0-4e61-b9ec-a0923ec7f281"
      },
      "outputs": [
        {
          "name": "stderr",
          "output_type": "stream",
          "text": [
            "Some weights of the model checkpoint at textattack/roberta-base-ag-news were not used when initializing RobertaForSequenceClassification: ['roberta.pooler.dense.weight', 'roberta.pooler.dense.bias']\n",
            "- This IS expected if you are initializing RobertaForSequenceClassification from the checkpoint of a model trained on another task or with another architecture (e.g. initializing a BertForSequenceClassification model from a BertForPreTraining model).\n",
            "- This IS NOT expected if you are initializing RobertaForSequenceClassification from the checkpoint of a model that you expect to be exactly identical (initializing a BertForSequenceClassification model from a BertForSequenceClassification model).\n",
            "textattack: Unknown if model of class <class 'transformers.models.roberta.modeling_roberta.RobertaForSequenceClassification'> compatible with goal function <class 'textattack.goal_functions.classification.untargeted_classification.UntargetedClassification'>.\n",
            "WARNING:datasets.builder:Using custom data configuration default\n",
            "WARNING:datasets.builder:Reusing dataset ag_news (/root/.cache/huggingface/datasets/ag_news/default/0.0.0/bc2bcb40336ace1a0374767fc29bb0296cdaf8a6da7298436239c54d79180548)\n"
          ]
        },
        {
          "data": {
            "application/vnd.jupyter.widget-view+json": {
              "model_id": "68882afd51ec4fb08c1c2957bfd45d81",
              "version_major": 2,
              "version_minor": 0
            },
            "text/plain": [
              "  0%|          | 0/2 [00:00<?, ?it/s]"
            ]
          },
          "metadata": {},
          "output_type": "display_data"
        },
        {
          "name": "stderr",
          "output_type": "stream",
          "text": [
            "textattack: Loading \u001b[94mdatasets\u001b[0m dataset \u001b[94mag_news\u001b[0m, split \u001b[94mtest\u001b[0m.\n",
            "textattack: Logging to CSV at path log.csv\n"
          ]
        },
        {
          "name": "stdout",
          "output_type": "stream",
          "text": [
            "Attack(\n",
            "  (search_method): GreedyWordSwapWIR(\n",
            "    (wir_method):  delete\n",
            "  )\n",
            "  (goal_function):  UntargetedClassification\n",
            "  (transformation):  WordSwapEmbedding(\n",
            "    (max_candidates):  50\n",
            "    (embedding):  WordEmbedding\n",
            "  )\n",
            "  (constraints): \n",
            "    (0): WordEmbeddingDistance(\n",
            "        (embedding):  WordEmbedding\n",
            "        (min_cos_sim):  0.5\n",
            "        (cased):  False\n",
            "        (include_unknown_words):  True\n",
            "        (compare_against_original):  True\n",
            "      )\n",
            "    (1): PartOfSpeech(\n",
            "        (tagger_type):  nltk\n",
            "        (tagset):  universal\n",
            "        (allow_verb_noun_swap):  True\n",
            "        (compare_against_original):  True\n",
            "      )\n",
            "    (2): UniversalSentenceEncoder(\n",
            "        (metric):  angular\n",
            "        (threshold):  0.840845057\n",
            "        (window_size):  15\n",
            "        (skip_text_shorter_than_window):  True\n",
            "        (compare_against_original):  False\n",
            "      )\n",
            "    (3): RepeatModification\n",
            "    (4): StopwordModification\n",
            "    (5): InputColumnModification(\n",
            "        (matching_column_labels):  ['premise', 'hypothesis']\n",
            "        (columns_to_ignore):  {'premise'}\n",
            "      )\n",
            "  (is_black_box):  True\n",
            ") \n",
            "\n"
          ]
        },
        {
          "name": "stderr",
          "output_type": "stream",
          "text": [
            "[Succeeded / Failed / Skipped / Total] 4 / 1 / 0 / 5:   2%|▎         | 5/200 [00:38<25:03,  7.71s/it]textattack: Saving checkpoint under \"checkpoints/1678218794412.ta.chkpt\" at 2023-03-07 19:53:14 after 5 attacks.\n"
          ]
        },
        {
          "name": "stdout",
          "output_type": "stream",
          "text": [
            "\n",
            "\n",
            "=============================================================================================================================\n",
            "=============================================================================================================================\n",
            "\n"
          ]
        },
        {
          "name": "stderr",
          "output_type": "stream",
          "text": [
            "[Succeeded / Failed / Skipped / Total] 6 / 4 / 0 / 10:   5%|▌         | 10/200 [03:30<1:06:47, 21.09s/it]textattack: Saving checkpoint under \"checkpoints/1678218966805.ta.chkpt\" at 2023-03-07 19:56:06 after 10 attacks.\n"
          ]
        },
        {
          "name": "stdout",
          "output_type": "stream",
          "text": [
            "\n",
            "\n",
            "=============================================================================================================================\n",
            "=============================================================================================================================\n",
            "\n"
          ]
        },
        {
          "name": "stderr",
          "output_type": "stream",
          "text": [
            "[Succeeded / Failed / Skipped / Total] 9 / 6 / 0 / 15:   8%|▊         | 15/200 [04:32<56:04, 18.19s/it]textattack: Saving checkpoint under \"checkpoints/1678219028647.ta.chkpt\" at 2023-03-07 19:57:08 after 15 attacks.\n"
          ]
        },
        {
          "name": "stdout",
          "output_type": "stream",
          "text": [
            "\n",
            "\n",
            "=============================================================================================================================\n",
            "=============================================================================================================================\n",
            "\n"
          ]
        },
        {
          "name": "stderr",
          "output_type": "stream",
          "text": [
            "[Succeeded / Failed / Skipped / Total] 12 / 8 / 0 / 20:  10%|█         | 20/200 [05:35<50:20, 16.78s/it]textattack: Saving checkpoint under \"checkpoints/1678219091521.ta.chkpt\" at 2023-03-07 19:58:11 after 20 attacks.\n"
          ]
        },
        {
          "name": "stdout",
          "output_type": "stream",
          "text": [
            "\n",
            "\n",
            "=============================================================================================================================\n",
            "=============================================================================================================================\n",
            "\n"
          ]
        },
        {
          "name": "stderr",
          "output_type": "stream",
          "text": [
            "[Succeeded / Failed / Skipped / Total] 15 / 9 / 1 / 25:  12%|█▎        | 25/200 [05:54<41:19, 14.17s/it]textattack: Saving checkpoint under \"checkpoints/1678219110034.ta.chkpt\" at 2023-03-07 19:58:30 after 25 attacks.\n"
          ]
        },
        {
          "name": "stdout",
          "output_type": "stream",
          "text": [
            "\n",
            "\n",
            "=============================================================================================================================\n",
            "=============================================================================================================================\n",
            "\n"
          ]
        },
        {
          "name": "stderr",
          "output_type": "stream",
          "text": [
            "[Succeeded / Failed / Skipped / Total] 19 / 10 / 1 / 30:  15%|█▌        | 30/200 [07:14<40:59, 14.47s/it]textattack: Saving checkpoint under \"checkpoints/1678219189909.ta.chkpt\" at 2023-03-07 19:59:49 after 30 attacks.\n"
          ]
        },
        {
          "name": "stdout",
          "output_type": "stream",
          "text": [
            "\n",
            "\n",
            "=============================================================================================================================\n",
            "=============================================================================================================================\n",
            "\n"
          ]
        },
        {
          "name": "stderr",
          "output_type": "stream",
          "text": [
            "[Succeeded / Failed / Skipped / Total] 23 / 11 / 1 / 35:  18%|█▊        | 35/200 [08:02<37:55, 13.79s/it]textattack: Saving checkpoint under \"checkpoints/1678219238448.ta.chkpt\" at 2023-03-07 20:00:38 after 35 attacks.\n"
          ]
        },
        {
          "name": "stdout",
          "output_type": "stream",
          "text": [
            "\n",
            "\n",
            "=============================================================================================================================\n",
            "=============================================================================================================================\n",
            "\n"
          ]
        },
        {
          "name": "stderr",
          "output_type": "stream",
          "text": [
            "[Succeeded / Failed / Skipped / Total] 27 / 11 / 2 / 40:  20%|██        | 40/200 [08:24<33:39, 12.62s/it]textattack: Saving checkpoint under \"checkpoints/1678219260662.ta.chkpt\" at 2023-03-07 20:01:00 after 40 attacks.\n"
          ]
        },
        {
          "name": "stdout",
          "output_type": "stream",
          "text": [
            "\n",
            "\n",
            "=============================================================================================================================\n",
            "=============================================================================================================================\n",
            "\n"
          ]
        },
        {
          "name": "stderr",
          "output_type": "stream",
          "text": [
            "[Succeeded / Failed / Skipped / Total] 32 / 11 / 2 / 45:  22%|██▎       | 45/200 [08:57<30:50, 11.94s/it]textattack: Saving checkpoint under \"checkpoints/1678219293029.ta.chkpt\" at 2023-03-07 20:01:33 after 45 attacks.\n"
          ]
        },
        {
          "name": "stdout",
          "output_type": "stream",
          "text": [
            "\n",
            "\n",
            "=============================================================================================================================\n",
            "=============================================================================================================================\n",
            "\n"
          ]
        },
        {
          "name": "stderr",
          "output_type": "stream",
          "text": [
            "[Succeeded / Failed / Skipped / Total] 35 / 12 / 3 / 50:  25%|██▌       | 50/200 [09:28<28:24, 11.37s/it]textattack: Saving checkpoint under \"checkpoints/1678219324135.ta.chkpt\" at 2023-03-07 20:02:04 after 50 attacks.\n"
          ]
        },
        {
          "name": "stdout",
          "output_type": "stream",
          "text": [
            "\n",
            "\n",
            "=============================================================================================================================\n",
            "=============================================================================================================================\n",
            "\n"
          ]
        },
        {
          "name": "stderr",
          "output_type": "stream",
          "text": [
            "[Succeeded / Failed / Skipped / Total] 39 / 13 / 3 / 55:  28%|██▊       | 55/200 [10:06<26:39, 11.03s/it]textattack: Saving checkpoint under \"checkpoints/1678219362463.ta.chkpt\" at 2023-03-07 20:02:42 after 55 attacks.\n"
          ]
        },
        {
          "name": "stdout",
          "output_type": "stream",
          "text": [
            "\n",
            "\n",
            "=============================================================================================================================\n",
            "=============================================================================================================================\n",
            "\n"
          ]
        },
        {
          "name": "stderr",
          "output_type": "stream",
          "text": [
            "[Succeeded / Failed / Skipped / Total] 42 / 14 / 4 / 60:  30%|███       | 60/200 [10:43<25:02, 10.73s/it]textattack: Saving checkpoint under \"checkpoints/1678219399807.ta.chkpt\" at 2023-03-07 20:03:19 after 60 attacks.\n"
          ]
        },
        {
          "name": "stdout",
          "output_type": "stream",
          "text": [
            "\n",
            "\n",
            "=============================================================================================================================\n",
            "=============================================================================================================================\n",
            "\n"
          ]
        },
        {
          "name": "stderr",
          "output_type": "stream",
          "text": [
            "[Succeeded / Failed / Skipped / Total] 45 / 16 / 4 / 65:  32%|███▎      | 65/200 [11:57<24:49, 11.04s/it]textattack: Saving checkpoint under \"checkpoints/1678219473208.ta.chkpt\" at 2023-03-07 20:04:33 after 65 attacks.\n"
          ]
        },
        {
          "name": "stdout",
          "output_type": "stream",
          "text": [
            "\n",
            "\n",
            "=============================================================================================================================\n",
            "=============================================================================================================================\n",
            "\n"
          ]
        },
        {
          "name": "stderr",
          "output_type": "stream",
          "text": [
            "[Succeeded / Failed / Skipped / Total] 50 / 16 / 4 / 70:  35%|███▌      | 70/200 [12:16<22:47, 10.52s/it]textattack: Saving checkpoint under \"checkpoints/1678219492144.ta.chkpt\" at 2023-03-07 20:04:52 after 70 attacks.\n"
          ]
        },
        {
          "name": "stdout",
          "output_type": "stream",
          "text": [
            "\n",
            "\n",
            "=============================================================================================================================\n",
            "=============================================================================================================================\n",
            "\n"
          ]
        },
        {
          "name": "stderr",
          "output_type": "stream",
          "text": [
            "[Succeeded / Failed / Skipped / Total] 54 / 17 / 4 / 75:  38%|███▊      | 75/200 [13:22<22:16, 10.69s/it]textattack: Saving checkpoint under \"checkpoints/1678219557901.ta.chkpt\" at 2023-03-07 20:05:57 after 75 attacks.\n"
          ]
        },
        {
          "name": "stdout",
          "output_type": "stream",
          "text": [
            "\n",
            "\n",
            "=============================================================================================================================\n",
            "=============================================================================================================================\n",
            "\n"
          ]
        },
        {
          "name": "stderr",
          "output_type": "stream",
          "text": [
            "[Succeeded / Failed / Skipped / Total] 58 / 17 / 5 / 80:  40%|████      | 80/200 [13:56<20:54, 10.45s/it]textattack: Saving checkpoint under \"checkpoints/1678219592060.ta.chkpt\" at 2023-03-07 20:06:32 after 80 attacks.\n"
          ]
        },
        {
          "name": "stdout",
          "output_type": "stream",
          "text": [
            "\n",
            "\n",
            "=============================================================================================================================\n",
            "=============================================================================================================================\n",
            "\n"
          ]
        },
        {
          "name": "stderr",
          "output_type": "stream",
          "text": [
            "[Succeeded / Failed / Skipped / Total] 61 / 18 / 6 / 85:  42%|████▎     | 85/200 [14:23<19:28, 10.16s/it]textattack: Saving checkpoint under \"checkpoints/1678219619648.ta.chkpt\" at 2023-03-07 20:06:59 after 85 attacks.\n"
          ]
        },
        {
          "name": "stdout",
          "output_type": "stream",
          "text": [
            "\n",
            "\n",
            "=============================================================================================================================\n",
            "=============================================================================================================================\n",
            "\n"
          ]
        },
        {
          "name": "stderr",
          "output_type": "stream",
          "text": [
            "[Succeeded / Failed / Skipped / Total] 65 / 19 / 6 / 90:  45%|████▌     | 90/200 [15:22<18:47, 10.25s/it]textattack: Saving checkpoint under \"checkpoints/1678219678601.ta.chkpt\" at 2023-03-07 20:07:58 after 90 attacks.\n"
          ]
        },
        {
          "name": "stdout",
          "output_type": "stream",
          "text": [
            "\n",
            "\n",
            "=============================================================================================================================\n",
            "=============================================================================================================================\n",
            "\n"
          ]
        },
        {
          "name": "stderr",
          "output_type": "stream",
          "text": [
            "[Succeeded / Failed / Skipped / Total] 69 / 20 / 6 / 95:  48%|████▊     | 95/200 [15:57<17:38, 10.08s/it]textattack: Saving checkpoint under \"checkpoints/1678219713853.ta.chkpt\" at 2023-03-07 20:08:33 after 95 attacks.\n"
          ]
        },
        {
          "name": "stdout",
          "output_type": "stream",
          "text": [
            "\n",
            "\n",
            "=============================================================================================================================\n",
            "=============================================================================================================================\n",
            "\n"
          ]
        },
        {
          "name": "stderr",
          "output_type": "stream",
          "text": [
            "[Succeeded / Failed / Skipped / Total] 72 / 22 / 6 / 100:  50%|█████     | 100/200 [17:10<17:10, 10.30s/it]textattack: Saving checkpoint under \"checkpoints/1678219786010.ta.chkpt\" at 2023-03-07 20:09:46 after 100 attacks.\n"
          ]
        },
        {
          "name": "stdout",
          "output_type": "stream",
          "text": [
            "\n",
            "\n",
            "=============================================================================================================================\n",
            "=============================================================================================================================\n",
            "\n"
          ]
        },
        {
          "name": "stderr",
          "output_type": "stream",
          "text": [
            "[Succeeded / Failed / Skipped / Total] 77 / 22 / 6 / 105:  52%|█████▎    | 105/200 [17:28<15:48,  9.98s/it]textattack: Saving checkpoint under \"checkpoints/1678219803931.ta.chkpt\" at 2023-03-07 20:10:03 after 105 attacks.\n"
          ]
        },
        {
          "name": "stdout",
          "output_type": "stream",
          "text": [
            "\n",
            "\n",
            "=============================================================================================================================\n",
            "=============================================================================================================================\n",
            "\n"
          ]
        },
        {
          "name": "stderr",
          "output_type": "stream",
          "text": [
            "[Succeeded / Failed / Skipped / Total] 81 / 23 / 6 / 110:  55%|█████▌    | 110/200 [18:05<14:48,  9.87s/it]textattack: Saving checkpoint under \"checkpoints/1678219841718.ta.chkpt\" at 2023-03-07 20:10:41 after 110 attacks.\n"
          ]
        },
        {
          "name": "stdout",
          "output_type": "stream",
          "text": [
            "\n",
            "\n",
            "=============================================================================================================================\n",
            "=============================================================================================================================\n",
            "\n"
          ]
        },
        {
          "name": "stderr",
          "output_type": "stream",
          "text": [
            "[Succeeded / Failed / Skipped / Total] 84 / 24 / 7 / 115:  57%|█████▊    | 115/200 [18:41<13:48,  9.75s/it]textattack: Saving checkpoint under \"checkpoints/1678219877235.ta.chkpt\" at 2023-03-07 20:11:17 after 115 attacks.\n"
          ]
        },
        {
          "name": "stdout",
          "output_type": "stream",
          "text": [
            "\n",
            "\n",
            "=============================================================================================================================\n",
            "=============================================================================================================================\n",
            "\n"
          ]
        },
        {
          "name": "stderr",
          "output_type": "stream",
          "text": [
            "[Succeeded / Failed / Skipped / Total] 88 / 25 / 7 / 120:  60%|██████    | 120/200 [19:35<13:03,  9.79s/it]textattack: Saving checkpoint under \"checkpoints/1678219931031.ta.chkpt\" at 2023-03-07 20:12:11 after 120 attacks.\n",
            "[Succeeded / Failed / Skipped / Total] 88 / 25 / 8 / 121:  60%|██████    | 121/200 [19:35<12:47,  9.71s/it]"
          ]
        },
        {
          "name": "stdout",
          "output_type": "stream",
          "text": [
            "\n",
            "\n",
            "=============================================================================================================================\n",
            "=============================================================================================================================\n",
            "\n"
          ]
        },
        {
          "name": "stderr",
          "output_type": "stream",
          "text": [
            "[Succeeded / Failed / Skipped / Total] 90 / 27 / 8 / 125:  62%|██████▎   | 125/200 [20:35<12:21,  9.89s/it]textattack: Saving checkpoint under \"checkpoints/1678219991845.ta.chkpt\" at 2023-03-07 20:13:11 after 125 attacks.\n"
          ]
        },
        {
          "name": "stdout",
          "output_type": "stream",
          "text": [
            "\n",
            "\n",
            "=============================================================================================================================\n",
            "=============================================================================================================================\n",
            "\n"
          ]
        },
        {
          "name": "stderr",
          "output_type": "stream",
          "text": [
            "[Succeeded / Failed / Skipped / Total] 93 / 29 / 8 / 130:  65%|██████▌   | 130/200 [21:22<11:30,  9.86s/it]textattack: Saving checkpoint under \"checkpoints/1678220038236.ta.chkpt\" at 2023-03-07 20:13:58 after 130 attacks.\n"
          ]
        },
        {
          "name": "stdout",
          "output_type": "stream",
          "text": [
            "\n",
            "\n",
            "=============================================================================================================================\n",
            "=============================================================================================================================\n",
            "\n"
          ]
        },
        {
          "name": "stderr",
          "output_type": "stream",
          "text": [
            "[Succeeded / Failed / Skipped / Total] 97 / 30 / 8 / 135:  68%|██████▊   | 135/200 [21:57<10:34,  9.76s/it]textattack: Saving checkpoint under \"checkpoints/1678220073375.ta.chkpt\" at 2023-03-07 20:14:33 after 135 attacks.\n"
          ]
        },
        {
          "name": "stdout",
          "output_type": "stream",
          "text": [
            "\n",
            "\n",
            "=============================================================================================================================\n",
            "=============================================================================================================================\n",
            "\n"
          ]
        },
        {
          "name": "stderr",
          "output_type": "stream",
          "text": [
            "[Succeeded / Failed / Skipped / Total] 101 / 31 / 8 / 140:  70%|███████   | 140/200 [22:35<09:40,  9.68s/it]textattack: Saving checkpoint under \"checkpoints/1678220111134.ta.chkpt\" at 2023-03-07 20:15:11 after 140 attacks.\n"
          ]
        },
        {
          "name": "stdout",
          "output_type": "stream",
          "text": [
            "\n",
            "\n",
            "=============================================================================================================================\n",
            "=============================================================================================================================\n",
            "\n"
          ]
        },
        {
          "name": "stderr",
          "output_type": "stream",
          "text": [
            "[Succeeded / Failed / Skipped / Total] 105 / 31 / 9 / 145:  72%|███████▎  | 145/200 [22:44<08:37,  9.41s/it]textattack: Saving checkpoint under \"checkpoints/1678220120402.ta.chkpt\" at 2023-03-07 20:15:20 after 145 attacks.\n"
          ]
        },
        {
          "name": "stdout",
          "output_type": "stream",
          "text": [
            "\n",
            "\n",
            "=============================================================================================================================\n",
            "=============================================================================================================================\n",
            "\n"
          ]
        },
        {
          "name": "stderr",
          "output_type": "stream",
          "text": [
            "[Succeeded / Failed / Skipped / Total] 108 / 33 / 9 / 150:  75%|███████▌  | 150/200 [23:47<07:55,  9.52s/it]textattack: Saving checkpoint under \"checkpoints/1678220183139.ta.chkpt\" at 2023-03-07 20:16:23 after 150 attacks.\n"
          ]
        },
        {
          "name": "stdout",
          "output_type": "stream",
          "text": [
            "\n",
            "\n",
            "=============================================================================================================================\n",
            "=============================================================================================================================\n",
            "\n"
          ]
        },
        {
          "name": "stderr",
          "output_type": "stream",
          "text": [
            "[Succeeded / Failed / Skipped / Total] 112 / 34 / 9 / 155:  78%|███████▊  | 155/200 [24:29<07:06,  9.48s/it]textattack: Saving checkpoint under \"checkpoints/1678220225140.ta.chkpt\" at 2023-03-07 20:17:05 after 155 attacks.\n",
            "[Succeeded / Failed / Skipped / Total] 112 / 34 / 10 / 156:  78%|███████▊  | 156/200 [24:29<06:54,  9.42s/it]"
          ]
        },
        {
          "name": "stdout",
          "output_type": "stream",
          "text": [
            "\n",
            "\n",
            "=============================================================================================================================\n",
            "=============================================================================================================================\n",
            "\n"
          ]
        },
        {
          "name": "stderr",
          "output_type": "stream",
          "text": [
            "[Succeeded / Failed / Skipped / Total] 115 / 35 / 10 / 160:  80%|████████  | 160/200 [25:03<06:15,  9.40s/it]textattack: Saving checkpoint under \"checkpoints/1678220259626.ta.chkpt\" at 2023-03-07 20:17:39 after 160 attacks.\n"
          ]
        },
        {
          "name": "stdout",
          "output_type": "stream",
          "text": [
            "\n",
            "\n",
            "=============================================================================================================================\n",
            "=============================================================================================================================\n",
            "\n"
          ]
        },
        {
          "name": "stderr",
          "output_type": "stream",
          "text": [
            "[Succeeded / Failed / Skipped / Total] 120 / 35 / 10 / 165:  82%|████████▎ | 165/200 [25:49<05:28,  9.39s/it]textattack: Saving checkpoint under \"checkpoints/1678220305446.ta.chkpt\" at 2023-03-07 20:18:25 after 165 attacks.\n"
          ]
        },
        {
          "name": "stdout",
          "output_type": "stream",
          "text": [
            "\n",
            "\n",
            "=============================================================================================================================\n",
            "=============================================================================================================================\n",
            "\n"
          ]
        },
        {
          "name": "stderr",
          "output_type": "stream",
          "text": [
            "[Succeeded / Failed / Skipped / Total] 124 / 36 / 10 / 170:  85%|████████▌ | 170/200 [26:27<04:40,  9.34s/it]textattack: Saving checkpoint under \"checkpoints/1678220343850.ta.chkpt\" at 2023-03-07 20:19:03 after 170 attacks.\n"
          ]
        },
        {
          "name": "stdout",
          "output_type": "stream",
          "text": [
            "\n",
            "\n",
            "=============================================================================================================================\n",
            "=============================================================================================================================\n",
            "\n"
          ]
        },
        {
          "name": "stderr",
          "output_type": "stream",
          "text": [
            "[Succeeded / Failed / Skipped / Total] 127 / 37 / 11 / 175:  88%|████████▊ | 175/200 [27:40<03:57,  9.49s/it]textattack: Saving checkpoint under \"checkpoints/1678220416411.ta.chkpt\" at 2023-03-07 20:20:16 after 175 attacks.\n"
          ]
        },
        {
          "name": "stdout",
          "output_type": "stream",
          "text": [
            "\n",
            "\n",
            "=============================================================================================================================\n",
            "=============================================================================================================================\n",
            "\n"
          ]
        },
        {
          "name": "stderr",
          "output_type": "stream",
          "text": [
            "[Succeeded / Failed / Skipped / Total] 132 / 37 / 11 / 180:  90%|█████████ | 180/200 [28:07<03:07,  9.37s/it]textattack: Saving checkpoint under \"checkpoints/1678220443158.ta.chkpt\" at 2023-03-07 20:20:43 after 180 attacks.\n"
          ]
        },
        {
          "name": "stdout",
          "output_type": "stream",
          "text": [
            "\n",
            "\n",
            "=============================================================================================================================\n",
            "=============================================================================================================================\n",
            "\n"
          ]
        },
        {
          "name": "stderr",
          "output_type": "stream",
          "text": [
            "[Succeeded / Failed / Skipped / Total] 136 / 38 / 11 / 185:  92%|█████████▎| 185/200 [29:05<02:21,  9.44s/it]textattack: Saving checkpoint under \"checkpoints/1678220501716.ta.chkpt\" at 2023-03-07 20:21:41 after 185 attacks.\n"
          ]
        },
        {
          "name": "stdout",
          "output_type": "stream",
          "text": [
            "\n",
            "\n",
            "=============================================================================================================================\n",
            "=============================================================================================================================\n",
            "\n"
          ]
        },
        {
          "name": "stderr",
          "output_type": "stream",
          "text": [
            "[Succeeded / Failed / Skipped / Total] 140 / 38 / 12 / 190:  95%|█████████▌| 190/200 [29:59<01:34,  9.47s/it]textattack: Saving checkpoint under \"checkpoints/1678220555486.ta.chkpt\" at 2023-03-07 20:22:35 after 190 attacks.\n"
          ]
        },
        {
          "name": "stdout",
          "output_type": "stream",
          "text": [
            "\n",
            "\n",
            "=============================================================================================================================\n",
            "=============================================================================================================================\n",
            "\n"
          ]
        },
        {
          "name": "stderr",
          "output_type": "stream",
          "text": [
            "[Succeeded / Failed / Skipped / Total] 143 / 40 / 12 / 195:  98%|█████████▊| 195/200 [31:22<00:48,  9.65s/it]textattack: Saving checkpoint under \"checkpoints/1678220638182.ta.chkpt\" at 2023-03-07 20:23:58 after 195 attacks.\n"
          ]
        },
        {
          "name": "stdout",
          "output_type": "stream",
          "text": [
            "\n",
            "\n",
            "=============================================================================================================================\n",
            "=============================================================================================================================\n",
            "\n"
          ]
        },
        {
          "name": "stderr",
          "output_type": "stream",
          "text": [
            "[Succeeded / Failed / Skipped / Total] 148 / 40 / 12 / 200: 100%|██████████| 200/200 [31:48<00:00,  9.54s/it]textattack: Saving checkpoint under \"checkpoints/1678220664388.ta.chkpt\" at 2023-03-07 20:24:24 after 200 attacks.\n",
            "[Succeeded / Failed / Skipped / Total] 148 / 40 / 12 / 200: 100%|██████████| 200/200 [31:48<00:00,  9.54s/it]"
          ]
        },
        {
          "name": "stdout",
          "output_type": "stream",
          "text": [
            "\n",
            "\n",
            "=============================================================================================================================\n",
            "=============================================================================================================================\n",
            "\n",
            "\n",
            "+-------------------------------+--------+\n",
            "| Attack Results                |        |\n",
            "+-------------------------------+--------+\n",
            "| Number of successful attacks: | 148    |\n",
            "| Number of failed attacks:     | 40     |\n",
            "| Number of skipped attacks:    | 12     |\n",
            "| Original accuracy:            | 94.0%  |\n",
            "| Accuracy under attack:        | 20.0%  |\n",
            "| Attack success rate:          | 78.72% |\n",
            "| Average perturbed word %:     | 7.36%  |\n",
            "| Average num. words per input: | 41.98  |\n",
            "| Avg num queries:              | 292.99 |\n",
            "+-------------------------------+--------+\n"
          ]
        },
        {
          "name": "stderr",
          "output_type": "stream",
          "text": [
            "\n"
          ]
        },
        {
          "data": {
            "text/plain": [
              "[<textattack.attack_results.successful_attack_result.SuccessfulAttackResult at 0x7fa4080fb820>,\n",
              " <textattack.attack_results.failed_attack_result.FailedAttackResult at 0x7fa4080fbfd0>,\n",
              " <textattack.attack_results.successful_attack_result.SuccessfulAttackResult at 0x7fa3ca70af70>,\n",
              " <textattack.attack_results.successful_attack_result.SuccessfulAttackResult at 0x7fa3cad2a400>,\n",
              " <textattack.attack_results.successful_attack_result.SuccessfulAttackResult at 0x7fa3cad2a8b0>,\n",
              " <textattack.attack_results.failed_attack_result.FailedAttackResult at 0x7fa408105490>,\n",
              " <textattack.attack_results.failed_attack_result.FailedAttackResult at 0x7fa3e5a77220>,\n",
              " <textattack.attack_results.failed_attack_result.FailedAttackResult at 0x7fa4080fdd90>,\n",
              " <textattack.attack_results.successful_attack_result.SuccessfulAttackResult at 0x7fa3e4142af0>,\n",
              " <textattack.attack_results.successful_attack_result.SuccessfulAttackResult at 0x7fa3cad2a5b0>,\n",
              " <textattack.attack_results.failed_attack_result.FailedAttackResult at 0x7fa3b1a8be50>,\n",
              " <textattack.attack_results.failed_attack_result.FailedAttackResult at 0x7fa4080fd490>,\n",
              " <textattack.attack_results.successful_attack_result.SuccessfulAttackResult at 0x7fa3cb999700>,\n",
              " <textattack.attack_results.successful_attack_result.SuccessfulAttackResult at 0x7fa3e9245c10>,\n",
              " <textattack.attack_results.successful_attack_result.SuccessfulAttackResult at 0x7fa40811c0a0>,\n",
              " <textattack.attack_results.successful_attack_result.SuccessfulAttackResult at 0x7fa3cad2ae50>,\n",
              " <textattack.attack_results.failed_attack_result.FailedAttackResult at 0x7fa5966d8ac0>,\n",
              " <textattack.attack_results.failed_attack_result.FailedAttackResult at 0x7fa3cad2a100>,\n",
              " <textattack.attack_results.successful_attack_result.SuccessfulAttackResult at 0x7fa40811c850>,\n",
              " <textattack.attack_results.successful_attack_result.SuccessfulAttackResult at 0x7fa3e49b8760>,\n",
              " <textattack.attack_results.successful_attack_result.SuccessfulAttackResult at 0x7fa3c8706f40>,\n",
              " <textattack.attack_results.failed_attack_result.FailedAttackResult at 0x7fa3e9bcb670>,\n",
              " <textattack.attack_results.successful_attack_result.SuccessfulAttackResult at 0x7fa3e46ee400>,\n",
              " <textattack.attack_results.skipped_attack_result.SkippedAttackResult at 0x7fa3e46eec10>,\n",
              " <textattack.attack_results.successful_attack_result.SuccessfulAttackResult at 0x7fa3d180d9d0>,\n",
              " <textattack.attack_results.successful_attack_result.SuccessfulAttackResult at 0x7fa3ca0c9430>,\n",
              " <textattack.attack_results.successful_attack_result.SuccessfulAttackResult at 0x7fa3d0dc2cd0>,\n",
              " <textattack.attack_results.successful_attack_result.SuccessfulAttackResult at 0x7fa3e5066820>,\n",
              " <textattack.attack_results.failed_attack_result.FailedAttackResult at 0x7fa3e935ec70>,\n",
              " <textattack.attack_results.successful_attack_result.SuccessfulAttackResult at 0x7fa3ca70a460>,\n",
              " <textattack.attack_results.failed_attack_result.FailedAttackResult at 0x7fa3e935edf0>,\n",
              " <textattack.attack_results.successful_attack_result.SuccessfulAttackResult at 0x7fa3d1bd8220>,\n",
              " <textattack.attack_results.successful_attack_result.SuccessfulAttackResult at 0x7fa3afb94fd0>,\n",
              " <textattack.attack_results.successful_attack_result.SuccessfulAttackResult at 0x7fa40811c5b0>,\n",
              " <textattack.attack_results.successful_attack_result.SuccessfulAttackResult at 0x7fa3e5883040>,\n",
              " <textattack.attack_results.successful_attack_result.SuccessfulAttackResult at 0x7fa3cb999610>,\n",
              " <textattack.attack_results.skipped_attack_result.SkippedAttackResult at 0x7fa3caf206d0>,\n",
              " <textattack.attack_results.successful_attack_result.SuccessfulAttackResult at 0x7fa3d0759160>,\n",
              " <textattack.attack_results.successful_attack_result.SuccessfulAttackResult at 0x7fa3d02ba130>,\n",
              " <textattack.attack_results.successful_attack_result.SuccessfulAttackResult at 0x7fa3c8706640>,\n",
              " <textattack.attack_results.successful_attack_result.SuccessfulAttackResult at 0x7fa3e5883250>,\n",
              " <textattack.attack_results.successful_attack_result.SuccessfulAttackResult at 0x7fa3ca0c9d00>,\n",
              " <textattack.attack_results.successful_attack_result.SuccessfulAttackResult at 0x7fa3d11a2a90>,\n",
              " <textattack.attack_results.successful_attack_result.SuccessfulAttackResult at 0x7fa3d11a22b0>,\n",
              " <textattack.attack_results.successful_attack_result.SuccessfulAttackResult at 0x7fa3c5bd8640>,\n",
              " <textattack.attack_results.failed_attack_result.FailedAttackResult at 0x7fa3e9245190>,\n",
              " <textattack.attack_results.successful_attack_result.SuccessfulAttackResult at 0x7fa3ca0c90d0>,\n",
              " <textattack.attack_results.skipped_attack_result.SkippedAttackResult at 0x7fa3ca0c9c70>,\n",
              " <textattack.attack_results.successful_attack_result.SuccessfulAttackResult at 0x7fa3e5066e50>,\n",
              " <textattack.attack_results.successful_attack_result.SuccessfulAttackResult at 0x7fa3e5883160>,\n",
              " <textattack.attack_results.successful_attack_result.SuccessfulAttackResult at 0x7fa3cad2a4f0>,\n",
              " <textattack.attack_results.successful_attack_result.SuccessfulAttackResult at 0x7fa3d0dc2ee0>,\n",
              " <textattack.attack_results.successful_attack_result.SuccessfulAttackResult at 0x7fa3d0dc2df0>,\n",
              " <textattack.attack_results.successful_attack_result.SuccessfulAttackResult at 0x7fa3c67a3880>,\n",
              " <textattack.attack_results.failed_attack_result.FailedAttackResult at 0x7fa3cad2a340>,\n",
              " <textattack.attack_results.successful_attack_result.SuccessfulAttackResult at 0x7fa3d0dc2e80>,\n",
              " <textattack.attack_results.skipped_attack_result.SkippedAttackResult at 0x7fa3d0dc28b0>,\n",
              " <textattack.attack_results.failed_attack_result.FailedAttackResult at 0x7fa3e4a6c190>,\n",
              " <textattack.attack_results.successful_attack_result.SuccessfulAttackResult at 0x7fa3e410ebe0>,\n",
              " <textattack.attack_results.successful_attack_result.SuccessfulAttackResult at 0x7fa3c8a2ae20>,\n",
              " <textattack.attack_results.successful_attack_result.SuccessfulAttackResult at 0x7fa3b13fc1f0>,\n",
              " <textattack.attack_results.successful_attack_result.SuccessfulAttackResult at 0x7fa3e4a6c070>,\n",
              " <textattack.attack_results.successful_attack_result.SuccessfulAttackResult at 0x7fa3b172cd30>,\n",
              " <textattack.attack_results.failed_attack_result.FailedAttackResult at 0x7fa3e92b5e80>,\n",
              " <textattack.attack_results.failed_attack_result.FailedAttackResult at 0x7fa3c67a34c0>,\n",
              " <textattack.attack_results.successful_attack_result.SuccessfulAttackResult at 0x7fa595e82dc0>,\n",
              " <textattack.attack_results.successful_attack_result.SuccessfulAttackResult at 0x7fa3c8041700>,\n",
              " <textattack.attack_results.successful_attack_result.SuccessfulAttackResult at 0x7fa3d07198e0>,\n",
              " <textattack.attack_results.successful_attack_result.SuccessfulAttackResult at 0x7fa3c9de6af0>,\n",
              " <textattack.attack_results.successful_attack_result.SuccessfulAttackResult at 0x7fa3d0719940>,\n",
              " <textattack.attack_results.successful_attack_result.SuccessfulAttackResult at 0x7fa3c8041b80>,\n",
              " <textattack.attack_results.successful_attack_result.SuccessfulAttackResult at 0x7fa3b8069d00>,\n",
              " <textattack.attack_results.failed_attack_result.FailedAttackResult at 0x7fa3e4a6c370>,\n",
              " <textattack.attack_results.successful_attack_result.SuccessfulAttackResult at 0x7fa3d1d5b4f0>,\n",
              " <textattack.attack_results.successful_attack_result.SuccessfulAttackResult at 0x7fa3e4a6c820>,\n",
              " <textattack.attack_results.successful_attack_result.SuccessfulAttackResult at 0x7fa3c7b9ceb0>,\n",
              " <textattack.attack_results.successful_attack_result.SuccessfulAttackResult at 0x7fa3c96dba00>,\n",
              " <textattack.attack_results.successful_attack_result.SuccessfulAttackResult at 0x7fa3d0dc21f0>,\n",
              " <textattack.attack_results.successful_attack_result.SuccessfulAttackResult at 0x7fa3d0759700>,\n",
              " <textattack.attack_results.skipped_attack_result.SkippedAttackResult at 0x7fa3d07599d0>,\n",
              " <textattack.attack_results.successful_attack_result.SuccessfulAttackResult at 0x7fa3c93f79d0>,\n",
              " <textattack.attack_results.successful_attack_result.SuccessfulAttackResult at 0x7fa3d07597f0>,\n",
              " <textattack.attack_results.failed_attack_result.FailedAttackResult at 0x7fa3d0acd520>,\n",
              " <textattack.attack_results.skipped_attack_result.SkippedAttackResult at 0x7fa3d0acda90>,\n",
              " <textattack.attack_results.successful_attack_result.SuccessfulAttackResult at 0x7fa3d0dc2280>,\n",
              " <textattack.attack_results.successful_attack_result.SuccessfulAttackResult at 0x7fa3cad2afa0>,\n",
              " <textattack.attack_results.successful_attack_result.SuccessfulAttackResult at 0x7fa3ca70a040>,\n",
              " <textattack.attack_results.successful_attack_result.SuccessfulAttackResult at 0x7fa3cad2a220>,\n",
              " <textattack.attack_results.successful_attack_result.SuccessfulAttackResult at 0x7fa3ca70a910>,\n",
              " <textattack.attack_results.failed_attack_result.FailedAttackResult at 0x7fa3e41fa160>,\n",
              " <textattack.attack_results.failed_attack_result.FailedAttackResult at 0x7fa3b13fc130>,\n",
              " <textattack.attack_results.successful_attack_result.SuccessfulAttackResult at 0x7fa3b4a33760>,\n",
              " <textattack.attack_results.successful_attack_result.SuccessfulAttackResult at 0x7fa3c8041160>,\n",
              " <textattack.attack_results.successful_attack_result.SuccessfulAttackResult at 0x7fa3d02ba5b0>,\n",
              " <textattack.attack_results.successful_attack_result.SuccessfulAttackResult at 0x7fa3d0003730>,\n",
              " <textattack.attack_results.successful_attack_result.SuccessfulAttackResult at 0x7fa3b6a5dcd0>,\n",
              " <textattack.attack_results.failed_attack_result.FailedAttackResult at 0x7fa3c9068d30>,\n",
              " <textattack.attack_results.failed_attack_result.FailedAttackResult at 0x7fa3c8706250>,\n",
              " <textattack.attack_results.successful_attack_result.SuccessfulAttackResult at 0x7fa3af709e80>,\n",
              " <textattack.attack_results.successful_attack_result.SuccessfulAttackResult at 0x7fa3d0003130>,\n",
              " <textattack.attack_results.successful_attack_result.SuccessfulAttackResult at 0x7fa3d02bafd0>,\n",
              " <textattack.attack_results.successful_attack_result.SuccessfulAttackResult at 0x7fa3c7b8f760>,\n",
              " <textattack.attack_results.successful_attack_result.SuccessfulAttackResult at 0x7fa3b6d55c40>,\n",
              " <textattack.attack_results.successful_attack_result.SuccessfulAttackResult at 0x7fa3c996ca00>,\n",
              " <textattack.attack_results.successful_attack_result.SuccessfulAttackResult at 0x7fa3e4a6cfa0>,\n",
              " <textattack.attack_results.successful_attack_result.SuccessfulAttackResult at 0x7fa3c67a3dc0>,\n",
              " <textattack.attack_results.successful_attack_result.SuccessfulAttackResult at 0x7fa3b6a5db50>,\n",
              " <textattack.attack_results.successful_attack_result.SuccessfulAttackResult at 0x7fa3d1d5b430>,\n",
              " <textattack.attack_results.failed_attack_result.FailedAttackResult at 0x7fa3d0acd8b0>,\n",
              " <textattack.attack_results.successful_attack_result.SuccessfulAttackResult at 0x7fa3d0dc2490>,\n",
              " <textattack.attack_results.successful_attack_result.SuccessfulAttackResult at 0x7fa3e5279eb0>,\n",
              " <textattack.attack_results.skipped_attack_result.SkippedAttackResult at 0x7fa3e5279c40>,\n",
              " <textattack.attack_results.successful_attack_result.SuccessfulAttackResult at 0x7fa3d0acd4c0>,\n",
              " <textattack.attack_results.failed_attack_result.FailedAttackResult at 0x7fa3d11a20d0>,\n",
              " <textattack.attack_results.successful_attack_result.SuccessfulAttackResult at 0x7fa3b6a5d550>,\n",
              " <textattack.attack_results.successful_attack_result.SuccessfulAttackResult at 0x7fa3c7e07070>,\n",
              " <textattack.attack_results.failed_attack_result.FailedAttackResult at 0x7fa3b8069d30>,\n",
              " <textattack.attack_results.successful_attack_result.SuccessfulAttackResult at 0x7fa3b6a5da60>,\n",
              " <textattack.attack_results.successful_attack_result.SuccessfulAttackResult at 0x7fa3d1fde970>,\n",
              " <textattack.attack_results.successful_attack_result.SuccessfulAttackResult at 0x7fa3c5f78160>,\n",
              " <textattack.attack_results.skipped_attack_result.SkippedAttackResult at 0x7fa3c5f78e50>,\n",
              " <textattack.attack_results.failed_attack_result.FailedAttackResult at 0x7fa3c8706c70>,\n",
              " <textattack.attack_results.successful_attack_result.SuccessfulAttackResult at 0x7fa3c8706fd0>,\n",
              " <textattack.attack_results.successful_attack_result.SuccessfulAttackResult at 0x7fa3c8706c40>,\n",
              " <textattack.attack_results.failed_attack_result.FailedAttackResult at 0x7fa3e935e4c0>,\n",
              " <textattack.attack_results.successful_attack_result.SuccessfulAttackResult at 0x7fa3d0d09ee0>,\n",
              " <textattack.attack_results.successful_attack_result.SuccessfulAttackResult at 0x7fa3e4849160>,\n",
              " <textattack.attack_results.successful_attack_result.SuccessfulAttackResult at 0x7fa40811cf40>,\n",
              " <textattack.attack_results.failed_attack_result.FailedAttackResult at 0x7fa3b13fc880>,\n",
              " <textattack.attack_results.failed_attack_result.FailedAttackResult at 0x7fa3c2d7a580>,\n",
              " <textattack.attack_results.successful_attack_result.SuccessfulAttackResult at 0x7fa3cad2ab80>,\n",
              " <textattack.attack_results.successful_attack_result.SuccessfulAttackResult at 0x7fa3c96cd700>,\n",
              " <textattack.attack_results.successful_attack_result.SuccessfulAttackResult at 0x7fa3e5883280>,\n",
              " <textattack.attack_results.successful_attack_result.SuccessfulAttackResult at 0x7fa3cad2aca0>,\n",
              " <textattack.attack_results.failed_attack_result.FailedAttackResult at 0x7fa3c564c0a0>,\n",
              " <textattack.attack_results.successful_attack_result.SuccessfulAttackResult at 0x7fa3cad2a670>,\n",
              " <textattack.attack_results.successful_attack_result.SuccessfulAttackResult at 0x7fa3b172c6a0>,\n",
              " <textattack.attack_results.failed_attack_result.FailedAttackResult at 0x7fa3e4f6cfd0>,\n",
              " <textattack.attack_results.successful_attack_result.SuccessfulAttackResult at 0x7fa3e4f6c4f0>,\n",
              " <textattack.attack_results.successful_attack_result.SuccessfulAttackResult at 0x7fa3c8041820>,\n",
              " <textattack.attack_results.successful_attack_result.SuccessfulAttackResult at 0x7fa3cad2a700>,\n",
              " <textattack.attack_results.skipped_attack_result.SkippedAttackResult at 0x7fa3e4f6cf10>,\n",
              " <textattack.attack_results.successful_attack_result.SuccessfulAttackResult at 0x7fa3b6be59a0>,\n",
              " <textattack.attack_results.successful_attack_result.SuccessfulAttackResult at 0x7fa3e592beb0>,\n",
              " <textattack.attack_results.successful_attack_result.SuccessfulAttackResult at 0x7fa3b13fcdf0>,\n",
              " <textattack.attack_results.successful_attack_result.SuccessfulAttackResult at 0x7fa3e4849550>,\n",
              " <textattack.attack_results.successful_attack_result.SuccessfulAttackResult at 0x7fa3c96dbf10>,\n",
              " <textattack.attack_results.failed_attack_result.FailedAttackResult at 0x7fa4081866d0>,\n",
              " <textattack.attack_results.failed_attack_result.FailedAttackResult at 0x7fa3d0d09550>,\n",
              " <textattack.attack_results.successful_attack_result.SuccessfulAttackResult at 0x7fa3b6a5d430>,\n",
              " <textattack.attack_results.successful_attack_result.SuccessfulAttackResult at 0x7fa3c96db880>,\n",
              " <textattack.attack_results.successful_attack_result.SuccessfulAttackResult at 0x7fa3c9ba9610>,\n",
              " <textattack.attack_results.successful_attack_result.SuccessfulAttackResult at 0x7fa3c4685340>,\n",
              " <textattack.attack_results.failed_attack_result.FailedAttackResult at 0x7fa3e4f6c370>,\n",
              " <textattack.attack_results.successful_attack_result.SuccessfulAttackResult at 0x7fa3ca692f10>,\n",
              " <textattack.attack_results.skipped_attack_result.SkippedAttackResult at 0x7fa3ca692220>,\n",
              " <textattack.attack_results.successful_attack_result.SuccessfulAttackResult at 0x7fa3c9a0ae50>,\n",
              " <textattack.attack_results.successful_attack_result.SuccessfulAttackResult at 0x7fa3d11a2730>,\n",
              " <textattack.attack_results.successful_attack_result.SuccessfulAttackResult at 0x7fa3b6dbbf70>,\n",
              " <textattack.attack_results.failed_attack_result.FailedAttackResult at 0x7fa3c8706100>,\n",
              " <textattack.attack_results.successful_attack_result.SuccessfulAttackResult at 0x7fa3e4f6caf0>,\n",
              " <textattack.attack_results.successful_attack_result.SuccessfulAttackResult at 0x7fa3c8a2a130>,\n",
              " <textattack.attack_results.successful_attack_result.SuccessfulAttackResult at 0x7fa3c96dbfa0>,\n",
              " <textattack.attack_results.successful_attack_result.SuccessfulAttackResult at 0x7fa3d02baf10>,\n",
              " <textattack.attack_results.successful_attack_result.SuccessfulAttackResult at 0x7fa3d0d095e0>,\n",
              " <textattack.attack_results.successful_attack_result.SuccessfulAttackResult at 0x7fa3c9ba9970>,\n",
              " <textattack.attack_results.successful_attack_result.SuccessfulAttackResult at 0x7fa3b6d55dc0>,\n",
              " <textattack.attack_results.failed_attack_result.FailedAttackResult at 0x7fa3d0dc2160>,\n",
              " <textattack.attack_results.successful_attack_result.SuccessfulAttackResult at 0x7fa3d02baa90>,\n",
              " <textattack.attack_results.successful_attack_result.SuccessfulAttackResult at 0x7fa3c93f77c0>,\n",
              " <textattack.attack_results.failed_attack_result.FailedAttackResult at 0x7fa3c96db0d0>,\n",
              " <textattack.attack_results.successful_attack_result.SuccessfulAttackResult at 0x7fa3c9ba92b0>,\n",
              " <textattack.attack_results.successful_attack_result.SuccessfulAttackResult at 0x7fa3cae67b80>,\n",
              " <textattack.attack_results.skipped_attack_result.SkippedAttackResult at 0x7fa3cae67970>,\n",
              " <textattack.attack_results.successful_attack_result.SuccessfulAttackResult at 0x7fa3e4a6cee0>,\n",
              " <textattack.attack_results.successful_attack_result.SuccessfulAttackResult at 0x7fa3c9ba91f0>,\n",
              " <textattack.attack_results.successful_attack_result.SuccessfulAttackResult at 0x7fa3d0759670>,\n",
              " <textattack.attack_results.successful_attack_result.SuccessfulAttackResult at 0x7fa3c9ba95b0>,\n",
              " <textattack.attack_results.successful_attack_result.SuccessfulAttackResult at 0x7fa3b6d553a0>,\n",
              " <textattack.attack_results.successful_attack_result.SuccessfulAttackResult at 0x7fa3d0dc24f0>,\n",
              " <textattack.attack_results.failed_attack_result.FailedAttackResult at 0x7fa3d02ba280>,\n",
              " <textattack.attack_results.successful_attack_result.SuccessfulAttackResult at 0x7fa3c9da80a0>,\n",
              " <textattack.attack_results.successful_attack_result.SuccessfulAttackResult at 0x7fa3c9ba99a0>,\n",
              " <textattack.attack_results.successful_attack_result.SuccessfulAttackResult at 0x7fa3b6dbba90>,\n",
              " <textattack.attack_results.successful_attack_result.SuccessfulAttackResult at 0x7fa3e4f4e220>,\n",
              " <textattack.attack_results.successful_attack_result.SuccessfulAttackResult at 0x7fa3e5279430>,\n",
              " <textattack.attack_results.successful_attack_result.SuccessfulAttackResult at 0x7fa3e4f6c1c0>,\n",
              " <textattack.attack_results.successful_attack_result.SuccessfulAttackResult at 0x7fa3c5bd8400>,\n",
              " <textattack.attack_results.skipped_attack_result.SkippedAttackResult at 0x7fa3c5bd8490>,\n",
              " <textattack.attack_results.successful_attack_result.SuccessfulAttackResult at 0x7fa3e4f4e4f0>,\n",
              " <textattack.attack_results.successful_attack_result.SuccessfulAttackResult at 0x7fa3c96dbbe0>,\n",
              " <textattack.attack_results.successful_attack_result.SuccessfulAttackResult at 0x7fa3e4f4eeb0>,\n",
              " <textattack.attack_results.failed_attack_result.FailedAttackResult at 0x7fa3e4a6c7c0>,\n",
              " <textattack.attack_results.failed_attack_result.FailedAttackResult at 0x7fa3d0007d30>,\n",
              " <textattack.attack_results.successful_attack_result.SuccessfulAttackResult at 0x7fa3c8706be0>,\n",
              " <textattack.attack_results.successful_attack_result.SuccessfulAttackResult at 0x7fa3b7f08970>,\n",
              " <textattack.attack_results.successful_attack_result.SuccessfulAttackResult at 0x7fa3c87061c0>,\n",
              " <textattack.attack_results.successful_attack_result.SuccessfulAttackResult at 0x7fa3c8706e50>,\n",
              " <textattack.attack_results.successful_attack_result.SuccessfulAttackResult at 0x7fa3c8706ca0>,\n",
              " <textattack.attack_results.successful_attack_result.SuccessfulAttackResult at 0x7fa3d1d65c10>]"
            ]
          },
          "execution_count": 65,
          "metadata": {},
          "output_type": "execute_result"
        }
      ],
      "source": [
        "# first generate adversarial examples using textattack\n",
        "# recipe: textfooler\n",
        "model = transformers.AutoModelForSequenceClassification.from_pretrained(\"textattack/roberta-base-ag-news\")\n",
        "tokenizer = transformers.AutoTokenizer.from_pretrained(\"textattack/roberta-base-ag-news\")\n",
        "model_wrapper = MyWrapperRandomTokenMask(model, tokenizer)\n",
        "\n",
        "# build the textfooler attack\n",
        "attack = textattack.attack_recipes.textfooler_jin_2019.TextFoolerJin2019.build(model_wrapper)\n",
        "\n",
        "# Load the dataset\n",
        "dataset = textattack.datasets.HuggingFaceDataset(\"ag_news\", split=\"test\")\n",
        "\n",
        "# Attack 100 samples with CSV logging and checkpoint saved every 5 interval\n",
        "attack_args = textattack.AttackArgs(\n",
        "    num_examples=200,\n",
        "    log_to_csv=\"random_masking_tokens_40.csv\",\n",
        "    checkpoint_interval=5,\n",
        "    checkpoint_dir=\"checkpoints\",\n",
        "    disable_stdout=True\n",
        ")\n",
        "\n",
        "attacker = textattack.Attacker(attack, dataset, attack_args)\n",
        "attacker.attack_dataset()"
      ]
    },
    {
      "cell_type": "markdown",
      "metadata": {
        "id": "ZQR_jcWPlf3t"
      },
      "source": [
        "#### Masking vectorized tokens with tfidf"
      ]
    },
    {
      "cell_type": "code",
      "execution_count": null,
      "metadata": {
        "id": "6aALxfOw0QSA"
      },
      "outputs": [],
      "source": [
        "torch.cuda.empty_cache()\n",
        "\n",
        "# HuggingFaceModelWrapper\n",
        "class MyWrapperTfidfTokenMask(PyTorchModelWrapper):\n",
        "    \"\"\"Loads a HuggingFace ``transformers`` model and tokenizer.\"\"\"\n",
        "\n",
        "    def __init__(self, model, tokenizer, tfidf):\n",
        "        assert isinstance(\n",
        "            model, (transformers.PreTrainedModel, T5ForTextToText)\n",
        "        ), f\"`model` must be of type `transformers.PreTrainedModel`, but got type {type(model)}.\"\n",
        "        assert isinstance(\n",
        "            tokenizer,\n",
        "            (\n",
        "                transformers.PreTrainedTokenizer,\n",
        "                transformers.PreTrainedTokenizerFast,\n",
        "                T5Tokenizer,\n",
        "            ),\n",
        "        ), f\"`tokenizer` must of type `transformers.PreTrainedTokenizer` or `transformers.PreTrainedTokenizerFast`, but got type {type(tokenizer)}.\"\n",
        "\n",
        "        self.model = model\n",
        "        self.tokenizer = tokenizer\n",
        "        self.tfidf = tfidf\n",
        "        # self.tfidf_vocab = tfidf_vocab\n",
        "\n",
        "    def __call__(self, text_input_list):\n",
        "        \"\"\"Passes inputs to HuggingFace models as keyword arguments.\n",
        "        (Regular PyTorch ``nn.Module`` models typically take inputs as\n",
        "        positional arguments.)\n",
        "        \"\"\"\n",
        "\n",
        "        # Default max length is set to be int(1e30), so we force 512 to enable batching.\n",
        "        max_length = (\n",
        "            512\n",
        "            if self.tokenizer.model_max_length == int(1e30)\n",
        "            else self.tokenizer.model_max_length\n",
        "        )\n",
        "        inputs_dict = self.tokenizer(\n",
        "            text_input_list,\n",
        "            add_special_tokens=True,\n",
        "            padding=\"max_length\",\n",
        "            max_length=max_length,\n",
        "            truncation=True,\n",
        "            return_tensors=\"pt\",\n",
        "        )\n",
        "\n",
        "        \"\"\"\n",
        "        Option 2 Make a function that masks vectorized tokens\n",
        "        \"\"\"\n",
        "#####################\n",
        "        # take in the inputs_dict and attention_mask = 0\n",
        "        # Mask tokens with the highest tfidf value      \n",
        "        # don't touch the first and last tokens\n",
        "        percent_zero=40\n",
        "        for i in range(len(inputs_dict['input_ids'])):\n",
        "            length = torch.count_nonzero(inputs_dict['attention_mask'][i])-2\n",
        "            num_zeros = int(length * percent_zero/100)\n",
        "            \n",
        "            input_id = inputs_dict['input_ids'][i][1:(length+1)].tolist()\n",
        "\n",
        "            sorted_list = sorted(input_id, key=lambda x: self.tfidf.get(x, 0), reverse=True)\n",
        "            top_four = sorted_list[:num_zeros]\n",
        "            indices = [input_id.index(x) for x in top_four]\n",
        "            for j in indices:\n",
        "                inputs_dict['attention_mask'][i][j+1] = 0\n",
        "######################\n",
        "\n",
        "        model_device = next(self.model.parameters()).device\n",
        "        inputs_dict.to(model_device)\n",
        "\n",
        "        with torch.no_grad():\n",
        "            outputs = self.model(**inputs_dict)\n",
        "\n",
        "        if isinstance(outputs[0], str):\n",
        "            # HuggingFace sequence-to-sequence models return a list of\n",
        "            # string predictions as output. In this case, return the full\n",
        "            # list of outputs.\n",
        "            return outputs\n",
        "        else:\n",
        "            # HuggingFace classification models return a tuple as output\n",
        "            # where the first item in the tuple corresponds to the list of\n",
        "            # scores for each input.\n",
        "            return outputs.logits\n",
        "\n",
        "    def get_grad(self, text_input):\n",
        "        \"\"\"Get gradient of loss with respect to input tokens.\n",
        "        Args:\n",
        "            text_input (str): input string\n",
        "        Returns:\n",
        "            Dict of ids, tokens, and gradient as numpy array.\n",
        "        \"\"\"\n",
        "        if isinstance(self.model, textattack.models.helpers.T5ForTextToText):\n",
        "            raise NotImplementedError(\n",
        "                \"`get_grads` for T5FotTextToText has not been implemented yet.\"\n",
        "            )\n",
        "\n",
        "        self.model.train()\n",
        "        embedding_layer = self.model.get_input_embeddings()\n",
        "        original_state = embedding_layer.weight.requires_grad\n",
        "        embedding_layer.weight.requires_grad = True\n",
        "\n",
        "        emb_grads = []\n",
        "\n",
        "        def grad_hook(module, grad_in, grad_out):\n",
        "            emb_grads.append(grad_out[0])\n",
        "\n",
        "        emb_hook = embedding_layer.register_backward_hook(grad_hook)\n",
        "\n",
        "        self.model.zero_grad()\n",
        "        model_device = next(self.model.parameters()).device\n",
        "        input_dict = self.tokenizer(\n",
        "            [text_input],\n",
        "            add_special_tokens=True,\n",
        "            return_tensors=\"pt\",\n",
        "            padding=\"max_length\",\n",
        "            truncation=True,\n",
        "        )\n",
        "        \n",
        "        percent_zero=40\n",
        "        for i in range(len(inputs_dict['input_ids'])):\n",
        "            length = torch.count_nonzero(inputs_dict['attention_mask'][i])-2\n",
        "            num_zeros = int(length * percent_zero/100)\n",
        "            \n",
        "            input_id = inputs_dict['input_ids'][i][1:(length+1)].tolist()\n",
        "\n",
        "            sorted_list = sorted(input_id, key=lambda x: self.tfidf.get(x, 0), reverse=True)\n",
        "            top_four = sorted_list[:num_zeros]\n",
        "            indices = [input_id.index(x) for x in top_four]\n",
        "            for j in indices:\n",
        "                inputs_dict['attention_mask'][i][j+1] = 0\n",
        "\n",
        "        input_dict.to(model_device)\n",
        "        predictions = self.model(**input_dict).logits\n",
        "\n",
        "        try:\n",
        "            labels = predictions.argmax(dim=1)\n",
        "            loss = self.model(**input_dict, labels=labels)[0]\n",
        "        except TypeError:\n",
        "            raise TypeError(\n",
        "                f\"{type(self.model)} class does not take in `labels` to calculate loss. \"\n",
        "                \"One cause for this might be if you instantiatedyour model using `transformer.AutoModel` \"\n",
        "                \"(instead of `transformers.AutoModelForSequenceClassification`).\"\n",
        "            )\n",
        "\n",
        "        loss.backward()\n",
        "\n",
        "        # grad w.r.t to word embeddings\n",
        "        grad = emb_grads[0][0].cpu().numpy()\n",
        "\n",
        "        embedding_layer.weight.requires_grad = original_state\n",
        "        emb_hook.remove()\n",
        "        self.model.eval()\n",
        "\n",
        "        output = {\"ids\": input_dict[\"input_ids\"], \"gradient\": grad}\n",
        "\n",
        "        return output\n",
        "\n",
        "    def _tokenize(self, inputs):\n",
        "        \"\"\"Helper method that for `tokenize`\n",
        "        Args:\n",
        "            inputs (list[str]): list of input strings\n",
        "        Returns:\n",
        "            tokens (list[list[str]]): List of list of tokens as strings\n",
        "        \"\"\"\n",
        "        return [\n",
        "            self.tokenizer.convert_ids_to_tokens(\n",
        "                self.tokenizer([x], truncation=True)[\"input_ids\"][0]\n",
        "            )\n",
        "            for x in inputs\n",
        "        ]"
      ]
    },
    {
      "cell_type": "code",
      "execution_count": null,
      "metadata": {
        "id": "7rLxX4VwdpHg"
      },
      "outputs": [],
      "source": [
        "# function for making tfidf corpus for vectorized tokens\n",
        "# input is a list of list of vectorized tokens (input_ids)\n",
        "def tfidf_vocab(input):\n",
        "    # Step 1: Calculate the term frequency (TF) for each number in each list\n",
        "    tf_dict = {}\n",
        "    list_count = len(input)\n",
        "    for i, sub_input in enumerate(input):\n",
        "        for num in sub_input:\n",
        "            # Increment the TF count for this number in this list\n",
        "            if num in tf_dict:\n",
        "                if i in tf_dict[num]:\n",
        "                    tf_dict[num][i] += 1\n",
        "                else:\n",
        "                    tf_dict[num][i] = 1\n",
        "            else:\n",
        "                tf_dict[num] = {i: 1}\n",
        "    \n",
        "    # Step 2: Calculate the inverse document frequency (IDF) for each number\n",
        "    idf_dict = {}\n",
        "    for num in tf_dict:\n",
        "        idf_dict[num] = math.log(list_count / len(tf_dict[num]))\n",
        "    \n",
        "    # Step 3: Calculate the TF-IDF score for each number in each list\n",
        "    tfidf_dict = {}\n",
        "    for num in tf_dict:\n",
        "        for list_index in tf_dict[num]:\n",
        "            tf = tf_dict[num][list_index]\n",
        "            idf = idf_dict[num]\n",
        "            tfidf = tf * idf\n",
        "            if list_index in tfidf_dict:\n",
        "                tfidf_dict[list_index][num] = tfidf\n",
        "            else:\n",
        "                tfidf_dict[list_index] = {num: tfidf}\n",
        "    \n",
        "    # Step 4: sum up tfidf values for each unique tokens\n",
        "    tfidf_corpus = {}\n",
        "    for i in range(len(tfidf_dict)):\n",
        "        for j in tfidf_dict[i]:\n",
        "            if j in tfidf_corpus:\n",
        "                tfidf_corpus[j] += tfidf_dict[i][j]\n",
        "            else:\n",
        "                tfidf_corpus[j] = tfidf_dict[i][j]\n",
        " \n",
        "    return tfidf_corpus"
      ]
    },
    {
      "cell_type": "code",
      "execution_count": null,
      "metadata": {
        "colab": {
          "base_uri": "https://localhost:8080/",
          "height": 177,
          "referenced_widgets": [
            "0c319152abed49acaf594f45f7ccf934",
            "24e984ceff9148278cc8c69646e943e8",
            "7dec85fa2e984ea38018607c3988b259",
            "94a232100bd6430d9b6bf2e97e1ba9a5",
            "6649b74fbac34edbbc8da40dbedca519",
            "1353d680c0cb43cc8f8c19111f917713",
            "954ae28181184d32b39ed90753180212",
            "5b8d7091bad24b4ab52f0650841b45c4",
            "ccc96dda6bb349b79dd4c5f58f839115",
            "41047b31f8ab4ae6a9d5cf4800dcfaa5",
            "e0e4a7aad2a14d49840c0970c2e623bd",
            "27eed83cd0564027a88998bd92c69f1a",
            "56f718e236db4fa396c107b089a2cadc",
            "6cb5636d46f34f7fb2ef3806f052f327",
            "9a442e2e9fc5463b8d260a0c563f2ad1",
            "cd838b5c9fd34fc481985d603cca12e4",
            "ecbde4600eed41ff8a7699d0b008cbc0",
            "ca8830131360459c8b568cfcd53cf5e9",
            "2efc5580405d469f9780009982d1d1a5",
            "47ca5de7631542b6ba1d84b2420ba64d",
            "c5757d9adc55457090bf2fb827101387",
            "b3a949f956104879b17d283e8a1f6ef7",
            "440218fc0d5b46f8a3d12832fc0d1aaf",
            "49321f9a3adf40fca837810f5c1205b4",
            "e7357310763e4456b24a95aec99327b9",
            "f528fdcc0e9e403d9f0dd47ebd1bb7e2",
            "55cf9867fbd24140ae23b0e00d412828",
            "9bdc996eb5e9448b8a2e0045772f9a57",
            "7161b2a7dac74b3f8864bbf402261f3d",
            "30fee92ed4d545068196227f78fb7c86",
            "001e1320344a4c9e83dbae905f7acf74",
            "6acccd61398c4abe8314e1a8217771b1",
            "998c12b7f49a45d29177c004d4ce235d",
            "7a810b448d5d4531827e036ad3090afd",
            "47c31b4bdea04cb8ba1c9cf72139238f",
            "eaaf9465877e4b9fb0d3dcf65a980ed7",
            "f8a7d608ce134e30a2c00c8fe73a2941",
            "e50013e43b5f4cca9f2ffd8adfe0bbec",
            "8956bb81910546ffa094b5d413267500",
            "4dee8a4165d1474386dcb6bdb96115c0",
            "4eeef9b1c58746b7a4b15d13545351f1",
            "b5422037207d40059fceb52117538171",
            "616459ad367e401aaf70637a847047d6",
            "e517e1917e0e4cb29adaff6f27e3ff9e",
            "992ed170640f4ade82691c7388f07146",
            "8a5638d834ee445ba0a1c8a267467b43",
            "69ba70ff11c1497faa52941f5a6a9b4a",
            "bb1b03a3d36043e78fde10127d0fcca2",
            "e55b438addd0409c8ffd75824884fea0",
            "6989c5cf19d343bca6d64c46d2e456f0",
            "b516b3d650df4fb9b51143702202d8f5",
            "68a49c21afdc43a684ffa746be142b69",
            "2407733e0aa44530879d44dce54329c9",
            "633d8c4a780f4df893ea6d8da87537c0",
            "59103499f6894f938756d32d679b17c2"
          ]
        },
        "id": "nz8IjTq3dRjQ",
        "outputId": "93ddb923-badc-4a5c-84d7-4343eb85f35e"
      },
      "outputs": [
        {
          "data": {
            "application/vnd.jupyter.widget-view+json": {
              "model_id": "0c319152abed49acaf594f45f7ccf934",
              "version_major": 2,
              "version_minor": 0
            },
            "text/plain": [
              "Downloading (…)okenizer_config.json:   0%|          | 0.00/25.0 [00:00<?, ?B/s]"
            ]
          },
          "metadata": {},
          "output_type": "display_data"
        },
        {
          "data": {
            "application/vnd.jupyter.widget-view+json": {
              "model_id": "27eed83cd0564027a88998bd92c69f1a",
              "version_major": 2,
              "version_minor": 0
            },
            "text/plain": [
              "Downloading (…)lve/main/config.json:   0%|          | 0.00/754 [00:00<?, ?B/s]"
            ]
          },
          "metadata": {},
          "output_type": "display_data"
        },
        {
          "data": {
            "application/vnd.jupyter.widget-view+json": {
              "model_id": "440218fc0d5b46f8a3d12832fc0d1aaf",
              "version_major": 2,
              "version_minor": 0
            },
            "text/plain": [
              "Downloading (…)olve/main/vocab.json:   0%|          | 0.00/798k [00:00<?, ?B/s]"
            ]
          },
          "metadata": {},
          "output_type": "display_data"
        },
        {
          "data": {
            "application/vnd.jupyter.widget-view+json": {
              "model_id": "7a810b448d5d4531827e036ad3090afd",
              "version_major": 2,
              "version_minor": 0
            },
            "text/plain": [
              "Downloading (…)olve/main/merges.txt:   0%|          | 0.00/456k [00:00<?, ?B/s]"
            ]
          },
          "metadata": {},
          "output_type": "display_data"
        },
        {
          "data": {
            "application/vnd.jupyter.widget-view+json": {
              "model_id": "992ed170640f4ade82691c7388f07146",
              "version_major": 2,
              "version_minor": 0
            },
            "text/plain": [
              "Downloading (…)cial_tokens_map.json:   0%|          | 0.00/239 [00:00<?, ?B/s]"
            ]
          },
          "metadata": {},
          "output_type": "display_data"
        }
      ],
      "source": [
        "tokenizer = transformers.AutoTokenizer.from_pretrained(\"textattack/roberta-base-ag-news\")\n",
        "train_tokens = tokenizer(train['text'])\n",
        "tfidf = tfidf_vocab(train_tokens['input_ids'])"
      ]
    },
    {
      "cell_type": "code",
      "execution_count": null,
      "metadata": {
        "colab": {
          "base_uri": "https://localhost:8080/",
          "height": 1000,
          "referenced_widgets": [
            "b2c6adcfe0204d98acc63280e634bf65",
            "52cbd782d7e543f68d7984a5de341c11",
            "b79ee7b2746b4321970ee039d81a4902",
            "7e46059c7de646ea94095e24abc248c5",
            "0d1cb787645a473683d129451e5a4446",
            "2d0bbb40fbbc4d6f94940170bfec4b26",
            "45c952e755ef41b782990957727a23bd",
            "ac0840b4d2934e09a94649403a8453f1",
            "1f07cddbb5fe4fe3a61b2123144423bd",
            "30168873cc6c491f9c293dc97378992a",
            "0ed678e1d3e548ee8db2ec8d59f6c66f",
            "ca4fee0be4f24faaa506a4399e8512ab",
            "90ee491e574d4757bc1d07213339ab5b",
            "16cfb6b9267d46238e7bde0b14a17eb3",
            "5c04322d8d0b476298a4bb35d73a6a72",
            "aa9ba519348346b094f876df1af79bff",
            "3997733bc9764ab0863dfb376575e817",
            "c0ec34fc3fb644b2b343248f7973d430",
            "fd067a60d8f142ec811396a7228145e5",
            "47682d0f66ac4cc88a6fbe65c2c23ba2",
            "51c013fd84c94f3b98f3fd63c9d0fb6c",
            "1cbcad453f344f2cb76c9a334da7f8d9"
          ]
        },
        "id": "PkmfbQh7dJqt",
        "outputId": "320fe573-793d-4ec5-b73e-1fc4471ec102"
      },
      "outputs": [
        {
          "data": {
            "application/vnd.jupyter.widget-view+json": {
              "model_id": "b2c6adcfe0204d98acc63280e634bf65",
              "version_major": 2,
              "version_minor": 0
            },
            "text/plain": [
              "Downloading pytorch_model.bin:   0%|          | 0.00/501M [00:00<?, ?B/s]"
            ]
          },
          "metadata": {},
          "output_type": "display_data"
        },
        {
          "name": "stderr",
          "output_type": "stream",
          "text": [
            "Some weights of the model checkpoint at textattack/roberta-base-ag-news were not used when initializing RobertaForSequenceClassification: ['roberta.pooler.dense.bias', 'roberta.pooler.dense.weight']\n",
            "- This IS expected if you are initializing RobertaForSequenceClassification from the checkpoint of a model trained on another task or with another architecture (e.g. initializing a BertForSequenceClassification model from a BertForPreTraining model).\n",
            "- This IS NOT expected if you are initializing RobertaForSequenceClassification from the checkpoint of a model that you expect to be exactly identical (initializing a BertForSequenceClassification model from a BertForSequenceClassification model).\n",
            "textattack: Downloading https://textattack.s3.amazonaws.com/word_embeddings/paragramcf.\n",
            "100%|██████████| 481M/481M [00:38<00:00, 12.4MB/s]\n",
            "textattack: Unzipping file /root/.cache/textattack/tmpgo0bql2b.zip to /root/.cache/textattack/word_embeddings/paragramcf.\n",
            "textattack: Successfully saved word_embeddings/paragramcf to cache.\n",
            "textattack: Unknown if model of class <class 'transformers.models.roberta.modeling_roberta.RobertaForSequenceClassification'> compatible with goal function <class 'textattack.goal_functions.classification.untargeted_classification.UntargetedClassification'>.\n",
            "WARNING:datasets.builder:Using custom data configuration default\n",
            "WARNING:datasets.builder:Reusing dataset ag_news (/root/.cache/huggingface/datasets/ag_news/default/0.0.0/bc2bcb40336ace1a0374767fc29bb0296cdaf8a6da7298436239c54d79180548)\n"
          ]
        },
        {
          "data": {
            "application/vnd.jupyter.widget-view+json": {
              "model_id": "ca4fee0be4f24faaa506a4399e8512ab",
              "version_major": 2,
              "version_minor": 0
            },
            "text/plain": [
              "  0%|          | 0/2 [00:00<?, ?it/s]"
            ]
          },
          "metadata": {},
          "output_type": "display_data"
        },
        {
          "name": "stderr",
          "output_type": "stream",
          "text": [
            "textattack: Loading \u001b[94mdatasets\u001b[0m dataset \u001b[94mag_news\u001b[0m, split \u001b[94mtest\u001b[0m.\n",
            "textattack: Logging to CSV at path tfidf_masking_tokens_40.csv\n"
          ]
        },
        {
          "name": "stdout",
          "output_type": "stream",
          "text": [
            "Attack(\n",
            "  (search_method): GreedyWordSwapWIR(\n",
            "    (wir_method):  delete\n",
            "  )\n",
            "  (goal_function):  UntargetedClassification\n",
            "  (transformation):  WordSwapEmbedding(\n",
            "    (max_candidates):  50\n",
            "    (embedding):  WordEmbedding\n",
            "  )\n",
            "  (constraints): \n",
            "    (0): WordEmbeddingDistance(\n",
            "        (embedding):  WordEmbedding\n",
            "        (min_cos_sim):  0.5\n",
            "        (cased):  False\n",
            "        (include_unknown_words):  True\n",
            "        (compare_against_original):  True\n",
            "      )\n",
            "    (1): PartOfSpeech(\n",
            "        (tagger_type):  nltk\n",
            "        (tagset):  universal\n",
            "        (allow_verb_noun_swap):  True\n",
            "        (compare_against_original):  True\n",
            "      )\n",
            "    (2): UniversalSentenceEncoder(\n",
            "        (metric):  angular\n",
            "        (threshold):  0.840845057\n",
            "        (window_size):  15\n",
            "        (skip_text_shorter_than_window):  True\n",
            "        (compare_against_original):  False\n",
            "      )\n",
            "    (3): RepeatModification\n",
            "    (4): StopwordModification\n",
            "    (5): InputColumnModification(\n",
            "        (matching_column_labels):  ['premise', 'hypothesis']\n",
            "        (columns_to_ignore):  {'premise'}\n",
            "      )\n",
            "  (is_black_box):  True\n",
            ") \n",
            "\n"
          ]
        },
        {
          "name": "stderr",
          "output_type": "stream",
          "text": [
            "[Succeeded / Failed / Skipped / Total] 4 / 1 / 0 / 5:   2%|▎         | 5/200 [01:38<1:04:20, 19.80s/it]textattack: Saving checkpoint under \"checkpoints/1678486420326.ta.chkpt\" at 2023-03-10 22:13:40 after 5 attacks.\n"
          ]
        },
        {
          "name": "stdout",
          "output_type": "stream",
          "text": [
            "\n",
            "\n",
            "=============================================================================================================================\n",
            "=============================================================================================================================\n",
            "\n"
          ]
        },
        {
          "name": "stderr",
          "output_type": "stream",
          "text": [
            "[Succeeded / Failed / Skipped / Total] 7 / 3 / 0 / 10:   5%|▌         | 10/200 [03:42<1:10:36, 22.30s/it]textattack: Saving checkpoint under \"checkpoints/1678486544297.ta.chkpt\" at 2023-03-10 22:15:44 after 10 attacks.\n"
          ]
        },
        {
          "name": "stdout",
          "output_type": "stream",
          "text": [
            "\n",
            "\n",
            "=============================================================================================================================\n",
            "=============================================================================================================================\n",
            "\n"
          ]
        },
        {
          "name": "stderr",
          "output_type": "stream",
          "text": [
            "[Succeeded / Failed / Skipped / Total] 11 / 4 / 0 / 15:   8%|▊         | 15/200 [04:32<56:01, 18.17s/it]textattack: Saving checkpoint under \"checkpoints/1678486593885.ta.chkpt\" at 2023-03-10 22:16:33 after 15 attacks.\n"
          ]
        },
        {
          "name": "stdout",
          "output_type": "stream",
          "text": [
            "\n",
            "\n",
            "=============================================================================================================================\n",
            "=============================================================================================================================\n",
            "\n"
          ]
        },
        {
          "name": "stderr",
          "output_type": "stream",
          "text": [
            "[Succeeded / Failed / Skipped / Total] 15 / 5 / 0 / 20:  10%|█         | 20/200 [05:30<49:36, 16.54s/it]textattack: Saving checkpoint under \"checkpoints/1678486652090.ta.chkpt\" at 2023-03-10 22:17:32 after 20 attacks.\n"
          ]
        },
        {
          "name": "stdout",
          "output_type": "stream",
          "text": [
            "\n",
            "\n",
            "=============================================================================================================================\n",
            "=============================================================================================================================\n",
            "\n"
          ]
        },
        {
          "name": "stderr",
          "output_type": "stream",
          "text": [
            "[Succeeded / Failed / Skipped / Total] 18 / 5 / 2 / 25:  12%|█▎        | 25/200 [05:42<39:54, 13.69s/it]textattack: Saving checkpoint under \"checkpoints/1678486663468.ta.chkpt\" at 2023-03-10 22:17:43 after 25 attacks.\n"
          ]
        },
        {
          "name": "stdout",
          "output_type": "stream",
          "text": [
            "\n",
            "\n",
            "=============================================================================================================================\n",
            "=============================================================================================================================\n",
            "\n"
          ]
        },
        {
          "name": "stderr",
          "output_type": "stream",
          "text": [
            "[Succeeded / Failed / Skipped / Total] 23 / 5 / 2 / 30:  15%|█▌        | 30/200 [06:24<36:18, 12.81s/it]textattack: Saving checkpoint under \"checkpoints/1678486705773.ta.chkpt\" at 2023-03-10 22:18:25 after 30 attacks.\n"
          ]
        },
        {
          "name": "stdout",
          "output_type": "stream",
          "text": [
            "\n",
            "\n",
            "=============================================================================================================================\n",
            "=============================================================================================================================\n",
            "\n"
          ]
        },
        {
          "name": "stderr",
          "output_type": "stream",
          "text": [
            "[Succeeded / Failed / Skipped / Total] 27 / 5 / 3 / 35:  18%|█▊        | 35/200 [07:28<35:13, 12.81s/it]textattack: Saving checkpoint under \"checkpoints/1678486769711.ta.chkpt\" at 2023-03-10 22:19:29 after 35 attacks.\n"
          ]
        },
        {
          "name": "stdout",
          "output_type": "stream",
          "text": [
            "\n",
            "\n",
            "=============================================================================================================================\n",
            "=============================================================================================================================\n",
            "\n"
          ]
        },
        {
          "name": "stderr",
          "output_type": "stream",
          "text": [
            "[Succeeded / Failed / Skipped / Total] 30 / 5 / 5 / 40:  20%|██        | 40/200 [07:52<31:28, 11.80s/it]textattack: Saving checkpoint under \"checkpoints/1678486793506.ta.chkpt\" at 2023-03-10 22:19:53 after 40 attacks.\n"
          ]
        },
        {
          "name": "stdout",
          "output_type": "stream",
          "text": [
            "\n",
            "\n",
            "=============================================================================================================================\n",
            "=============================================================================================================================\n",
            "\n"
          ]
        },
        {
          "name": "stderr",
          "output_type": "stream",
          "text": [
            "[Succeeded / Failed / Skipped / Total] 33 / 6 / 6 / 45:  22%|██▎       | 45/200 [08:43<30:01, 11.62s/it]textattack: Saving checkpoint under \"checkpoints/1678486844409.ta.chkpt\" at 2023-03-10 22:20:44 after 45 attacks.\n"
          ]
        },
        {
          "name": "stdout",
          "output_type": "stream",
          "text": [
            "\n",
            "\n",
            "=============================================================================================================================\n",
            "=============================================================================================================================\n",
            "\n"
          ]
        },
        {
          "name": "stderr",
          "output_type": "stream",
          "text": [
            "[Succeeded / Failed / Skipped / Total] 37 / 6 / 7 / 50:  25%|██▌       | 50/200 [09:03<27:11, 10.88s/it]textattack: Saving checkpoint under \"checkpoints/1678486865273.ta.chkpt\" at 2023-03-10 22:21:05 after 50 attacks.\n"
          ]
        },
        {
          "name": "stdout",
          "output_type": "stream",
          "text": [
            "\n",
            "\n",
            "=============================================================================================================================\n",
            "=============================================================================================================================\n",
            "\n"
          ]
        },
        {
          "name": "stderr",
          "output_type": "stream",
          "text": [
            "[Succeeded / Failed / Skipped / Total] 41 / 7 / 7 / 55:  28%|██▊       | 55/200 [09:49<25:54, 10.72s/it]textattack: Saving checkpoint under \"checkpoints/1678486911154.ta.chkpt\" at 2023-03-10 22:21:51 after 55 attacks.\n"
          ]
        },
        {
          "name": "stdout",
          "output_type": "stream",
          "text": [
            "\n",
            "\n",
            "=============================================================================================================================\n",
            "=============================================================================================================================\n",
            "\n"
          ]
        },
        {
          "name": "stderr",
          "output_type": "stream",
          "text": [
            "[Succeeded / Failed / Skipped / Total] 45 / 8 / 7 / 60:  30%|███       | 60/200 [10:37<24:48, 10.63s/it]textattack: Saving checkpoint under \"checkpoints/1678486959175.ta.chkpt\" at 2023-03-10 22:22:39 after 60 attacks.\n"
          ]
        },
        {
          "name": "stdout",
          "output_type": "stream",
          "text": [
            "\n",
            "\n",
            "=============================================================================================================================\n",
            "=============================================================================================================================\n",
            "\n"
          ]
        },
        {
          "name": "stderr",
          "output_type": "stream",
          "text": [
            "[Succeeded / Failed / Skipped / Total] 50 / 8 / 7 / 65:  32%|███▎      | 65/200 [11:23<23:39, 10.51s/it]textattack: Saving checkpoint under \"checkpoints/1678487004564.ta.chkpt\" at 2023-03-10 22:23:24 after 65 attacks.\n"
          ]
        },
        {
          "name": "stdout",
          "output_type": "stream",
          "text": [
            "\n",
            "\n",
            "=============================================================================================================================\n",
            "=============================================================================================================================\n",
            "\n"
          ]
        },
        {
          "name": "stderr",
          "output_type": "stream",
          "text": [
            "[Succeeded / Failed / Skipped / Total] 54 / 8 / 8 / 70:  35%|███▌      | 70/200 [11:56<22:11, 10.24s/it]textattack: Saving checkpoint under \"checkpoints/1678487038308.ta.chkpt\" at 2023-03-10 22:23:58 after 70 attacks.\n"
          ]
        },
        {
          "name": "stdout",
          "output_type": "stream",
          "text": [
            "\n",
            "\n",
            "=============================================================================================================================\n",
            "=============================================================================================================================\n",
            "\n"
          ]
        },
        {
          "name": "stderr",
          "output_type": "stream",
          "text": [
            "[Succeeded / Failed / Skipped / Total] 57 / 10 / 8 / 75:  38%|███▊      | 75/200 [13:07<21:52, 10.50s/it]textattack: Saving checkpoint under \"checkpoints/1678487108600.ta.chkpt\" at 2023-03-10 22:25:08 after 75 attacks.\n"
          ]
        },
        {
          "name": "stdout",
          "output_type": "stream",
          "text": [
            "\n",
            "\n",
            "=============================================================================================================================\n",
            "=============================================================================================================================\n",
            "\n"
          ]
        },
        {
          "name": "stderr",
          "output_type": "stream",
          "text": [
            "[Succeeded / Failed / Skipped / Total] 61 / 10 / 9 / 80:  40%|████      | 80/200 [13:41<20:32, 10.27s/it]textattack: Saving checkpoint under \"checkpoints/1678487142722.ta.chkpt\" at 2023-03-10 22:25:42 after 80 attacks.\n"
          ]
        },
        {
          "name": "stdout",
          "output_type": "stream",
          "text": [
            "\n",
            "\n",
            "=============================================================================================================================\n",
            "=============================================================================================================================\n",
            "\n"
          ]
        },
        {
          "name": "stderr",
          "output_type": "stream",
          "text": [
            "[Succeeded / Failed / Skipped / Total] 65 / 10 / 10 / 85:  42%|████▎     | 85/200 [14:00<18:57,  9.89s/it]textattack: Saving checkpoint under \"checkpoints/1678487162077.ta.chkpt\" at 2023-03-10 22:26:02 after 85 attacks.\n"
          ]
        },
        {
          "name": "stdout",
          "output_type": "stream",
          "text": [
            "\n",
            "\n",
            "=============================================================================================================================\n",
            "=============================================================================================================================\n",
            "\n"
          ]
        },
        {
          "name": "stderr",
          "output_type": "stream",
          "text": [
            "[Succeeded / Failed / Skipped / Total] 69 / 10 / 11 / 90:  45%|████▌     | 90/200 [14:51<18:09,  9.90s/it]textattack: Saving checkpoint under \"checkpoints/1678487212633.ta.chkpt\" at 2023-03-10 22:26:52 after 90 attacks.\n"
          ]
        },
        {
          "name": "stdout",
          "output_type": "stream",
          "text": [
            "\n",
            "\n",
            "=============================================================================================================================\n",
            "=============================================================================================================================\n",
            "\n"
          ]
        },
        {
          "name": "stderr",
          "output_type": "stream",
          "text": [
            "[Succeeded / Failed / Skipped / Total] 74 / 10 / 11 / 95:  48%|████▊     | 95/200 [15:24<17:01,  9.73s/it]textattack: Saving checkpoint under \"checkpoints/1678487245690.ta.chkpt\" at 2023-03-10 22:27:25 after 95 attacks.\n"
          ]
        },
        {
          "name": "stdout",
          "output_type": "stream",
          "text": [
            "\n",
            "\n",
            "=============================================================================================================================\n",
            "=============================================================================================================================\n",
            "\n"
          ]
        },
        {
          "name": "stderr",
          "output_type": "stream",
          "text": [
            "[Succeeded / Failed / Skipped / Total] 77 / 12 / 11 / 100:  50%|█████     | 100/200 [16:49<16:49, 10.10s/it]textattack: Saving checkpoint under \"checkpoints/1678487331025.ta.chkpt\" at 2023-03-10 22:28:51 after 100 attacks.\n"
          ]
        },
        {
          "name": "stdout",
          "output_type": "stream",
          "text": [
            "\n",
            "\n",
            "=============================================================================================================================\n",
            "=============================================================================================================================\n",
            "\n"
          ]
        },
        {
          "name": "stderr",
          "output_type": "stream",
          "text": [
            "[Succeeded / Failed / Skipped / Total] 82 / 12 / 11 / 105:  52%|█████▎    | 105/200 [17:12<15:33,  9.83s/it]textattack: Saving checkpoint under \"checkpoints/1678487353544.ta.chkpt\" at 2023-03-10 22:29:13 after 105 attacks.\n",
            "[Succeeded / Failed / Skipped / Total] 82 / 12 / 13 / 107:  54%|█████▎    | 107/200 [17:12<14:57,  9.65s/it]"
          ]
        },
        {
          "name": "stdout",
          "output_type": "stream",
          "text": [
            "\n",
            "\n",
            "=============================================================================================================================\n",
            "=============================================================================================================================\n",
            "\n"
          ]
        },
        {
          "name": "stderr",
          "output_type": "stream",
          "text": [
            "[Succeeded / Failed / Skipped / Total] 85 / 12 / 13 / 110:  55%|█████▌    | 110/200 [17:34<14:23,  9.59s/it]textattack: Saving checkpoint under \"checkpoints/1678487376315.ta.chkpt\" at 2023-03-10 22:29:36 after 110 attacks.\n"
          ]
        },
        {
          "name": "stdout",
          "output_type": "stream",
          "text": [
            "\n",
            "\n",
            "=============================================================================================================================\n",
            "=============================================================================================================================\n",
            "\n"
          ]
        },
        {
          "name": "stderr",
          "output_type": "stream",
          "text": [
            "[Succeeded / Failed / Skipped / Total] 89 / 12 / 14 / 115:  57%|█████▊    | 115/200 [18:03<13:20,  9.42s/it]textattack: Saving checkpoint under \"checkpoints/1678487404468.ta.chkpt\" at 2023-03-10 22:30:04 after 115 attacks.\n"
          ]
        },
        {
          "name": "stdout",
          "output_type": "stream",
          "text": [
            "\n",
            "\n",
            "=============================================================================================================================\n",
            "=============================================================================================================================\n",
            "\n"
          ]
        },
        {
          "name": "stderr",
          "output_type": "stream",
          "text": [
            "[Succeeded / Failed / Skipped / Total] 93 / 13 / 14 / 120:  60%|██████    | 120/200 [18:52<12:35,  9.44s/it]textattack: Saving checkpoint under \"checkpoints/1678487454004.ta.chkpt\" at 2023-03-10 22:30:54 after 120 attacks.\n",
            "[Succeeded / Failed / Skipped / Total] 93 / 13 / 15 / 121:  60%|██████    | 121/200 [18:52<12:19,  9.36s/it]"
          ]
        },
        {
          "name": "stdout",
          "output_type": "stream",
          "text": [
            "\n",
            "\n",
            "=============================================================================================================================\n",
            "=============================================================================================================================\n",
            "\n"
          ]
        },
        {
          "name": "stderr",
          "output_type": "stream",
          "text": [
            "[Succeeded / Failed / Skipped / Total] 97 / 13 / 15 / 125:  62%|██████▎   | 125/200 [19:42<11:49,  9.46s/it]textattack: Saving checkpoint under \"checkpoints/1678487503774.ta.chkpt\" at 2023-03-10 22:31:43 after 125 attacks.\n",
            "[Succeeded / Failed / Skipped / Total] 97 / 13 / 16 / 126:  63%|██████▎   | 126/200 [19:42<11:34,  9.38s/it]"
          ]
        },
        {
          "name": "stdout",
          "output_type": "stream",
          "text": [
            "\n",
            "\n",
            "=============================================================================================================================\n",
            "=============================================================================================================================\n",
            "\n"
          ]
        },
        {
          "name": "stderr",
          "output_type": "stream",
          "text": [
            "[Succeeded / Failed / Skipped / Total] 101 / 13 / 16 / 130:  65%|██████▌   | 130/200 [20:15<10:54,  9.35s/it]textattack: Saving checkpoint under \"checkpoints/1678487537266.ta.chkpt\" at 2023-03-10 22:32:17 after 130 attacks.\n"
          ]
        },
        {
          "name": "stdout",
          "output_type": "stream",
          "text": [
            "\n",
            "\n",
            "=============================================================================================================================\n",
            "=============================================================================================================================\n",
            "\n"
          ]
        },
        {
          "name": "stderr",
          "output_type": "stream",
          "text": [
            "[Succeeded / Failed / Skipped / Total] 106 / 13 / 16 / 135:  68%|██████▊   | 135/200 [20:48<10:01,  9.25s/it]textattack: Saving checkpoint under \"checkpoints/1678487569784.ta.chkpt\" at 2023-03-10 22:32:49 after 135 attacks.\n"
          ]
        },
        {
          "name": "stdout",
          "output_type": "stream",
          "text": [
            "\n",
            "\n",
            "=============================================================================================================================\n",
            "=============================================================================================================================\n",
            "\n"
          ]
        },
        {
          "name": "stderr",
          "output_type": "stream",
          "text": [
            "[Succeeded / Failed / Skipped / Total] 110 / 14 / 16 / 140:  70%|███████   | 140/200 [21:31<09:13,  9.22s/it]textattack: Saving checkpoint under \"checkpoints/1678487612484.ta.chkpt\" at 2023-03-10 22:33:32 after 140 attacks.\n"
          ]
        },
        {
          "name": "stdout",
          "output_type": "stream",
          "text": [
            "\n",
            "\n",
            "=============================================================================================================================\n",
            "=============================================================================================================================\n",
            "\n"
          ]
        },
        {
          "name": "stderr",
          "output_type": "stream",
          "text": [
            "[Succeeded / Failed / Skipped / Total] 114 / 14 / 17 / 145:  72%|███████▎  | 145/200 [21:51<08:17,  9.05s/it]textattack: Saving checkpoint under \"checkpoints/1678487633081.ta.chkpt\" at 2023-03-10 22:33:53 after 145 attacks.\n"
          ]
        },
        {
          "name": "stdout",
          "output_type": "stream",
          "text": [
            "\n",
            "\n",
            "=============================================================================================================================\n",
            "=============================================================================================================================\n",
            "\n"
          ]
        },
        {
          "name": "stderr",
          "output_type": "stream",
          "text": [
            "[Succeeded / Failed / Skipped / Total] 119 / 14 / 17 / 150:  75%|███████▌  | 150/200 [23:04<07:41,  9.23s/it]textattack: Saving checkpoint under \"checkpoints/1678487705352.ta.chkpt\" at 2023-03-10 22:35:05 after 150 attacks.\n"
          ]
        },
        {
          "name": "stdout",
          "output_type": "stream",
          "text": [
            "\n",
            "\n",
            "=============================================================================================================================\n",
            "=============================================================================================================================\n",
            "\n"
          ]
        },
        {
          "name": "stderr",
          "output_type": "stream",
          "text": [
            "[Succeeded / Failed / Skipped / Total] 123 / 15 / 17 / 155:  78%|███████▊  | 155/200 [23:45<06:53,  9.20s/it]textattack: Saving checkpoint under \"checkpoints/1678487746652.ta.chkpt\" at 2023-03-10 22:35:46 after 155 attacks.\n",
            "[Succeeded / Failed / Skipped / Total] 123 / 15 / 18 / 156:  78%|███████▊  | 156/200 [23:45<06:42,  9.14s/it]"
          ]
        },
        {
          "name": "stdout",
          "output_type": "stream",
          "text": [
            "\n",
            "\n",
            "=============================================================================================================================\n",
            "=============================================================================================================================\n",
            "\n"
          ]
        },
        {
          "name": "stderr",
          "output_type": "stream",
          "text": [
            "[Succeeded / Failed / Skipped / Total] 127 / 15 / 18 / 160:  80%|████████  | 160/200 [24:26<06:06,  9.17s/it]textattack: Saving checkpoint under \"checkpoints/1678487788011.ta.chkpt\" at 2023-03-10 22:36:28 after 160 attacks.\n"
          ]
        },
        {
          "name": "stdout",
          "output_type": "stream",
          "text": [
            "\n",
            "\n",
            "=============================================================================================================================\n",
            "=============================================================================================================================\n",
            "\n"
          ]
        },
        {
          "name": "stderr",
          "output_type": "stream",
          "text": [
            "[Succeeded / Failed / Skipped / Total] 132 / 15 / 18 / 165:  82%|████████▎ | 165/200 [25:05<05:19,  9.13s/it]textattack: Saving checkpoint under \"checkpoints/1678487827059.ta.chkpt\" at 2023-03-10 22:37:07 after 165 attacks.\n"
          ]
        },
        {
          "name": "stdout",
          "output_type": "stream",
          "text": [
            "\n",
            "\n",
            "=============================================================================================================================\n",
            "=============================================================================================================================\n",
            "\n"
          ]
        },
        {
          "name": "stderr",
          "output_type": "stream",
          "text": [
            "[Succeeded / Failed / Skipped / Total] 136 / 16 / 18 / 170:  85%|████████▌ | 170/200 [25:45<04:32,  9.09s/it]textattack: Saving checkpoint under \"checkpoints/1678487866361.ta.chkpt\" at 2023-03-10 22:37:46 after 170 attacks.\n"
          ]
        },
        {
          "name": "stdout",
          "output_type": "stream",
          "text": [
            "\n",
            "\n",
            "=============================================================================================================================\n",
            "=============================================================================================================================\n",
            "\n"
          ]
        },
        {
          "name": "stderr",
          "output_type": "stream",
          "text": [
            "[Succeeded / Failed / Skipped / Total] 140 / 16 / 19 / 175:  88%|████████▊ | 175/200 [26:40<03:48,  9.15s/it]textattack: Saving checkpoint under \"checkpoints/1678487922120.ta.chkpt\" at 2023-03-10 22:38:42 after 175 attacks.\n"
          ]
        },
        {
          "name": "stdout",
          "output_type": "stream",
          "text": [
            "\n",
            "\n",
            "=============================================================================================================================\n",
            "=============================================================================================================================\n",
            "\n"
          ]
        },
        {
          "name": "stderr",
          "output_type": "stream",
          "text": [
            "[Succeeded / Failed / Skipped / Total] 145 / 16 / 19 / 180:  90%|█████████ | 180/200 [27:18<03:02,  9.10s/it]textattack: Saving checkpoint under \"checkpoints/1678487959761.ta.chkpt\" at 2023-03-10 22:39:19 after 180 attacks.\n"
          ]
        },
        {
          "name": "stdout",
          "output_type": "stream",
          "text": [
            "\n",
            "\n",
            "=============================================================================================================================\n",
            "=============================================================================================================================\n",
            "\n"
          ]
        },
        {
          "name": "stderr",
          "output_type": "stream",
          "text": [
            "[Succeeded / Failed / Skipped / Total] 150 / 16 / 19 / 185:  92%|█████████▎| 185/200 [27:59<02:16,  9.08s/it]textattack: Saving checkpoint under \"checkpoints/1678488000940.ta.chkpt\" at 2023-03-10 22:40:00 after 185 attacks.\n"
          ]
        },
        {
          "name": "stdout",
          "output_type": "stream",
          "text": [
            "\n",
            "\n",
            "=============================================================================================================================\n",
            "=============================================================================================================================\n",
            "\n"
          ]
        },
        {
          "name": "stderr",
          "output_type": "stream",
          "text": [
            "[Succeeded / Failed / Skipped / Total] 155 / 16 / 19 / 190:  95%|█████████▌| 190/200 [28:37<01:30,  9.04s/it]textattack: Saving checkpoint under \"checkpoints/1678488038938.ta.chkpt\" at 2023-03-10 22:40:38 after 190 attacks.\n"
          ]
        },
        {
          "name": "stdout",
          "output_type": "stream",
          "text": [
            "\n",
            "\n",
            "=============================================================================================================================\n",
            "=============================================================================================================================\n",
            "\n"
          ]
        },
        {
          "name": "stderr",
          "output_type": "stream",
          "text": [
            "[Succeeded / Failed / Skipped / Total] 159 / 17 / 19 / 195:  98%|█████████▊| 195/200 [29:50<00:45,  9.18s/it]textattack: Saving checkpoint under \"checkpoints/1678488111784.ta.chkpt\" at 2023-03-10 22:41:51 after 195 attacks.\n"
          ]
        },
        {
          "name": "stdout",
          "output_type": "stream",
          "text": [
            "\n",
            "\n",
            "=============================================================================================================================\n",
            "=============================================================================================================================\n",
            "\n"
          ]
        },
        {
          "name": "stderr",
          "output_type": "stream",
          "text": [
            "[Succeeded / Failed / Skipped / Total] 162 / 18 / 20 / 200: 100%|██████████| 200/200 [30:35<00:00,  9.18s/it]textattack: Saving checkpoint under \"checkpoints/1678488156791.ta.chkpt\" at 2023-03-10 22:42:36 after 200 attacks.\n",
            "[Succeeded / Failed / Skipped / Total] 162 / 18 / 20 / 200: 100%|██████████| 200/200 [30:35<00:00,  9.18s/it]"
          ]
        },
        {
          "name": "stdout",
          "output_type": "stream",
          "text": [
            "\n",
            "\n",
            "=============================================================================================================================\n",
            "=============================================================================================================================\n",
            "\n",
            "\n",
            "+-------------------------------+--------+\n",
            "| Attack Results                |        |\n",
            "+-------------------------------+--------+\n",
            "| Number of successful attacks: | 162    |\n",
            "| Number of failed attacks:     | 18     |\n",
            "| Number of skipped attacks:    | 20     |\n",
            "| Original accuracy:            | 90.0%  |\n",
            "| Accuracy under attack:        | 9.0%   |\n",
            "| Attack success rate:          | 90.0%  |\n",
            "| Average perturbed word %:     | 21.99% |\n",
            "| Average num. words per input: | 41.98  |\n",
            "| Avg num queries:              | 314.37 |\n",
            "+-------------------------------+--------+\n"
          ]
        },
        {
          "name": "stderr",
          "output_type": "stream",
          "text": [
            "\n"
          ]
        },
        {
          "data": {
            "text/plain": [
              "[<textattack.attack_results.successful_attack_result.SuccessfulAttackResult at 0x7fa537c6efa0>,\n",
              " <textattack.attack_results.failed_attack_result.FailedAttackResult at 0x7fa537c6efd0>,\n",
              " <textattack.attack_results.successful_attack_result.SuccessfulAttackResult at 0x7fa55e69aaf0>,\n",
              " <textattack.attack_results.successful_attack_result.SuccessfulAttackResult at 0x7fa55735ac10>,\n",
              " <textattack.attack_results.successful_attack_result.SuccessfulAttackResult at 0x7fa55e69a340>,\n",
              " <textattack.attack_results.successful_attack_result.SuccessfulAttackResult at 0x7fa55d3e1280>,\n",
              " <textattack.attack_results.failed_attack_result.FailedAttackResult at 0x7fa5ba7cc670>,\n",
              " <textattack.attack_results.failed_attack_result.FailedAttackResult at 0x7fa55e692700>,\n",
              " <textattack.attack_results.successful_attack_result.SuccessfulAttackResult at 0x7fa55e692220>,\n",
              " <textattack.attack_results.successful_attack_result.SuccessfulAttackResult at 0x7fa5551bb220>,\n",
              " <textattack.attack_results.failed_attack_result.FailedAttackResult at 0x7fa591752310>,\n",
              " <textattack.attack_results.successful_attack_result.SuccessfulAttackResult at 0x7fa537063fd0>,\n",
              " <textattack.attack_results.successful_attack_result.SuccessfulAttackResult at 0x7fa544ec8fd0>,\n",
              " <textattack.attack_results.successful_attack_result.SuccessfulAttackResult at 0x7fa779815a30>,\n",
              " <textattack.attack_results.successful_attack_result.SuccessfulAttackResult at 0x7fa779815040>,\n",
              " <textattack.attack_results.successful_attack_result.SuccessfulAttackResult at 0x7fa55661b4f0>,\n",
              " <textattack.attack_results.successful_attack_result.SuccessfulAttackResult at 0x7fa591752ee0>,\n",
              " <textattack.attack_results.failed_attack_result.FailedAttackResult at 0x7fa55e69a400>,\n",
              " <textattack.attack_results.successful_attack_result.SuccessfulAttackResult at 0x7fa537b97610>,\n",
              " <textattack.attack_results.successful_attack_result.SuccessfulAttackResult at 0x7fa5370360a0>,\n",
              " <textattack.attack_results.successful_attack_result.SuccessfulAttackResult at 0x7fa53706b670>,\n",
              " <textattack.attack_results.successful_attack_result.SuccessfulAttackResult at 0x7fa537036460>,\n",
              " <textattack.attack_results.successful_attack_result.SuccessfulAttackResult at 0x7fa5560e82b0>,\n",
              " <textattack.attack_results.skipped_attack_result.SkippedAttackResult at 0x7fa5560e8850>,\n",
              " <textattack.attack_results.skipped_attack_result.SkippedAttackResult at 0x7fa5560e8d30>,\n",
              " <textattack.attack_results.successful_attack_result.SuccessfulAttackResult at 0x7fa779815ac0>,\n",
              " <textattack.attack_results.successful_attack_result.SuccessfulAttackResult at 0x7fa7798155e0>,\n",
              " <textattack.attack_results.successful_attack_result.SuccessfulAttackResult at 0x7fa779815670>,\n",
              " <textattack.attack_results.successful_attack_result.SuccessfulAttackResult at 0x7fa5c7eccf40>,\n",
              " <textattack.attack_results.successful_attack_result.SuccessfulAttackResult at 0x7fa5563e8850>,\n",
              " <textattack.attack_results.successful_attack_result.SuccessfulAttackResult at 0x7fa5446b2e20>,\n",
              " <textattack.attack_results.successful_attack_result.SuccessfulAttackResult at 0x7fa55d567880>,\n",
              " <textattack.attack_results.successful_attack_result.SuccessfulAttackResult at 0x7fa5377bc130>,\n",
              " <textattack.attack_results.skipped_attack_result.SkippedAttackResult at 0x7fa5377bc280>,\n",
              " <textattack.attack_results.successful_attack_result.SuccessfulAttackResult at 0x7fa5bb0ed340>,\n",
              " <textattack.attack_results.successful_attack_result.SuccessfulAttackResult at 0x7fa537063280>,\n",
              " <textattack.attack_results.skipped_attack_result.SkippedAttackResult at 0x7fa537063250>,\n",
              " <textattack.attack_results.skipped_attack_result.SkippedAttackResult at 0x7fa537063970>,\n",
              " <textattack.attack_results.successful_attack_result.SuccessfulAttackResult at 0x7fa5bb1c8880>,\n",
              " <textattack.attack_results.successful_attack_result.SuccessfulAttackResult at 0x7fa551c575b0>,\n",
              " <textattack.attack_results.successful_attack_result.SuccessfulAttackResult at 0x7fa539a24490>,\n",
              " <textattack.attack_results.successful_attack_result.SuccessfulAttackResult at 0x7fa5563e8520>,\n",
              " <textattack.attack_results.skipped_attack_result.SkippedAttackResult at 0x7fa5563e8580>,\n",
              " <textattack.attack_results.successful_attack_result.SuccessfulAttackResult at 0x7fa5551bbeb0>,\n",
              " <textattack.attack_results.failed_attack_result.FailedAttackResult at 0x7fa544fbdac0>,\n",
              " <textattack.attack_results.successful_attack_result.SuccessfulAttackResult at 0x7fa555231040>,\n",
              " <textattack.attack_results.successful_attack_result.SuccessfulAttackResult at 0x7fa54653ca30>,\n",
              " <textattack.attack_results.skipped_attack_result.SkippedAttackResult at 0x7fa54653c640>,\n",
              " <textattack.attack_results.successful_attack_result.SuccessfulAttackResult at 0x7fa551c57190>,\n",
              " <textattack.attack_results.successful_attack_result.SuccessfulAttackResult at 0x7fa5bb1c86a0>,\n",
              " <textattack.attack_results.successful_attack_result.SuccessfulAttackResult at 0x7fa551c573d0>,\n",
              " <textattack.attack_results.failed_attack_result.FailedAttackResult at 0x7fa59e06b6d0>,\n",
              " <textattack.attack_results.successful_attack_result.SuccessfulAttackResult at 0x7fa5c782e7f0>,\n",
              " <textattack.attack_results.successful_attack_result.SuccessfulAttackResult at 0x7fa5bb0ed520>,\n",
              " <textattack.attack_results.successful_attack_result.SuccessfulAttackResult at 0x7fa55e69a880>,\n",
              " <textattack.attack_results.successful_attack_result.SuccessfulAttackResult at 0x7fa545399340>,\n",
              " <textattack.attack_results.successful_attack_result.SuccessfulAttackResult at 0x7fa55c7e6640>,\n",
              " <textattack.attack_results.failed_attack_result.FailedAttackResult at 0x7fa55e07b970>,\n",
              " <textattack.attack_results.successful_attack_result.SuccessfulAttackResult at 0x7fa541b6af10>,\n",
              " <textattack.attack_results.successful_attack_result.SuccessfulAttackResult at 0x7fa55d340460>,\n",
              " <textattack.attack_results.successful_attack_result.SuccessfulAttackResult at 0x7fa551cc8af0>,\n",
              " <textattack.attack_results.successful_attack_result.SuccessfulAttackResult at 0x7fa55e69a370>,\n",
              " <textattack.attack_results.successful_attack_result.SuccessfulAttackResult at 0x7fa56b68f0a0>,\n",
              " <textattack.attack_results.successful_attack_result.SuccessfulAttackResult at 0x7fa56b68f160>,\n",
              " <textattack.attack_results.successful_attack_result.SuccessfulAttackResult at 0x7fa5453996d0>,\n",
              " <textattack.attack_results.successful_attack_result.SuccessfulAttackResult at 0x7fa556f01070>,\n",
              " <textattack.attack_results.skipped_attack_result.SkippedAttackResult at 0x7fa556f010d0>,\n",
              " <textattack.attack_results.successful_attack_result.SuccessfulAttackResult at 0x7fa556f01040>,\n",
              " <textattack.attack_results.successful_attack_result.SuccessfulAttackResult at 0x7fa551cc8d90>,\n",
              " <textattack.attack_results.successful_attack_result.SuccessfulAttackResult at 0x7fa539778550>,\n",
              " <textattack.attack_results.successful_attack_result.SuccessfulAttackResult at 0x7fa545399df0>,\n",
              " <textattack.attack_results.failed_attack_result.FailedAttackResult at 0x7fa551cc8040>,\n",
              " <textattack.attack_results.failed_attack_result.FailedAttackResult at 0x7fa591752910>,\n",
              " <textattack.attack_results.successful_attack_result.SuccessfulAttackResult at 0x7fa554c50790>,\n",
              " <textattack.attack_results.successful_attack_result.SuccessfulAttackResult at 0x7fa591752580>,\n",
              " <textattack.attack_results.successful_attack_result.SuccessfulAttackResult at 0x7fa55d567580>,\n",
              " <textattack.attack_results.successful_attack_result.SuccessfulAttackResult at 0x7fa5540412e0>,\n",
              " <textattack.attack_results.successful_attack_result.SuccessfulAttackResult at 0x7fa553959640>,\n",
              " <textattack.attack_results.successful_attack_result.SuccessfulAttackResult at 0x7fa555ee26a0>,\n",
              " <textattack.attack_results.skipped_attack_result.SkippedAttackResult at 0x7fa555ee2040>,\n",
              " <textattack.attack_results.successful_attack_result.SuccessfulAttackResult at 0x7fa55d567c70>,\n",
              " <textattack.attack_results.successful_attack_result.SuccessfulAttackResult at 0x7fa545399bb0>,\n",
              " <textattack.attack_results.successful_attack_result.SuccessfulAttackResult at 0x7fa53762ff10>,\n",
              " <textattack.attack_results.skipped_attack_result.SkippedAttackResult at 0x7fa53762faf0>,\n",
              " <textattack.attack_results.successful_attack_result.SuccessfulAttackResult at 0x7fa545399760>,\n",
              " <textattack.attack_results.successful_attack_result.SuccessfulAttackResult at 0x7fa55d567d60>,\n",
              " <textattack.attack_results.successful_attack_result.SuccessfulAttackResult at 0x7fa555ee2400>,\n",
              " <textattack.attack_results.successful_attack_result.SuccessfulAttackResult at 0x7fa591752250>,\n",
              " <textattack.attack_results.skipped_attack_result.SkippedAttackResult at 0x7fa53762ffa0>,\n",
              " <textattack.attack_results.successful_attack_result.SuccessfulAttackResult at 0x7fa55214ed30>,\n",
              " <textattack.attack_results.successful_attack_result.SuccessfulAttackResult at 0x7fa555734a60>,\n",
              " <textattack.attack_results.successful_attack_result.SuccessfulAttackResult at 0x7fa545a6ea30>,\n",
              " <textattack.attack_results.successful_attack_result.SuccessfulAttackResult at 0x7fa55624b490>,\n",
              " <textattack.attack_results.successful_attack_result.SuccessfulAttackResult at 0x7fa55735a610>,\n",
              " <textattack.attack_results.successful_attack_result.SuccessfulAttackResult at 0x7fa554e0da90>,\n",
              " <textattack.attack_results.successful_attack_result.SuccessfulAttackResult at 0x7fa556f01700>,\n",
              " <textattack.attack_results.failed_attack_result.FailedAttackResult at 0x7fa779815220>,\n",
              " <textattack.attack_results.failed_attack_result.FailedAttackResult at 0x7fa5563e8310>,\n",
              " <textattack.attack_results.successful_attack_result.SuccessfulAttackResult at 0x7fa5378b2250>,\n",
              " <textattack.attack_results.successful_attack_result.SuccessfulAttackResult at 0x7fa555ee2eb0>,\n",
              " <textattack.attack_results.successful_attack_result.SuccessfulAttackResult at 0x7fa537063ca0>,\n",
              " <textattack.attack_results.successful_attack_result.SuccessfulAttackResult at 0x7fa555ee2160>,\n",
              " <textattack.attack_results.successful_attack_result.SuccessfulAttackResult at 0x7fa55d567ac0>,\n",
              " <textattack.attack_results.successful_attack_result.SuccessfulAttackResult at 0x7fa53762fc40>,\n",
              " <textattack.attack_results.successful_attack_result.SuccessfulAttackResult at 0x7fa555ee2dc0>,\n",
              " <textattack.attack_results.skipped_attack_result.SkippedAttackResult at 0x7fa555ee2cd0>,\n",
              " <textattack.attack_results.skipped_attack_result.SkippedAttackResult at 0x7fa555ee2640>,\n",
              " <textattack.attack_results.successful_attack_result.SuccessfulAttackResult at 0x7fa55d567490>,\n",
              " <textattack.attack_results.successful_attack_result.SuccessfulAttackResult at 0x7fa555ee27c0>,\n",
              " <textattack.attack_results.successful_attack_result.SuccessfulAttackResult at 0x7fa5560e8d60>,\n",
              " <textattack.attack_results.successful_attack_result.SuccessfulAttackResult at 0x7fa5bab32460>,\n",
              " <textattack.attack_results.skipped_attack_result.SkippedAttackResult at 0x7fa5bab321c0>,\n",
              " <textattack.attack_results.successful_attack_result.SuccessfulAttackResult at 0x7fa554dda670>,\n",
              " <textattack.attack_results.successful_attack_result.SuccessfulAttackResult at 0x7fa555f55400>,\n",
              " <textattack.attack_results.successful_attack_result.SuccessfulAttackResult at 0x7fa5560e8fa0>,\n",
              " <textattack.attack_results.successful_attack_result.SuccessfulAttackResult at 0x7fa554ddaa90>,\n",
              " <textattack.attack_results.failed_attack_result.FailedAttackResult at 0x7fa545399730>,\n",
              " <textattack.attack_results.successful_attack_result.SuccessfulAttackResult at 0x7fa59e06b280>,\n",
              " <textattack.attack_results.successful_attack_result.SuccessfulAttackResult at 0x7fa555ee2220>,\n",
              " <textattack.attack_results.successful_attack_result.SuccessfulAttackResult at 0x7fa555ee2f40>,\n",
              " <textattack.attack_results.skipped_attack_result.SkippedAttackResult at 0x7fa552349280>,\n",
              " <textattack.attack_results.successful_attack_result.SuccessfulAttackResult at 0x7fa545399c70>,\n",
              " <textattack.attack_results.successful_attack_result.SuccessfulAttackResult at 0x7fa555ee2700>,\n",
              " <textattack.attack_results.successful_attack_result.SuccessfulAttackResult at 0x7fa59e06bca0>,\n",
              " <textattack.attack_results.successful_attack_result.SuccessfulAttackResult at 0x7fa5377bca30>,\n",
              " <textattack.attack_results.skipped_attack_result.SkippedAttackResult at 0x7fa5377bc3a0>,\n",
              " <textattack.attack_results.successful_attack_result.SuccessfulAttackResult at 0x7fa5bb1c8370>,\n",
              " <textattack.attack_results.successful_attack_result.SuccessfulAttackResult at 0x7fa553959400>,\n",
              " <textattack.attack_results.successful_attack_result.SuccessfulAttackResult at 0x7fa5563e8280>,\n",
              " <textattack.attack_results.successful_attack_result.SuccessfulAttackResult at 0x7fa5c3c40910>,\n",
              " <textattack.attack_results.successful_attack_result.SuccessfulAttackResult at 0x7fa553959ca0>,\n",
              " <textattack.attack_results.successful_attack_result.SuccessfulAttackResult at 0x7fa5544c9940>,\n",
              " <textattack.attack_results.successful_attack_result.SuccessfulAttackResult at 0x7fa5377bc760>,\n",
              " <textattack.attack_results.successful_attack_result.SuccessfulAttackResult at 0x7fa5bb0375e0>,\n",
              " <textattack.attack_results.successful_attack_result.SuccessfulAttackResult at 0x7fa5370633a0>,\n",
              " <textattack.attack_results.successful_attack_result.SuccessfulAttackResult at 0x7fa5377bc100>,\n",
              " <textattack.attack_results.successful_attack_result.SuccessfulAttackResult at 0x7fa5563e8400>,\n",
              " <textattack.attack_results.failed_attack_result.FailedAttackResult at 0x7fa554dda9a0>,\n",
              " <textattack.attack_results.successful_attack_result.SuccessfulAttackResult at 0x7fa555734640>,\n",
              " <textattack.attack_results.successful_attack_result.SuccessfulAttackResult at 0x7fa554637700>,\n",
              " <textattack.attack_results.successful_attack_result.SuccessfulAttackResult at 0x7fa553959790>,\n",
              " <textattack.attack_results.skipped_attack_result.SkippedAttackResult at 0x7fa553959550>,\n",
              " <textattack.attack_results.successful_attack_result.SuccessfulAttackResult at 0x7fa544ec8610>,\n",
              " <textattack.attack_results.successful_attack_result.SuccessfulAttackResult at 0x7fa543876910>,\n",
              " <textattack.attack_results.successful_attack_result.SuccessfulAttackResult at 0x7fa5c7ebdf10>,\n",
              " <textattack.attack_results.successful_attack_result.SuccessfulAttackResult at 0x7fa555734fd0>,\n",
              " <textattack.attack_results.successful_attack_result.SuccessfulAttackResult at 0x7fa541b6aca0>,\n",
              " <textattack.attack_results.successful_attack_result.SuccessfulAttackResult at 0x7fa537bb97f0>,\n",
              " <textattack.attack_results.successful_attack_result.SuccessfulAttackResult at 0x7fa55d567790>,\n",
              " <textattack.attack_results.successful_attack_result.SuccessfulAttackResult at 0x7fa555ee2a90>,\n",
              " <textattack.attack_results.successful_attack_result.SuccessfulAttackResult at 0x7fa556f01ca0>,\n",
              " <textattack.attack_results.successful_attack_result.SuccessfulAttackResult at 0x7fa537011310>,\n",
              " <textattack.attack_results.successful_attack_result.SuccessfulAttackResult at 0x7fa556f01e80>,\n",
              " <textattack.attack_results.failed_attack_result.FailedAttackResult at 0x7fa537063910>,\n",
              " <textattack.attack_results.successful_attack_result.SuccessfulAttackResult at 0x7fa53762fbe0>,\n",
              " <textattack.attack_results.skipped_attack_result.SkippedAttackResult at 0x7fa5c7f19d90>,\n",
              " <textattack.attack_results.successful_attack_result.SuccessfulAttackResult at 0x7fa5563e8ac0>,\n",
              " <textattack.attack_results.successful_attack_result.SuccessfulAttackResult at 0x7fa5539599d0>,\n",
              " <textattack.attack_results.successful_attack_result.SuccessfulAttackResult at 0x7fa5c7f198b0>,\n",
              " <textattack.attack_results.successful_attack_result.SuccessfulAttackResult at 0x7fa53762fa90>,\n",
              " <textattack.attack_results.successful_attack_result.SuccessfulAttackResult at 0x7fa553959f40>,\n",
              " <textattack.attack_results.successful_attack_result.SuccessfulAttackResult at 0x7fa53762f790>,\n",
              " <textattack.attack_results.successful_attack_result.SuccessfulAttackResult at 0x7fa5377bc250>,\n",
              " <textattack.attack_results.successful_attack_result.SuccessfulAttackResult at 0x7fa537063e20>,\n",
              " <textattack.attack_results.successful_attack_result.SuccessfulAttackResult at 0x7fa555ee2ac0>,\n",
              " <textattack.attack_results.successful_attack_result.SuccessfulAttackResult at 0x7fa556f01d90>,\n",
              " <textattack.attack_results.failed_attack_result.FailedAttackResult at 0x7fa56b68f130>,\n",
              " <textattack.attack_results.successful_attack_result.SuccessfulAttackResult at 0x7fa591ab2a90>,\n",
              " <textattack.attack_results.successful_attack_result.SuccessfulAttackResult at 0x7fa55e07b7f0>,\n",
              " <textattack.attack_results.successful_attack_result.SuccessfulAttackResult at 0x7fa5559c4790>,\n",
              " <textattack.attack_results.successful_attack_result.SuccessfulAttackResult at 0x7fa5453991c0>,\n",
              " <textattack.attack_results.successful_attack_result.SuccessfulAttackResult at 0x7fa779815340>,\n",
              " <textattack.attack_results.successful_attack_result.SuccessfulAttackResult at 0x7fa554e0d1f0>,\n",
              " <textattack.attack_results.skipped_attack_result.SkippedAttackResult at 0x7fa554e0d1c0>,\n",
              " <textattack.attack_results.successful_attack_result.SuccessfulAttackResult at 0x7fa5471d2340>,\n",
              " <textattack.attack_results.successful_attack_result.SuccessfulAttackResult at 0x7fa552349100>,\n",
              " <textattack.attack_results.successful_attack_result.SuccessfulAttackResult at 0x7fa779815580>,\n",
              " <textattack.attack_results.successful_attack_result.SuccessfulAttackResult at 0x7fa554cb69a0>,\n",
              " <textattack.attack_results.successful_attack_result.SuccessfulAttackResult at 0x7fa54143c2b0>,\n",
              " <textattack.attack_results.successful_attack_result.SuccessfulAttackResult at 0x7fa5559c43d0>,\n",
              " <textattack.attack_results.successful_attack_result.SuccessfulAttackResult at 0x7fa55e692940>,\n",
              " <textattack.attack_results.successful_attack_result.SuccessfulAttackResult at 0x7fa537036d60>,\n",
              " <textattack.attack_results.successful_attack_result.SuccessfulAttackResult at 0x7fa5ba2d2ca0>,\n",
              " <textattack.attack_results.successful_attack_result.SuccessfulAttackResult at 0x7fa5c7ecc6d0>,\n",
              " <textattack.attack_results.successful_attack_result.SuccessfulAttackResult at 0x7fa555ee23a0>,\n",
              " <textattack.attack_results.successful_attack_result.SuccessfulAttackResult at 0x7fa537036ac0>,\n",
              " <textattack.attack_results.successful_attack_result.SuccessfulAttackResult at 0x7fa5377bcbb0>,\n",
              " <textattack.attack_results.successful_attack_result.SuccessfulAttackResult at 0x7fa5377bc880>,\n",
              " <textattack.attack_results.successful_attack_result.SuccessfulAttackResult at 0x7fa5bab6e130>,\n",
              " <textattack.attack_results.successful_attack_result.SuccessfulAttackResult at 0x7fa544699970>,\n",
              " <textattack.attack_results.successful_attack_result.SuccessfulAttackResult at 0x7fa5377bc5b0>,\n",
              " <textattack.attack_results.successful_attack_result.SuccessfulAttackResult at 0x7fa554c50550>,\n",
              " <textattack.attack_results.successful_attack_result.SuccessfulAttackResult at 0x7fa556f014f0>,\n",
              " <textattack.attack_results.successful_attack_result.SuccessfulAttackResult at 0x7fa541b57cd0>,\n",
              " <textattack.attack_results.failed_attack_result.FailedAttackResult at 0x7fa556f01c70>,\n",
              " <textattack.attack_results.successful_attack_result.SuccessfulAttackResult at 0x7fa55d340f10>,\n",
              " <textattack.attack_results.skipped_attack_result.SkippedAttackResult at 0x7fa5377bc2e0>,\n",
              " <textattack.attack_results.successful_attack_result.SuccessfulAttackResult at 0x7fa551cc82b0>,\n",
              " <textattack.attack_results.failed_attack_result.FailedAttackResult at 0x7fa55214edf0>,\n",
              " <textattack.attack_results.successful_attack_result.SuccessfulAttackResult at 0x7fa5ba7cce20>]"
            ]
          },
          "execution_count": 9,
          "metadata": {},
          "output_type": "execute_result"
        }
      ],
      "source": [
        "# first generate adversarial examples using textattack\n",
        "# recipe: textfooler\n",
        "model = transformers.AutoModelForSequenceClassification.from_pretrained(\"textattack/roberta-base-ag-news\")\n",
        "tokenizer = transformers.AutoTokenizer.from_pretrained(\"textattack/roberta-base-ag-news\")\n",
        "model_wrapper = MyWrapperTfidfTokenMask(model, tokenizer, tfidf)\n",
        "\n",
        "# build the textfooler attack\n",
        "attack = textattack.attack_recipes.textfooler_jin_2019.TextFoolerJin2019.build(model_wrapper)\n",
        "\n",
        "# Load the dataset\n",
        "dataset = textattack.datasets.HuggingFaceDataset(\"ag_news\", split=\"test\")\n",
        "\n",
        "# Attack 100 samples with CSV logging and checkpoint saved every 5 interval\n",
        "attack_args = textattack.AttackArgs(\n",
        "    num_examples=200,\n",
        "    log_to_csv=\"tfidf_masking_tokens_40.csv\",\n",
        "    checkpoint_interval=5,\n",
        "    checkpoint_dir=\"checkpoints\",\n",
        "    disable_stdout=True\n",
        ")\n",
        "\n",
        "attacker = textattack.Attacker(attack, dataset, attack_args)\n",
        "attacker.attack_dataset()"
      ]
    },
    {
      "cell_type": "markdown",
      "metadata": {
        "id": "Co0JxB1b0lvN"
      },
      "source": [
        "\n",
        "\n",
        "---\n",
        "\n",
        "\n",
        "#### testing random code"
      ]
    },
    {
      "cell_type": "code",
      "execution_count": null,
      "metadata": {
        "colab": {
          "base_uri": "https://localhost:8080/"
        },
        "id": "3UhGCyR5rgy-",
        "outputId": "320f4a4e-f90e-4ebb-b89a-9abcfcec2951"
      },
      "outputs": [
        {
          "data": {
            "text/plain": [
              "[\"Wall St. Bears Claw Back Into the Black (Reuters) Reuters - Short-sellers, Wall Street's dwindling\\\\band of ultra-cynics, are seeing green again.\",\n",
              " 'Carlyle Looks Toward Commercial Aerospace (Reuters) Reuters - Private investment firm Carlyle Group,\\\\which has a reputation for making well-timed and occasionally\\\\controversial plays in the defense industry, has quietly placed\\\\its bets on another part of the market.']"
            ]
          },
          "execution_count": 6,
          "metadata": {},
          "output_type": "execute_result"
        }
      ],
      "source": [
        "train['text'][:2]"
      ]
    },
    {
      "cell_type": "code",
      "execution_count": null,
      "metadata": {
        "colab": {
          "base_uri": "https://localhost:8080/",
          "height": 177,
          "referenced_widgets": [
            "0020aedce21e4fef853cf125a042e94c",
            "7ac1d8c80281449cb55fb212cd71371d",
            "f89b2ff8747140a8905a8d4eb8c624f9",
            "b037ecae767d4c6d8e9b36e5376ec5b4",
            "545c63287e3642b1a46cc395183f9ed2",
            "625b60ec1d254ef2b0963f2bda778b5c",
            "091d8c503d54447d9db679a97fda824e",
            "2be8d513c1da468084fc4718b37fdade",
            "a52aca5eda24484f98f5360324690df2",
            "7c20b21dd7a6465a927c6f5d30a1cdf5",
            "6c987af64e5d4c5c84cfd975ee7da07a",
            "9e7cc7ec942e46908b22813d3c6a75f5",
            "5f867b1cb624401285f1d5a32197decd",
            "5ae9ab5979bc4babb74e13e1af6150c4",
            "6e500743cfe44f638a7e6aee51e10d5c",
            "391f98f2714441fd9e31121ef17a7493",
            "4089fcabdabd42648324372d23d13467",
            "0871bf87d20c41d0a1ebe51c1834c317",
            "9703f88d1be44ed39e3dd1be89cfd2b1",
            "995be9f34d1941eabf250498fd84628b",
            "634939d3437d4e329f26dbbf6df35e69",
            "c553b8b893504c53b0ce3a76c787378e",
            "5da1679a5e8f4a32844eecdf52b72c24",
            "2337d82d172148fb8d56c082f345c8e0",
            "f87490a4d42e4254b3bfdec0cdb6c068",
            "0a148dbd845042b59115cca4bf1378b1",
            "badd635d84504735b835a2bc00ba575a",
            "2a175b321dfb4c4194311a8393eea8c6",
            "6c14d7ac4f514b52a3f80448bbf724a2",
            "f30f2cb4c2674bdb86c534a75fe12a57",
            "98683ae7e96c4b11ba54241696f9c3c3",
            "077a8e3246854e08883b29e42503b532",
            "732b4e3417454f348c88942e18bb6d03",
            "b632e9fb8cd8429c97ddace5d778cd41",
            "5922c0ed35584b848e52a46e65b8112b",
            "01a1e55046eb4f96aff4c86611ff9363",
            "096683c110014bbaad2905f554df99d4",
            "93ed3ae4712b4c33a28f80d9c9bafd35",
            "5fe84bd27ba943b5892917b55177a33d",
            "75225854f3644ffb85f20377fd232490",
            "fd895b92042f491d85dd124c7d21090b",
            "2e2aa9f1ba1e41609e74421c6f96a4ad",
            "ff121e7e9868484c804e1173c8bc1382",
            "a9fbbc556eb6467ebb340b6bf905b4ad",
            "9ef8affbefe74a2a9de967f30f00a10f",
            "d8e548e63df04d56abfaaee84be89a87",
            "41105c7314a4409f9f8c3ecf1a20da93",
            "c31da4be91f944d1a73769f2501b59f7",
            "aa093804cc924597895272790a9208e6",
            "3661c76727c54fb08caf33fb3bfd0a25",
            "cb7f3c4bdc274487aac8c661438eccec",
            "aafc92bbdfc14c7c81d34944c118f46a",
            "eba8bd4f43e54af9a98d5b586cc7d6f1",
            "11adab514e304ec2baf453184216d3ea",
            "af003d202d4b48fe9f3819c6e72c14f8"
          ]
        },
        "id": "vbUPOcA40lfz",
        "outputId": "ddb70b5c-596a-48ae-daeb-8ba8bec1c1b4"
      },
      "outputs": [
        {
          "data": {
            "application/vnd.jupyter.widget-view+json": {
              "model_id": "0020aedce21e4fef853cf125a042e94c",
              "version_major": 2,
              "version_minor": 0
            },
            "text/plain": [
              "Downloading (…)okenizer_config.json:   0%|          | 0.00/25.0 [00:00<?, ?B/s]"
            ]
          },
          "metadata": {},
          "output_type": "display_data"
        },
        {
          "data": {
            "application/vnd.jupyter.widget-view+json": {
              "model_id": "9e7cc7ec942e46908b22813d3c6a75f5",
              "version_major": 2,
              "version_minor": 0
            },
            "text/plain": [
              "Downloading (…)lve/main/config.json:   0%|          | 0.00/754 [00:00<?, ?B/s]"
            ]
          },
          "metadata": {},
          "output_type": "display_data"
        },
        {
          "data": {
            "application/vnd.jupyter.widget-view+json": {
              "model_id": "5da1679a5e8f4a32844eecdf52b72c24",
              "version_major": 2,
              "version_minor": 0
            },
            "text/plain": [
              "Downloading (…)olve/main/vocab.json:   0%|          | 0.00/798k [00:00<?, ?B/s]"
            ]
          },
          "metadata": {},
          "output_type": "display_data"
        },
        {
          "data": {
            "application/vnd.jupyter.widget-view+json": {
              "model_id": "b632e9fb8cd8429c97ddace5d778cd41",
              "version_major": 2,
              "version_minor": 0
            },
            "text/plain": [
              "Downloading (…)olve/main/merges.txt:   0%|          | 0.00/456k [00:00<?, ?B/s]"
            ]
          },
          "metadata": {},
          "output_type": "display_data"
        },
        {
          "data": {
            "application/vnd.jupyter.widget-view+json": {
              "model_id": "9ef8affbefe74a2a9de967f30f00a10f",
              "version_major": 2,
              "version_minor": 0
            },
            "text/plain": [
              "Downloading (…)cial_tokens_map.json:   0%|          | 0.00/239 [00:00<?, ?B/s]"
            ]
          },
          "metadata": {},
          "output_type": "display_data"
        }
      ],
      "source": [
        "tokenizer = transformers.AutoTokenizer.from_pretrained(\"textattack/roberta-base-ag-news\")"
      ]
    },
    {
      "cell_type": "code",
      "execution_count": null,
      "metadata": {
        "id": "axiG4RqycSBf"
      },
      "outputs": [],
      "source": [
        "text_input_list = train['text'][:2]"
      ]
    },
    {
      "cell_type": "code",
      "execution_count": null,
      "metadata": {
        "id": "6d6xOKdZcMzV"
      },
      "outputs": [],
      "source": [
        "percent_to_mask = 30\n",
        "for i in range(len(text_input_list)):\n",
        "    words = text_input_list[i].split()\n",
        "    num_words = len(words)\n",
        "    num_to_mask = int(num_words * percent_to_mask / 100)\n",
        "    indices_to_mask = random.sample(range(num_words), num_to_mask)\n",
        "    text_input_list[i] = (\" \".join([\"<mask>\" if i in indices_to_mask else word for i, word in enumerate(words)]))"
      ]
    },
    {
      "cell_type": "code",
      "execution_count": null,
      "metadata": {
        "colab": {
          "base_uri": "https://localhost:8080/"
        },
        "id": "B-ZUDAUecdDj",
        "outputId": "e32fb34c-c109-498a-b75e-187f5cb3c271"
      },
      "outputs": [
        {
          "data": {
            "text/plain": [
              "[\"<mask> St. <mask> <mask> Back Into the Black (Reuters) <mask> <mask> Short-sellers, Wall Street's dwindling\\\\band of ultra-cynics, are <mask> green again.\",\n",
              " '<mask> Looks Toward Commercial Aerospace (Reuters) Reuters - Private <mask> <mask> <mask> Group,\\\\which has a reputation for <mask> well-timed <mask> occasionally\\\\controversial plays in <mask> <mask> industry, has quietly placed\\\\its bets on <mask> <mask> of the market.']"
            ]
          },
          "execution_count": 10,
          "metadata": {},
          "output_type": "execute_result"
        }
      ],
      "source": [
        "text_input_list"
      ]
    },
    {
      "cell_type": "code",
      "execution_count": null,
      "metadata": {
        "id": "ZuoLF3ILeTod"
      },
      "outputs": [],
      "source": [
        "inputs_dict = tokenizer(\n",
        "    train['text'][:2],\n",
        "    add_special_tokens=True,\n",
        "    padding=\"max_length\",\n",
        "    max_length=512,\n",
        "    truncation=True,\n",
        "    return_tensors=\"pt\",\n",
        ")\n",
        "\n",
        "        # take in the inputs_dict and randomly attention_mask = 0\n",
        "        # Mask random tokens        \n",
        "        # don't touch the first and last tokens\n",
        "percent_zero=40\n",
        "for i in range(len(inputs_dict['attention_mask'])):\n",
        "    length = torch.count_nonzero(inputs_dict['attention_mask'][i])-2\n",
        "    num_zeros = int(length * percent_zero/100)\n",
        "    indices = np.arange(length)\n",
        "    random_indices = np.random.choice(np.arange(length), size=num_zeros, replace=False)\n",
        "    for j in random_indices:\n",
        "        inputs_dict['attention_mask'][i][j+1] = 0\n",
        "        \n"
      ]
    },
    {
      "cell_type": "code",
      "execution_count": null,
      "metadata": {
        "id": "IMw6N9QwcLr8"
      },
      "outputs": [],
      "source": []
    },
    {
      "cell_type": "code",
      "execution_count": null,
      "metadata": {
        "colab": {
          "base_uri": "https://localhost:8080/"
        },
        "id": "FaGBpYfDePJi",
        "outputId": "ef112514-2385-431d-ad27-86043e633e7c"
      },
      "outputs": [
        {
          "data": {
            "text/plain": [
              "{'input_ids': tensor([[    0, 28216,   312,  ...,     1,     1,     1],\n",
              "        [    0,  9518,   352,  ...,     1,     1,     1]]), 'attention_mask': tensor([[1, 0, 1,  ..., 0, 0, 0],\n",
              "        [1, 1, 0,  ..., 0, 0, 0]])}"
            ]
          },
          "execution_count": 24,
          "metadata": {},
          "output_type": "execute_result"
        }
      ],
      "source": [
        "inputs_dict"
      ]
    },
    {
      "cell_type": "code",
      "execution_count": null,
      "metadata": {
        "colab": {
          "base_uri": "https://localhost:8080/"
        },
        "id": "3K0_tAz3fdPo",
        "outputId": "6e518a76-3086-4fa8-ecb5-1b85fec7132a"
      },
      "outputs": [
        {
          "data": {
            "text/plain": [
              "{'input_ids': tensor([[    0, 28216,   312,  ...,     1,     1,     1],\n",
              "        [    0,  9518,   352,  ...,     1,     1,     1]]), 'attention_mask': tensor([[1, 0, 1,  ..., 0, 0, 0],\n",
              "        [1, 1, 0,  ..., 0, 0, 0]])}"
            ]
          },
          "execution_count": 25,
          "metadata": {},
          "output_type": "execute_result"
        }
      ],
      "source": [
        "inputs_dict"
      ]
    },
    {
      "cell_type": "markdown",
      "metadata": {
        "id": "blB_FiezK_9r"
      },
      "source": [
        "t — term (word)\n",
        "\n",
        "d — document (set of words)\n",
        "\n",
        "N — count of corpus\n",
        "\n",
        "corpus — the total document set\n",
        "\n",
        "tf-idf(t,d) = tf(t,d)*idf(t)\n",
        "\n",
        "**tf-idf(t,d) = tf(t,d) * log(N/(df(t)+1))**\n",
        "\n",
        "tf(t,d) = count of t in d / number of words in d\n",
        "\n",
        "df(t) = occurrence of t in N documents"
      ]
    },
    {
      "cell_type": "markdown",
      "metadata": {
        "id": "26ZqQAn_BnCj"
      },
      "source": [
        "After getting the tf-idf values for each unique tokens in each 'document', sum the frequency values from each document for each unique vectorized tokens"
      ]
    },
    {
      "cell_type": "code",
      "execution_count": null,
      "metadata": {
        "id": "FmnKBxlxuR1h"
      },
      "outputs": [],
      "source": [
        "inputs_dict = tokenizer(\n",
        "            train['text'][:1000]\n",
        "        )"
      ]
    },
    {
      "cell_type": "markdown",
      "metadata": {
        "id": "NnM2fBF0side"
      },
      "source": [
        "tfidf_vocab = {\n",
        "\n",
        "  token : tfidf_value\n",
        "\n",
        "}\n"
      ]
    },
    {
      "cell_type": "code",
      "execution_count": null,
      "metadata": {
        "id": "4S7Z4qziulaZ"
      },
      "outputs": [],
      "source": [
        "inputs_dict['input_ids'][:2]"
      ]
    },
    {
      "cell_type": "code",
      "execution_count": null,
      "metadata": {
        "id": "sNyiOwgv3wwA"
      },
      "outputs": [],
      "source": [
        "# function for making tfidf corpus for vectorized tokens\n",
        "# input is a list of list of vectorized tokens (input_ids)\n",
        "def tfidf_vocab(input):\n",
        "    # Step 1: Calculate the term frequency (TF) for each number in each list\n",
        "    tf_dict = {}\n",
        "    list_count = len(input)\n",
        "    for i, sub_input in enumerate(input):\n",
        "        for num in sub_input:\n",
        "            # Increment the TF count for this number in this list\n",
        "            if num in tf_dict:\n",
        "                if i in tf_dict[num]:\n",
        "                    tf_dict[num][i] += 1\n",
        "                else:\n",
        "                    tf_dict[num][i] = 1\n",
        "            else:\n",
        "                tf_dict[num] = {i: 1}\n",
        "    \n",
        "    # Step 2: Calculate the inverse document frequency (IDF) for each number\n",
        "    idf_dict = {}\n",
        "    for num in tf_dict:\n",
        "        idf_dict[num] = math.log(list_count / len(tf_dict[num]))\n",
        "    \n",
        "    # Step 3: Calculate the TF-IDF score for each number in each list\n",
        "    tfidf_dict = {}\n",
        "    for num in tf_dict:\n",
        "        for list_index in tf_dict[num]:\n",
        "            tf = tf_dict[num][list_index]\n",
        "            idf = idf_dict[num]\n",
        "            tfidf = tf * idf\n",
        "            if list_index in tfidf_dict:\n",
        "                tfidf_dict[list_index][num] = tfidf\n",
        "            else:\n",
        "                tfidf_dict[list_index] = {num: tfidf}\n",
        "    \n",
        "    # Step 4: sum up tfidf values for each unique tokens\n",
        "    tfidf_corpus = {}\n",
        "    for i in range(len(tfidf_dict)):\n",
        "        for j in tfidf_dict[i]:\n",
        "            if j in tfidf_corpus:\n",
        "                tfidf_corpus[j] += tfidf_dict[i][j]\n",
        "            else:\n",
        "                tfidf_corpus[j] = tfidf_dict[i][j]\n",
        " \n",
        "    return tfidf_corpus"
      ]
    },
    {
      "cell_type": "code",
      "execution_count": null,
      "metadata": {
        "id": "EZIF111neA6l"
      },
      "outputs": [],
      "source": [
        "tfidf = tfidf_vocab(inputs_dict['input_ids'])"
      ]
    },
    {
      "cell_type": "code",
      "execution_count": null,
      "metadata": {
        "id": "cv0qEGlE6yIB"
      },
      "outputs": [],
      "source": [
        "inputs_dict = tokenizer(\n",
        "    test['text'][:2],\n",
        "    add_special_tokens=True,\n",
        "    padding=\"max_length\",\n",
        "    max_length=128,\n",
        "    truncation=True,\n",
        "    return_tensors=\"pt\",\n",
        ")"
      ]
    },
    {
      "cell_type": "code",
      "execution_count": null,
      "metadata": {
        "colab": {
          "base_uri": "https://localhost:8080/"
        },
        "id": "DP0pqNEk7oS2",
        "outputId": "5a8dd10b-699c-482e-d56a-012882451a7b"
      },
      "outputs": [
        {
          "data": {
            "text/plain": [
              "{'input_ids': tensor([[    0,   597, 12541,    13,   255,   234,  4931,    71,  1431,  1890,\n",
              "          2485,  4561,  1138,    23,  6980,  1437,  1437,   188,  1250,   224,\n",
              "            51,    32,   128,  7779, 19051,   108,    71,  1431,    19, 35876,\n",
              "          4095,   933,  1853, 18059,   922,     4,     2,     1,     1,     1,\n",
              "             1,     1,     1,     1,     1,     1,     1,     1,     1,     1,\n",
              "             1,     1,     1,     1,     1,     1,     1,     1,     1,     1,\n",
              "             1,     1,     1,     1,     1,     1,     1,     1,     1,     1,\n",
              "             1,     1,     1,     1,     1,     1,     1,     1,     1,     1,\n",
              "             1,     1,     1,     1,     1,     1,     1,     1,     1,     1,\n",
              "             1,     1,     1,     1,     1,     1,     1,     1,     1,     1,\n",
              "             1,     1,     1,     1,     1,     1,     1,     1,     1,     1,\n",
              "             1,     1,     1,     1,     1,     1,     1,     1,     1,     1,\n",
              "             1,     1,     1,     1,     1,     1,     1,     1],\n",
              "        [    0,   133,  8989,    16,   374,    35,  4665,  8075,  2711, 41385,\n",
              "         22217, 10566,    13,  3861,  5374, 15801,    36,  4186, 15949,     4,\n",
              "           175,    43, 44909,     4,   175,   111, 22331,  2191,  6390,     6,\n",
              "           896,   480,    83,   200, 37457,  8687,     9,  7726, 32596,  5468,\n",
              "            13,     5,  1437,   849,  3367,   131,   698,   153, 16866,  1512,\n",
              "          1577,  9421,     6,    10,  3096,    13, 37457, 25943,  7223,  6140,\n",
              "          2849, 28027,  8632,   980,  2524,     6,    34,  4142,   585,     5,\n",
              "            78, 37457, 37757,  1248,    13,    63, 30107,  7726,     4,     2,\n",
              "             1,     1,     1,     1,     1,     1,     1,     1,     1,     1,\n",
              "             1,     1,     1,     1,     1,     1,     1,     1,     1,     1,\n",
              "             1,     1,     1,     1,     1,     1,     1,     1,     1,     1,\n",
              "             1,     1,     1,     1,     1,     1,     1,     1,     1,     1,\n",
              "             1,     1,     1,     1,     1,     1,     1,     1]]), 'attention_mask': tensor([[1, 1, 1, 1, 1, 1, 1, 1, 1, 1, 1, 1, 1, 1, 1, 1, 1, 1, 1, 1, 1, 1, 1, 1,\n",
              "         1, 1, 1, 1, 1, 1, 1, 1, 1, 1, 1, 1, 1, 0, 0, 0, 0, 0, 0, 0, 0, 0, 0, 0,\n",
              "         0, 0, 0, 0, 0, 0, 0, 0, 0, 0, 0, 0, 0, 0, 0, 0, 0, 0, 0, 0, 0, 0, 0, 0,\n",
              "         0, 0, 0, 0, 0, 0, 0, 0, 0, 0, 0, 0, 0, 0, 0, 0, 0, 0, 0, 0, 0, 0, 0, 0,\n",
              "         0, 0, 0, 0, 0, 0, 0, 0, 0, 0, 0, 0, 0, 0, 0, 0, 0, 0, 0, 0, 0, 0, 0, 0,\n",
              "         0, 0, 0, 0, 0, 0, 0, 0],\n",
              "        [1, 1, 1, 1, 1, 1, 1, 1, 1, 1, 1, 1, 1, 1, 1, 1, 1, 1, 1, 1, 1, 1, 1, 1,\n",
              "         1, 1, 1, 1, 1, 1, 1, 1, 1, 1, 1, 1, 1, 1, 1, 1, 1, 1, 1, 1, 1, 1, 1, 1,\n",
              "         1, 1, 1, 1, 1, 1, 1, 1, 1, 1, 1, 1, 1, 1, 1, 1, 1, 1, 1, 1, 1, 1, 1, 1,\n",
              "         1, 1, 1, 1, 1, 1, 1, 1, 0, 0, 0, 0, 0, 0, 0, 0, 0, 0, 0, 0, 0, 0, 0, 0,\n",
              "         0, 0, 0, 0, 0, 0, 0, 0, 0, 0, 0, 0, 0, 0, 0, 0, 0, 0, 0, 0, 0, 0, 0, 0,\n",
              "         0, 0, 0, 0, 0, 0, 0, 0]])}"
            ]
          },
          "execution_count": 82,
          "metadata": {},
          "output_type": "execute_result"
        }
      ],
      "source": [
        "inputs_dict"
      ]
    },
    {
      "cell_type": "code",
      "execution_count": null,
      "metadata": {
        "id": "qNTOA-iY7GqJ"
      },
      "outputs": [],
      "source": [
        "percent_zero=40\n",
        "for i in range(len(inputs_dict['input_ids'])):\n",
        "    length = torch.count_nonzero(inputs_dict['attention_mask'][i])-2\n",
        "    num_zeros = int(length * percent_zero/100)\n",
        "    \n",
        "    input_id = inputs_dict['input_ids'][i][1:(length+1)].tolist()\n",
        "\n",
        "    sorted_list = sorted(input_id, key=lambda x: tfidf.get(x, 0), reverse=True)\n",
        "    top_four = sorted_list[:num_zeros]\n",
        "    indices = [input_id.index(x) for x in top_four]\n",
        "    for j in indices:\n",
        "        inputs_dict['attention_mask'][i][j+1] = 0\n"
      ]
    },
    {
      "cell_type": "code",
      "execution_count": null,
      "metadata": {
        "colab": {
          "base_uri": "https://localhost:8080/"
        },
        "id": "u0c1PtBxDC5L",
        "outputId": "53fa288e-e623-473f-ea71-47fd6f9389fc"
      },
      "outputs": [
        {
          "data": {
            "text/plain": [
              "{'input_ids': tensor([[    0,   597, 12541,    13,   255,   234,  4931,    71,  1431,  1890,\n",
              "          2485,  4561,  1138,    23,  6980,  1437,  1437,   188,  1250,   224,\n",
              "            51,    32,   128,  7779, 19051,   108,    71,  1431,    19, 35876,\n",
              "          4095,   933,  1853, 18059,   922,     4,     2,     1,     1,     1,\n",
              "             1,     1,     1,     1,     1,     1,     1,     1,     1,     1,\n",
              "             1,     1,     1,     1,     1,     1,     1,     1,     1,     1,\n",
              "             1,     1,     1,     1,     1,     1,     1,     1,     1,     1,\n",
              "             1,     1,     1,     1,     1,     1,     1,     1,     1,     1,\n",
              "             1,     1,     1,     1,     1,     1,     1,     1,     1,     1,\n",
              "             1,     1,     1,     1,     1,     1,     1,     1,     1,     1,\n",
              "             1,     1,     1,     1,     1,     1,     1,     1,     1,     1,\n",
              "             1,     1,     1,     1,     1,     1,     1,     1,     1,     1,\n",
              "             1,     1,     1,     1,     1,     1,     1,     1],\n",
              "        [    0,   133,  8989,    16,   374,    35,  4665,  8075,  2711, 41385,\n",
              "         22217, 10566,    13,  3861,  5374, 15801,    36,  4186, 15949,     4,\n",
              "           175,    43, 44909,     4,   175,   111, 22331,  2191,  6390,     6,\n",
              "           896,   480,    83,   200, 37457,  8687,     9,  7726, 32596,  5468,\n",
              "            13,     5,  1437,   849,  3367,   131,   698,   153, 16866,  1512,\n",
              "          1577,  9421,     6,    10,  3096,    13, 37457, 25943,  7223,  6140,\n",
              "          2849, 28027,  8632,   980,  2524,     6,    34,  4142,   585,     5,\n",
              "            78, 37457, 37757,  1248,    13,    63, 30107,  7726,     4,     2,\n",
              "             1,     1,     1,     1,     1,     1,     1,     1,     1,     1,\n",
              "             1,     1,     1,     1,     1,     1,     1,     1,     1,     1,\n",
              "             1,     1,     1,     1,     1,     1,     1,     1,     1,     1,\n",
              "             1,     1,     1,     1,     1,     1,     1,     1,     1,     1,\n",
              "             1,     1,     1,     1,     1,     1,     1,     1]]), 'attention_mask': tensor([[1, 0, 1, 0, 1, 0, 1, 0, 1, 1, 1, 1, 1, 0, 1, 0, 1, 0, 1, 1, 0, 0, 1, 1,\n",
              "         1, 0, 1, 1, 0, 1, 1, 1, 1, 1, 1, 0, 1, 0, 0, 0, 0, 0, 0, 0, 0, 0, 0, 0,\n",
              "         0, 0, 0, 0, 0, 0, 0, 0, 0, 0, 0, 0, 0, 0, 0, 0, 0, 0, 0, 0, 0, 0, 0, 0,\n",
              "         0, 0, 0, 0, 0, 0, 0, 0, 0, 0, 0, 0, 0, 0, 0, 0, 0, 0, 0, 0, 0, 0, 0, 0,\n",
              "         0, 0, 0, 0, 0, 0, 0, 0, 0, 0, 0, 0, 0, 0, 0, 0, 0, 0, 0, 0, 0, 0, 0, 0,\n",
              "         0, 0, 0, 0, 0, 0, 0, 0],\n",
              "        [1, 1, 1, 0, 1, 0, 1, 1, 1, 1, 1, 1, 0, 1, 1, 1, 0, 1, 1, 1, 0, 0, 1, 1,\n",
              "         1, 0, 1, 1, 1, 0, 1, 0, 0, 0, 0, 1, 0, 1, 1, 1, 1, 0, 0, 0, 1, 0, 1, 0,\n",
              "         1, 1, 1, 1, 1, 0, 1, 1, 1, 1, 1, 1, 1, 1, 1, 1, 1, 1, 0, 1, 1, 1, 0, 1,\n",
              "         1, 1, 1, 0, 1, 1, 1, 1, 0, 0, 0, 0, 0, 0, 0, 0, 0, 0, 0, 0, 0, 0, 0, 0,\n",
              "         0, 0, 0, 0, 0, 0, 0, 0, 0, 0, 0, 0, 0, 0, 0, 0, 0, 0, 0, 0, 0, 0, 0, 0,\n",
              "         0, 0, 0, 0, 0, 0, 0, 0]])}"
            ]
          },
          "execution_count": 84,
          "metadata": {},
          "output_type": "execute_result"
        }
      ],
      "source": [
        "inputs_dict"
      ]
    },
    {
      "cell_type": "code",
      "execution_count": null,
      "metadata": {
        "id": "1Fwdu4WUbelm"
      },
      "outputs": [],
      "source": [
        "# tfidf for words\n",
        "from collections import Counter\n",
        "\n",
        "def tfidf_vocab(sentences):\n",
        "    # Step 1: Calculate the term frequency (TF) for each word in each sentence\n",
        "    tf_dict = {}\n",
        "    sentence_count = len(sentences)\n",
        "    for i, sentence in enumerate(sentences):\n",
        "        words = sentence.split()\n",
        "        word_count = len(words)\n",
        "        word_freq = Counter(words)\n",
        "        for word in word_freq:\n",
        "            tf = word_freq[word] / word_count\n",
        "            if word in tf_dict:\n",
        "                if i in tf_dict[word]:\n",
        "                    tf_dict[word][i] += tf\n",
        "                else:\n",
        "                    tf_dict[word][i] = tf\n",
        "            else:\n",
        "                tf_dict[word] = {i: tf}\n",
        "    \n",
        "    # Step 2: Calculate the inverse document frequency (IDF) for each word\n",
        "    idf_dict = {}\n",
        "    for word in tf_dict:\n",
        "        idf_dict[word] = math.log(sentence_count / len(tf_dict[word]))\n",
        "    \n",
        "    # Step 3: Calculate the TF-IDF score for each word in each sentence\n",
        "    tfidf_dict = {}\n",
        "    for word in tf_dict:\n",
        "        for sentence_index in tf_dict[word]:\n",
        "            tf = tf_dict[word][sentence_index]\n",
        "            idf = idf_dict[word]\n",
        "            tfidf = tf * idf\n",
        "            if sentence_index in tfidf_dict:\n",
        "                tfidf_dict[sentence_index][word] = tfidf\n",
        "            else:\n",
        "                tfidf_dict[sentence_index] = {word: tfidf}\n",
        "    \n",
        "    # Step 4: Sum up TF-IDF scores for each unique word\n",
        "    tfidf_corpus = {}\n",
        "    for i in range(len(tfidf_dict)):\n",
        "        for word in tfidf_dict[i]:\n",
        "            if word in tfidf_corpus:\n",
        "                tfidf_corpus[word] += tfidf_dict[i][word]\n",
        "            else:\n",
        "                tfidf_corpus[word] = tfidf_dict[i][word]\n",
        " \n",
        "    return tfidf_corpus"
      ]
    },
    {
      "cell_type": "code",
      "execution_count": null,
      "metadata": {
        "colab": {
          "base_uri": "https://localhost:8080/"
        },
        "id": "XB44l7UFboFi",
        "outputId": "2edad767-2b4a-4287-bcb8-4b3bda53306a"
      },
      "outputs": [
        {
          "data": {
            "text/plain": [
              "{'Wall': 0.17064375897410047,\n",
              " 'St.': 0.08532187948705024,\n",
              " 'Bears': 0.08532187948705024,\n",
              " 'Claw': 0.08532187948705024,\n",
              " 'Back': 0.08532187948705024,\n",
              " 'Into': 0.08532187948705024,\n",
              " 'the': 0.0,\n",
              " 'Black': 0.08532187948705024,\n",
              " '(Reuters)': 0.02867337766621717,\n",
              " 'Reuters': 0.02867337766621717,\n",
              " '-': 0.0,\n",
              " 'Short-sellers,': 0.08532187948705024,\n",
              " \"Street's\": 0.08532187948705024,\n",
              " 'dwindling\\\\band': 0.08532187948705024,\n",
              " 'of': 0.07151518529586737,\n",
              " 'ultra-cynics,': 0.08532187948705024,\n",
              " 'are': 0.08283187890751621,\n",
              " 'seeing': 0.08532187948705024,\n",
              " 'green': 0.08532187948705024,\n",
              " 'again.': 0.08532187948705024,\n",
              " 'Carlyle': 0.09954219273489194,\n",
              " 'Looks': 0.04977109636744597,\n",
              " 'Toward': 0.04977109636744597,\n",
              " 'Commercial': 0.04977109636744597,\n",
              " 'Aerospace': 0.04977109636744597,\n",
              " 'Private': 0.04977109636744597,\n",
              " 'investment': 0.04977109636744597,\n",
              " 'firm': 0.04977109636744597,\n",
              " 'Group,\\\\which': 0.04977109636744597,\n",
              " 'has': 0.09954219273489194,\n",
              " 'a': 0.044154490198597324,\n",
              " 'reputation': 0.04977109636744597,\n",
              " 'for': 0.056748891975668035,\n",
              " 'making': 0.04977109636744597,\n",
              " 'well-timed': 0.04977109636744597,\n",
              " 'and': 0.07649597262936333,\n",
              " 'occasionally\\\\controversial': 0.04977109636744597,\n",
              " 'plays': 0.04977109636744597,\n",
              " 'in': 0.06103401603711721,\n",
              " 'defense': 0.04977109636744597,\n",
              " 'industry,': 0.04977109636744597,\n",
              " 'quietly': 0.04977109636744597,\n",
              " 'placed\\\\its': 0.04977109636744597,\n",
              " 'bets': 0.04977109636744597,\n",
              " 'on': 0.056748891975668035,\n",
              " 'another': 0.04977109636744597,\n",
              " 'part': 0.04977109636744597,\n",
              " 'market.': 0.04977109636744597,\n",
              " 'Oil': 0.05724188428047597,\n",
              " 'Economy': 0.04977109636744597,\n",
              " 'Cloud': 0.04977109636744597,\n",
              " \"Stocks'\": 0.04977109636744597,\n",
              " 'Outlook': 0.04977109636744597,\n",
              " 'Soaring': 0.04977109636744597,\n",
              " 'crude': 0.04977109636744597,\n",
              " 'prices': 0.05622851120948189,\n",
              " 'plus': 0.04977109636744597,\n",
              " 'worries\\\\about': 0.04977109636744597,\n",
              " 'economy': 0.06020923203661563,\n",
              " 'outlook': 0.05942785772035097,\n",
              " 'earnings': 0.04977109636744597,\n",
              " 'expected': 0.04977109636744597,\n",
              " 'to\\\\hang': 0.04977109636744597,\n",
              " 'over': 0.04977109636744597,\n",
              " 'stock': 0.04977109636744597,\n",
              " 'market': 0.04977109636744597,\n",
              " 'next': 0.04977109636744597,\n",
              " 'week': 0.04977109636744597,\n",
              " 'during': 0.04977109636744597,\n",
              " 'depth': 0.04977109636744597,\n",
              " 'the\\\\summer': 0.04977109636744597,\n",
              " 'doldrums.': 0.04977109636744597,\n",
              " 'Iraq': 0.09954219273489194,\n",
              " 'Halts': 0.04977109636744597,\n",
              " 'Exports': 0.04977109636744597,\n",
              " 'from': 0.08994486573890957,\n",
              " 'Main': 0.04977109636744597,\n",
              " 'Southern': 0.04977109636744597,\n",
              " 'Pipeline': 0.04977109636744597,\n",
              " 'Authorities': 0.04977109636744597,\n",
              " 'have': 0.04977109636744597,\n",
              " 'halted': 0.04977109636744597,\n",
              " 'oil': 0.07548259955836926,\n",
              " 'export\\\\flows': 0.04977109636744597,\n",
              " 'main': 0.04977109636744597,\n",
              " 'pipeline': 0.04977109636744597,\n",
              " 'southern': 0.04977109636744597,\n",
              " 'after\\\\intelligence': 0.04977109636744597,\n",
              " 'showed': 0.04977109636744597,\n",
              " 'rebel': 0.04977109636744597,\n",
              " 'militia': 0.04977109636744597,\n",
              " 'could': 0.04977109636744597,\n",
              " 'strike\\\\infrastructure,': 0.04977109636744597,\n",
              " 'an': 0.04977109636744597,\n",
              " 'official': 0.04977109636744597,\n",
              " 'said': 0.04977109636744597,\n",
              " 'Saturday.': 0.04977109636744597,\n",
              " 'soar': 0.04842593160075825,\n",
              " 'to': 0.0968518632015165,\n",
              " 'all-time': 0.04842593160075825,\n",
              " 'record,': 0.04842593160075825,\n",
              " 'posing': 0.04842593160075825,\n",
              " 'new': 0.0968518632015165,\n",
              " 'menace': 0.0968518632015165,\n",
              " 'US': 0.0968518632015165,\n",
              " '(AFP)': 0.04842593160075825,\n",
              " 'AFP': 0.04842593160075825,\n",
              " 'Tearaway': 0.04842593160075825,\n",
              " 'world': 0.04842593160075825,\n",
              " 'prices,': 0.04842593160075825,\n",
              " 'toppling': 0.04842593160075825,\n",
              " 'records': 0.04842593160075825,\n",
              " 'straining': 0.04842593160075825,\n",
              " 'wallets,': 0.04842593160075825,\n",
              " 'present': 0.04842593160075825,\n",
              " 'economic': 0.04842593160075825,\n",
              " 'barely': 0.04842593160075825,\n",
              " 'three': 0.04842593160075825,\n",
              " 'months': 0.04842593160075825,\n",
              " 'before': 0.04842593160075825,\n",
              " 'presidential': 0.04842593160075825,\n",
              " 'elections.': 0.04842593160075825,\n",
              " 'Stocks': 0.0943031299593713,\n",
              " 'End': 0.04715156497968565,\n",
              " 'Up,': 0.04715156497968565,\n",
              " 'But': 0.04715156497968565,\n",
              " 'Near': 0.04715156497968565,\n",
              " 'Year': 0.04715156497968565,\n",
              " 'Lows': 0.04715156497968565,\n",
              " 'ended': 0.04715156497968565,\n",
              " 'slightly': 0.04715156497968565,\n",
              " 'higher': 0.04715156497968565,\n",
              " 'Friday\\\\but': 0.04715156497968565,\n",
              " 'stayed': 0.04715156497968565,\n",
              " 'near': 0.04715156497968565,\n",
              " 'lows': 0.04715156497968565,\n",
              " 'year': 0.04715156497968565,\n",
              " 'as': 0.04715156497968565,\n",
              " 'surged': 0.04715156497968565,\n",
              " 'past': 0.04715156497968565,\n",
              " '#36;46\\\\a': 0.04715156497968565,\n",
              " 'barrel,': 0.04715156497968565,\n",
              " 'offsetting': 0.04715156497968565,\n",
              " 'positive': 0.04715156497968565,\n",
              " 'computer': 0.04715156497968565,\n",
              " 'maker\\\\Dell': 0.04715156497968565,\n",
              " 'Inc.': 0.04715156497968565,\n",
              " '(DELL.O)': 0.04715156497968565}"
            ]
          },
          "execution_count": 74,
          "metadata": {},
          "output_type": "execute_result"
        }
      ],
      "source": [
        "tfidf_vocab(train['text'][:6])"
      ]
    },
    {
      "cell_type": "markdown",
      "metadata": {
        "id": "YQc0XAc00vaX"
      },
      "source": [
        "\n",
        "\n",
        "---\n",
        "\n"
      ]
    },
    {
      "cell_type": "markdown",
      "metadata": {
        "id": "jryzKYSrgmZf"
      },
      "source": [
        "### ignore below"
      ]
    },
    {
      "cell_type": "code",
      "execution_count": null,
      "metadata": {
        "id": "3U6mlV4KFTFa"
      },
      "outputs": [],
      "source": [
        "import random\n",
        "# Randomly mask n% of tokens (set attention_mask to 0)\n",
        "class Random_mask(nn.Module):\n",
        "    def __init__(self, percent_to_mask):\n",
        "        super(Random_mask, self).__init__()\n",
        "        self.percent_to_mask = percent_to_mask\n",
        "        self.model = AutoModelForSequenceClassification.from_pretrained(\"textattack/roberta-base-ag-news\")\n",
        "\n",
        "    def forward(\n",
        "        self,\n",
        "        input_ids=None,\n",
        "        attention_mask=None,\n",
        "        token_type_ids=None,\n",
        "        position_ids=None,\n",
        "        head_mask=None,\n",
        "        inputs_embeds=None,\n",
        "        labels=None,\n",
        "        output_attentions=None,\n",
        "        output_hidden_states=None,\n",
        "        return_dict=None,\n",
        "    ):\n",
        "\n",
        "        # Mask random tokens        \n",
        "        # don't touch the first and last tokens\n",
        "        num_zeros = int((self.percent_to_mask/100) * (len(attention_mask)-2))\n",
        "        zero_indices = random.sample(range(len(attention_mask-2)), num_zeros)\n",
        "        for i in zero_indices:\n",
        "            attention_mask[i+1] = 0\n",
        "\n",
        "        # return model(input_ids, attention_mask)\n",
        "        return np.argmax(self.model(input_ids, attention_mask).logits.detach().numpy())\n",
        "\n",
        "    def get_labels():\n",
        "        return [0,1,2,3]\n"
      ]
    },
    {
      "cell_type": "code",
      "execution_count": null,
      "metadata": {
        "id": "Y0E8nBwcYVmZ"
      },
      "outputs": [],
      "source": [
        "from textattack.models.wrappers import ModelWrapper\n",
        "\n",
        "class Model_wrapper(ModelWrapper):\n",
        "    def __init__(self, tokenizer, model):\n",
        "        self.tokenizer = tokenizer\n",
        "        self.model = model\n",
        "    \n",
        "    def __call__(self, text_input_list):\n",
        "        results = []\n",
        "        for sentence in text_input_list:\n",
        "            results.append(self.model(**self.tokenizer(sentence, return_tensors=\"pt\")))\n",
        "        return results\n",
        "    \n",
        "    def get_labels(self):\n",
        "        return self.model.get_labels()"
      ]
    },
    {
      "cell_type": "code",
      "execution_count": null,
      "metadata": {
        "id": "BsA-eOglRlGI"
      },
      "outputs": [],
      "source": [
        "model_random = Random_mask(25)"
      ]
    },
    {
      "cell_type": "code",
      "execution_count": null,
      "metadata": {
        "id": "ZpT3Qy8QTBZS"
      },
      "outputs": [],
      "source": [
        "tokenizer = transformers.AutoTokenizer.from_pretrained(\"textattack/roberta-base-ag-news\")\n",
        "model_wrapper = Model_wrapper(tokenizer, model_random)\n",
        "\n",
        "# build the textfooler attack\n",
        "attack = textattack.attack_recipes.textfooler_jin_2019.TextFoolerJin2019.build(model_wrapper)"
      ]
    },
    {
      "cell_type": "code",
      "execution_count": null,
      "metadata": {
        "id": "0-y5amsZTfSN"
      },
      "outputs": [],
      "source": [
        "# Load the dataset\n",
        "dataset = textattack.datasets.HuggingFaceDataset(\"ag_news\", split=\"test\")\n",
        "\n",
        "# Attack 100 samples with CSV logging and checkpoint saved every 5 interval\n",
        "attack_args = textattack.AttackArgs(\n",
        "    num_examples=100,\n",
        "    log_to_csv=\"log.csv\",\n",
        "    checkpoint_interval=5,\n",
        "    checkpoint_dir=\"checkpoints\",\n",
        "    disable_stdout=True\n",
        ")\n",
        "# run the attack\n",
        "attacker = textattack.Attacker(attack, dataset, attack_args)\n",
        "attacker.attack_dataset()"
      ]
    },
    {
      "cell_type": "markdown",
      "metadata": {
        "id": "fXQRjumF8EWm"
      },
      "source": [
        "### Method 1 "
      ]
    },
    {
      "cell_type": "code",
      "execution_count": null,
      "metadata": {
        "id": "2QJrqJn1ym5R"
      },
      "outputs": [],
      "source": [
        "tokenizer = AutoTokenizer.from_pretrained(\"textattack/roberta-base-ag-news\", )\n",
        "model = AutoModelForSequenceClassification.from_pretrained(\"textattack/roberta-base-ag-news\")"
      ]
    },
    {
      "cell_type": "code",
      "execution_count": null,
      "metadata": {
        "id": "QYbsZUtp8DmT"
      },
      "outputs": [],
      "source": [
        "class Method_1(nn.Module):\n",
        "    def __init__(self, tfidf_vocab, percent_to_mask):\n",
        "        super(Method_1, self).__init__()\n",
        "        self.tfidf_vocab = tfidf_vocab\n",
        "        self.percent_to_mask = percent_to_mask\n",
        "        self.tokenizer = AutoTokenizer.from_pretrained(\"textattack/roberta-base-ag-news\")\n",
        "        self.model = AutoModelForSequenceClassification.from_pretrained(\"textattack/roberta-base-ag-news\")\n",
        "\n",
        "    def forward(self, sentence):\n",
        "    #     self,\n",
        "    #     input_ids=None,\n",
        "    #     attention_mask=None,\n",
        "    #     token_type_ids=None,\n",
        "    #     position_ids=None,\n",
        "    #     head_mask=None,\n",
        "    #     inputs_embeds=None,\n",
        "    #     labels=None,\n",
        "    #     output_attentions=None,\n",
        "    #     output_hidden_states=None,\n",
        "    #     return_dict=None,\n",
        "    # ):\n",
        "        # truncate n% of words using tfidf\n",
        "        words = sentence.split()\n",
        "        word_tfidf = [self.tfidf_vocab.get(word, 0) for word in words]\n",
        "          \n",
        "        # Sort the words by their TF-IDF value\n",
        "        sorted_words = sorted(zip(words, word_tfidf),\n",
        "                                key=lambda x: x[1], reverse=True)\n",
        "          \n",
        "        # Mask the specified number of words\n",
        "        # note: I guess I can't use topk here since it's not tensors\n",
        "        masked_sentence = sentence\n",
        "        n_words_to_mask = int(len(sorted_words)*(int(self.percent_to_mask)/100))\n",
        "        for word, word_tfidf in sorted_words[:n_words_to_mask]:\n",
        "            masked_sentence = masked_sentence.replace(word, \"\") \n",
        "            # note: this replaces all the same words\n",
        "            # so it could remove more words than needed\n",
        "        sentence = masked_sentence\n",
        "        return model(**tokenizer(sentence, return_tensors=\"pt\"))\n"
      ]
    },
    {
      "cell_type": "code",
      "execution_count": null,
      "metadata": {
        "id": "sssYof142FHE"
      },
      "outputs": [],
      "source": [
        "# make the TF-IDF vocab/corpus\n",
        "tfidf = TfidfVectorizer()\n",
        "# Fit the TfidfVectorizer to the training data and transform the training data\n",
        "tfidf.fit_transform(train['text'])\n",
        "# Calculate the TF-IDF value for each word in the vocabulary\n",
        "tfidf_vocab = tfidf.vocabulary_"
      ]
    },
    {
      "cell_type": "code",
      "execution_count": null,
      "metadata": {
        "colab": {
          "base_uri": "https://localhost:8080/"
        },
        "id": "nTvbcdf1xEi0",
        "outputId": "4d5899fc-2881-4d17-d97e-2af3339facf1"
      },
      "outputs": [
        {
          "name": "stderr",
          "output_type": "stream",
          "text": [
            "Some weights of the model checkpoint at textattack/roberta-base-ag-news were not used when initializing RobertaForSequenceClassification: ['roberta.pooler.dense.bias', 'roberta.pooler.dense.weight']\n",
            "- This IS expected if you are initializing RobertaForSequenceClassification from the checkpoint of a model trained on another task or with another architecture (e.g. initializing a BertForSequenceClassification model from a BertForPreTraining model).\n",
            "- This IS NOT expected if you are initializing RobertaForSequenceClassification from the checkpoint of a model that you expect to be exactly identical (initializing a BertForSequenceClassification model from a BertForSequenceClassification model).\n"
          ]
        }
      ],
      "source": [
        "model_1 = Method_1(tfidf_vocab, 25)"
      ]
    },
    {
      "cell_type": "markdown",
      "metadata": {
        "id": "4vzPruHy9BiJ"
      },
      "source": [
        "Use Textattack to attack the model"
      ]
    },
    {
      "cell_type": "code",
      "execution_count": null,
      "metadata": {
        "colab": {
          "base_uri": "https://localhost:8080/",
          "height": 208,
          "referenced_widgets": [
            "4d2e6d17a7674ae39650323a96cbd405",
            "e7a53e92589a48b981a6e27576d5a5d0",
            "d5ecfac11df240ec841cbb05b06c8de6",
            "82884a1ad53b48859bf06b0c85c9c139",
            "ec6af857f4bf4c598562bbe1d49b15a0",
            "bb6795b8cbfb4445bb81c163c5c70235",
            "51f951c8c5ab4984b6ae5ef5bd475ed6",
            "a659dbc0e454445888a24c074b7c473b",
            "04290986565b4f26968380e7c6feb563",
            "42597a401f9044dbbdf56227542c5031",
            "0c22e44063534fe8820f7c25b77d2b0e"
          ]
        },
        "id": "3ydk5z029sJz",
        "outputId": "c004eac7-4c2b-47ca-e701-0fb78bd51eba"
      },
      "outputs": [
        {
          "name": "stderr",
          "output_type": "stream",
          "text": [
            "textattack: Downloading https://textattack.s3.amazonaws.com/word_embeddings/paragramcf.\n",
            "100%|██████████| 481M/481M [00:38<00:00, 12.5MB/s]\n",
            "textattack: Unzipping file /root/.cache/textattack/tmp2w68edjw.zip to /root/.cache/textattack/word_embeddings/paragramcf.\n",
            "textattack: Successfully saved word_embeddings/paragramcf to cache.\n",
            "textattack: Unknown if model of class <class 'transformers.models.roberta.modeling_roberta.RobertaForSequenceClassification'> compatible with goal function <class 'textattack.goal_functions.classification.untargeted_classification.UntargetedClassification'>.\n",
            "WARNING:datasets.builder:Using custom data configuration default\n",
            "WARNING:datasets.builder:Reusing dataset ag_news (/root/.cache/huggingface/datasets/ag_news/default/0.0.0/bc2bcb40336ace1a0374767fc29bb0296cdaf8a6da7298436239c54d79180548)\n"
          ]
        },
        {
          "data": {
            "application/vnd.jupyter.widget-view+json": {
              "model_id": "4d2e6d17a7674ae39650323a96cbd405",
              "version_major": 2,
              "version_minor": 0
            },
            "text/plain": [
              "  0%|          | 0/2 [00:00<?, ?it/s]"
            ]
          },
          "metadata": {},
          "output_type": "display_data"
        },
        {
          "name": "stderr",
          "output_type": "stream",
          "text": [
            "textattack: Loading \u001b[94mdatasets\u001b[0m dataset \u001b[94mag_news\u001b[0m, split \u001b[94mtest\u001b[0m.\n"
          ]
        }
      ],
      "source": [
        "# first generate adversarial examples using textattack\n",
        "# recipe: textfooler\n",
        "# model = transformers.AutoModelForSequenceClassification.from_pretrained(\"textattack/roberta-base-ag-news\")\n",
        "# tokenizer = transformers.AutoTokenizer.from_pretrained(\"textattack/roberta-base-ag-news\")\n",
        "# model_wrapper = textattack.models.wrappers.HuggingFaceModelWrapper(model, tokenizer)\n",
        "\n",
        "# build the textfooler attack\n",
        "attack = textattack.attack_recipes.textfooler_jin_2019.TextFoolerJin2019.build(model_1)\n",
        "\n",
        "# Load the dataset\n",
        "dataset = textattack.datasets.HuggingFaceDataset(\"ag_news\", split=\"test\")"
      ]
    },
    {
      "cell_type": "code",
      "execution_count": null,
      "metadata": {
        "id": "ERodsoFG86a_"
      },
      "outputs": [],
      "source": [
        "# Load the dataset\n",
        "dataset = textattack.datasets.HuggingFaceDataset(\"ag_news\", split=\"test\")\n",
        "\n",
        "# Attack 100 samples with CSV logging and checkpoint saved every 5 interval\n",
        "attack_args = textattack.AttackArgs(\n",
        "    num_examples=100,\n",
        "    log_to_csv=\"log.csv\",\n",
        "    checkpoint_interval=5,\n",
        "    checkpoint_dir=\"checkpoints\",\n",
        "    disable_stdout=True\n",
        ")\n",
        "\n",
        "attacker = textattack.Attacker(attack, dataset, attack_args)\n",
        "attacker.attack_dataset()"
      ]
    },
    {
      "cell_type": "markdown",
      "metadata": {
        "id": "AHmgWl7pBtvi"
      },
      "source": [
        "Attempt to rewrite the logic in the tokenizer class so it's compatible with TextAttack"
      ]
    },
    {
      "cell_type": "code",
      "execution_count": null,
      "metadata": {
        "id": "XCEltYrNAoH4"
      },
      "outputs": [],
      "source": [
        "class Method_1_tokenizer(PreTrainedTokenizer):\n",
        "    def __init__(self, tfidf_vocab, **kwargs):\n",
        "        super().__init__(**kwargs)\n",
        "        self.tfidf_vocab = tfidf_vocab\n",
        "        self.tokenizer = transformers.AutoTokenizer.from_pretrained(\"textattack/roberta-base-ag-news\")\n",
        "\n",
        "    def __call__(self, text):\n",
        "        # add your custom logic here\n",
        "        percent_to_mask = 25\n",
        "        words = text.split()\n",
        "        word_tfidf = [self.tfidf_vocab.get(word, 0) for word in words]\n",
        "              \n",
        "        # Sort the words by their TF-IDF value\n",
        "        sorted_words = sorted(zip(words, word_tfidf),\n",
        "                                key=lambda x: x[1], reverse=True)\n",
        "              \n",
        "        # Mask the specified number of words\n",
        "        # note: I guess I can't use topk here since it's not tensors\n",
        "        masked_text = text\n",
        "        n_words_to_mask = int(len(sorted_words)*(int(percent_to_mask)/100))\n",
        "        for word, word_tfidf in sorted_words[:n_words_to_mask]:\n",
        "            masked_text = masked_text.replace(word, \"\") \n",
        "            # note: this replaces all the same words\n",
        "            # so it could remove more words than needed\n",
        "        return self.tokenizer(masked_text)\n",
        "\n",
        "# def method_1_tokenizer(texts):\n",
        "#     percent_to_mask = 25\n",
        "#     masked_sentences = []\n",
        "#     for sentence in texts:\n",
        "#         words = sentence.split()\n",
        "#         word_tfidf = [tfidf_vocab.get(word, 0) for word in words]\n",
        "              \n",
        "#         # Sort the words by their TF-IDF value\n",
        "#         sorted_words = sorted(zip(words, word_tfidf),\n",
        "#                                 key=lambda x: x[1], reverse=True)\n",
        "              \n",
        "#         # Mask the specified number of words\n",
        "#         # note: I guess I can't use topk here since it's not tensors\n",
        "#         masked_sentence = sentence\n",
        "#         n_words_to_mask = int(len(sorted_words)*(int(percent_to_mask)/100))\n",
        "#         for word, word_tfidf in sorted_words[:n_words_to_mask]:\n",
        "#             masked_sentence = masked_sentence.replace(word, \"\") \n",
        "#             # note: this replaces all the same words\n",
        "#             # so it could remove more words than needed\n",
        "\n",
        "#     masked_sentences.append(masked_sentence)\n",
        "    \n",
        "#     tokenizer = AutoTokenizer.from_pretrained(\"textattack/roberta-base-ag-news\", )\n",
        "\n",
        "#     return tokenizer(masked_sentences)"
      ]
    },
    {
      "cell_type": "code",
      "execution_count": null,
      "metadata": {
        "colab": {
          "base_uri": "https://localhost:8080/",
          "height": 190,
          "referenced_widgets": [
            "a5fe15b5876e4306a45e7aad191852eb",
            "083349018e4449b6a77266c29f4759f3",
            "1032b75dfafb4c2d86c7ea8921f67e04",
            "d183af6e3bca4765a16ad705d577c82d",
            "04532cb50120489b83ecb3047a95ddd0",
            "3e1015e956d641299c2bce804e9d9031",
            "9a2209635b0d4f2ebd5cc1ed4c353cbb",
            "688f9e0165fa4342914b5ca9a904790f",
            "2f6fd6e514d4435aab1b946c0af136c9",
            "a64e710a411e4565acdf0edffb2c2717",
            "9f1630f83b3e40929f8002516c27cfa7"
          ]
        },
        "id": "5q8uTb1kCWIp",
        "outputId": "2ea320eb-2a50-4112-f2ba-c034b98ded9a"
      },
      "outputs": [
        {
          "name": "stderr",
          "output_type": "stream",
          "text": [
            "Some weights of the model checkpoint at textattack/roberta-base-ag-news were not used when initializing RobertaForSequenceClassification: ['roberta.pooler.dense.weight', 'roberta.pooler.dense.bias']\n",
            "- This IS expected if you are initializing RobertaForSequenceClassification from the checkpoint of a model trained on another task or with another architecture (e.g. initializing a BertForSequenceClassification model from a BertForPreTraining model).\n",
            "- This IS NOT expected if you are initializing RobertaForSequenceClassification from the checkpoint of a model that you expect to be exactly identical (initializing a BertForSequenceClassification model from a BertForSequenceClassification model).\n",
            "textattack: Unknown if model of class <class 'transformers.models.roberta.modeling_roberta.RobertaForSequenceClassification'> compatible with goal function <class 'textattack.goal_functions.classification.untargeted_classification.UntargetedClassification'>.\n",
            "WARNING:datasets.builder:Using custom data configuration default\n",
            "WARNING:datasets.builder:Reusing dataset ag_news (/root/.cache/huggingface/datasets/ag_news/default/0.0.0/bc2bcb40336ace1a0374767fc29bb0296cdaf8a6da7298436239c54d79180548)\n"
          ]
        },
        {
          "data": {
            "application/vnd.jupyter.widget-view+json": {
              "model_id": "a5fe15b5876e4306a45e7aad191852eb",
              "version_major": 2,
              "version_minor": 0
            },
            "text/plain": [
              "  0%|          | 0/2 [00:00<?, ?it/s]"
            ]
          },
          "metadata": {},
          "output_type": "display_data"
        },
        {
          "name": "stderr",
          "output_type": "stream",
          "text": [
            "textattack: Loading \u001b[94mdatasets\u001b[0m dataset \u001b[94mag_news\u001b[0m, split \u001b[94mtest\u001b[0m.\n"
          ]
        }
      ],
      "source": [
        "# first generate adversarial examples using textattack\n",
        "# recipe: textfooler\n",
        "model = transformers.AutoModelForSequenceClassification.from_pretrained(\"textattack/roberta-base-ag-news\")\n",
        "tokenizer = Method_1_tokenizer(tfidf_vocab)\n",
        "model_wrapper = textattack.models.wrappers.HuggingFaceModelWrapper(model, tokenizer)\n",
        "\n",
        "# build the textfooler attack\n",
        "attack = textattack.attack_recipes.textfooler_jin_2019.TextFoolerJin2019.build(model_wrapper)\n",
        "\n",
        "# Load the dataset\n",
        "dataset = textattack.datasets.HuggingFaceDataset(\"ag_news\", split=\"test\")"
      ]
    },
    {
      "cell_type": "code",
      "execution_count": null,
      "metadata": {
        "colab": {
          "base_uri": "https://localhost:8080/",
          "height": 1000
        },
        "id": "U8V8F_XdOQCd",
        "outputId": "fc1fdfe5-ea14-4e3b-f3d5-f4976f5a136d"
      },
      "outputs": [
        {
          "name": "stderr",
          "output_type": "stream",
          "text": [
            "textattack: Logging to CSV at path log.csv\n"
          ]
        },
        {
          "name": "stdout",
          "output_type": "stream",
          "text": [
            "Attack(\n",
            "  (search_method): GreedyWordSwapWIR(\n",
            "    (wir_method):  delete\n",
            "  )\n",
            "  (goal_function):  UntargetedClassification\n",
            "  (transformation):  WordSwapEmbedding(\n",
            "    (max_candidates):  50\n",
            "    (embedding):  WordEmbedding\n",
            "  )\n",
            "  (constraints): \n",
            "    (0): WordEmbeddingDistance(\n",
            "        (embedding):  WordEmbedding\n",
            "        (min_cos_sim):  0.5\n",
            "        (cased):  False\n",
            "        (include_unknown_words):  True\n",
            "        (compare_against_original):  True\n",
            "      )\n",
            "    (1): PartOfSpeech(\n",
            "        (tagger_type):  nltk\n",
            "        (tagset):  universal\n",
            "        (allow_verb_noun_swap):  True\n",
            "        (compare_against_original):  True\n",
            "      )\n",
            "    (2): UniversalSentenceEncoder(\n",
            "        (metric):  angular\n",
            "        (threshold):  0.840845057\n",
            "        (window_size):  15\n",
            "        (skip_text_shorter_than_window):  True\n",
            "        (compare_against_original):  False\n",
            "      )\n",
            "    (3): RepeatModification\n",
            "    (4): StopwordModification\n",
            "    (5): InputColumnModification(\n",
            "        (matching_column_labels):  ['premise', 'hypothesis']\n",
            "        (columns_to_ignore):  {'premise'}\n",
            "      )\n",
            "  (is_black_box):  True\n",
            ") \n",
            "\n"
          ]
        },
        {
          "name": "stderr",
          "output_type": "stream",
          "text": [
            "\n",
            "  0%|          | 0/100 [00:00<?, ?it/s]\u001b[A"
          ]
        },
        {
          "ename": "TypeError",
          "evalue": "ignored",
          "output_type": "error",
          "traceback": [
            "\u001b[0;31m---------------------------------------------------------------------------\u001b[0m",
            "\u001b[0;31mTypeError\u001b[0m                                 Traceback (most recent call last)",
            "\u001b[0;32m<ipython-input-22-e4735b6a7980>\u001b[0m in \u001b[0;36m<module>\u001b[0;34m\u001b[0m\n\u001b[1;32m      9\u001b[0m \u001b[0;34m\u001b[0m\u001b[0m\n\u001b[1;32m     10\u001b[0m \u001b[0mattacker\u001b[0m \u001b[0;34m=\u001b[0m \u001b[0mtextattack\u001b[0m\u001b[0;34m.\u001b[0m\u001b[0mAttacker\u001b[0m\u001b[0;34m(\u001b[0m\u001b[0mattack\u001b[0m\u001b[0;34m,\u001b[0m \u001b[0mdataset\u001b[0m\u001b[0;34m,\u001b[0m \u001b[0mattack_args\u001b[0m\u001b[0;34m)\u001b[0m\u001b[0;34m\u001b[0m\u001b[0;34m\u001b[0m\u001b[0m\n\u001b[0;32m---> 11\u001b[0;31m \u001b[0mattacker\u001b[0m\u001b[0;34m.\u001b[0m\u001b[0mattack_dataset\u001b[0m\u001b[0;34m(\u001b[0m\u001b[0;34m)\u001b[0m\u001b[0;34m\u001b[0m\u001b[0;34m\u001b[0m\u001b[0m\n\u001b[0m",
            "\u001b[0;32m/usr/local/lib/python3.8/dist-packages/textattack/attacker.py\u001b[0m in \u001b[0;36mattack_dataset\u001b[0;34m(self)\u001b[0m\n\u001b[1;32m    439\u001b[0m             \u001b[0mself\u001b[0m\u001b[0;34m.\u001b[0m\u001b[0m_attack_parallel\u001b[0m\u001b[0;34m(\u001b[0m\u001b[0;34m)\u001b[0m\u001b[0;34m\u001b[0m\u001b[0;34m\u001b[0m\u001b[0m\n\u001b[1;32m    440\u001b[0m         \u001b[0;32melse\u001b[0m\u001b[0;34m:\u001b[0m\u001b[0;34m\u001b[0m\u001b[0;34m\u001b[0m\u001b[0m\n\u001b[0;32m--> 441\u001b[0;31m             \u001b[0mself\u001b[0m\u001b[0;34m.\u001b[0m\u001b[0m_attack\u001b[0m\u001b[0;34m(\u001b[0m\u001b[0;34m)\u001b[0m\u001b[0;34m\u001b[0m\u001b[0;34m\u001b[0m\u001b[0m\n\u001b[0m\u001b[1;32m    442\u001b[0m \u001b[0;34m\u001b[0m\u001b[0m\n\u001b[1;32m    443\u001b[0m         \u001b[0;32mif\u001b[0m \u001b[0mself\u001b[0m\u001b[0;34m.\u001b[0m\u001b[0mattack_args\u001b[0m\u001b[0;34m.\u001b[0m\u001b[0msilent\u001b[0m\u001b[0;34m:\u001b[0m\u001b[0;34m\u001b[0m\u001b[0;34m\u001b[0m\u001b[0m\n",
            "\u001b[0;32m/usr/local/lib/python3.8/dist-packages/textattack/attacker.py\u001b[0m in \u001b[0;36m_attack\u001b[0;34m(self)\u001b[0m\n\u001b[1;32m    168\u001b[0m                 \u001b[0mresult\u001b[0m \u001b[0;34m=\u001b[0m \u001b[0mself\u001b[0m\u001b[0;34m.\u001b[0m\u001b[0mattack\u001b[0m\u001b[0;34m.\u001b[0m\u001b[0mattack\u001b[0m\u001b[0;34m(\u001b[0m\u001b[0mexample\u001b[0m\u001b[0;34m,\u001b[0m \u001b[0mground_truth_output\u001b[0m\u001b[0;34m)\u001b[0m\u001b[0;34m\u001b[0m\u001b[0;34m\u001b[0m\u001b[0m\n\u001b[1;32m    169\u001b[0m             \u001b[0;32mexcept\u001b[0m \u001b[0mException\u001b[0m \u001b[0;32mas\u001b[0m \u001b[0me\u001b[0m\u001b[0;34m:\u001b[0m\u001b[0;34m\u001b[0m\u001b[0;34m\u001b[0m\u001b[0m\n\u001b[0;32m--> 170\u001b[0;31m                 \u001b[0;32mraise\u001b[0m \u001b[0me\u001b[0m\u001b[0;34m\u001b[0m\u001b[0;34m\u001b[0m\u001b[0m\n\u001b[0m\u001b[1;32m    171\u001b[0m             if (\n\u001b[1;32m    172\u001b[0m                 \u001b[0misinstance\u001b[0m\u001b[0;34m(\u001b[0m\u001b[0mresult\u001b[0m\u001b[0;34m,\u001b[0m \u001b[0mSkippedAttackResult\u001b[0m\u001b[0;34m)\u001b[0m \u001b[0;32mand\u001b[0m \u001b[0mself\u001b[0m\u001b[0;34m.\u001b[0m\u001b[0mattack_args\u001b[0m\u001b[0;34m.\u001b[0m\u001b[0mattack_n\u001b[0m\u001b[0;34m\u001b[0m\u001b[0;34m\u001b[0m\u001b[0m\n",
            "\u001b[0;32m/usr/local/lib/python3.8/dist-packages/textattack/attacker.py\u001b[0m in \u001b[0;36m_attack\u001b[0;34m(self)\u001b[0m\n\u001b[1;32m    166\u001b[0m                 \u001b[0mexample\u001b[0m\u001b[0;34m.\u001b[0m\u001b[0mattack_attrs\u001b[0m\u001b[0;34m[\u001b[0m\u001b[0;34m\"label_names\"\u001b[0m\u001b[0;34m]\u001b[0m \u001b[0;34m=\u001b[0m \u001b[0mself\u001b[0m\u001b[0;34m.\u001b[0m\u001b[0mdataset\u001b[0m\u001b[0;34m.\u001b[0m\u001b[0mlabel_names\u001b[0m\u001b[0;34m\u001b[0m\u001b[0;34m\u001b[0m\u001b[0m\n\u001b[1;32m    167\u001b[0m             \u001b[0;32mtry\u001b[0m\u001b[0;34m:\u001b[0m\u001b[0;34m\u001b[0m\u001b[0;34m\u001b[0m\u001b[0m\n\u001b[0;32m--> 168\u001b[0;31m                 \u001b[0mresult\u001b[0m \u001b[0;34m=\u001b[0m \u001b[0mself\u001b[0m\u001b[0;34m.\u001b[0m\u001b[0mattack\u001b[0m\u001b[0;34m.\u001b[0m\u001b[0mattack\u001b[0m\u001b[0;34m(\u001b[0m\u001b[0mexample\u001b[0m\u001b[0;34m,\u001b[0m \u001b[0mground_truth_output\u001b[0m\u001b[0;34m)\u001b[0m\u001b[0;34m\u001b[0m\u001b[0;34m\u001b[0m\u001b[0m\n\u001b[0m\u001b[1;32m    169\u001b[0m             \u001b[0;32mexcept\u001b[0m \u001b[0mException\u001b[0m \u001b[0;32mas\u001b[0m \u001b[0me\u001b[0m\u001b[0;34m:\u001b[0m\u001b[0;34m\u001b[0m\u001b[0;34m\u001b[0m\u001b[0m\n\u001b[1;32m    170\u001b[0m                 \u001b[0;32mraise\u001b[0m \u001b[0me\u001b[0m\u001b[0;34m\u001b[0m\u001b[0;34m\u001b[0m\u001b[0m\n",
            "\u001b[0;32m/usr/local/lib/python3.8/dist-packages/textattack/attack.py\u001b[0m in \u001b[0;36mattack\u001b[0;34m(self, example, ground_truth_output)\u001b[0m\n\u001b[1;32m    440\u001b[0m             \u001b[0mground_truth_output\u001b[0m\u001b[0;34m,\u001b[0m \u001b[0;34m(\u001b[0m\u001b[0mint\u001b[0m\u001b[0;34m,\u001b[0m \u001b[0mstr\u001b[0m\u001b[0;34m)\u001b[0m\u001b[0;34m\u001b[0m\u001b[0;34m\u001b[0m\u001b[0m\n\u001b[1;32m    441\u001b[0m         ), \"`ground_truth_output` must either be `str` or `int`.\"\n\u001b[0;32m--> 442\u001b[0;31m         goal_function_result, _ = self.goal_function.init_attack_example(\n\u001b[0m\u001b[1;32m    443\u001b[0m             \u001b[0mexample\u001b[0m\u001b[0;34m,\u001b[0m \u001b[0mground_truth_output\u001b[0m\u001b[0;34m\u001b[0m\u001b[0;34m\u001b[0m\u001b[0m\n\u001b[1;32m    444\u001b[0m         )\n",
            "\u001b[0;32m/usr/local/lib/python3.8/dist-packages/textattack/goal_functions/goal_function.py\u001b[0m in \u001b[0;36minit_attack_example\u001b[0;34m(self, attacked_text, ground_truth_output)\u001b[0m\n\u001b[1;32m     66\u001b[0m         \u001b[0mself\u001b[0m\u001b[0;34m.\u001b[0m\u001b[0mground_truth_output\u001b[0m \u001b[0;34m=\u001b[0m \u001b[0mground_truth_output\u001b[0m\u001b[0;34m\u001b[0m\u001b[0;34m\u001b[0m\u001b[0m\n\u001b[1;32m     67\u001b[0m         \u001b[0mself\u001b[0m\u001b[0;34m.\u001b[0m\u001b[0mnum_queries\u001b[0m \u001b[0;34m=\u001b[0m \u001b[0;36m0\u001b[0m\u001b[0;34m\u001b[0m\u001b[0;34m\u001b[0m\u001b[0m\n\u001b[0;32m---> 68\u001b[0;31m         \u001b[0mresult\u001b[0m\u001b[0;34m,\u001b[0m \u001b[0m_\u001b[0m \u001b[0;34m=\u001b[0m \u001b[0mself\u001b[0m\u001b[0;34m.\u001b[0m\u001b[0mget_result\u001b[0m\u001b[0;34m(\u001b[0m\u001b[0mattacked_text\u001b[0m\u001b[0;34m,\u001b[0m \u001b[0mcheck_skip\u001b[0m\u001b[0;34m=\u001b[0m\u001b[0;32mTrue\u001b[0m\u001b[0;34m)\u001b[0m\u001b[0;34m\u001b[0m\u001b[0;34m\u001b[0m\u001b[0m\n\u001b[0m\u001b[1;32m     69\u001b[0m         \u001b[0;32mreturn\u001b[0m \u001b[0mresult\u001b[0m\u001b[0;34m,\u001b[0m \u001b[0m_\u001b[0m\u001b[0;34m\u001b[0m\u001b[0;34m\u001b[0m\u001b[0m\n\u001b[1;32m     70\u001b[0m \u001b[0;34m\u001b[0m\u001b[0m\n",
            "\u001b[0;32m/usr/local/lib/python3.8/dist-packages/textattack/goal_functions/goal_function.py\u001b[0m in \u001b[0;36mget_result\u001b[0;34m(self, attacked_text, **kwargs)\u001b[0m\n\u001b[1;32m     77\u001b[0m         \"\"\"A helper method that queries ``self.get_results`` with a single\n\u001b[1;32m     78\u001b[0m         ``AttackedText`` object.\"\"\"\n\u001b[0;32m---> 79\u001b[0;31m         \u001b[0mresults\u001b[0m\u001b[0;34m,\u001b[0m \u001b[0msearch_over\u001b[0m \u001b[0;34m=\u001b[0m \u001b[0mself\u001b[0m\u001b[0;34m.\u001b[0m\u001b[0mget_results\u001b[0m\u001b[0;34m(\u001b[0m\u001b[0;34m[\u001b[0m\u001b[0mattacked_text\u001b[0m\u001b[0;34m]\u001b[0m\u001b[0;34m,\u001b[0m \u001b[0;34m**\u001b[0m\u001b[0mkwargs\u001b[0m\u001b[0;34m)\u001b[0m\u001b[0;34m\u001b[0m\u001b[0;34m\u001b[0m\u001b[0m\n\u001b[0m\u001b[1;32m     80\u001b[0m         \u001b[0mresult\u001b[0m \u001b[0;34m=\u001b[0m \u001b[0mresults\u001b[0m\u001b[0;34m[\u001b[0m\u001b[0;36m0\u001b[0m\u001b[0;34m]\u001b[0m \u001b[0;32mif\u001b[0m \u001b[0mlen\u001b[0m\u001b[0;34m(\u001b[0m\u001b[0mresults\u001b[0m\u001b[0;34m)\u001b[0m \u001b[0;32melse\u001b[0m \u001b[0;32mNone\u001b[0m\u001b[0;34m\u001b[0m\u001b[0;34m\u001b[0m\u001b[0m\n\u001b[1;32m     81\u001b[0m         \u001b[0;32mreturn\u001b[0m \u001b[0mresult\u001b[0m\u001b[0;34m,\u001b[0m \u001b[0msearch_over\u001b[0m\u001b[0;34m\u001b[0m\u001b[0;34m\u001b[0m\u001b[0m\n",
            "\u001b[0;32m/usr/local/lib/python3.8/dist-packages/textattack/goal_functions/goal_function.py\u001b[0m in \u001b[0;36mget_results\u001b[0;34m(self, attacked_text_list, check_skip)\u001b[0m\n\u001b[1;32m     94\u001b[0m             \u001b[0mattacked_text_list\u001b[0m \u001b[0;34m=\u001b[0m \u001b[0mattacked_text_list\u001b[0m\u001b[0;34m[\u001b[0m\u001b[0;34m:\u001b[0m\u001b[0mqueries_left\u001b[0m\u001b[0;34m]\u001b[0m\u001b[0;34m\u001b[0m\u001b[0;34m\u001b[0m\u001b[0m\n\u001b[1;32m     95\u001b[0m         \u001b[0mself\u001b[0m\u001b[0;34m.\u001b[0m\u001b[0mnum_queries\u001b[0m \u001b[0;34m+=\u001b[0m \u001b[0mlen\u001b[0m\u001b[0;34m(\u001b[0m\u001b[0mattacked_text_list\u001b[0m\u001b[0;34m)\u001b[0m\u001b[0;34m\u001b[0m\u001b[0;34m\u001b[0m\u001b[0m\n\u001b[0;32m---> 96\u001b[0;31m         \u001b[0mmodel_outputs\u001b[0m \u001b[0;34m=\u001b[0m \u001b[0mself\u001b[0m\u001b[0;34m.\u001b[0m\u001b[0m_call_model\u001b[0m\u001b[0;34m(\u001b[0m\u001b[0mattacked_text_list\u001b[0m\u001b[0;34m)\u001b[0m\u001b[0;34m\u001b[0m\u001b[0;34m\u001b[0m\u001b[0m\n\u001b[0m\u001b[1;32m     97\u001b[0m         \u001b[0;32mfor\u001b[0m \u001b[0mattacked_text\u001b[0m\u001b[0;34m,\u001b[0m \u001b[0mraw_output\u001b[0m \u001b[0;32min\u001b[0m \u001b[0mzip\u001b[0m\u001b[0;34m(\u001b[0m\u001b[0mattacked_text_list\u001b[0m\u001b[0;34m,\u001b[0m \u001b[0mmodel_outputs\u001b[0m\u001b[0;34m)\u001b[0m\u001b[0;34m:\u001b[0m\u001b[0;34m\u001b[0m\u001b[0;34m\u001b[0m\u001b[0m\n\u001b[1;32m     98\u001b[0m             \u001b[0mdisplayed_output\u001b[0m \u001b[0;34m=\u001b[0m \u001b[0mself\u001b[0m\u001b[0;34m.\u001b[0m\u001b[0m_get_displayed_output\u001b[0m\u001b[0;34m(\u001b[0m\u001b[0mraw_output\u001b[0m\u001b[0;34m)\u001b[0m\u001b[0;34m\u001b[0m\u001b[0;34m\u001b[0m\u001b[0m\n",
            "\u001b[0;32m/usr/local/lib/python3.8/dist-packages/textattack/goal_functions/goal_function.py\u001b[0m in \u001b[0;36m_call_model\u001b[0;34m(self, attacked_text_list)\u001b[0m\n\u001b[1;32m    214\u001b[0m                 \u001b[0;32mif\u001b[0m \u001b[0mtext\u001b[0m \u001b[0;32mnot\u001b[0m \u001b[0;32min\u001b[0m \u001b[0mself\u001b[0m\u001b[0;34m.\u001b[0m\u001b[0m_call_model_cache\u001b[0m\u001b[0;34m\u001b[0m\u001b[0;34m\u001b[0m\u001b[0m\n\u001b[1;32m    215\u001b[0m             ]\n\u001b[0;32m--> 216\u001b[0;31m             \u001b[0moutputs\u001b[0m \u001b[0;34m=\u001b[0m \u001b[0mself\u001b[0m\u001b[0;34m.\u001b[0m\u001b[0m_call_model_uncached\u001b[0m\u001b[0;34m(\u001b[0m\u001b[0muncached_list\u001b[0m\u001b[0;34m)\u001b[0m\u001b[0;34m\u001b[0m\u001b[0;34m\u001b[0m\u001b[0m\n\u001b[0m\u001b[1;32m    217\u001b[0m             \u001b[0;32mfor\u001b[0m \u001b[0mtext\u001b[0m\u001b[0;34m,\u001b[0m \u001b[0moutput\u001b[0m \u001b[0;32min\u001b[0m \u001b[0mzip\u001b[0m\u001b[0;34m(\u001b[0m\u001b[0muncached_list\u001b[0m\u001b[0;34m,\u001b[0m \u001b[0moutputs\u001b[0m\u001b[0;34m)\u001b[0m\u001b[0;34m:\u001b[0m\u001b[0;34m\u001b[0m\u001b[0;34m\u001b[0m\u001b[0m\n\u001b[1;32m    218\u001b[0m                 \u001b[0mself\u001b[0m\u001b[0;34m.\u001b[0m\u001b[0m_call_model_cache\u001b[0m\u001b[0;34m[\u001b[0m\u001b[0mtext\u001b[0m\u001b[0;34m]\u001b[0m \u001b[0;34m=\u001b[0m \u001b[0moutput\u001b[0m\u001b[0;34m\u001b[0m\u001b[0;34m\u001b[0m\u001b[0m\n",
            "\u001b[0;32m/usr/local/lib/python3.8/dist-packages/textattack/goal_functions/goal_function.py\u001b[0m in \u001b[0;36m_call_model_uncached\u001b[0;34m(self, attacked_text_list)\u001b[0m\n\u001b[1;32m    163\u001b[0m         \u001b[0;32mwhile\u001b[0m \u001b[0mi\u001b[0m \u001b[0;34m<\u001b[0m \u001b[0mlen\u001b[0m\u001b[0;34m(\u001b[0m\u001b[0minputs\u001b[0m\u001b[0;34m)\u001b[0m\u001b[0;34m:\u001b[0m\u001b[0;34m\u001b[0m\u001b[0;34m\u001b[0m\u001b[0m\n\u001b[1;32m    164\u001b[0m             \u001b[0mbatch\u001b[0m \u001b[0;34m=\u001b[0m \u001b[0minputs\u001b[0m\u001b[0;34m[\u001b[0m\u001b[0mi\u001b[0m \u001b[0;34m:\u001b[0m \u001b[0mi\u001b[0m \u001b[0;34m+\u001b[0m \u001b[0mself\u001b[0m\u001b[0;34m.\u001b[0m\u001b[0mbatch_size\u001b[0m\u001b[0;34m]\u001b[0m\u001b[0;34m\u001b[0m\u001b[0;34m\u001b[0m\u001b[0m\n\u001b[0;32m--> 165\u001b[0;31m             \u001b[0mbatch_preds\u001b[0m \u001b[0;34m=\u001b[0m \u001b[0mself\u001b[0m\u001b[0;34m.\u001b[0m\u001b[0mmodel\u001b[0m\u001b[0;34m(\u001b[0m\u001b[0mbatch\u001b[0m\u001b[0;34m)\u001b[0m\u001b[0;34m\u001b[0m\u001b[0;34m\u001b[0m\u001b[0m\n\u001b[0m\u001b[1;32m    166\u001b[0m \u001b[0;34m\u001b[0m\u001b[0m\n\u001b[1;32m    167\u001b[0m             \u001b[0;31m# Some seq-to-seq models will return a single string as a prediction\u001b[0m\u001b[0;34m\u001b[0m\u001b[0;34m\u001b[0m\u001b[0;34m\u001b[0m\u001b[0m\n",
            "\u001b[0;32m/usr/local/lib/python3.8/dist-packages/textattack/models/wrappers/huggingface_model_wrapper.py\u001b[0m in \u001b[0;36m__call__\u001b[0;34m(self, text_input_list)\u001b[0m\n\u001b[1;32m     47\u001b[0m             \u001b[0;32melse\u001b[0m \u001b[0mself\u001b[0m\u001b[0;34m.\u001b[0m\u001b[0mtokenizer\u001b[0m\u001b[0;34m.\u001b[0m\u001b[0mmodel_max_length\u001b[0m\u001b[0;34m\u001b[0m\u001b[0;34m\u001b[0m\u001b[0m\n\u001b[1;32m     48\u001b[0m         )\n\u001b[0;32m---> 49\u001b[0;31m         inputs_dict = self.tokenizer(\n\u001b[0m\u001b[1;32m     50\u001b[0m             \u001b[0mtext_input_list\u001b[0m\u001b[0;34m,\u001b[0m\u001b[0;34m\u001b[0m\u001b[0;34m\u001b[0m\u001b[0m\n\u001b[1;32m     51\u001b[0m             \u001b[0madd_special_tokens\u001b[0m\u001b[0;34m=\u001b[0m\u001b[0;32mTrue\u001b[0m\u001b[0;34m,\u001b[0m\u001b[0;34m\u001b[0m\u001b[0;34m\u001b[0m\u001b[0m\n",
            "\u001b[0;31mTypeError\u001b[0m: __call__() got an unexpected keyword argument 'add_special_tokens'"
          ]
        }
      ],
      "source": [
        "# Attack 100 samples with CSV logging and checkpoint saved every 5 interval\n",
        "attack_args = textattack.AttackArgs(\n",
        "    num_examples=100,\n",
        "    log_to_csv=\"log.csv\",\n",
        "    checkpoint_interval=5,\n",
        "    checkpoint_dir=\"checkpoints\",\n",
        "    disable_stdout=True\n",
        ")\n",
        "\n",
        "attacker = textattack.Attacker(attack, dataset, attack_args)\n",
        "attacker.attack_dataset()"
      ]
    },
    {
      "cell_type": "markdown",
      "metadata": {
        "id": "oN7eT5EG9CKq"
      },
      "source": [
        "\n",
        "\n",
        "---\n",
        "\n"
      ]
    },
    {
      "cell_type": "markdown",
      "metadata": {
        "id": "VYX7VCLs9DbD"
      },
      "source": [
        "#### Method 1 - masking vectorized tokens (using pretrained tokenizer) with tfidf vocab and learnable weight"
      ]
    },
    {
      "cell_type": "markdown",
      "metadata": {
        "id": "DTKhS9MatVIp"
      },
      "source": [
        "For huggingface model, output should be:\n",
        "\n",
        "\n",
        "```\n",
        "return SequenceClassifierOutput(\n",
        "            loss=loss,\n",
        "            logits=logits,\n",
        "            hidden_states=outputs.hidden_states,\n",
        "            attentions=outputs.attentions,\n",
        "        )\n",
        "```\n",
        "\n"
      ]
    },
    {
      "cell_type": "code",
      "execution_count": null,
      "metadata": {
        "colab": {
          "base_uri": "https://localhost:8080/"
        },
        "id": "NRAm8wGIsUCT",
        "outputId": "92f09f62-5fa7-48c9-d334-a898ee5b4d19"
      },
      "outputs": [
        {
          "data": {
            "text/plain": [
              "SequenceClassifierOutput(loss=None, logits=tensor([[-0.4297, -3.1058, -2.1420,  5.8838]], grad_fn=<AddmmBackward0>), hidden_states=None, attentions=None)"
            ]
          },
          "execution_count": 31,
          "metadata": {},
          "output_type": "execute_result"
        }
      ],
      "source": [
        "model(**tokenizer(test['text'][1], return_tensors=\"pt\"))"
      ]
    },
    {
      "cell_type": "code",
      "execution_count": null,
      "metadata": {
        "colab": {
          "base_uri": "https://localhost:8080/",
          "height": 35
        },
        "id": "q7Nrh7VyoJUA",
        "outputId": "5f505f20-98a0-49a8-bb26-600054b05006"
      },
      "outputs": [
        {
          "data": {
            "application/vnd.google.colaboratory.intrinsic+json": {
              "type": "string"
            },
            "text/plain": [
              "'3'"
            ]
          },
          "execution_count": 27,
          "metadata": {},
          "output_type": "execute_result"
        }
      ],
      "source": [
        "# model(input_ids (vectorized tokens), attention_mask)\n",
        "str(np.argmax(model(**tokenizer(test['text'][1], return_tensors=\"pt\")).logits.detach().numpy()))"
      ]
    },
    {
      "cell_type": "code",
      "execution_count": null,
      "metadata": {
        "colab": {
          "base_uri": "https://localhost:8080/"
        },
        "id": "n5aP3tGoZ2iN",
        "outputId": "7614f75d-95fe-4676-bbeb-04fe013aaaf5"
      },
      "outputs": [
        {
          "data": {
            "text/plain": [
              "array([[-0.4297115, -3.1057916, -2.1420312,  5.883754 ]], dtype=float32)"
            ]
          },
          "execution_count": 26,
          "metadata": {},
          "output_type": "execute_result"
        }
      ],
      "source": []
    },
    {
      "cell_type": "code",
      "execution_count": null,
      "metadata": {
        "colab": {
          "base_uri": "https://localhost:8080/"
        },
        "id": "G9-kE-cDq5yB",
        "outputId": "d6726757-fe9d-4d4e-ee8a-7186b34c76dd"
      },
      "outputs": [
        {
          "data": {
            "text/plain": [
              "{'input_ids': tensor([[    0,   133,  8989,    16,   374,    35,  4665,  8075,  2711, 41385,\n",
              "         22217, 10566,    13,  3861,  5374, 15801,    36,  4186, 15949,     4,\n",
              "           175,    43, 44909,     4,   175,   111, 22331,  2191,  6390,     6,\n",
              "           896,   480,    83,   200, 37457,  8687,     9,  7726, 32596,  5468,\n",
              "            13,     5,  1437,   849,  3367,   131,   698,   153, 16866,  1512,\n",
              "          1577,  9421,     6,    10,  3096,    13, 37457, 25943,  7223,  6140,\n",
              "          2849, 28027,  8632,   980,  2524,     6,    34,  4142,   585,     5,\n",
              "            78, 37457, 37757,  1248,    13,    63, 30107,  7726,     4,     2]]), 'attention_mask': tensor([[1, 1, 1, 1, 1, 1, 1, 1, 1, 1, 1, 1, 1, 1, 1, 1, 1, 1, 1, 1, 1, 1, 1, 1,\n",
              "         1, 1, 1, 1, 1, 1, 1, 1, 1, 1, 1, 1, 1, 1, 1, 1, 1, 1, 1, 1, 1, 1, 1, 1,\n",
              "         1, 1, 1, 1, 1, 1, 1, 1, 1, 1, 1, 1, 1, 1, 1, 1, 1, 1, 1, 1, 1, 1, 1, 1,\n",
              "         1, 1, 1, 1, 1, 1, 1, 1]])}"
            ]
          },
          "execution_count": 27,
          "metadata": {},
          "output_type": "execute_result"
        }
      ],
      "source": [
        "tokenizer(test['text'][1], return_tensors=\"pt\")"
      ]
    },
    {
      "cell_type": "code",
      "execution_count": null,
      "metadata": {
        "colab": {
          "base_uri": "https://localhost:8080/"
        },
        "id": "BBvURe7Xj0ff",
        "outputId": "95d3c378-94d0-474b-e98f-e852c16f11c9"
      },
      "outputs": [
        {
          "name": "stderr",
          "output_type": "stream",
          "text": [
            "/usr/local/lib/python3.8/dist-packages/sklearn/utils/deprecation.py:87: FutureWarning: Function get_feature_names is deprecated; get_feature_names is deprecated in 1.0 and will be removed in 1.2. Please use get_feature_names_out instead.\n",
            "  warnings.warn(msg, category=FutureWarning)\n"
          ]
        }
      ],
      "source": [
        "# Get the training and test datasets\n",
        "train_data = dataset['train']['text']\n",
        "test_data = dataset['test']['text']\n",
        "\n",
        "    # Initialize a TfidfVectorizer\n",
        "tfidf = TfidfVectorizer()\n",
        "\n",
        "    # Fit the TfidfVectorizer to the training data and transform the training data\n",
        "train_tfidf = tfidf.fit_transform(train_data)\n",
        "\n",
        "    # Calculate the TF-IDF value for each word in the vocabulary\n",
        "vocab_tfidf = dict(zip(tfidf.get_feature_names(), tfidf.idf_))"
      ]
    },
    {
      "cell_type": "code",
      "execution_count": null,
      "metadata": {
        "colab": {
          "base_uri": "https://localhost:8080/"
        },
        "id": "ZWIP5QIMkAUc",
        "outputId": "8a9537d0-1986-449f-f715-fb856602fe81"
      },
      "outputs": [
        {
          "data": {
            "text/plain": [
              "65006"
            ]
          },
          "execution_count": 43,
          "metadata": {},
          "output_type": "execute_result"
        }
      ],
      "source": [
        "len(vocab_tfidf)"
      ]
    },
    {
      "cell_type": "code",
      "execution_count": null,
      "metadata": {
        "id": "Zy8Wc-lCzbkT"
      },
      "outputs": [],
      "source": [
        "doc = tokenizer(dataset['train']['text'][:5])['input_ids'] # use this as \"tokenized docs\""
      ]
    },
    {
      "cell_type": "code",
      "execution_count": null,
      "metadata": {
        "colab": {
          "base_uri": "https://localhost:8080/"
        },
        "id": "ph0eAJ17ZK5I",
        "outputId": "912584fc-7d39-4777-d6a4-19bbaff2f17a"
      },
      "outputs": [
        {
          "data": {
            "text/plain": [
              "[0,\n",
              " 32397,\n",
              " 850,\n",
              " 27283,\n",
              " 7,\n",
              " 70,\n",
              " 12,\n",
              " 958,\n",
              " 638,\n",
              " 6,\n",
              " 12681,\n",
              " 92,\n",
              " 24213,\n",
              " 7,\n",
              " 382,\n",
              " 866,\n",
              " 36,\n",
              " 11528,\n",
              " 43,\n",
              " 5040,\n",
              " 111,\n",
              " 255,\n",
              " 4352,\n",
              " 4384,\n",
              " 232,\n",
              " 681,\n",
              " 850,\n",
              " 6,\n",
              " 27339,\n",
              " 1527,\n",
              " 2189,\n",
              " 8,\n",
              " 7031,\n",
              " 8173,\n",
              " 28811,\n",
              " 6,\n",
              " 1455,\n",
              " 10,\n",
              " 92,\n",
              " 776,\n",
              " 24213,\n",
              " 6254,\n",
              " 130,\n",
              " 377,\n",
              " 137,\n",
              " 5,\n",
              " 382,\n",
              " 1939,\n",
              " 1727,\n",
              " 4,\n",
              " 2]"
            ]
          },
          "execution_count": 39,
          "metadata": {},
          "output_type": "execute_result"
        }
      ],
      "source": [
        "doc[4]"
      ]
    },
    {
      "cell_type": "code",
      "execution_count": null,
      "metadata": {
        "id": "1jGT1zKZZGmO"
      },
      "outputs": [],
      "source": [
        "tf = doc[1]"
      ]
    },
    {
      "cell_type": "code",
      "execution_count": null,
      "metadata": {
        "id": "7S5fem2t9Sxy"
      },
      "outputs": [],
      "source": [
        "import math\n",
        "\n",
        "def build_tfidf_vocab(documents):\n",
        "    # Create a set of unique terms in all documents\n",
        "    terms = set()\n",
        "    for doc in documents:\n",
        "        for term in doc:\n",
        "            terms.add(term.lower())\n",
        "    \n",
        "    # Calculate document frequency for each term\n",
        "    doc_freq = {term: 0 for term in terms}\n",
        "    for doc in documents:\n",
        "        for term in set(doc):\n",
        "            doc_freq[term.lower()] += 1\n",
        "    \n",
        "    # Build the TF-IDF vocabulary\n",
        "    vocab = {}\n",
        "    num_docs = len(documents)\n",
        "    for term in terms:\n",
        "        tfidf_scores = []\n",
        "        for doc in documents:\n",
        "            tf = doc.count(term) / len(doc)\n",
        "            idf = math.log(num_docs / doc_freq[term])\n",
        "            tfidf_scores.append(tf * idf)\n",
        "        vocab[term] = max(tfidf_scores)\n",
        "        \n",
        "    return vocab"
      ]
    },
    {
      "cell_type": "code",
      "execution_count": null,
      "metadata": {
        "colab": {
          "base_uri": "https://localhost:8080/",
          "height": 287
        },
        "id": "dfwpkWdI9WTL",
        "outputId": "b043e11d-ce62-4bda-faa7-670c1c1692b2"
      },
      "outputs": [
        {
          "ename": "AttributeError",
          "evalue": "ignored",
          "output_type": "error",
          "traceback": [
            "\u001b[0;31m---------------------------------------------------------------------------\u001b[0m",
            "\u001b[0;31mAttributeError\u001b[0m                            Traceback (most recent call last)",
            "\u001b[0;32m<ipython-input-44-122178e396b8>\u001b[0m in \u001b[0;36m<module>\u001b[0;34m\u001b[0m\n\u001b[0;32m----> 1\u001b[0;31m \u001b[0mbuild_tfidf_vocab\u001b[0m\u001b[0;34m(\u001b[0m\u001b[0mdoc\u001b[0m\u001b[0;34m)\u001b[0m\u001b[0;34m\u001b[0m\u001b[0;34m\u001b[0m\u001b[0m\n\u001b[0m",
            "\u001b[0;32m<ipython-input-19-952721548d15>\u001b[0m in \u001b[0;36mbuild_tfidf_vocab\u001b[0;34m(documents)\u001b[0m\n\u001b[1;32m      6\u001b[0m     \u001b[0;32mfor\u001b[0m \u001b[0mdoc\u001b[0m \u001b[0;32min\u001b[0m \u001b[0mdocuments\u001b[0m\u001b[0;34m:\u001b[0m\u001b[0;34m\u001b[0m\u001b[0;34m\u001b[0m\u001b[0m\n\u001b[1;32m      7\u001b[0m         \u001b[0;32mfor\u001b[0m \u001b[0mterm\u001b[0m \u001b[0;32min\u001b[0m \u001b[0mdoc\u001b[0m\u001b[0;34m:\u001b[0m\u001b[0;34m\u001b[0m\u001b[0;34m\u001b[0m\u001b[0m\n\u001b[0;32m----> 8\u001b[0;31m             \u001b[0mterms\u001b[0m\u001b[0;34m.\u001b[0m\u001b[0madd\u001b[0m\u001b[0;34m(\u001b[0m\u001b[0mterm\u001b[0m\u001b[0;34m.\u001b[0m\u001b[0mlower\u001b[0m\u001b[0;34m(\u001b[0m\u001b[0;34m)\u001b[0m\u001b[0;34m)\u001b[0m\u001b[0;34m\u001b[0m\u001b[0;34m\u001b[0m\u001b[0m\n\u001b[0m\u001b[1;32m      9\u001b[0m \u001b[0;34m\u001b[0m\u001b[0m\n\u001b[1;32m     10\u001b[0m     \u001b[0;31m# Calculate document frequency for each term\u001b[0m\u001b[0;34m\u001b[0m\u001b[0;34m\u001b[0m\u001b[0;34m\u001b[0m\u001b[0m\n",
            "\u001b[0;31mAttributeError\u001b[0m: 'int' object has no attribute 'lower'"
          ]
        }
      ],
      "source": [
        "build_tfidf_vocab(doc)"
      ]
    },
    {
      "cell_type": "code",
      "execution_count": null,
      "metadata": {
        "colab": {
          "base_uri": "https://localhost:8080/",
          "height": 201
        },
        "id": "nz6YMZ1U0-X5",
        "outputId": "7bdd3a2c-3cdd-4770-c6db-525bd5cddcd1"
      },
      "outputs": [
        {
          "ename": "TypeError",
          "evalue": "ignored",
          "output_type": "error",
          "traceback": [
            "\u001b[0;31m---------------------------------------------------------------------------\u001b[0m",
            "\u001b[0;31mTypeError\u001b[0m                                 Traceback (most recent call last)",
            "\u001b[0;32m<ipython-input-21-c5d9cf12b463>\u001b[0m in \u001b[0;36m<module>\u001b[0;34m\u001b[0m\n\u001b[1;32m      2\u001b[0m \u001b[0;32mfrom\u001b[0m \u001b[0msklearn\u001b[0m\u001b[0;34m.\u001b[0m\u001b[0mfeature_extraction\u001b[0m\u001b[0;34m.\u001b[0m\u001b[0mtext\u001b[0m \u001b[0;32mimport\u001b[0m \u001b[0mCountVectorizer\u001b[0m\u001b[0;34m,\u001b[0m \u001b[0mTfidfTransformer\u001b[0m\u001b[0;34m\u001b[0m\u001b[0;34m\u001b[0m\u001b[0m\n\u001b[1;32m      3\u001b[0m \u001b[0;34m\u001b[0m\u001b[0m\n\u001b[0;32m----> 4\u001b[0;31m \u001b[0mCountVectorizer\u001b[0m\u001b[0;34m(\u001b[0m\u001b[0mtokenizer\u001b[0m\u001b[0;34m(\u001b[0m\u001b[0mdataset\u001b[0m\u001b[0;34m[\u001b[0m\u001b[0;34m'train'\u001b[0m\u001b[0;34m]\u001b[0m\u001b[0;34m[\u001b[0m\u001b[0;34m'text'\u001b[0m\u001b[0;34m]\u001b[0m\u001b[0;34m[\u001b[0m\u001b[0;36m0\u001b[0m\u001b[0;34m]\u001b[0m\u001b[0;34m)\u001b[0m\u001b[0;34m[\u001b[0m\u001b[0;34m\"input_ids\"\u001b[0m\u001b[0;34m]\u001b[0m\u001b[0;34m)\u001b[0m\u001b[0;34m\u001b[0m\u001b[0;34m\u001b[0m\u001b[0m\n\u001b[0m",
            "\u001b[0;31mTypeError\u001b[0m: __init__() takes 1 positional argument but 2 were given"
          ]
        }
      ],
      "source": [
        "# use count vectorizer and use tfidftransformer\n",
        "from sklearn.feature_extraction.text import CountVectorizer, TfidfTransformer\n",
        "\n",
        "CountVectorizer(tokenizer(dataset['train']['text'][0])[\"input_ids\"])"
      ]
    },
    {
      "cell_type": "code",
      "execution_count": null,
      "metadata": {
        "id": "cppV0mrfCSXJ"
      },
      "outputs": [],
      "source": [
        "from collections import Counter\n",
        "import math\n",
        "from transformers import AutoTokenizer"
      ]
    },
    {
      "cell_type": "code",
      "execution_count": null,
      "metadata": {
        "colab": {
          "base_uri": "https://localhost:8080/"
        },
        "id": "pYBvjF41CPrJ",
        "outputId": "26b58168-de28-492e-f61a-c0552f993a1a"
      },
      "outputs": [
        {
          "name": "stdout",
          "output_type": "stream",
          "text": [
            "Text 1:\n",
            "\tĠthe: 0.0000\n",
            "\tĠdocument: 0.0479\n",
            "\tThis: 0.1155\n",
            "\t.: 0.0479\n",
            "\tĠfirst: 0.1155\n",
            "\tĠis: 0.1155\n",
            "Text 2:\n",
            "\tĠthe: 0.0000\n",
            "\tĠdocument: 0.0411\n",
            "\tThis: 0.0990\n",
            "\t.: 0.0411\n",
            "\tĠsecond: 0.3961\n",
            "\tĠis: 0.0990\n",
            "Text 3:\n",
            "\tĠthe: 0.0000\n",
            "\tĠone: 0.2773\n",
            "\tĠthird: 0.2773\n",
            "\tAnd: 0.2773\n",
            "\t.: 0.0575\n",
            "Text 4:\n",
            "\tĠthis: 0.2310\n",
            "\tĠthe: 0.0000\n",
            "\tĠdocument: 0.0479\n",
            "\t?: 0.2310\n",
            "\tĠfirst: 0.1155\n",
            "\tIs: 0.2310\n"
          ]
        }
      ],
      "source": [
        "# Load the tokenizer\n",
        "tokenizer = AutoTokenizer.from_pretrained('textattack/roberta-base-ag-news')\n",
        "\n",
        "# Example list of texts\n",
        "texts = [\n",
        "    'This is the first document.',\n",
        "    'This is the second second document.',\n",
        "    'And the third one.',\n",
        "    'Is this the first document?',\n",
        "]\n",
        "\n",
        "# Tokenize the texts\n",
        "tokenized_texts = [tokenizer.tokenize(text) for text in texts]\n",
        "\n",
        "# Get the frequency of each token\n",
        "token_counts = Counter([token for text_tokens in tokenized_texts for token in text_tokens])\n",
        "\n",
        "# Calculate the inverse document frequency (IDF) of each token\n",
        "num_documents = len(texts)\n",
        "idf_values = {}\n",
        "for token in token_counts.keys():\n",
        "    doc_occurrences = sum([1 for text_tokens in tokenized_texts if token in text_tokens])\n",
        "    idf_values[token] = math.log(num_documents / doc_occurrences)\n",
        "\n",
        "# Get the TF-IDF value for each token in each text\n",
        "tfidf_values = []\n",
        "for i, text_tokens in enumerate(tokenized_texts):\n",
        "    tfidf_doc = {}\n",
        "    for token in set(text_tokens):\n",
        "        tf_value = text_tokens.count(token) / len(text_tokens)\n",
        "        tfidf_value = tf_value * idf_values[token]\n",
        "        tfidf_doc[token] = tfidf_value\n",
        "    tfidf_values.append(tfidf_doc)\n",
        "\n",
        "# Print the TF-IDF values for each text\n",
        "for i, tfidf_doc in enumerate(tfidf_values):\n",
        "    print(f\"Text {i+1}:\")\n",
        "    for token, value in tfidf_doc.items():\n",
        "        print(f\"\\t{token}: {value:.4f}\")"
      ]
    },
    {
      "cell_type": "code",
      "execution_count": null,
      "metadata": {
        "id": "YaojjVvQVd8Y"
      },
      "outputs": [],
      "source": []
    }
  ],
  "metadata": {
    "accelerator": "GPU",
    "colab": {
      "provenance": []
    },
    "gpuClass": "premium",
    "kernelspec": {
      "display_name": "Python 3",
      "name": "python3"
    },
    "language_info": {
      "name": "python"
    },
    "widgets": {
      "application/vnd.jupyter.widget-state+json": {
        "001e1320344a4c9e83dbae905f7acf74": {
          "model_module": "@jupyter-widgets/controls",
          "model_module_version": "1.5.0",
          "model_name": "ProgressStyleModel",
          "state": {
            "_model_module": "@jupyter-widgets/controls",
            "_model_module_version": "1.5.0",
            "_model_name": "ProgressStyleModel",
            "_view_count": null,
            "_view_module": "@jupyter-widgets/base",
            "_view_module_version": "1.2.0",
            "_view_name": "StyleView",
            "bar_color": null,
            "description_width": ""
          }
        },
        "0020aedce21e4fef853cf125a042e94c": {
          "model_module": "@jupyter-widgets/controls",
          "model_module_version": "1.5.0",
          "model_name": "HBoxModel",
          "state": {
            "_dom_classes": [],
            "_model_module": "@jupyter-widgets/controls",
            "_model_module_version": "1.5.0",
            "_model_name": "HBoxModel",
            "_view_count": null,
            "_view_module": "@jupyter-widgets/controls",
            "_view_module_version": "1.5.0",
            "_view_name": "HBoxView",
            "box_style": "",
            "children": [
              "IPY_MODEL_7ac1d8c80281449cb55fb212cd71371d",
              "IPY_MODEL_f89b2ff8747140a8905a8d4eb8c624f9",
              "IPY_MODEL_b037ecae767d4c6d8e9b36e5376ec5b4"
            ],
            "layout": "IPY_MODEL_545c63287e3642b1a46cc395183f9ed2"
          }
        },
        "01a1e55046eb4f96aff4c86611ff9363": {
          "model_module": "@jupyter-widgets/controls",
          "model_module_version": "1.5.0",
          "model_name": "FloatProgressModel",
          "state": {
            "_dom_classes": [],
            "_model_module": "@jupyter-widgets/controls",
            "_model_module_version": "1.5.0",
            "_model_name": "FloatProgressModel",
            "_view_count": null,
            "_view_module": "@jupyter-widgets/controls",
            "_view_module_version": "1.5.0",
            "_view_name": "ProgressView",
            "bar_style": "success",
            "description": "",
            "description_tooltip": null,
            "layout": "IPY_MODEL_fd895b92042f491d85dd124c7d21090b",
            "max": 456356,
            "min": 0,
            "orientation": "horizontal",
            "style": "IPY_MODEL_2e2aa9f1ba1e41609e74421c6f96a4ad",
            "value": 456356
          }
        },
        "01b0afe9df68424f820d16d358382b3d": {
          "model_module": "@jupyter-widgets/controls",
          "model_module_version": "1.5.0",
          "model_name": "DescriptionStyleModel",
          "state": {
            "_model_module": "@jupyter-widgets/controls",
            "_model_module_version": "1.5.0",
            "_model_name": "DescriptionStyleModel",
            "_view_count": null,
            "_view_module": "@jupyter-widgets/base",
            "_view_module_version": "1.2.0",
            "_view_name": "StyleView",
            "description_width": ""
          }
        },
        "04290986565b4f26968380e7c6feb563": {
          "model_module": "@jupyter-widgets/controls",
          "model_module_version": "1.5.0",
          "model_name": "ProgressStyleModel",
          "state": {
            "_model_module": "@jupyter-widgets/controls",
            "_model_module_version": "1.5.0",
            "_model_name": "ProgressStyleModel",
            "_view_count": null,
            "_view_module": "@jupyter-widgets/base",
            "_view_module_version": "1.2.0",
            "_view_name": "StyleView",
            "bar_color": null,
            "description_width": ""
          }
        },
        "04532cb50120489b83ecb3047a95ddd0": {
          "model_module": "@jupyter-widgets/base",
          "model_module_version": "1.2.0",
          "model_name": "LayoutModel",
          "state": {
            "_model_module": "@jupyter-widgets/base",
            "_model_module_version": "1.2.0",
            "_model_name": "LayoutModel",
            "_view_count": null,
            "_view_module": "@jupyter-widgets/base",
            "_view_module_version": "1.2.0",
            "_view_name": "LayoutView",
            "align_content": null,
            "align_items": null,
            "align_self": null,
            "border": null,
            "bottom": null,
            "display": null,
            "flex": null,
            "flex_flow": null,
            "grid_area": null,
            "grid_auto_columns": null,
            "grid_auto_flow": null,
            "grid_auto_rows": null,
            "grid_column": null,
            "grid_gap": null,
            "grid_row": null,
            "grid_template_areas": null,
            "grid_template_columns": null,
            "grid_template_rows": null,
            "height": null,
            "justify_content": null,
            "justify_items": null,
            "left": null,
            "margin": null,
            "max_height": null,
            "max_width": null,
            "min_height": null,
            "min_width": null,
            "object_fit": null,
            "object_position": null,
            "order": null,
            "overflow": null,
            "overflow_x": null,
            "overflow_y": null,
            "padding": null,
            "right": null,
            "top": null,
            "visibility": null,
            "width": null
          }
        },
        "04ee1e81c42e42ae958f2bdd50f18884": {
          "model_module": "@jupyter-widgets/controls",
          "model_module_version": "1.5.0",
          "model_name": "DescriptionStyleModel",
          "state": {
            "_model_module": "@jupyter-widgets/controls",
            "_model_module_version": "1.5.0",
            "_model_name": "DescriptionStyleModel",
            "_view_count": null,
            "_view_module": "@jupyter-widgets/base",
            "_view_module_version": "1.2.0",
            "_view_name": "StyleView",
            "description_width": ""
          }
        },
        "077a8e3246854e08883b29e42503b532": {
          "model_module": "@jupyter-widgets/base",
          "model_module_version": "1.2.0",
          "model_name": "LayoutModel",
          "state": {
            "_model_module": "@jupyter-widgets/base",
            "_model_module_version": "1.2.0",
            "_model_name": "LayoutModel",
            "_view_count": null,
            "_view_module": "@jupyter-widgets/base",
            "_view_module_version": "1.2.0",
            "_view_name": "LayoutView",
            "align_content": null,
            "align_items": null,
            "align_self": null,
            "border": null,
            "bottom": null,
            "display": null,
            "flex": null,
            "flex_flow": null,
            "grid_area": null,
            "grid_auto_columns": null,
            "grid_auto_flow": null,
            "grid_auto_rows": null,
            "grid_column": null,
            "grid_gap": null,
            "grid_row": null,
            "grid_template_areas": null,
            "grid_template_columns": null,
            "grid_template_rows": null,
            "height": null,
            "justify_content": null,
            "justify_items": null,
            "left": null,
            "margin": null,
            "max_height": null,
            "max_width": null,
            "min_height": null,
            "min_width": null,
            "object_fit": null,
            "object_position": null,
            "order": null,
            "overflow": null,
            "overflow_x": null,
            "overflow_y": null,
            "padding": null,
            "right": null,
            "top": null,
            "visibility": null,
            "width": null
          }
        },
        "083349018e4449b6a77266c29f4759f3": {
          "model_module": "@jupyter-widgets/controls",
          "model_module_version": "1.5.0",
          "model_name": "HTMLModel",
          "state": {
            "_dom_classes": [],
            "_model_module": "@jupyter-widgets/controls",
            "_model_module_version": "1.5.0",
            "_model_name": "HTMLModel",
            "_view_count": null,
            "_view_module": "@jupyter-widgets/controls",
            "_view_module_version": "1.5.0",
            "_view_name": "HTMLView",
            "description": "",
            "description_tooltip": null,
            "layout": "IPY_MODEL_3e1015e956d641299c2bce804e9d9031",
            "placeholder": "​",
            "style": "IPY_MODEL_9a2209635b0d4f2ebd5cc1ed4c353cbb",
            "value": "100%"
          }
        },
        "08513640aceb40fea8519cdd657d2bfd": {
          "model_module": "@jupyter-widgets/base",
          "model_module_version": "1.2.0",
          "model_name": "LayoutModel",
          "state": {
            "_model_module": "@jupyter-widgets/base",
            "_model_module_version": "1.2.0",
            "_model_name": "LayoutModel",
            "_view_count": null,
            "_view_module": "@jupyter-widgets/base",
            "_view_module_version": "1.2.0",
            "_view_name": "LayoutView",
            "align_content": null,
            "align_items": null,
            "align_self": null,
            "border": null,
            "bottom": null,
            "display": null,
            "flex": null,
            "flex_flow": null,
            "grid_area": null,
            "grid_auto_columns": null,
            "grid_auto_flow": null,
            "grid_auto_rows": null,
            "grid_column": null,
            "grid_gap": null,
            "grid_row": null,
            "grid_template_areas": null,
            "grid_template_columns": null,
            "grid_template_rows": null,
            "height": null,
            "justify_content": null,
            "justify_items": null,
            "left": null,
            "margin": null,
            "max_height": null,
            "max_width": null,
            "min_height": null,
            "min_width": null,
            "object_fit": null,
            "object_position": null,
            "order": null,
            "overflow": null,
            "overflow_x": null,
            "overflow_y": null,
            "padding": null,
            "right": null,
            "top": null,
            "visibility": null,
            "width": null
          }
        },
        "0871bf87d20c41d0a1ebe51c1834c317": {
          "model_module": "@jupyter-widgets/controls",
          "model_module_version": "1.5.0",
          "model_name": "DescriptionStyleModel",
          "state": {
            "_model_module": "@jupyter-widgets/controls",
            "_model_module_version": "1.5.0",
            "_model_name": "DescriptionStyleModel",
            "_view_count": null,
            "_view_module": "@jupyter-widgets/base",
            "_view_module_version": "1.2.0",
            "_view_name": "StyleView",
            "description_width": ""
          }
        },
        "091d8c503d54447d9db679a97fda824e": {
          "model_module": "@jupyter-widgets/controls",
          "model_module_version": "1.5.0",
          "model_name": "DescriptionStyleModel",
          "state": {
            "_model_module": "@jupyter-widgets/controls",
            "_model_module_version": "1.5.0",
            "_model_name": "DescriptionStyleModel",
            "_view_count": null,
            "_view_module": "@jupyter-widgets/base",
            "_view_module_version": "1.2.0",
            "_view_name": "StyleView",
            "description_width": ""
          }
        },
        "096683c110014bbaad2905f554df99d4": {
          "model_module": "@jupyter-widgets/controls",
          "model_module_version": "1.5.0",
          "model_name": "HTMLModel",
          "state": {
            "_dom_classes": [],
            "_model_module": "@jupyter-widgets/controls",
            "_model_module_version": "1.5.0",
            "_model_name": "HTMLModel",
            "_view_count": null,
            "_view_module": "@jupyter-widgets/controls",
            "_view_module_version": "1.5.0",
            "_view_name": "HTMLView",
            "description": "",
            "description_tooltip": null,
            "layout": "IPY_MODEL_ff121e7e9868484c804e1173c8bc1382",
            "placeholder": "​",
            "style": "IPY_MODEL_a9fbbc556eb6467ebb340b6bf905b4ad",
            "value": " 456k/456k [00:00&lt;00:00, 3.23MB/s]"
          }
        },
        "0975fe9163f64b5abb5e5905688d4b6b": {
          "model_module": "@jupyter-widgets/base",
          "model_module_version": "1.2.0",
          "model_name": "LayoutModel",
          "state": {
            "_model_module": "@jupyter-widgets/base",
            "_model_module_version": "1.2.0",
            "_model_name": "LayoutModel",
            "_view_count": null,
            "_view_module": "@jupyter-widgets/base",
            "_view_module_version": "1.2.0",
            "_view_name": "LayoutView",
            "align_content": null,
            "align_items": null,
            "align_self": null,
            "border": null,
            "bottom": null,
            "display": null,
            "flex": null,
            "flex_flow": null,
            "grid_area": null,
            "grid_auto_columns": null,
            "grid_auto_flow": null,
            "grid_auto_rows": null,
            "grid_column": null,
            "grid_gap": null,
            "grid_row": null,
            "grid_template_areas": null,
            "grid_template_columns": null,
            "grid_template_rows": null,
            "height": null,
            "justify_content": null,
            "justify_items": null,
            "left": null,
            "margin": null,
            "max_height": null,
            "max_width": null,
            "min_height": null,
            "min_width": null,
            "object_fit": null,
            "object_position": null,
            "order": null,
            "overflow": null,
            "overflow_x": null,
            "overflow_y": null,
            "padding": null,
            "right": null,
            "top": null,
            "visibility": null,
            "width": null
          }
        },
        "0a148dbd845042b59115cca4bf1378b1": {
          "model_module": "@jupyter-widgets/controls",
          "model_module_version": "1.5.0",
          "model_name": "HTMLModel",
          "state": {
            "_dom_classes": [],
            "_model_module": "@jupyter-widgets/controls",
            "_model_module_version": "1.5.0",
            "_model_name": "HTMLModel",
            "_view_count": null,
            "_view_module": "@jupyter-widgets/controls",
            "_view_module_version": "1.5.0",
            "_view_name": "HTMLView",
            "description": "",
            "description_tooltip": null,
            "layout": "IPY_MODEL_077a8e3246854e08883b29e42503b532",
            "placeholder": "​",
            "style": "IPY_MODEL_732b4e3417454f348c88942e18bb6d03",
            "value": " 798k/798k [00:00&lt;00:00, 4.88MB/s]"
          }
        },
        "0c22e44063534fe8820f7c25b77d2b0e": {
          "model_module": "@jupyter-widgets/controls",
          "model_module_version": "1.5.0",
          "model_name": "DescriptionStyleModel",
          "state": {
            "_model_module": "@jupyter-widgets/controls",
            "_model_module_version": "1.5.0",
            "_model_name": "DescriptionStyleModel",
            "_view_count": null,
            "_view_module": "@jupyter-widgets/base",
            "_view_module_version": "1.2.0",
            "_view_name": "StyleView",
            "description_width": ""
          }
        },
        "0c319152abed49acaf594f45f7ccf934": {
          "model_module": "@jupyter-widgets/controls",
          "model_module_version": "1.5.0",
          "model_name": "HBoxModel",
          "state": {
            "_dom_classes": [],
            "_model_module": "@jupyter-widgets/controls",
            "_model_module_version": "1.5.0",
            "_model_name": "HBoxModel",
            "_view_count": null,
            "_view_module": "@jupyter-widgets/controls",
            "_view_module_version": "1.5.0",
            "_view_name": "HBoxView",
            "box_style": "",
            "children": [
              "IPY_MODEL_24e984ceff9148278cc8c69646e943e8",
              "IPY_MODEL_7dec85fa2e984ea38018607c3988b259",
              "IPY_MODEL_94a232100bd6430d9b6bf2e97e1ba9a5"
            ],
            "layout": "IPY_MODEL_6649b74fbac34edbbc8da40dbedca519"
          }
        },
        "0d1cb787645a473683d129451e5a4446": {
          "model_module": "@jupyter-widgets/base",
          "model_module_version": "1.2.0",
          "model_name": "LayoutModel",
          "state": {
            "_model_module": "@jupyter-widgets/base",
            "_model_module_version": "1.2.0",
            "_model_name": "LayoutModel",
            "_view_count": null,
            "_view_module": "@jupyter-widgets/base",
            "_view_module_version": "1.2.0",
            "_view_name": "LayoutView",
            "align_content": null,
            "align_items": null,
            "align_self": null,
            "border": null,
            "bottom": null,
            "display": null,
            "flex": null,
            "flex_flow": null,
            "grid_area": null,
            "grid_auto_columns": null,
            "grid_auto_flow": null,
            "grid_auto_rows": null,
            "grid_column": null,
            "grid_gap": null,
            "grid_row": null,
            "grid_template_areas": null,
            "grid_template_columns": null,
            "grid_template_rows": null,
            "height": null,
            "justify_content": null,
            "justify_items": null,
            "left": null,
            "margin": null,
            "max_height": null,
            "max_width": null,
            "min_height": null,
            "min_width": null,
            "object_fit": null,
            "object_position": null,
            "order": null,
            "overflow": null,
            "overflow_x": null,
            "overflow_y": null,
            "padding": null,
            "right": null,
            "top": null,
            "visibility": null,
            "width": null
          }
        },
        "0ed678e1d3e548ee8db2ec8d59f6c66f": {
          "model_module": "@jupyter-widgets/controls",
          "model_module_version": "1.5.0",
          "model_name": "DescriptionStyleModel",
          "state": {
            "_model_module": "@jupyter-widgets/controls",
            "_model_module_version": "1.5.0",
            "_model_name": "DescriptionStyleModel",
            "_view_count": null,
            "_view_module": "@jupyter-widgets/base",
            "_view_module_version": "1.2.0",
            "_view_name": "StyleView",
            "description_width": ""
          }
        },
        "1032b75dfafb4c2d86c7ea8921f67e04": {
          "model_module": "@jupyter-widgets/controls",
          "model_module_version": "1.5.0",
          "model_name": "FloatProgressModel",
          "state": {
            "_dom_classes": [],
            "_model_module": "@jupyter-widgets/controls",
            "_model_module_version": "1.5.0",
            "_model_name": "FloatProgressModel",
            "_view_count": null,
            "_view_module": "@jupyter-widgets/controls",
            "_view_module_version": "1.5.0",
            "_view_name": "ProgressView",
            "bar_style": "success",
            "description": "",
            "description_tooltip": null,
            "layout": "IPY_MODEL_688f9e0165fa4342914b5ca9a904790f",
            "max": 2,
            "min": 0,
            "orientation": "horizontal",
            "style": "IPY_MODEL_2f6fd6e514d4435aab1b946c0af136c9",
            "value": 2
          }
        },
        "113b1d3671734c6abc2a92f84009d40d": {
          "model_module": "@jupyter-widgets/base",
          "model_module_version": "1.2.0",
          "model_name": "LayoutModel",
          "state": {
            "_model_module": "@jupyter-widgets/base",
            "_model_module_version": "1.2.0",
            "_model_name": "LayoutModel",
            "_view_count": null,
            "_view_module": "@jupyter-widgets/base",
            "_view_module_version": "1.2.0",
            "_view_name": "LayoutView",
            "align_content": null,
            "align_items": null,
            "align_self": null,
            "border": null,
            "bottom": null,
            "display": null,
            "flex": null,
            "flex_flow": null,
            "grid_area": null,
            "grid_auto_columns": null,
            "grid_auto_flow": null,
            "grid_auto_rows": null,
            "grid_column": null,
            "grid_gap": null,
            "grid_row": null,
            "grid_template_areas": null,
            "grid_template_columns": null,
            "grid_template_rows": null,
            "height": null,
            "justify_content": null,
            "justify_items": null,
            "left": null,
            "margin": null,
            "max_height": null,
            "max_width": null,
            "min_height": null,
            "min_width": null,
            "object_fit": null,
            "object_position": null,
            "order": null,
            "overflow": null,
            "overflow_x": null,
            "overflow_y": null,
            "padding": null,
            "right": null,
            "top": null,
            "visibility": null,
            "width": null
          }
        },
        "11adab514e304ec2baf453184216d3ea": {
          "model_module": "@jupyter-widgets/base",
          "model_module_version": "1.2.0",
          "model_name": "LayoutModel",
          "state": {
            "_model_module": "@jupyter-widgets/base",
            "_model_module_version": "1.2.0",
            "_model_name": "LayoutModel",
            "_view_count": null,
            "_view_module": "@jupyter-widgets/base",
            "_view_module_version": "1.2.0",
            "_view_name": "LayoutView",
            "align_content": null,
            "align_items": null,
            "align_self": null,
            "border": null,
            "bottom": null,
            "display": null,
            "flex": null,
            "flex_flow": null,
            "grid_area": null,
            "grid_auto_columns": null,
            "grid_auto_flow": null,
            "grid_auto_rows": null,
            "grid_column": null,
            "grid_gap": null,
            "grid_row": null,
            "grid_template_areas": null,
            "grid_template_columns": null,
            "grid_template_rows": null,
            "height": null,
            "justify_content": null,
            "justify_items": null,
            "left": null,
            "margin": null,
            "max_height": null,
            "max_width": null,
            "min_height": null,
            "min_width": null,
            "object_fit": null,
            "object_position": null,
            "order": null,
            "overflow": null,
            "overflow_x": null,
            "overflow_y": null,
            "padding": null,
            "right": null,
            "top": null,
            "visibility": null,
            "width": null
          }
        },
        "11de3c19cbd5404d8025b078dc94f875": {
          "model_module": "@jupyter-widgets/controls",
          "model_module_version": "1.5.0",
          "model_name": "ProgressStyleModel",
          "state": {
            "_model_module": "@jupyter-widgets/controls",
            "_model_module_version": "1.5.0",
            "_model_name": "ProgressStyleModel",
            "_view_count": null,
            "_view_module": "@jupyter-widgets/base",
            "_view_module_version": "1.2.0",
            "_view_name": "StyleView",
            "bar_color": null,
            "description_width": ""
          }
        },
        "1353d680c0cb43cc8f8c19111f917713": {
          "model_module": "@jupyter-widgets/base",
          "model_module_version": "1.2.0",
          "model_name": "LayoutModel",
          "state": {
            "_model_module": "@jupyter-widgets/base",
            "_model_module_version": "1.2.0",
            "_model_name": "LayoutModel",
            "_view_count": null,
            "_view_module": "@jupyter-widgets/base",
            "_view_module_version": "1.2.0",
            "_view_name": "LayoutView",
            "align_content": null,
            "align_items": null,
            "align_self": null,
            "border": null,
            "bottom": null,
            "display": null,
            "flex": null,
            "flex_flow": null,
            "grid_area": null,
            "grid_auto_columns": null,
            "grid_auto_flow": null,
            "grid_auto_rows": null,
            "grid_column": null,
            "grid_gap": null,
            "grid_row": null,
            "grid_template_areas": null,
            "grid_template_columns": null,
            "grid_template_rows": null,
            "height": null,
            "justify_content": null,
            "justify_items": null,
            "left": null,
            "margin": null,
            "max_height": null,
            "max_width": null,
            "min_height": null,
            "min_width": null,
            "object_fit": null,
            "object_position": null,
            "order": null,
            "overflow": null,
            "overflow_x": null,
            "overflow_y": null,
            "padding": null,
            "right": null,
            "top": null,
            "visibility": null,
            "width": null
          }
        },
        "13f4ae49208b40ca9da6beaf28a3f470": {
          "model_module": "@jupyter-widgets/base",
          "model_module_version": "1.2.0",
          "model_name": "LayoutModel",
          "state": {
            "_model_module": "@jupyter-widgets/base",
            "_model_module_version": "1.2.0",
            "_model_name": "LayoutModel",
            "_view_count": null,
            "_view_module": "@jupyter-widgets/base",
            "_view_module_version": "1.2.0",
            "_view_name": "LayoutView",
            "align_content": null,
            "align_items": null,
            "align_self": null,
            "border": null,
            "bottom": null,
            "display": null,
            "flex": null,
            "flex_flow": null,
            "grid_area": null,
            "grid_auto_columns": null,
            "grid_auto_flow": null,
            "grid_auto_rows": null,
            "grid_column": null,
            "grid_gap": null,
            "grid_row": null,
            "grid_template_areas": null,
            "grid_template_columns": null,
            "grid_template_rows": null,
            "height": null,
            "justify_content": null,
            "justify_items": null,
            "left": null,
            "margin": null,
            "max_height": null,
            "max_width": null,
            "min_height": null,
            "min_width": null,
            "object_fit": null,
            "object_position": null,
            "order": null,
            "overflow": null,
            "overflow_x": null,
            "overflow_y": null,
            "padding": null,
            "right": null,
            "top": null,
            "visibility": null,
            "width": null
          }
        },
        "14388a09e5ca4c42ac0933e08c3d93ca": {
          "model_module": "@jupyter-widgets/controls",
          "model_module_version": "1.5.0",
          "model_name": "DescriptionStyleModel",
          "state": {
            "_model_module": "@jupyter-widgets/controls",
            "_model_module_version": "1.5.0",
            "_model_name": "DescriptionStyleModel",
            "_view_count": null,
            "_view_module": "@jupyter-widgets/base",
            "_view_module_version": "1.2.0",
            "_view_name": "StyleView",
            "description_width": ""
          }
        },
        "16cfb6b9267d46238e7bde0b14a17eb3": {
          "model_module": "@jupyter-widgets/controls",
          "model_module_version": "1.5.0",
          "model_name": "FloatProgressModel",
          "state": {
            "_dom_classes": [],
            "_model_module": "@jupyter-widgets/controls",
            "_model_module_version": "1.5.0",
            "_model_name": "FloatProgressModel",
            "_view_count": null,
            "_view_module": "@jupyter-widgets/controls",
            "_view_module_version": "1.5.0",
            "_view_name": "ProgressView",
            "bar_style": "success",
            "description": "",
            "description_tooltip": null,
            "layout": "IPY_MODEL_fd067a60d8f142ec811396a7228145e5",
            "max": 2,
            "min": 0,
            "orientation": "horizontal",
            "style": "IPY_MODEL_47682d0f66ac4cc88a6fbe65c2c23ba2",
            "value": 2
          }
        },
        "16fcbfc39b7442e4a1d5d616fe1d8f79": {
          "model_module": "@jupyter-widgets/base",
          "model_module_version": "1.2.0",
          "model_name": "LayoutModel",
          "state": {
            "_model_module": "@jupyter-widgets/base",
            "_model_module_version": "1.2.0",
            "_model_name": "LayoutModel",
            "_view_count": null,
            "_view_module": "@jupyter-widgets/base",
            "_view_module_version": "1.2.0",
            "_view_name": "LayoutView",
            "align_content": null,
            "align_items": null,
            "align_self": null,
            "border": null,
            "bottom": null,
            "display": null,
            "flex": null,
            "flex_flow": null,
            "grid_area": null,
            "grid_auto_columns": null,
            "grid_auto_flow": null,
            "grid_auto_rows": null,
            "grid_column": null,
            "grid_gap": null,
            "grid_row": null,
            "grid_template_areas": null,
            "grid_template_columns": null,
            "grid_template_rows": null,
            "height": null,
            "justify_content": null,
            "justify_items": null,
            "left": null,
            "margin": null,
            "max_height": null,
            "max_width": null,
            "min_height": null,
            "min_width": null,
            "object_fit": null,
            "object_position": null,
            "order": null,
            "overflow": null,
            "overflow_x": null,
            "overflow_y": null,
            "padding": null,
            "right": null,
            "top": null,
            "visibility": null,
            "width": null
          }
        },
        "197a105805ce453cacfccac3198ec4fe": {
          "model_module": "@jupyter-widgets/base",
          "model_module_version": "1.2.0",
          "model_name": "LayoutModel",
          "state": {
            "_model_module": "@jupyter-widgets/base",
            "_model_module_version": "1.2.0",
            "_model_name": "LayoutModel",
            "_view_count": null,
            "_view_module": "@jupyter-widgets/base",
            "_view_module_version": "1.2.0",
            "_view_name": "LayoutView",
            "align_content": null,
            "align_items": null,
            "align_self": null,
            "border": null,
            "bottom": null,
            "display": null,
            "flex": null,
            "flex_flow": null,
            "grid_area": null,
            "grid_auto_columns": null,
            "grid_auto_flow": null,
            "grid_auto_rows": null,
            "grid_column": null,
            "grid_gap": null,
            "grid_row": null,
            "grid_template_areas": null,
            "grid_template_columns": null,
            "grid_template_rows": null,
            "height": null,
            "justify_content": null,
            "justify_items": null,
            "left": null,
            "margin": null,
            "max_height": null,
            "max_width": null,
            "min_height": null,
            "min_width": null,
            "object_fit": null,
            "object_position": null,
            "order": null,
            "overflow": null,
            "overflow_x": null,
            "overflow_y": null,
            "padding": null,
            "right": null,
            "top": null,
            "visibility": null,
            "width": null
          }
        },
        "1cbcad453f344f2cb76c9a334da7f8d9": {
          "model_module": "@jupyter-widgets/controls",
          "model_module_version": "1.5.0",
          "model_name": "DescriptionStyleModel",
          "state": {
            "_model_module": "@jupyter-widgets/controls",
            "_model_module_version": "1.5.0",
            "_model_name": "DescriptionStyleModel",
            "_view_count": null,
            "_view_module": "@jupyter-widgets/base",
            "_view_module_version": "1.2.0",
            "_view_name": "StyleView",
            "description_width": ""
          }
        },
        "1f07cddbb5fe4fe3a61b2123144423bd": {
          "model_module": "@jupyter-widgets/controls",
          "model_module_version": "1.5.0",
          "model_name": "ProgressStyleModel",
          "state": {
            "_model_module": "@jupyter-widgets/controls",
            "_model_module_version": "1.5.0",
            "_model_name": "ProgressStyleModel",
            "_view_count": null,
            "_view_module": "@jupyter-widgets/base",
            "_view_module_version": "1.2.0",
            "_view_name": "StyleView",
            "bar_color": null,
            "description_width": ""
          }
        },
        "2337d82d172148fb8d56c082f345c8e0": {
          "model_module": "@jupyter-widgets/controls",
          "model_module_version": "1.5.0",
          "model_name": "HTMLModel",
          "state": {
            "_dom_classes": [],
            "_model_module": "@jupyter-widgets/controls",
            "_model_module_version": "1.5.0",
            "_model_name": "HTMLModel",
            "_view_count": null,
            "_view_module": "@jupyter-widgets/controls",
            "_view_module_version": "1.5.0",
            "_view_name": "HTMLView",
            "description": "",
            "description_tooltip": null,
            "layout": "IPY_MODEL_2a175b321dfb4c4194311a8393eea8c6",
            "placeholder": "​",
            "style": "IPY_MODEL_6c14d7ac4f514b52a3f80448bbf724a2",
            "value": "Downloading (…)olve/main/vocab.json: 100%"
          }
        },
        "2407733e0aa44530879d44dce54329c9": {
          "model_module": "@jupyter-widgets/controls",
          "model_module_version": "1.5.0",
          "model_name": "ProgressStyleModel",
          "state": {
            "_model_module": "@jupyter-widgets/controls",
            "_model_module_version": "1.5.0",
            "_model_name": "ProgressStyleModel",
            "_view_count": null,
            "_view_module": "@jupyter-widgets/base",
            "_view_module_version": "1.2.0",
            "_view_name": "StyleView",
            "bar_color": null,
            "description_width": ""
          }
        },
        "24e984ceff9148278cc8c69646e943e8": {
          "model_module": "@jupyter-widgets/controls",
          "model_module_version": "1.5.0",
          "model_name": "HTMLModel",
          "state": {
            "_dom_classes": [],
            "_model_module": "@jupyter-widgets/controls",
            "_model_module_version": "1.5.0",
            "_model_name": "HTMLModel",
            "_view_count": null,
            "_view_module": "@jupyter-widgets/controls",
            "_view_module_version": "1.5.0",
            "_view_name": "HTMLView",
            "description": "",
            "description_tooltip": null,
            "layout": "IPY_MODEL_1353d680c0cb43cc8f8c19111f917713",
            "placeholder": "​",
            "style": "IPY_MODEL_954ae28181184d32b39ed90753180212",
            "value": "Downloading (…)okenizer_config.json: 100%"
          }
        },
        "27eed83cd0564027a88998bd92c69f1a": {
          "model_module": "@jupyter-widgets/controls",
          "model_module_version": "1.5.0",
          "model_name": "HBoxModel",
          "state": {
            "_dom_classes": [],
            "_model_module": "@jupyter-widgets/controls",
            "_model_module_version": "1.5.0",
            "_model_name": "HBoxModel",
            "_view_count": null,
            "_view_module": "@jupyter-widgets/controls",
            "_view_module_version": "1.5.0",
            "_view_name": "HBoxView",
            "box_style": "",
            "children": [
              "IPY_MODEL_56f718e236db4fa396c107b089a2cadc",
              "IPY_MODEL_6cb5636d46f34f7fb2ef3806f052f327",
              "IPY_MODEL_9a442e2e9fc5463b8d260a0c563f2ad1"
            ],
            "layout": "IPY_MODEL_cd838b5c9fd34fc481985d603cca12e4"
          }
        },
        "2a175b321dfb4c4194311a8393eea8c6": {
          "model_module": "@jupyter-widgets/base",
          "model_module_version": "1.2.0",
          "model_name": "LayoutModel",
          "state": {
            "_model_module": "@jupyter-widgets/base",
            "_model_module_version": "1.2.0",
            "_model_name": "LayoutModel",
            "_view_count": null,
            "_view_module": "@jupyter-widgets/base",
            "_view_module_version": "1.2.0",
            "_view_name": "LayoutView",
            "align_content": null,
            "align_items": null,
            "align_self": null,
            "border": null,
            "bottom": null,
            "display": null,
            "flex": null,
            "flex_flow": null,
            "grid_area": null,
            "grid_auto_columns": null,
            "grid_auto_flow": null,
            "grid_auto_rows": null,
            "grid_column": null,
            "grid_gap": null,
            "grid_row": null,
            "grid_template_areas": null,
            "grid_template_columns": null,
            "grid_template_rows": null,
            "height": null,
            "justify_content": null,
            "justify_items": null,
            "left": null,
            "margin": null,
            "max_height": null,
            "max_width": null,
            "min_height": null,
            "min_width": null,
            "object_fit": null,
            "object_position": null,
            "order": null,
            "overflow": null,
            "overflow_x": null,
            "overflow_y": null,
            "padding": null,
            "right": null,
            "top": null,
            "visibility": null,
            "width": null
          }
        },
        "2a9cfdb64590442893933675472b2fd4": {
          "model_module": "@jupyter-widgets/controls",
          "model_module_version": "1.5.0",
          "model_name": "FloatProgressModel",
          "state": {
            "_dom_classes": [],
            "_model_module": "@jupyter-widgets/controls",
            "_model_module_version": "1.5.0",
            "_model_name": "FloatProgressModel",
            "_view_count": null,
            "_view_module": "@jupyter-widgets/controls",
            "_view_module_version": "1.5.0",
            "_view_name": "ProgressView",
            "bar_style": "success",
            "description": "",
            "description_tooltip": null,
            "layout": "IPY_MODEL_197a105805ce453cacfccac3198ec4fe",
            "max": 2,
            "min": 0,
            "orientation": "horizontal",
            "style": "IPY_MODEL_f6778ffb41c344e0bb281ed8e8956264",
            "value": 2
          }
        },
        "2be8d513c1da468084fc4718b37fdade": {
          "model_module": "@jupyter-widgets/base",
          "model_module_version": "1.2.0",
          "model_name": "LayoutModel",
          "state": {
            "_model_module": "@jupyter-widgets/base",
            "_model_module_version": "1.2.0",
            "_model_name": "LayoutModel",
            "_view_count": null,
            "_view_module": "@jupyter-widgets/base",
            "_view_module_version": "1.2.0",
            "_view_name": "LayoutView",
            "align_content": null,
            "align_items": null,
            "align_self": null,
            "border": null,
            "bottom": null,
            "display": null,
            "flex": null,
            "flex_flow": null,
            "grid_area": null,
            "grid_auto_columns": null,
            "grid_auto_flow": null,
            "grid_auto_rows": null,
            "grid_column": null,
            "grid_gap": null,
            "grid_row": null,
            "grid_template_areas": null,
            "grid_template_columns": null,
            "grid_template_rows": null,
            "height": null,
            "justify_content": null,
            "justify_items": null,
            "left": null,
            "margin": null,
            "max_height": null,
            "max_width": null,
            "min_height": null,
            "min_width": null,
            "object_fit": null,
            "object_position": null,
            "order": null,
            "overflow": null,
            "overflow_x": null,
            "overflow_y": null,
            "padding": null,
            "right": null,
            "top": null,
            "visibility": null,
            "width": null
          }
        },
        "2d0bbb40fbbc4d6f94940170bfec4b26": {
          "model_module": "@jupyter-widgets/base",
          "model_module_version": "1.2.0",
          "model_name": "LayoutModel",
          "state": {
            "_model_module": "@jupyter-widgets/base",
            "_model_module_version": "1.2.0",
            "_model_name": "LayoutModel",
            "_view_count": null,
            "_view_module": "@jupyter-widgets/base",
            "_view_module_version": "1.2.0",
            "_view_name": "LayoutView",
            "align_content": null,
            "align_items": null,
            "align_self": null,
            "border": null,
            "bottom": null,
            "display": null,
            "flex": null,
            "flex_flow": null,
            "grid_area": null,
            "grid_auto_columns": null,
            "grid_auto_flow": null,
            "grid_auto_rows": null,
            "grid_column": null,
            "grid_gap": null,
            "grid_row": null,
            "grid_template_areas": null,
            "grid_template_columns": null,
            "grid_template_rows": null,
            "height": null,
            "justify_content": null,
            "justify_items": null,
            "left": null,
            "margin": null,
            "max_height": null,
            "max_width": null,
            "min_height": null,
            "min_width": null,
            "object_fit": null,
            "object_position": null,
            "order": null,
            "overflow": null,
            "overflow_x": null,
            "overflow_y": null,
            "padding": null,
            "right": null,
            "top": null,
            "visibility": null,
            "width": null
          }
        },
        "2e2aa9f1ba1e41609e74421c6f96a4ad": {
          "model_module": "@jupyter-widgets/controls",
          "model_module_version": "1.5.0",
          "model_name": "ProgressStyleModel",
          "state": {
            "_model_module": "@jupyter-widgets/controls",
            "_model_module_version": "1.5.0",
            "_model_name": "ProgressStyleModel",
            "_view_count": null,
            "_view_module": "@jupyter-widgets/base",
            "_view_module_version": "1.2.0",
            "_view_name": "StyleView",
            "bar_color": null,
            "description_width": ""
          }
        },
        "2efc5580405d469f9780009982d1d1a5": {
          "model_module": "@jupyter-widgets/base",
          "model_module_version": "1.2.0",
          "model_name": "LayoutModel",
          "state": {
            "_model_module": "@jupyter-widgets/base",
            "_model_module_version": "1.2.0",
            "_model_name": "LayoutModel",
            "_view_count": null,
            "_view_module": "@jupyter-widgets/base",
            "_view_module_version": "1.2.0",
            "_view_name": "LayoutView",
            "align_content": null,
            "align_items": null,
            "align_self": null,
            "border": null,
            "bottom": null,
            "display": null,
            "flex": null,
            "flex_flow": null,
            "grid_area": null,
            "grid_auto_columns": null,
            "grid_auto_flow": null,
            "grid_auto_rows": null,
            "grid_column": null,
            "grid_gap": null,
            "grid_row": null,
            "grid_template_areas": null,
            "grid_template_columns": null,
            "grid_template_rows": null,
            "height": null,
            "justify_content": null,
            "justify_items": null,
            "left": null,
            "margin": null,
            "max_height": null,
            "max_width": null,
            "min_height": null,
            "min_width": null,
            "object_fit": null,
            "object_position": null,
            "order": null,
            "overflow": null,
            "overflow_x": null,
            "overflow_y": null,
            "padding": null,
            "right": null,
            "top": null,
            "visibility": null,
            "width": null
          }
        },
        "2f6fd6e514d4435aab1b946c0af136c9": {
          "model_module": "@jupyter-widgets/controls",
          "model_module_version": "1.5.0",
          "model_name": "ProgressStyleModel",
          "state": {
            "_model_module": "@jupyter-widgets/controls",
            "_model_module_version": "1.5.0",
            "_model_name": "ProgressStyleModel",
            "_view_count": null,
            "_view_module": "@jupyter-widgets/base",
            "_view_module_version": "1.2.0",
            "_view_name": "StyleView",
            "bar_color": null,
            "description_width": ""
          }
        },
        "30168873cc6c491f9c293dc97378992a": {
          "model_module": "@jupyter-widgets/base",
          "model_module_version": "1.2.0",
          "model_name": "LayoutModel",
          "state": {
            "_model_module": "@jupyter-widgets/base",
            "_model_module_version": "1.2.0",
            "_model_name": "LayoutModel",
            "_view_count": null,
            "_view_module": "@jupyter-widgets/base",
            "_view_module_version": "1.2.0",
            "_view_name": "LayoutView",
            "align_content": null,
            "align_items": null,
            "align_self": null,
            "border": null,
            "bottom": null,
            "display": null,
            "flex": null,
            "flex_flow": null,
            "grid_area": null,
            "grid_auto_columns": null,
            "grid_auto_flow": null,
            "grid_auto_rows": null,
            "grid_column": null,
            "grid_gap": null,
            "grid_row": null,
            "grid_template_areas": null,
            "grid_template_columns": null,
            "grid_template_rows": null,
            "height": null,
            "justify_content": null,
            "justify_items": null,
            "left": null,
            "margin": null,
            "max_height": null,
            "max_width": null,
            "min_height": null,
            "min_width": null,
            "object_fit": null,
            "object_position": null,
            "order": null,
            "overflow": null,
            "overflow_x": null,
            "overflow_y": null,
            "padding": null,
            "right": null,
            "top": null,
            "visibility": null,
            "width": null
          }
        },
        "30fee92ed4d545068196227f78fb7c86": {
          "model_module": "@jupyter-widgets/base",
          "model_module_version": "1.2.0",
          "model_name": "LayoutModel",
          "state": {
            "_model_module": "@jupyter-widgets/base",
            "_model_module_version": "1.2.0",
            "_model_name": "LayoutModel",
            "_view_count": null,
            "_view_module": "@jupyter-widgets/base",
            "_view_module_version": "1.2.0",
            "_view_name": "LayoutView",
            "align_content": null,
            "align_items": null,
            "align_self": null,
            "border": null,
            "bottom": null,
            "display": null,
            "flex": null,
            "flex_flow": null,
            "grid_area": null,
            "grid_auto_columns": null,
            "grid_auto_flow": null,
            "grid_auto_rows": null,
            "grid_column": null,
            "grid_gap": null,
            "grid_row": null,
            "grid_template_areas": null,
            "grid_template_columns": null,
            "grid_template_rows": null,
            "height": null,
            "justify_content": null,
            "justify_items": null,
            "left": null,
            "margin": null,
            "max_height": null,
            "max_width": null,
            "min_height": null,
            "min_width": null,
            "object_fit": null,
            "object_position": null,
            "order": null,
            "overflow": null,
            "overflow_x": null,
            "overflow_y": null,
            "padding": null,
            "right": null,
            "top": null,
            "visibility": null,
            "width": null
          }
        },
        "3661c76727c54fb08caf33fb3bfd0a25": {
          "model_module": "@jupyter-widgets/base",
          "model_module_version": "1.2.0",
          "model_name": "LayoutModel",
          "state": {
            "_model_module": "@jupyter-widgets/base",
            "_model_module_version": "1.2.0",
            "_model_name": "LayoutModel",
            "_view_count": null,
            "_view_module": "@jupyter-widgets/base",
            "_view_module_version": "1.2.0",
            "_view_name": "LayoutView",
            "align_content": null,
            "align_items": null,
            "align_self": null,
            "border": null,
            "bottom": null,
            "display": null,
            "flex": null,
            "flex_flow": null,
            "grid_area": null,
            "grid_auto_columns": null,
            "grid_auto_flow": null,
            "grid_auto_rows": null,
            "grid_column": null,
            "grid_gap": null,
            "grid_row": null,
            "grid_template_areas": null,
            "grid_template_columns": null,
            "grid_template_rows": null,
            "height": null,
            "justify_content": null,
            "justify_items": null,
            "left": null,
            "margin": null,
            "max_height": null,
            "max_width": null,
            "min_height": null,
            "min_width": null,
            "object_fit": null,
            "object_position": null,
            "order": null,
            "overflow": null,
            "overflow_x": null,
            "overflow_y": null,
            "padding": null,
            "right": null,
            "top": null,
            "visibility": null,
            "width": null
          }
        },
        "391f98f2714441fd9e31121ef17a7493": {
          "model_module": "@jupyter-widgets/base",
          "model_module_version": "1.2.0",
          "model_name": "LayoutModel",
          "state": {
            "_model_module": "@jupyter-widgets/base",
            "_model_module_version": "1.2.0",
            "_model_name": "LayoutModel",
            "_view_count": null,
            "_view_module": "@jupyter-widgets/base",
            "_view_module_version": "1.2.0",
            "_view_name": "LayoutView",
            "align_content": null,
            "align_items": null,
            "align_self": null,
            "border": null,
            "bottom": null,
            "display": null,
            "flex": null,
            "flex_flow": null,
            "grid_area": null,
            "grid_auto_columns": null,
            "grid_auto_flow": null,
            "grid_auto_rows": null,
            "grid_column": null,
            "grid_gap": null,
            "grid_row": null,
            "grid_template_areas": null,
            "grid_template_columns": null,
            "grid_template_rows": null,
            "height": null,
            "justify_content": null,
            "justify_items": null,
            "left": null,
            "margin": null,
            "max_height": null,
            "max_width": null,
            "min_height": null,
            "min_width": null,
            "object_fit": null,
            "object_position": null,
            "order": null,
            "overflow": null,
            "overflow_x": null,
            "overflow_y": null,
            "padding": null,
            "right": null,
            "top": null,
            "visibility": null,
            "width": null
          }
        },
        "3997733bc9764ab0863dfb376575e817": {
          "model_module": "@jupyter-widgets/base",
          "model_module_version": "1.2.0",
          "model_name": "LayoutModel",
          "state": {
            "_model_module": "@jupyter-widgets/base",
            "_model_module_version": "1.2.0",
            "_model_name": "LayoutModel",
            "_view_count": null,
            "_view_module": "@jupyter-widgets/base",
            "_view_module_version": "1.2.0",
            "_view_name": "LayoutView",
            "align_content": null,
            "align_items": null,
            "align_self": null,
            "border": null,
            "bottom": null,
            "display": null,
            "flex": null,
            "flex_flow": null,
            "grid_area": null,
            "grid_auto_columns": null,
            "grid_auto_flow": null,
            "grid_auto_rows": null,
            "grid_column": null,
            "grid_gap": null,
            "grid_row": null,
            "grid_template_areas": null,
            "grid_template_columns": null,
            "grid_template_rows": null,
            "height": null,
            "justify_content": null,
            "justify_items": null,
            "left": null,
            "margin": null,
            "max_height": null,
            "max_width": null,
            "min_height": null,
            "min_width": null,
            "object_fit": null,
            "object_position": null,
            "order": null,
            "overflow": null,
            "overflow_x": null,
            "overflow_y": null,
            "padding": null,
            "right": null,
            "top": null,
            "visibility": null,
            "width": null
          }
        },
        "3e1015e956d641299c2bce804e9d9031": {
          "model_module": "@jupyter-widgets/base",
          "model_module_version": "1.2.0",
          "model_name": "LayoutModel",
          "state": {
            "_model_module": "@jupyter-widgets/base",
            "_model_module_version": "1.2.0",
            "_model_name": "LayoutModel",
            "_view_count": null,
            "_view_module": "@jupyter-widgets/base",
            "_view_module_version": "1.2.0",
            "_view_name": "LayoutView",
            "align_content": null,
            "align_items": null,
            "align_self": null,
            "border": null,
            "bottom": null,
            "display": null,
            "flex": null,
            "flex_flow": null,
            "grid_area": null,
            "grid_auto_columns": null,
            "grid_auto_flow": null,
            "grid_auto_rows": null,
            "grid_column": null,
            "grid_gap": null,
            "grid_row": null,
            "grid_template_areas": null,
            "grid_template_columns": null,
            "grid_template_rows": null,
            "height": null,
            "justify_content": null,
            "justify_items": null,
            "left": null,
            "margin": null,
            "max_height": null,
            "max_width": null,
            "min_height": null,
            "min_width": null,
            "object_fit": null,
            "object_position": null,
            "order": null,
            "overflow": null,
            "overflow_x": null,
            "overflow_y": null,
            "padding": null,
            "right": null,
            "top": null,
            "visibility": null,
            "width": null
          }
        },
        "4089fcabdabd42648324372d23d13467": {
          "model_module": "@jupyter-widgets/base",
          "model_module_version": "1.2.0",
          "model_name": "LayoutModel",
          "state": {
            "_model_module": "@jupyter-widgets/base",
            "_model_module_version": "1.2.0",
            "_model_name": "LayoutModel",
            "_view_count": null,
            "_view_module": "@jupyter-widgets/base",
            "_view_module_version": "1.2.0",
            "_view_name": "LayoutView",
            "align_content": null,
            "align_items": null,
            "align_self": null,
            "border": null,
            "bottom": null,
            "display": null,
            "flex": null,
            "flex_flow": null,
            "grid_area": null,
            "grid_auto_columns": null,
            "grid_auto_flow": null,
            "grid_auto_rows": null,
            "grid_column": null,
            "grid_gap": null,
            "grid_row": null,
            "grid_template_areas": null,
            "grid_template_columns": null,
            "grid_template_rows": null,
            "height": null,
            "justify_content": null,
            "justify_items": null,
            "left": null,
            "margin": null,
            "max_height": null,
            "max_width": null,
            "min_height": null,
            "min_width": null,
            "object_fit": null,
            "object_position": null,
            "order": null,
            "overflow": null,
            "overflow_x": null,
            "overflow_y": null,
            "padding": null,
            "right": null,
            "top": null,
            "visibility": null,
            "width": null
          }
        },
        "41047b31f8ab4ae6a9d5cf4800dcfaa5": {
          "model_module": "@jupyter-widgets/base",
          "model_module_version": "1.2.0",
          "model_name": "LayoutModel",
          "state": {
            "_model_module": "@jupyter-widgets/base",
            "_model_module_version": "1.2.0",
            "_model_name": "LayoutModel",
            "_view_count": null,
            "_view_module": "@jupyter-widgets/base",
            "_view_module_version": "1.2.0",
            "_view_name": "LayoutView",
            "align_content": null,
            "align_items": null,
            "align_self": null,
            "border": null,
            "bottom": null,
            "display": null,
            "flex": null,
            "flex_flow": null,
            "grid_area": null,
            "grid_auto_columns": null,
            "grid_auto_flow": null,
            "grid_auto_rows": null,
            "grid_column": null,
            "grid_gap": null,
            "grid_row": null,
            "grid_template_areas": null,
            "grid_template_columns": null,
            "grid_template_rows": null,
            "height": null,
            "justify_content": null,
            "justify_items": null,
            "left": null,
            "margin": null,
            "max_height": null,
            "max_width": null,
            "min_height": null,
            "min_width": null,
            "object_fit": null,
            "object_position": null,
            "order": null,
            "overflow": null,
            "overflow_x": null,
            "overflow_y": null,
            "padding": null,
            "right": null,
            "top": null,
            "visibility": null,
            "width": null
          }
        },
        "41105c7314a4409f9f8c3ecf1a20da93": {
          "model_module": "@jupyter-widgets/controls",
          "model_module_version": "1.5.0",
          "model_name": "FloatProgressModel",
          "state": {
            "_dom_classes": [],
            "_model_module": "@jupyter-widgets/controls",
            "_model_module_version": "1.5.0",
            "_model_name": "FloatProgressModel",
            "_view_count": null,
            "_view_module": "@jupyter-widgets/controls",
            "_view_module_version": "1.5.0",
            "_view_name": "ProgressView",
            "bar_style": "success",
            "description": "",
            "description_tooltip": null,
            "layout": "IPY_MODEL_aafc92bbdfc14c7c81d34944c118f46a",
            "max": 239,
            "min": 0,
            "orientation": "horizontal",
            "style": "IPY_MODEL_eba8bd4f43e54af9a98d5b586cc7d6f1",
            "value": 239
          }
        },
        "412e3f1c397e42538d208f1298aadab3": {
          "model_module": "@jupyter-widgets/base",
          "model_module_version": "1.2.0",
          "model_name": "LayoutModel",
          "state": {
            "_model_module": "@jupyter-widgets/base",
            "_model_module_version": "1.2.0",
            "_model_name": "LayoutModel",
            "_view_count": null,
            "_view_module": "@jupyter-widgets/base",
            "_view_module_version": "1.2.0",
            "_view_name": "LayoutView",
            "align_content": null,
            "align_items": null,
            "align_self": null,
            "border": null,
            "bottom": null,
            "display": null,
            "flex": null,
            "flex_flow": null,
            "grid_area": null,
            "grid_auto_columns": null,
            "grid_auto_flow": null,
            "grid_auto_rows": null,
            "grid_column": null,
            "grid_gap": null,
            "grid_row": null,
            "grid_template_areas": null,
            "grid_template_columns": null,
            "grid_template_rows": null,
            "height": null,
            "justify_content": null,
            "justify_items": null,
            "left": null,
            "margin": null,
            "max_height": null,
            "max_width": null,
            "min_height": null,
            "min_width": null,
            "object_fit": null,
            "object_position": null,
            "order": null,
            "overflow": null,
            "overflow_x": null,
            "overflow_y": null,
            "padding": null,
            "right": null,
            "top": null,
            "visibility": null,
            "width": null
          }
        },
        "42597a401f9044dbbdf56227542c5031": {
          "model_module": "@jupyter-widgets/base",
          "model_module_version": "1.2.0",
          "model_name": "LayoutModel",
          "state": {
            "_model_module": "@jupyter-widgets/base",
            "_model_module_version": "1.2.0",
            "_model_name": "LayoutModel",
            "_view_count": null,
            "_view_module": "@jupyter-widgets/base",
            "_view_module_version": "1.2.0",
            "_view_name": "LayoutView",
            "align_content": null,
            "align_items": null,
            "align_self": null,
            "border": null,
            "bottom": null,
            "display": null,
            "flex": null,
            "flex_flow": null,
            "grid_area": null,
            "grid_auto_columns": null,
            "grid_auto_flow": null,
            "grid_auto_rows": null,
            "grid_column": null,
            "grid_gap": null,
            "grid_row": null,
            "grid_template_areas": null,
            "grid_template_columns": null,
            "grid_template_rows": null,
            "height": null,
            "justify_content": null,
            "justify_items": null,
            "left": null,
            "margin": null,
            "max_height": null,
            "max_width": null,
            "min_height": null,
            "min_width": null,
            "object_fit": null,
            "object_position": null,
            "order": null,
            "overflow": null,
            "overflow_x": null,
            "overflow_y": null,
            "padding": null,
            "right": null,
            "top": null,
            "visibility": null,
            "width": null
          }
        },
        "440218fc0d5b46f8a3d12832fc0d1aaf": {
          "model_module": "@jupyter-widgets/controls",
          "model_module_version": "1.5.0",
          "model_name": "HBoxModel",
          "state": {
            "_dom_classes": [],
            "_model_module": "@jupyter-widgets/controls",
            "_model_module_version": "1.5.0",
            "_model_name": "HBoxModel",
            "_view_count": null,
            "_view_module": "@jupyter-widgets/controls",
            "_view_module_version": "1.5.0",
            "_view_name": "HBoxView",
            "box_style": "",
            "children": [
              "IPY_MODEL_49321f9a3adf40fca837810f5c1205b4",
              "IPY_MODEL_e7357310763e4456b24a95aec99327b9",
              "IPY_MODEL_f528fdcc0e9e403d9f0dd47ebd1bb7e2"
            ],
            "layout": "IPY_MODEL_55cf9867fbd24140ae23b0e00d412828"
          }
        },
        "45c952e755ef41b782990957727a23bd": {
          "model_module": "@jupyter-widgets/controls",
          "model_module_version": "1.5.0",
          "model_name": "DescriptionStyleModel",
          "state": {
            "_model_module": "@jupyter-widgets/controls",
            "_model_module_version": "1.5.0",
            "_model_name": "DescriptionStyleModel",
            "_view_count": null,
            "_view_module": "@jupyter-widgets/base",
            "_view_module_version": "1.2.0",
            "_view_name": "StyleView",
            "description_width": ""
          }
        },
        "47682d0f66ac4cc88a6fbe65c2c23ba2": {
          "model_module": "@jupyter-widgets/controls",
          "model_module_version": "1.5.0",
          "model_name": "ProgressStyleModel",
          "state": {
            "_model_module": "@jupyter-widgets/controls",
            "_model_module_version": "1.5.0",
            "_model_name": "ProgressStyleModel",
            "_view_count": null,
            "_view_module": "@jupyter-widgets/base",
            "_view_module_version": "1.2.0",
            "_view_name": "StyleView",
            "bar_color": null,
            "description_width": ""
          }
        },
        "47c31b4bdea04cb8ba1c9cf72139238f": {
          "model_module": "@jupyter-widgets/controls",
          "model_module_version": "1.5.0",
          "model_name": "HTMLModel",
          "state": {
            "_dom_classes": [],
            "_model_module": "@jupyter-widgets/controls",
            "_model_module_version": "1.5.0",
            "_model_name": "HTMLModel",
            "_view_count": null,
            "_view_module": "@jupyter-widgets/controls",
            "_view_module_version": "1.5.0",
            "_view_name": "HTMLView",
            "description": "",
            "description_tooltip": null,
            "layout": "IPY_MODEL_8956bb81910546ffa094b5d413267500",
            "placeholder": "​",
            "style": "IPY_MODEL_4dee8a4165d1474386dcb6bdb96115c0",
            "value": "Downloading (…)olve/main/merges.txt: 100%"
          }
        },
        "47ca5de7631542b6ba1d84b2420ba64d": {
          "model_module": "@jupyter-widgets/controls",
          "model_module_version": "1.5.0",
          "model_name": "ProgressStyleModel",
          "state": {
            "_model_module": "@jupyter-widgets/controls",
            "_model_module_version": "1.5.0",
            "_model_name": "ProgressStyleModel",
            "_view_count": null,
            "_view_module": "@jupyter-widgets/base",
            "_view_module_version": "1.2.0",
            "_view_name": "StyleView",
            "bar_color": null,
            "description_width": ""
          }
        },
        "49321f9a3adf40fca837810f5c1205b4": {
          "model_module": "@jupyter-widgets/controls",
          "model_module_version": "1.5.0",
          "model_name": "HTMLModel",
          "state": {
            "_dom_classes": [],
            "_model_module": "@jupyter-widgets/controls",
            "_model_module_version": "1.5.0",
            "_model_name": "HTMLModel",
            "_view_count": null,
            "_view_module": "@jupyter-widgets/controls",
            "_view_module_version": "1.5.0",
            "_view_name": "HTMLView",
            "description": "",
            "description_tooltip": null,
            "layout": "IPY_MODEL_9bdc996eb5e9448b8a2e0045772f9a57",
            "placeholder": "​",
            "style": "IPY_MODEL_7161b2a7dac74b3f8864bbf402261f3d",
            "value": "Downloading (…)olve/main/vocab.json: 100%"
          }
        },
        "4d2e6d17a7674ae39650323a96cbd405": {
          "model_module": "@jupyter-widgets/controls",
          "model_module_version": "1.5.0",
          "model_name": "HBoxModel",
          "state": {
            "_dom_classes": [],
            "_model_module": "@jupyter-widgets/controls",
            "_model_module_version": "1.5.0",
            "_model_name": "HBoxModel",
            "_view_count": null,
            "_view_module": "@jupyter-widgets/controls",
            "_view_module_version": "1.5.0",
            "_view_name": "HBoxView",
            "box_style": "",
            "children": [
              "IPY_MODEL_e7a53e92589a48b981a6e27576d5a5d0",
              "IPY_MODEL_d5ecfac11df240ec841cbb05b06c8de6",
              "IPY_MODEL_82884a1ad53b48859bf06b0c85c9c139"
            ],
            "layout": "IPY_MODEL_ec6af857f4bf4c598562bbe1d49b15a0"
          }
        },
        "4dee8a4165d1474386dcb6bdb96115c0": {
          "model_module": "@jupyter-widgets/controls",
          "model_module_version": "1.5.0",
          "model_name": "DescriptionStyleModel",
          "state": {
            "_model_module": "@jupyter-widgets/controls",
            "_model_module_version": "1.5.0",
            "_model_name": "DescriptionStyleModel",
            "_view_count": null,
            "_view_module": "@jupyter-widgets/base",
            "_view_module_version": "1.2.0",
            "_view_name": "StyleView",
            "description_width": ""
          }
        },
        "4e7f5b7426734109b5e95fbc6e147958": {
          "model_module": "@jupyter-widgets/controls",
          "model_module_version": "1.5.0",
          "model_name": "ProgressStyleModel",
          "state": {
            "_model_module": "@jupyter-widgets/controls",
            "_model_module_version": "1.5.0",
            "_model_name": "ProgressStyleModel",
            "_view_count": null,
            "_view_module": "@jupyter-widgets/base",
            "_view_module_version": "1.2.0",
            "_view_name": "StyleView",
            "bar_color": null,
            "description_width": ""
          }
        },
        "4eeef9b1c58746b7a4b15d13545351f1": {
          "model_module": "@jupyter-widgets/base",
          "model_module_version": "1.2.0",
          "model_name": "LayoutModel",
          "state": {
            "_model_module": "@jupyter-widgets/base",
            "_model_module_version": "1.2.0",
            "_model_name": "LayoutModel",
            "_view_count": null,
            "_view_module": "@jupyter-widgets/base",
            "_view_module_version": "1.2.0",
            "_view_name": "LayoutView",
            "align_content": null,
            "align_items": null,
            "align_self": null,
            "border": null,
            "bottom": null,
            "display": null,
            "flex": null,
            "flex_flow": null,
            "grid_area": null,
            "grid_auto_columns": null,
            "grid_auto_flow": null,
            "grid_auto_rows": null,
            "grid_column": null,
            "grid_gap": null,
            "grid_row": null,
            "grid_template_areas": null,
            "grid_template_columns": null,
            "grid_template_rows": null,
            "height": null,
            "justify_content": null,
            "justify_items": null,
            "left": null,
            "margin": null,
            "max_height": null,
            "max_width": null,
            "min_height": null,
            "min_width": null,
            "object_fit": null,
            "object_position": null,
            "order": null,
            "overflow": null,
            "overflow_x": null,
            "overflow_y": null,
            "padding": null,
            "right": null,
            "top": null,
            "visibility": null,
            "width": null
          }
        },
        "5166b26f4a0d4027b10f6cff64741810": {
          "model_module": "@jupyter-widgets/controls",
          "model_module_version": "1.5.0",
          "model_name": "HTMLModel",
          "state": {
            "_dom_classes": [],
            "_model_module": "@jupyter-widgets/controls",
            "_model_module_version": "1.5.0",
            "_model_name": "HTMLModel",
            "_view_count": null,
            "_view_module": "@jupyter-widgets/controls",
            "_view_module_version": "1.5.0",
            "_view_name": "HTMLView",
            "description": "",
            "description_tooltip": null,
            "layout": "IPY_MODEL_866ae830c35f429db2eb4684eaed74f1",
            "placeholder": "​",
            "style": "IPY_MODEL_f8a9dae58aa446bdbce7b2605cc45fab",
            "value": " 501M/501M [00:13&lt;00:00, 29.8MB/s]"
          }
        },
        "51c013fd84c94f3b98f3fd63c9d0fb6c": {
          "model_module": "@jupyter-widgets/base",
          "model_module_version": "1.2.0",
          "model_name": "LayoutModel",
          "state": {
            "_model_module": "@jupyter-widgets/base",
            "_model_module_version": "1.2.0",
            "_model_name": "LayoutModel",
            "_view_count": null,
            "_view_module": "@jupyter-widgets/base",
            "_view_module_version": "1.2.0",
            "_view_name": "LayoutView",
            "align_content": null,
            "align_items": null,
            "align_self": null,
            "border": null,
            "bottom": null,
            "display": null,
            "flex": null,
            "flex_flow": null,
            "grid_area": null,
            "grid_auto_columns": null,
            "grid_auto_flow": null,
            "grid_auto_rows": null,
            "grid_column": null,
            "grid_gap": null,
            "grid_row": null,
            "grid_template_areas": null,
            "grid_template_columns": null,
            "grid_template_rows": null,
            "height": null,
            "justify_content": null,
            "justify_items": null,
            "left": null,
            "margin": null,
            "max_height": null,
            "max_width": null,
            "min_height": null,
            "min_width": null,
            "object_fit": null,
            "object_position": null,
            "order": null,
            "overflow": null,
            "overflow_x": null,
            "overflow_y": null,
            "padding": null,
            "right": null,
            "top": null,
            "visibility": null,
            "width": null
          }
        },
        "51f951c8c5ab4984b6ae5ef5bd475ed6": {
          "model_module": "@jupyter-widgets/controls",
          "model_module_version": "1.5.0",
          "model_name": "DescriptionStyleModel",
          "state": {
            "_model_module": "@jupyter-widgets/controls",
            "_model_module_version": "1.5.0",
            "_model_name": "DescriptionStyleModel",
            "_view_count": null,
            "_view_module": "@jupyter-widgets/base",
            "_view_module_version": "1.2.0",
            "_view_name": "StyleView",
            "description_width": ""
          }
        },
        "52cbd782d7e543f68d7984a5de341c11": {
          "model_module": "@jupyter-widgets/controls",
          "model_module_version": "1.5.0",
          "model_name": "HTMLModel",
          "state": {
            "_dom_classes": [],
            "_model_module": "@jupyter-widgets/controls",
            "_model_module_version": "1.5.0",
            "_model_name": "HTMLModel",
            "_view_count": null,
            "_view_module": "@jupyter-widgets/controls",
            "_view_module_version": "1.5.0",
            "_view_name": "HTMLView",
            "description": "",
            "description_tooltip": null,
            "layout": "IPY_MODEL_2d0bbb40fbbc4d6f94940170bfec4b26",
            "placeholder": "​",
            "style": "IPY_MODEL_45c952e755ef41b782990957727a23bd",
            "value": "Downloading pytorch_model.bin: 100%"
          }
        },
        "545c63287e3642b1a46cc395183f9ed2": {
          "model_module": "@jupyter-widgets/base",
          "model_module_version": "1.2.0",
          "model_name": "LayoutModel",
          "state": {
            "_model_module": "@jupyter-widgets/base",
            "_model_module_version": "1.2.0",
            "_model_name": "LayoutModel",
            "_view_count": null,
            "_view_module": "@jupyter-widgets/base",
            "_view_module_version": "1.2.0",
            "_view_name": "LayoutView",
            "align_content": null,
            "align_items": null,
            "align_self": null,
            "border": null,
            "bottom": null,
            "display": null,
            "flex": null,
            "flex_flow": null,
            "grid_area": null,
            "grid_auto_columns": null,
            "grid_auto_flow": null,
            "grid_auto_rows": null,
            "grid_column": null,
            "grid_gap": null,
            "grid_row": null,
            "grid_template_areas": null,
            "grid_template_columns": null,
            "grid_template_rows": null,
            "height": null,
            "justify_content": null,
            "justify_items": null,
            "left": null,
            "margin": null,
            "max_height": null,
            "max_width": null,
            "min_height": null,
            "min_width": null,
            "object_fit": null,
            "object_position": null,
            "order": null,
            "overflow": null,
            "overflow_x": null,
            "overflow_y": null,
            "padding": null,
            "right": null,
            "top": null,
            "visibility": null,
            "width": null
          }
        },
        "55cf9867fbd24140ae23b0e00d412828": {
          "model_module": "@jupyter-widgets/base",
          "model_module_version": "1.2.0",
          "model_name": "LayoutModel",
          "state": {
            "_model_module": "@jupyter-widgets/base",
            "_model_module_version": "1.2.0",
            "_model_name": "LayoutModel",
            "_view_count": null,
            "_view_module": "@jupyter-widgets/base",
            "_view_module_version": "1.2.0",
            "_view_name": "LayoutView",
            "align_content": null,
            "align_items": null,
            "align_self": null,
            "border": null,
            "bottom": null,
            "display": null,
            "flex": null,
            "flex_flow": null,
            "grid_area": null,
            "grid_auto_columns": null,
            "grid_auto_flow": null,
            "grid_auto_rows": null,
            "grid_column": null,
            "grid_gap": null,
            "grid_row": null,
            "grid_template_areas": null,
            "grid_template_columns": null,
            "grid_template_rows": null,
            "height": null,
            "justify_content": null,
            "justify_items": null,
            "left": null,
            "margin": null,
            "max_height": null,
            "max_width": null,
            "min_height": null,
            "min_width": null,
            "object_fit": null,
            "object_position": null,
            "order": null,
            "overflow": null,
            "overflow_x": null,
            "overflow_y": null,
            "padding": null,
            "right": null,
            "top": null,
            "visibility": null,
            "width": null
          }
        },
        "56f718e236db4fa396c107b089a2cadc": {
          "model_module": "@jupyter-widgets/controls",
          "model_module_version": "1.5.0",
          "model_name": "HTMLModel",
          "state": {
            "_dom_classes": [],
            "_model_module": "@jupyter-widgets/controls",
            "_model_module_version": "1.5.0",
            "_model_name": "HTMLModel",
            "_view_count": null,
            "_view_module": "@jupyter-widgets/controls",
            "_view_module_version": "1.5.0",
            "_view_name": "HTMLView",
            "description": "",
            "description_tooltip": null,
            "layout": "IPY_MODEL_ecbde4600eed41ff8a7699d0b008cbc0",
            "placeholder": "​",
            "style": "IPY_MODEL_ca8830131360459c8b568cfcd53cf5e9",
            "value": "Downloading (…)lve/main/config.json: 100%"
          }
        },
        "59103499f6894f938756d32d679b17c2": {
          "model_module": "@jupyter-widgets/controls",
          "model_module_version": "1.5.0",
          "model_name": "DescriptionStyleModel",
          "state": {
            "_model_module": "@jupyter-widgets/controls",
            "_model_module_version": "1.5.0",
            "_model_name": "DescriptionStyleModel",
            "_view_count": null,
            "_view_module": "@jupyter-widgets/base",
            "_view_module_version": "1.2.0",
            "_view_name": "StyleView",
            "description_width": ""
          }
        },
        "5922c0ed35584b848e52a46e65b8112b": {
          "model_module": "@jupyter-widgets/controls",
          "model_module_version": "1.5.0",
          "model_name": "HTMLModel",
          "state": {
            "_dom_classes": [],
            "_model_module": "@jupyter-widgets/controls",
            "_model_module_version": "1.5.0",
            "_model_name": "HTMLModel",
            "_view_count": null,
            "_view_module": "@jupyter-widgets/controls",
            "_view_module_version": "1.5.0",
            "_view_name": "HTMLView",
            "description": "",
            "description_tooltip": null,
            "layout": "IPY_MODEL_5fe84bd27ba943b5892917b55177a33d",
            "placeholder": "​",
            "style": "IPY_MODEL_75225854f3644ffb85f20377fd232490",
            "value": "Downloading (…)olve/main/merges.txt: 100%"
          }
        },
        "5ae9ab5979bc4babb74e13e1af6150c4": {
          "model_module": "@jupyter-widgets/controls",
          "model_module_version": "1.5.0",
          "model_name": "FloatProgressModel",
          "state": {
            "_dom_classes": [],
            "_model_module": "@jupyter-widgets/controls",
            "_model_module_version": "1.5.0",
            "_model_name": "FloatProgressModel",
            "_view_count": null,
            "_view_module": "@jupyter-widgets/controls",
            "_view_module_version": "1.5.0",
            "_view_name": "ProgressView",
            "bar_style": "success",
            "description": "",
            "description_tooltip": null,
            "layout": "IPY_MODEL_9703f88d1be44ed39e3dd1be89cfd2b1",
            "max": 754,
            "min": 0,
            "orientation": "horizontal",
            "style": "IPY_MODEL_995be9f34d1941eabf250498fd84628b",
            "value": 754
          }
        },
        "5b8d7091bad24b4ab52f0650841b45c4": {
          "model_module": "@jupyter-widgets/base",
          "model_module_version": "1.2.0",
          "model_name": "LayoutModel",
          "state": {
            "_model_module": "@jupyter-widgets/base",
            "_model_module_version": "1.2.0",
            "_model_name": "LayoutModel",
            "_view_count": null,
            "_view_module": "@jupyter-widgets/base",
            "_view_module_version": "1.2.0",
            "_view_name": "LayoutView",
            "align_content": null,
            "align_items": null,
            "align_self": null,
            "border": null,
            "bottom": null,
            "display": null,
            "flex": null,
            "flex_flow": null,
            "grid_area": null,
            "grid_auto_columns": null,
            "grid_auto_flow": null,
            "grid_auto_rows": null,
            "grid_column": null,
            "grid_gap": null,
            "grid_row": null,
            "grid_template_areas": null,
            "grid_template_columns": null,
            "grid_template_rows": null,
            "height": null,
            "justify_content": null,
            "justify_items": null,
            "left": null,
            "margin": null,
            "max_height": null,
            "max_width": null,
            "min_height": null,
            "min_width": null,
            "object_fit": null,
            "object_position": null,
            "order": null,
            "overflow": null,
            "overflow_x": null,
            "overflow_y": null,
            "padding": null,
            "right": null,
            "top": null,
            "visibility": null,
            "width": null
          }
        },
        "5c04322d8d0b476298a4bb35d73a6a72": {
          "model_module": "@jupyter-widgets/controls",
          "model_module_version": "1.5.0",
          "model_name": "HTMLModel",
          "state": {
            "_dom_classes": [],
            "_model_module": "@jupyter-widgets/controls",
            "_model_module_version": "1.5.0",
            "_model_name": "HTMLModel",
            "_view_count": null,
            "_view_module": "@jupyter-widgets/controls",
            "_view_module_version": "1.5.0",
            "_view_name": "HTMLView",
            "description": "",
            "description_tooltip": null,
            "layout": "IPY_MODEL_51c013fd84c94f3b98f3fd63c9d0fb6c",
            "placeholder": "​",
            "style": "IPY_MODEL_1cbcad453f344f2cb76c9a334da7f8d9",
            "value": " 2/2 [00:00&lt;00:00, 64.43it/s]"
          }
        },
        "5da1679a5e8f4a32844eecdf52b72c24": {
          "model_module": "@jupyter-widgets/controls",
          "model_module_version": "1.5.0",
          "model_name": "HBoxModel",
          "state": {
            "_dom_classes": [],
            "_model_module": "@jupyter-widgets/controls",
            "_model_module_version": "1.5.0",
            "_model_name": "HBoxModel",
            "_view_count": null,
            "_view_module": "@jupyter-widgets/controls",
            "_view_module_version": "1.5.0",
            "_view_name": "HBoxView",
            "box_style": "",
            "children": [
              "IPY_MODEL_2337d82d172148fb8d56c082f345c8e0",
              "IPY_MODEL_f87490a4d42e4254b3bfdec0cdb6c068",
              "IPY_MODEL_0a148dbd845042b59115cca4bf1378b1"
            ],
            "layout": "IPY_MODEL_badd635d84504735b835a2bc00ba575a"
          }
        },
        "5f6a145315b147988fad13cefb7abee8": {
          "model_module": "@jupyter-widgets/controls",
          "model_module_version": "1.5.0",
          "model_name": "HBoxModel",
          "state": {
            "_dom_classes": [],
            "_model_module": "@jupyter-widgets/controls",
            "_model_module_version": "1.5.0",
            "_model_name": "HBoxModel",
            "_view_count": null,
            "_view_module": "@jupyter-widgets/controls",
            "_view_module_version": "1.5.0",
            "_view_name": "HBoxView",
            "box_style": "",
            "children": [
              "IPY_MODEL_7df3c8a9bc0f4769abceba0af78b97df",
              "IPY_MODEL_c83dea5105b3415a9e7b0ecec1e5cecc",
              "IPY_MODEL_5166b26f4a0d4027b10f6cff64741810"
            ],
            "layout": "IPY_MODEL_412e3f1c397e42538d208f1298aadab3"
          }
        },
        "5f867b1cb624401285f1d5a32197decd": {
          "model_module": "@jupyter-widgets/controls",
          "model_module_version": "1.5.0",
          "model_name": "HTMLModel",
          "state": {
            "_dom_classes": [],
            "_model_module": "@jupyter-widgets/controls",
            "_model_module_version": "1.5.0",
            "_model_name": "HTMLModel",
            "_view_count": null,
            "_view_module": "@jupyter-widgets/controls",
            "_view_module_version": "1.5.0",
            "_view_name": "HTMLView",
            "description": "",
            "description_tooltip": null,
            "layout": "IPY_MODEL_4089fcabdabd42648324372d23d13467",
            "placeholder": "​",
            "style": "IPY_MODEL_0871bf87d20c41d0a1ebe51c1834c317",
            "value": "Downloading (…)lve/main/config.json: 100%"
          }
        },
        "5fe84bd27ba943b5892917b55177a33d": {
          "model_module": "@jupyter-widgets/base",
          "model_module_version": "1.2.0",
          "model_name": "LayoutModel",
          "state": {
            "_model_module": "@jupyter-widgets/base",
            "_model_module_version": "1.2.0",
            "_model_name": "LayoutModel",
            "_view_count": null,
            "_view_module": "@jupyter-widgets/base",
            "_view_module_version": "1.2.0",
            "_view_name": "LayoutView",
            "align_content": null,
            "align_items": null,
            "align_self": null,
            "border": null,
            "bottom": null,
            "display": null,
            "flex": null,
            "flex_flow": null,
            "grid_area": null,
            "grid_auto_columns": null,
            "grid_auto_flow": null,
            "grid_auto_rows": null,
            "grid_column": null,
            "grid_gap": null,
            "grid_row": null,
            "grid_template_areas": null,
            "grid_template_columns": null,
            "grid_template_rows": null,
            "height": null,
            "justify_content": null,
            "justify_items": null,
            "left": null,
            "margin": null,
            "max_height": null,
            "max_width": null,
            "min_height": null,
            "min_width": null,
            "object_fit": null,
            "object_position": null,
            "order": null,
            "overflow": null,
            "overflow_x": null,
            "overflow_y": null,
            "padding": null,
            "right": null,
            "top": null,
            "visibility": null,
            "width": null
          }
        },
        "5fff42156b1441a98cc539c00942f7eb": {
          "model_module": "@jupyter-widgets/controls",
          "model_module_version": "1.5.0",
          "model_name": "HTMLModel",
          "state": {
            "_dom_classes": [],
            "_model_module": "@jupyter-widgets/controls",
            "_model_module_version": "1.5.0",
            "_model_name": "HTMLModel",
            "_view_count": null,
            "_view_module": "@jupyter-widgets/controls",
            "_view_module_version": "1.5.0",
            "_view_name": "HTMLView",
            "description": "",
            "description_tooltip": null,
            "layout": "IPY_MODEL_9189e7d7a7754f0185a95a94360719e9",
            "placeholder": "​",
            "style": "IPY_MODEL_a9e5d3afad60423490092159a728d432",
            "value": " 2/2 [00:00&lt;00:00, 94.58it/s]"
          }
        },
        "616459ad367e401aaf70637a847047d6": {
          "model_module": "@jupyter-widgets/base",
          "model_module_version": "1.2.0",
          "model_name": "LayoutModel",
          "state": {
            "_model_module": "@jupyter-widgets/base",
            "_model_module_version": "1.2.0",
            "_model_name": "LayoutModel",
            "_view_count": null,
            "_view_module": "@jupyter-widgets/base",
            "_view_module_version": "1.2.0",
            "_view_name": "LayoutView",
            "align_content": null,
            "align_items": null,
            "align_self": null,
            "border": null,
            "bottom": null,
            "display": null,
            "flex": null,
            "flex_flow": null,
            "grid_area": null,
            "grid_auto_columns": null,
            "grid_auto_flow": null,
            "grid_auto_rows": null,
            "grid_column": null,
            "grid_gap": null,
            "grid_row": null,
            "grid_template_areas": null,
            "grid_template_columns": null,
            "grid_template_rows": null,
            "height": null,
            "justify_content": null,
            "justify_items": null,
            "left": null,
            "margin": null,
            "max_height": null,
            "max_width": null,
            "min_height": null,
            "min_width": null,
            "object_fit": null,
            "object_position": null,
            "order": null,
            "overflow": null,
            "overflow_x": null,
            "overflow_y": null,
            "padding": null,
            "right": null,
            "top": null,
            "visibility": null,
            "width": null
          }
        },
        "625b60ec1d254ef2b0963f2bda778b5c": {
          "model_module": "@jupyter-widgets/base",
          "model_module_version": "1.2.0",
          "model_name": "LayoutModel",
          "state": {
            "_model_module": "@jupyter-widgets/base",
            "_model_module_version": "1.2.0",
            "_model_name": "LayoutModel",
            "_view_count": null,
            "_view_module": "@jupyter-widgets/base",
            "_view_module_version": "1.2.0",
            "_view_name": "LayoutView",
            "align_content": null,
            "align_items": null,
            "align_self": null,
            "border": null,
            "bottom": null,
            "display": null,
            "flex": null,
            "flex_flow": null,
            "grid_area": null,
            "grid_auto_columns": null,
            "grid_auto_flow": null,
            "grid_auto_rows": null,
            "grid_column": null,
            "grid_gap": null,
            "grid_row": null,
            "grid_template_areas": null,
            "grid_template_columns": null,
            "grid_template_rows": null,
            "height": null,
            "justify_content": null,
            "justify_items": null,
            "left": null,
            "margin": null,
            "max_height": null,
            "max_width": null,
            "min_height": null,
            "min_width": null,
            "object_fit": null,
            "object_position": null,
            "order": null,
            "overflow": null,
            "overflow_x": null,
            "overflow_y": null,
            "padding": null,
            "right": null,
            "top": null,
            "visibility": null,
            "width": null
          }
        },
        "633d8c4a780f4df893ea6d8da87537c0": {
          "model_module": "@jupyter-widgets/base",
          "model_module_version": "1.2.0",
          "model_name": "LayoutModel",
          "state": {
            "_model_module": "@jupyter-widgets/base",
            "_model_module_version": "1.2.0",
            "_model_name": "LayoutModel",
            "_view_count": null,
            "_view_module": "@jupyter-widgets/base",
            "_view_module_version": "1.2.0",
            "_view_name": "LayoutView",
            "align_content": null,
            "align_items": null,
            "align_self": null,
            "border": null,
            "bottom": null,
            "display": null,
            "flex": null,
            "flex_flow": null,
            "grid_area": null,
            "grid_auto_columns": null,
            "grid_auto_flow": null,
            "grid_auto_rows": null,
            "grid_column": null,
            "grid_gap": null,
            "grid_row": null,
            "grid_template_areas": null,
            "grid_template_columns": null,
            "grid_template_rows": null,
            "height": null,
            "justify_content": null,
            "justify_items": null,
            "left": null,
            "margin": null,
            "max_height": null,
            "max_width": null,
            "min_height": null,
            "min_width": null,
            "object_fit": null,
            "object_position": null,
            "order": null,
            "overflow": null,
            "overflow_x": null,
            "overflow_y": null,
            "padding": null,
            "right": null,
            "top": null,
            "visibility": null,
            "width": null
          }
        },
        "634939d3437d4e329f26dbbf6df35e69": {
          "model_module": "@jupyter-widgets/base",
          "model_module_version": "1.2.0",
          "model_name": "LayoutModel",
          "state": {
            "_model_module": "@jupyter-widgets/base",
            "_model_module_version": "1.2.0",
            "_model_name": "LayoutModel",
            "_view_count": null,
            "_view_module": "@jupyter-widgets/base",
            "_view_module_version": "1.2.0",
            "_view_name": "LayoutView",
            "align_content": null,
            "align_items": null,
            "align_self": null,
            "border": null,
            "bottom": null,
            "display": null,
            "flex": null,
            "flex_flow": null,
            "grid_area": null,
            "grid_auto_columns": null,
            "grid_auto_flow": null,
            "grid_auto_rows": null,
            "grid_column": null,
            "grid_gap": null,
            "grid_row": null,
            "grid_template_areas": null,
            "grid_template_columns": null,
            "grid_template_rows": null,
            "height": null,
            "justify_content": null,
            "justify_items": null,
            "left": null,
            "margin": null,
            "max_height": null,
            "max_width": null,
            "min_height": null,
            "min_width": null,
            "object_fit": null,
            "object_position": null,
            "order": null,
            "overflow": null,
            "overflow_x": null,
            "overflow_y": null,
            "padding": null,
            "right": null,
            "top": null,
            "visibility": null,
            "width": null
          }
        },
        "6380ae6959544640a2aba8a6b82a6d7e": {
          "model_module": "@jupyter-widgets/controls",
          "model_module_version": "1.5.0",
          "model_name": "DescriptionStyleModel",
          "state": {
            "_model_module": "@jupyter-widgets/controls",
            "_model_module_version": "1.5.0",
            "_model_name": "DescriptionStyleModel",
            "_view_count": null,
            "_view_module": "@jupyter-widgets/base",
            "_view_module_version": "1.2.0",
            "_view_name": "StyleView",
            "description_width": ""
          }
        },
        "63a69b0c5e3146759d98b40693c0ea5d": {
          "model_module": "@jupyter-widgets/base",
          "model_module_version": "1.2.0",
          "model_name": "LayoutModel",
          "state": {
            "_model_module": "@jupyter-widgets/base",
            "_model_module_version": "1.2.0",
            "_model_name": "LayoutModel",
            "_view_count": null,
            "_view_module": "@jupyter-widgets/base",
            "_view_module_version": "1.2.0",
            "_view_name": "LayoutView",
            "align_content": null,
            "align_items": null,
            "align_self": null,
            "border": null,
            "bottom": null,
            "display": null,
            "flex": null,
            "flex_flow": null,
            "grid_area": null,
            "grid_auto_columns": null,
            "grid_auto_flow": null,
            "grid_auto_rows": null,
            "grid_column": null,
            "grid_gap": null,
            "grid_row": null,
            "grid_template_areas": null,
            "grid_template_columns": null,
            "grid_template_rows": null,
            "height": null,
            "justify_content": null,
            "justify_items": null,
            "left": null,
            "margin": null,
            "max_height": null,
            "max_width": null,
            "min_height": null,
            "min_width": null,
            "object_fit": null,
            "object_position": null,
            "order": null,
            "overflow": null,
            "overflow_x": null,
            "overflow_y": null,
            "padding": null,
            "right": null,
            "top": null,
            "visibility": null,
            "width": null
          }
        },
        "6649b74fbac34edbbc8da40dbedca519": {
          "model_module": "@jupyter-widgets/base",
          "model_module_version": "1.2.0",
          "model_name": "LayoutModel",
          "state": {
            "_model_module": "@jupyter-widgets/base",
            "_model_module_version": "1.2.0",
            "_model_name": "LayoutModel",
            "_view_count": null,
            "_view_module": "@jupyter-widgets/base",
            "_view_module_version": "1.2.0",
            "_view_name": "LayoutView",
            "align_content": null,
            "align_items": null,
            "align_self": null,
            "border": null,
            "bottom": null,
            "display": null,
            "flex": null,
            "flex_flow": null,
            "grid_area": null,
            "grid_auto_columns": null,
            "grid_auto_flow": null,
            "grid_auto_rows": null,
            "grid_column": null,
            "grid_gap": null,
            "grid_row": null,
            "grid_template_areas": null,
            "grid_template_columns": null,
            "grid_template_rows": null,
            "height": null,
            "justify_content": null,
            "justify_items": null,
            "left": null,
            "margin": null,
            "max_height": null,
            "max_width": null,
            "min_height": null,
            "min_width": null,
            "object_fit": null,
            "object_position": null,
            "order": null,
            "overflow": null,
            "overflow_x": null,
            "overflow_y": null,
            "padding": null,
            "right": null,
            "top": null,
            "visibility": null,
            "width": null
          }
        },
        "67e371cbb18b448d80681fa7fd37d6cc": {
          "model_module": "@jupyter-widgets/base",
          "model_module_version": "1.2.0",
          "model_name": "LayoutModel",
          "state": {
            "_model_module": "@jupyter-widgets/base",
            "_model_module_version": "1.2.0",
            "_model_name": "LayoutModel",
            "_view_count": null,
            "_view_module": "@jupyter-widgets/base",
            "_view_module_version": "1.2.0",
            "_view_name": "LayoutView",
            "align_content": null,
            "align_items": null,
            "align_self": null,
            "border": null,
            "bottom": null,
            "display": null,
            "flex": null,
            "flex_flow": null,
            "grid_area": null,
            "grid_auto_columns": null,
            "grid_auto_flow": null,
            "grid_auto_rows": null,
            "grid_column": null,
            "grid_gap": null,
            "grid_row": null,
            "grid_template_areas": null,
            "grid_template_columns": null,
            "grid_template_rows": null,
            "height": null,
            "justify_content": null,
            "justify_items": null,
            "left": null,
            "margin": null,
            "max_height": null,
            "max_width": null,
            "min_height": null,
            "min_width": null,
            "object_fit": null,
            "object_position": null,
            "order": null,
            "overflow": null,
            "overflow_x": null,
            "overflow_y": null,
            "padding": null,
            "right": null,
            "top": null,
            "visibility": null,
            "width": null
          }
        },
        "68882afd51ec4fb08c1c2957bfd45d81": {
          "model_module": "@jupyter-widgets/controls",
          "model_module_version": "1.5.0",
          "model_name": "HBoxModel",
          "state": {
            "_dom_classes": [],
            "_model_module": "@jupyter-widgets/controls",
            "_model_module_version": "1.5.0",
            "_model_name": "HBoxModel",
            "_view_count": null,
            "_view_module": "@jupyter-widgets/controls",
            "_view_module_version": "1.5.0",
            "_view_name": "HBoxView",
            "box_style": "",
            "children": [
              "IPY_MODEL_6ac52c5634904bfc85235b01c3f19a35",
              "IPY_MODEL_2a9cfdb64590442893933675472b2fd4",
              "IPY_MODEL_b7d4102bad3442b4aef8fd1d7cfd3e58"
            ],
            "layout": "IPY_MODEL_113b1d3671734c6abc2a92f84009d40d"
          }
        },
        "688f9e0165fa4342914b5ca9a904790f": {
          "model_module": "@jupyter-widgets/base",
          "model_module_version": "1.2.0",
          "model_name": "LayoutModel",
          "state": {
            "_model_module": "@jupyter-widgets/base",
            "_model_module_version": "1.2.0",
            "_model_name": "LayoutModel",
            "_view_count": null,
            "_view_module": "@jupyter-widgets/base",
            "_view_module_version": "1.2.0",
            "_view_name": "LayoutView",
            "align_content": null,
            "align_items": null,
            "align_self": null,
            "border": null,
            "bottom": null,
            "display": null,
            "flex": null,
            "flex_flow": null,
            "grid_area": null,
            "grid_auto_columns": null,
            "grid_auto_flow": null,
            "grid_auto_rows": null,
            "grid_column": null,
            "grid_gap": null,
            "grid_row": null,
            "grid_template_areas": null,
            "grid_template_columns": null,
            "grid_template_rows": null,
            "height": null,
            "justify_content": null,
            "justify_items": null,
            "left": null,
            "margin": null,
            "max_height": null,
            "max_width": null,
            "min_height": null,
            "min_width": null,
            "object_fit": null,
            "object_position": null,
            "order": null,
            "overflow": null,
            "overflow_x": null,
            "overflow_y": null,
            "padding": null,
            "right": null,
            "top": null,
            "visibility": null,
            "width": null
          }
        },
        "68a49c21afdc43a684ffa746be142b69": {
          "model_module": "@jupyter-widgets/base",
          "model_module_version": "1.2.0",
          "model_name": "LayoutModel",
          "state": {
            "_model_module": "@jupyter-widgets/base",
            "_model_module_version": "1.2.0",
            "_model_name": "LayoutModel",
            "_view_count": null,
            "_view_module": "@jupyter-widgets/base",
            "_view_module_version": "1.2.0",
            "_view_name": "LayoutView",
            "align_content": null,
            "align_items": null,
            "align_self": null,
            "border": null,
            "bottom": null,
            "display": null,
            "flex": null,
            "flex_flow": null,
            "grid_area": null,
            "grid_auto_columns": null,
            "grid_auto_flow": null,
            "grid_auto_rows": null,
            "grid_column": null,
            "grid_gap": null,
            "grid_row": null,
            "grid_template_areas": null,
            "grid_template_columns": null,
            "grid_template_rows": null,
            "height": null,
            "justify_content": null,
            "justify_items": null,
            "left": null,
            "margin": null,
            "max_height": null,
            "max_width": null,
            "min_height": null,
            "min_width": null,
            "object_fit": null,
            "object_position": null,
            "order": null,
            "overflow": null,
            "overflow_x": null,
            "overflow_y": null,
            "padding": null,
            "right": null,
            "top": null,
            "visibility": null,
            "width": null
          }
        },
        "6989c5cf19d343bca6d64c46d2e456f0": {
          "model_module": "@jupyter-widgets/base",
          "model_module_version": "1.2.0",
          "model_name": "LayoutModel",
          "state": {
            "_model_module": "@jupyter-widgets/base",
            "_model_module_version": "1.2.0",
            "_model_name": "LayoutModel",
            "_view_count": null,
            "_view_module": "@jupyter-widgets/base",
            "_view_module_version": "1.2.0",
            "_view_name": "LayoutView",
            "align_content": null,
            "align_items": null,
            "align_self": null,
            "border": null,
            "bottom": null,
            "display": null,
            "flex": null,
            "flex_flow": null,
            "grid_area": null,
            "grid_auto_columns": null,
            "grid_auto_flow": null,
            "grid_auto_rows": null,
            "grid_column": null,
            "grid_gap": null,
            "grid_row": null,
            "grid_template_areas": null,
            "grid_template_columns": null,
            "grid_template_rows": null,
            "height": null,
            "justify_content": null,
            "justify_items": null,
            "left": null,
            "margin": null,
            "max_height": null,
            "max_width": null,
            "min_height": null,
            "min_width": null,
            "object_fit": null,
            "object_position": null,
            "order": null,
            "overflow": null,
            "overflow_x": null,
            "overflow_y": null,
            "padding": null,
            "right": null,
            "top": null,
            "visibility": null,
            "width": null
          }
        },
        "69ba70ff11c1497faa52941f5a6a9b4a": {
          "model_module": "@jupyter-widgets/controls",
          "model_module_version": "1.5.0",
          "model_name": "FloatProgressModel",
          "state": {
            "_dom_classes": [],
            "_model_module": "@jupyter-widgets/controls",
            "_model_module_version": "1.5.0",
            "_model_name": "FloatProgressModel",
            "_view_count": null,
            "_view_module": "@jupyter-widgets/controls",
            "_view_module_version": "1.5.0",
            "_view_name": "ProgressView",
            "bar_style": "success",
            "description": "",
            "description_tooltip": null,
            "layout": "IPY_MODEL_68a49c21afdc43a684ffa746be142b69",
            "max": 239,
            "min": 0,
            "orientation": "horizontal",
            "style": "IPY_MODEL_2407733e0aa44530879d44dce54329c9",
            "value": 239
          }
        },
        "6a482eef94844abbb31e246459600eb1": {
          "model_module": "@jupyter-widgets/base",
          "model_module_version": "1.2.0",
          "model_name": "LayoutModel",
          "state": {
            "_model_module": "@jupyter-widgets/base",
            "_model_module_version": "1.2.0",
            "_model_name": "LayoutModel",
            "_view_count": null,
            "_view_module": "@jupyter-widgets/base",
            "_view_module_version": "1.2.0",
            "_view_name": "LayoutView",
            "align_content": null,
            "align_items": null,
            "align_self": null,
            "border": null,
            "bottom": null,
            "display": null,
            "flex": null,
            "flex_flow": null,
            "grid_area": null,
            "grid_auto_columns": null,
            "grid_auto_flow": null,
            "grid_auto_rows": null,
            "grid_column": null,
            "grid_gap": null,
            "grid_row": null,
            "grid_template_areas": null,
            "grid_template_columns": null,
            "grid_template_rows": null,
            "height": null,
            "justify_content": null,
            "justify_items": null,
            "left": null,
            "margin": null,
            "max_height": null,
            "max_width": null,
            "min_height": null,
            "min_width": null,
            "object_fit": null,
            "object_position": null,
            "order": null,
            "overflow": null,
            "overflow_x": null,
            "overflow_y": null,
            "padding": null,
            "right": null,
            "top": null,
            "visibility": null,
            "width": null
          }
        },
        "6ac52c5634904bfc85235b01c3f19a35": {
          "model_module": "@jupyter-widgets/controls",
          "model_module_version": "1.5.0",
          "model_name": "HTMLModel",
          "state": {
            "_dom_classes": [],
            "_model_module": "@jupyter-widgets/controls",
            "_model_module_version": "1.5.0",
            "_model_name": "HTMLModel",
            "_view_count": null,
            "_view_module": "@jupyter-widgets/controls",
            "_view_module_version": "1.5.0",
            "_view_name": "HTMLView",
            "description": "",
            "description_tooltip": null,
            "layout": "IPY_MODEL_bbe63125c8324e2890af28ed1ff5926c",
            "placeholder": "​",
            "style": "IPY_MODEL_01b0afe9df68424f820d16d358382b3d",
            "value": "100%"
          }
        },
        "6acccd61398c4abe8314e1a8217771b1": {
          "model_module": "@jupyter-widgets/base",
          "model_module_version": "1.2.0",
          "model_name": "LayoutModel",
          "state": {
            "_model_module": "@jupyter-widgets/base",
            "_model_module_version": "1.2.0",
            "_model_name": "LayoutModel",
            "_view_count": null,
            "_view_module": "@jupyter-widgets/base",
            "_view_module_version": "1.2.0",
            "_view_name": "LayoutView",
            "align_content": null,
            "align_items": null,
            "align_self": null,
            "border": null,
            "bottom": null,
            "display": null,
            "flex": null,
            "flex_flow": null,
            "grid_area": null,
            "grid_auto_columns": null,
            "grid_auto_flow": null,
            "grid_auto_rows": null,
            "grid_column": null,
            "grid_gap": null,
            "grid_row": null,
            "grid_template_areas": null,
            "grid_template_columns": null,
            "grid_template_rows": null,
            "height": null,
            "justify_content": null,
            "justify_items": null,
            "left": null,
            "margin": null,
            "max_height": null,
            "max_width": null,
            "min_height": null,
            "min_width": null,
            "object_fit": null,
            "object_position": null,
            "order": null,
            "overflow": null,
            "overflow_x": null,
            "overflow_y": null,
            "padding": null,
            "right": null,
            "top": null,
            "visibility": null,
            "width": null
          }
        },
        "6c14d7ac4f514b52a3f80448bbf724a2": {
          "model_module": "@jupyter-widgets/controls",
          "model_module_version": "1.5.0",
          "model_name": "DescriptionStyleModel",
          "state": {
            "_model_module": "@jupyter-widgets/controls",
            "_model_module_version": "1.5.0",
            "_model_name": "DescriptionStyleModel",
            "_view_count": null,
            "_view_module": "@jupyter-widgets/base",
            "_view_module_version": "1.2.0",
            "_view_name": "StyleView",
            "description_width": ""
          }
        },
        "6c987af64e5d4c5c84cfd975ee7da07a": {
          "model_module": "@jupyter-widgets/controls",
          "model_module_version": "1.5.0",
          "model_name": "DescriptionStyleModel",
          "state": {
            "_model_module": "@jupyter-widgets/controls",
            "_model_module_version": "1.5.0",
            "_model_name": "DescriptionStyleModel",
            "_view_count": null,
            "_view_module": "@jupyter-widgets/base",
            "_view_module_version": "1.2.0",
            "_view_name": "StyleView",
            "description_width": ""
          }
        },
        "6cb5636d46f34f7fb2ef3806f052f327": {
          "model_module": "@jupyter-widgets/controls",
          "model_module_version": "1.5.0",
          "model_name": "FloatProgressModel",
          "state": {
            "_dom_classes": [],
            "_model_module": "@jupyter-widgets/controls",
            "_model_module_version": "1.5.0",
            "_model_name": "FloatProgressModel",
            "_view_count": null,
            "_view_module": "@jupyter-widgets/controls",
            "_view_module_version": "1.5.0",
            "_view_name": "ProgressView",
            "bar_style": "success",
            "description": "",
            "description_tooltip": null,
            "layout": "IPY_MODEL_2efc5580405d469f9780009982d1d1a5",
            "max": 754,
            "min": 0,
            "orientation": "horizontal",
            "style": "IPY_MODEL_47ca5de7631542b6ba1d84b2420ba64d",
            "value": 754
          }
        },
        "6e500743cfe44f638a7e6aee51e10d5c": {
          "model_module": "@jupyter-widgets/controls",
          "model_module_version": "1.5.0",
          "model_name": "HTMLModel",
          "state": {
            "_dom_classes": [],
            "_model_module": "@jupyter-widgets/controls",
            "_model_module_version": "1.5.0",
            "_model_name": "HTMLModel",
            "_view_count": null,
            "_view_module": "@jupyter-widgets/controls",
            "_view_module_version": "1.5.0",
            "_view_name": "HTMLView",
            "description": "",
            "description_tooltip": null,
            "layout": "IPY_MODEL_634939d3437d4e329f26dbbf6df35e69",
            "placeholder": "​",
            "style": "IPY_MODEL_c553b8b893504c53b0ce3a76c787378e",
            "value": " 754/754 [00:00&lt;00:00, 21.4kB/s]"
          }
        },
        "7161b2a7dac74b3f8864bbf402261f3d": {
          "model_module": "@jupyter-widgets/controls",
          "model_module_version": "1.5.0",
          "model_name": "DescriptionStyleModel",
          "state": {
            "_model_module": "@jupyter-widgets/controls",
            "_model_module_version": "1.5.0",
            "_model_name": "DescriptionStyleModel",
            "_view_count": null,
            "_view_module": "@jupyter-widgets/base",
            "_view_module_version": "1.2.0",
            "_view_name": "StyleView",
            "description_width": ""
          }
        },
        "732b4e3417454f348c88942e18bb6d03": {
          "model_module": "@jupyter-widgets/controls",
          "model_module_version": "1.5.0",
          "model_name": "DescriptionStyleModel",
          "state": {
            "_model_module": "@jupyter-widgets/controls",
            "_model_module_version": "1.5.0",
            "_model_name": "DescriptionStyleModel",
            "_view_count": null,
            "_view_module": "@jupyter-widgets/base",
            "_view_module_version": "1.2.0",
            "_view_name": "StyleView",
            "description_width": ""
          }
        },
        "75225854f3644ffb85f20377fd232490": {
          "model_module": "@jupyter-widgets/controls",
          "model_module_version": "1.5.0",
          "model_name": "DescriptionStyleModel",
          "state": {
            "_model_module": "@jupyter-widgets/controls",
            "_model_module_version": "1.5.0",
            "_model_name": "DescriptionStyleModel",
            "_view_count": null,
            "_view_module": "@jupyter-widgets/base",
            "_view_module_version": "1.2.0",
            "_view_name": "StyleView",
            "description_width": ""
          }
        },
        "78c0da13ebf047a3afaaf6211b7712b7": {
          "model_module": "@jupyter-widgets/controls",
          "model_module_version": "1.5.0",
          "model_name": "FloatProgressModel",
          "state": {
            "_dom_classes": [],
            "_model_module": "@jupyter-widgets/controls",
            "_model_module_version": "1.5.0",
            "_model_name": "FloatProgressModel",
            "_view_count": null,
            "_view_module": "@jupyter-widgets/controls",
            "_view_module_version": "1.5.0",
            "_view_name": "ProgressView",
            "bar_style": "success",
            "description": "",
            "description_tooltip": null,
            "layout": "IPY_MODEL_16fcbfc39b7442e4a1d5d616fe1d8f79",
            "max": 2,
            "min": 0,
            "orientation": "horizontal",
            "style": "IPY_MODEL_11de3c19cbd5404d8025b078dc94f875",
            "value": 2
          }
        },
        "7a810b448d5d4531827e036ad3090afd": {
          "model_module": "@jupyter-widgets/controls",
          "model_module_version": "1.5.0",
          "model_name": "HBoxModel",
          "state": {
            "_dom_classes": [],
            "_model_module": "@jupyter-widgets/controls",
            "_model_module_version": "1.5.0",
            "_model_name": "HBoxModel",
            "_view_count": null,
            "_view_module": "@jupyter-widgets/controls",
            "_view_module_version": "1.5.0",
            "_view_name": "HBoxView",
            "box_style": "",
            "children": [
              "IPY_MODEL_47c31b4bdea04cb8ba1c9cf72139238f",
              "IPY_MODEL_eaaf9465877e4b9fb0d3dcf65a980ed7",
              "IPY_MODEL_f8a7d608ce134e30a2c00c8fe73a2941"
            ],
            "layout": "IPY_MODEL_e50013e43b5f4cca9f2ffd8adfe0bbec"
          }
        },
        "7a94b8f0ac3649d7affee9b2661f9a38": {
          "model_module": "@jupyter-widgets/controls",
          "model_module_version": "1.5.0",
          "model_name": "FloatProgressModel",
          "state": {
            "_dom_classes": [],
            "_model_module": "@jupyter-widgets/controls",
            "_model_module_version": "1.5.0",
            "_model_name": "FloatProgressModel",
            "_view_count": null,
            "_view_module": "@jupyter-widgets/controls",
            "_view_module_version": "1.5.0",
            "_view_name": "ProgressView",
            "bar_style": "success",
            "description": "",
            "description_tooltip": null,
            "layout": "IPY_MODEL_a2afd618802448bdb62a2ab0fe3b96f5",
            "max": 2,
            "min": 0,
            "orientation": "horizontal",
            "style": "IPY_MODEL_fbed7e77f5f24d139f097a2df16577ba",
            "value": 2
          }
        },
        "7ac1d8c80281449cb55fb212cd71371d": {
          "model_module": "@jupyter-widgets/controls",
          "model_module_version": "1.5.0",
          "model_name": "HTMLModel",
          "state": {
            "_dom_classes": [],
            "_model_module": "@jupyter-widgets/controls",
            "_model_module_version": "1.5.0",
            "_model_name": "HTMLModel",
            "_view_count": null,
            "_view_module": "@jupyter-widgets/controls",
            "_view_module_version": "1.5.0",
            "_view_name": "HTMLView",
            "description": "",
            "description_tooltip": null,
            "layout": "IPY_MODEL_625b60ec1d254ef2b0963f2bda778b5c",
            "placeholder": "​",
            "style": "IPY_MODEL_091d8c503d54447d9db679a97fda824e",
            "value": "Downloading (…)okenizer_config.json: 100%"
          }
        },
        "7c20b21dd7a6465a927c6f5d30a1cdf5": {
          "model_module": "@jupyter-widgets/base",
          "model_module_version": "1.2.0",
          "model_name": "LayoutModel",
          "state": {
            "_model_module": "@jupyter-widgets/base",
            "_model_module_version": "1.2.0",
            "_model_name": "LayoutModel",
            "_view_count": null,
            "_view_module": "@jupyter-widgets/base",
            "_view_module_version": "1.2.0",
            "_view_name": "LayoutView",
            "align_content": null,
            "align_items": null,
            "align_self": null,
            "border": null,
            "bottom": null,
            "display": null,
            "flex": null,
            "flex_flow": null,
            "grid_area": null,
            "grid_auto_columns": null,
            "grid_auto_flow": null,
            "grid_auto_rows": null,
            "grid_column": null,
            "grid_gap": null,
            "grid_row": null,
            "grid_template_areas": null,
            "grid_template_columns": null,
            "grid_template_rows": null,
            "height": null,
            "justify_content": null,
            "justify_items": null,
            "left": null,
            "margin": null,
            "max_height": null,
            "max_width": null,
            "min_height": null,
            "min_width": null,
            "object_fit": null,
            "object_position": null,
            "order": null,
            "overflow": null,
            "overflow_x": null,
            "overflow_y": null,
            "padding": null,
            "right": null,
            "top": null,
            "visibility": null,
            "width": null
          }
        },
        "7dec85fa2e984ea38018607c3988b259": {
          "model_module": "@jupyter-widgets/controls",
          "model_module_version": "1.5.0",
          "model_name": "FloatProgressModel",
          "state": {
            "_dom_classes": [],
            "_model_module": "@jupyter-widgets/controls",
            "_model_module_version": "1.5.0",
            "_model_name": "FloatProgressModel",
            "_view_count": null,
            "_view_module": "@jupyter-widgets/controls",
            "_view_module_version": "1.5.0",
            "_view_name": "ProgressView",
            "bar_style": "success",
            "description": "",
            "description_tooltip": null,
            "layout": "IPY_MODEL_5b8d7091bad24b4ab52f0650841b45c4",
            "max": 25,
            "min": 0,
            "orientation": "horizontal",
            "style": "IPY_MODEL_ccc96dda6bb349b79dd4c5f58f839115",
            "value": 25
          }
        },
        "7df3c8a9bc0f4769abceba0af78b97df": {
          "model_module": "@jupyter-widgets/controls",
          "model_module_version": "1.5.0",
          "model_name": "HTMLModel",
          "state": {
            "_dom_classes": [],
            "_model_module": "@jupyter-widgets/controls",
            "_model_module_version": "1.5.0",
            "_model_name": "HTMLModel",
            "_view_count": null,
            "_view_module": "@jupyter-widgets/controls",
            "_view_module_version": "1.5.0",
            "_view_name": "HTMLView",
            "description": "",
            "description_tooltip": null,
            "layout": "IPY_MODEL_13f4ae49208b40ca9da6beaf28a3f470",
            "placeholder": "​",
            "style": "IPY_MODEL_de175045fccc4fb19d38d2224560f8d3",
            "value": "Downloading pytorch_model.bin: 100%"
          }
        },
        "7e46059c7de646ea94095e24abc248c5": {
          "model_module": "@jupyter-widgets/controls",
          "model_module_version": "1.5.0",
          "model_name": "HTMLModel",
          "state": {
            "_dom_classes": [],
            "_model_module": "@jupyter-widgets/controls",
            "_model_module_version": "1.5.0",
            "_model_name": "HTMLModel",
            "_view_count": null,
            "_view_module": "@jupyter-widgets/controls",
            "_view_module_version": "1.5.0",
            "_view_name": "HTMLView",
            "description": "",
            "description_tooltip": null,
            "layout": "IPY_MODEL_30168873cc6c491f9c293dc97378992a",
            "placeholder": "​",
            "style": "IPY_MODEL_0ed678e1d3e548ee8db2ec8d59f6c66f",
            "value": " 501M/501M [00:01&lt;00:00, 255MB/s]"
          }
        },
        "7fb9981f1ec040c28106bf0b409e8ceb": {
          "model_module": "@jupyter-widgets/controls",
          "model_module_version": "1.5.0",
          "model_name": "HBoxModel",
          "state": {
            "_dom_classes": [],
            "_model_module": "@jupyter-widgets/controls",
            "_model_module_version": "1.5.0",
            "_model_name": "HBoxModel",
            "_view_count": null,
            "_view_module": "@jupyter-widgets/controls",
            "_view_module_version": "1.5.0",
            "_view_name": "HBoxView",
            "box_style": "",
            "children": [
              "IPY_MODEL_e6670ff69f0f47eea8962170aa07380f",
              "IPY_MODEL_7a94b8f0ac3649d7affee9b2661f9a38",
              "IPY_MODEL_ce3e72ec3bc34d54a9c50d6661a2405c"
            ],
            "layout": "IPY_MODEL_ffcaf934003e4994a7809474f351567e"
          }
        },
        "82884a1ad53b48859bf06b0c85c9c139": {
          "model_module": "@jupyter-widgets/controls",
          "model_module_version": "1.5.0",
          "model_name": "HTMLModel",
          "state": {
            "_dom_classes": [],
            "_model_module": "@jupyter-widgets/controls",
            "_model_module_version": "1.5.0",
            "_model_name": "HTMLModel",
            "_view_count": null,
            "_view_module": "@jupyter-widgets/controls",
            "_view_module_version": "1.5.0",
            "_view_name": "HTMLView",
            "description": "",
            "description_tooltip": null,
            "layout": "IPY_MODEL_42597a401f9044dbbdf56227542c5031",
            "placeholder": "​",
            "style": "IPY_MODEL_0c22e44063534fe8820f7c25b77d2b0e",
            "value": " 2/2 [00:00&lt;00:00, 36.68it/s]"
          }
        },
        "866ae830c35f429db2eb4684eaed74f1": {
          "model_module": "@jupyter-widgets/base",
          "model_module_version": "1.2.0",
          "model_name": "LayoutModel",
          "state": {
            "_model_module": "@jupyter-widgets/base",
            "_model_module_version": "1.2.0",
            "_model_name": "LayoutModel",
            "_view_count": null,
            "_view_module": "@jupyter-widgets/base",
            "_view_module_version": "1.2.0",
            "_view_name": "LayoutView",
            "align_content": null,
            "align_items": null,
            "align_self": null,
            "border": null,
            "bottom": null,
            "display": null,
            "flex": null,
            "flex_flow": null,
            "grid_area": null,
            "grid_auto_columns": null,
            "grid_auto_flow": null,
            "grid_auto_rows": null,
            "grid_column": null,
            "grid_gap": null,
            "grid_row": null,
            "grid_template_areas": null,
            "grid_template_columns": null,
            "grid_template_rows": null,
            "height": null,
            "justify_content": null,
            "justify_items": null,
            "left": null,
            "margin": null,
            "max_height": null,
            "max_width": null,
            "min_height": null,
            "min_width": null,
            "object_fit": null,
            "object_position": null,
            "order": null,
            "overflow": null,
            "overflow_x": null,
            "overflow_y": null,
            "padding": null,
            "right": null,
            "top": null,
            "visibility": null,
            "width": null
          }
        },
        "8956bb81910546ffa094b5d413267500": {
          "model_module": "@jupyter-widgets/base",
          "model_module_version": "1.2.0",
          "model_name": "LayoutModel",
          "state": {
            "_model_module": "@jupyter-widgets/base",
            "_model_module_version": "1.2.0",
            "_model_name": "LayoutModel",
            "_view_count": null,
            "_view_module": "@jupyter-widgets/base",
            "_view_module_version": "1.2.0",
            "_view_name": "LayoutView",
            "align_content": null,
            "align_items": null,
            "align_self": null,
            "border": null,
            "bottom": null,
            "display": null,
            "flex": null,
            "flex_flow": null,
            "grid_area": null,
            "grid_auto_columns": null,
            "grid_auto_flow": null,
            "grid_auto_rows": null,
            "grid_column": null,
            "grid_gap": null,
            "grid_row": null,
            "grid_template_areas": null,
            "grid_template_columns": null,
            "grid_template_rows": null,
            "height": null,
            "justify_content": null,
            "justify_items": null,
            "left": null,
            "margin": null,
            "max_height": null,
            "max_width": null,
            "min_height": null,
            "min_width": null,
            "object_fit": null,
            "object_position": null,
            "order": null,
            "overflow": null,
            "overflow_x": null,
            "overflow_y": null,
            "padding": null,
            "right": null,
            "top": null,
            "visibility": null,
            "width": null
          }
        },
        "8a5638d834ee445ba0a1c8a267467b43": {
          "model_module": "@jupyter-widgets/controls",
          "model_module_version": "1.5.0",
          "model_name": "HTMLModel",
          "state": {
            "_dom_classes": [],
            "_model_module": "@jupyter-widgets/controls",
            "_model_module_version": "1.5.0",
            "_model_name": "HTMLModel",
            "_view_count": null,
            "_view_module": "@jupyter-widgets/controls",
            "_view_module_version": "1.5.0",
            "_view_name": "HTMLView",
            "description": "",
            "description_tooltip": null,
            "layout": "IPY_MODEL_6989c5cf19d343bca6d64c46d2e456f0",
            "placeholder": "​",
            "style": "IPY_MODEL_b516b3d650df4fb9b51143702202d8f5",
            "value": "Downloading (…)cial_tokens_map.json: 100%"
          }
        },
        "90ee491e574d4757bc1d07213339ab5b": {
          "model_module": "@jupyter-widgets/controls",
          "model_module_version": "1.5.0",
          "model_name": "HTMLModel",
          "state": {
            "_dom_classes": [],
            "_model_module": "@jupyter-widgets/controls",
            "_model_module_version": "1.5.0",
            "_model_name": "HTMLModel",
            "_view_count": null,
            "_view_module": "@jupyter-widgets/controls",
            "_view_module_version": "1.5.0",
            "_view_name": "HTMLView",
            "description": "",
            "description_tooltip": null,
            "layout": "IPY_MODEL_3997733bc9764ab0863dfb376575e817",
            "placeholder": "​",
            "style": "IPY_MODEL_c0ec34fc3fb644b2b343248f7973d430",
            "value": "100%"
          }
        },
        "9189e7d7a7754f0185a95a94360719e9": {
          "model_module": "@jupyter-widgets/base",
          "model_module_version": "1.2.0",
          "model_name": "LayoutModel",
          "state": {
            "_model_module": "@jupyter-widgets/base",
            "_model_module_version": "1.2.0",
            "_model_name": "LayoutModel",
            "_view_count": null,
            "_view_module": "@jupyter-widgets/base",
            "_view_module_version": "1.2.0",
            "_view_name": "LayoutView",
            "align_content": null,
            "align_items": null,
            "align_self": null,
            "border": null,
            "bottom": null,
            "display": null,
            "flex": null,
            "flex_flow": null,
            "grid_area": null,
            "grid_auto_columns": null,
            "grid_auto_flow": null,
            "grid_auto_rows": null,
            "grid_column": null,
            "grid_gap": null,
            "grid_row": null,
            "grid_template_areas": null,
            "grid_template_columns": null,
            "grid_template_rows": null,
            "height": null,
            "justify_content": null,
            "justify_items": null,
            "left": null,
            "margin": null,
            "max_height": null,
            "max_width": null,
            "min_height": null,
            "min_width": null,
            "object_fit": null,
            "object_position": null,
            "order": null,
            "overflow": null,
            "overflow_x": null,
            "overflow_y": null,
            "padding": null,
            "right": null,
            "top": null,
            "visibility": null,
            "width": null
          }
        },
        "93902de0ebe1482c98f4dcbbbdb71972": {
          "model_module": "@jupyter-widgets/base",
          "model_module_version": "1.2.0",
          "model_name": "LayoutModel",
          "state": {
            "_model_module": "@jupyter-widgets/base",
            "_model_module_version": "1.2.0",
            "_model_name": "LayoutModel",
            "_view_count": null,
            "_view_module": "@jupyter-widgets/base",
            "_view_module_version": "1.2.0",
            "_view_name": "LayoutView",
            "align_content": null,
            "align_items": null,
            "align_self": null,
            "border": null,
            "bottom": null,
            "display": null,
            "flex": null,
            "flex_flow": null,
            "grid_area": null,
            "grid_auto_columns": null,
            "grid_auto_flow": null,
            "grid_auto_rows": null,
            "grid_column": null,
            "grid_gap": null,
            "grid_row": null,
            "grid_template_areas": null,
            "grid_template_columns": null,
            "grid_template_rows": null,
            "height": null,
            "justify_content": null,
            "justify_items": null,
            "left": null,
            "margin": null,
            "max_height": null,
            "max_width": null,
            "min_height": null,
            "min_width": null,
            "object_fit": null,
            "object_position": null,
            "order": null,
            "overflow": null,
            "overflow_x": null,
            "overflow_y": null,
            "padding": null,
            "right": null,
            "top": null,
            "visibility": null,
            "width": null
          }
        },
        "93ed3ae4712b4c33a28f80d9c9bafd35": {
          "model_module": "@jupyter-widgets/base",
          "model_module_version": "1.2.0",
          "model_name": "LayoutModel",
          "state": {
            "_model_module": "@jupyter-widgets/base",
            "_model_module_version": "1.2.0",
            "_model_name": "LayoutModel",
            "_view_count": null,
            "_view_module": "@jupyter-widgets/base",
            "_view_module_version": "1.2.0",
            "_view_name": "LayoutView",
            "align_content": null,
            "align_items": null,
            "align_self": null,
            "border": null,
            "bottom": null,
            "display": null,
            "flex": null,
            "flex_flow": null,
            "grid_area": null,
            "grid_auto_columns": null,
            "grid_auto_flow": null,
            "grid_auto_rows": null,
            "grid_column": null,
            "grid_gap": null,
            "grid_row": null,
            "grid_template_areas": null,
            "grid_template_columns": null,
            "grid_template_rows": null,
            "height": null,
            "justify_content": null,
            "justify_items": null,
            "left": null,
            "margin": null,
            "max_height": null,
            "max_width": null,
            "min_height": null,
            "min_width": null,
            "object_fit": null,
            "object_position": null,
            "order": null,
            "overflow": null,
            "overflow_x": null,
            "overflow_y": null,
            "padding": null,
            "right": null,
            "top": null,
            "visibility": null,
            "width": null
          }
        },
        "94a232100bd6430d9b6bf2e97e1ba9a5": {
          "model_module": "@jupyter-widgets/controls",
          "model_module_version": "1.5.0",
          "model_name": "HTMLModel",
          "state": {
            "_dom_classes": [],
            "_model_module": "@jupyter-widgets/controls",
            "_model_module_version": "1.5.0",
            "_model_name": "HTMLModel",
            "_view_count": null,
            "_view_module": "@jupyter-widgets/controls",
            "_view_module_version": "1.5.0",
            "_view_name": "HTMLView",
            "description": "",
            "description_tooltip": null,
            "layout": "IPY_MODEL_41047b31f8ab4ae6a9d5cf4800dcfaa5",
            "placeholder": "​",
            "style": "IPY_MODEL_e0e4a7aad2a14d49840c0970c2e623bd",
            "value": " 25.0/25.0 [00:00&lt;00:00, 1.19kB/s]"
          }
        },
        "954ae28181184d32b39ed90753180212": {
          "model_module": "@jupyter-widgets/controls",
          "model_module_version": "1.5.0",
          "model_name": "DescriptionStyleModel",
          "state": {
            "_model_module": "@jupyter-widgets/controls",
            "_model_module_version": "1.5.0",
            "_model_name": "DescriptionStyleModel",
            "_view_count": null,
            "_view_module": "@jupyter-widgets/base",
            "_view_module_version": "1.2.0",
            "_view_name": "StyleView",
            "description_width": ""
          }
        },
        "9703f88d1be44ed39e3dd1be89cfd2b1": {
          "model_module": "@jupyter-widgets/base",
          "model_module_version": "1.2.0",
          "model_name": "LayoutModel",
          "state": {
            "_model_module": "@jupyter-widgets/base",
            "_model_module_version": "1.2.0",
            "_model_name": "LayoutModel",
            "_view_count": null,
            "_view_module": "@jupyter-widgets/base",
            "_view_module_version": "1.2.0",
            "_view_name": "LayoutView",
            "align_content": null,
            "align_items": null,
            "align_self": null,
            "border": null,
            "bottom": null,
            "display": null,
            "flex": null,
            "flex_flow": null,
            "grid_area": null,
            "grid_auto_columns": null,
            "grid_auto_flow": null,
            "grid_auto_rows": null,
            "grid_column": null,
            "grid_gap": null,
            "grid_row": null,
            "grid_template_areas": null,
            "grid_template_columns": null,
            "grid_template_rows": null,
            "height": null,
            "justify_content": null,
            "justify_items": null,
            "left": null,
            "margin": null,
            "max_height": null,
            "max_width": null,
            "min_height": null,
            "min_width": null,
            "object_fit": null,
            "object_position": null,
            "order": null,
            "overflow": null,
            "overflow_x": null,
            "overflow_y": null,
            "padding": null,
            "right": null,
            "top": null,
            "visibility": null,
            "width": null
          }
        },
        "97624d116c6f446b98c7a864aea28a34": {
          "model_module": "@jupyter-widgets/controls",
          "model_module_version": "1.5.0",
          "model_name": "HTMLModel",
          "state": {
            "_dom_classes": [],
            "_model_module": "@jupyter-widgets/controls",
            "_model_module_version": "1.5.0",
            "_model_name": "HTMLModel",
            "_view_count": null,
            "_view_module": "@jupyter-widgets/controls",
            "_view_module_version": "1.5.0",
            "_view_name": "HTMLView",
            "description": "",
            "description_tooltip": null,
            "layout": "IPY_MODEL_0975fe9163f64b5abb5e5905688d4b6b",
            "placeholder": "​",
            "style": "IPY_MODEL_6380ae6959544640a2aba8a6b82a6d7e",
            "value": "100%"
          }
        },
        "98683ae7e96c4b11ba54241696f9c3c3": {
          "model_module": "@jupyter-widgets/controls",
          "model_module_version": "1.5.0",
          "model_name": "ProgressStyleModel",
          "state": {
            "_model_module": "@jupyter-widgets/controls",
            "_model_module_version": "1.5.0",
            "_model_name": "ProgressStyleModel",
            "_view_count": null,
            "_view_module": "@jupyter-widgets/base",
            "_view_module_version": "1.2.0",
            "_view_name": "StyleView",
            "bar_color": null,
            "description_width": ""
          }
        },
        "992ed170640f4ade82691c7388f07146": {
          "model_module": "@jupyter-widgets/controls",
          "model_module_version": "1.5.0",
          "model_name": "HBoxModel",
          "state": {
            "_dom_classes": [],
            "_model_module": "@jupyter-widgets/controls",
            "_model_module_version": "1.5.0",
            "_model_name": "HBoxModel",
            "_view_count": null,
            "_view_module": "@jupyter-widgets/controls",
            "_view_module_version": "1.5.0",
            "_view_name": "HBoxView",
            "box_style": "",
            "children": [
              "IPY_MODEL_8a5638d834ee445ba0a1c8a267467b43",
              "IPY_MODEL_69ba70ff11c1497faa52941f5a6a9b4a",
              "IPY_MODEL_bb1b03a3d36043e78fde10127d0fcca2"
            ],
            "layout": "IPY_MODEL_e55b438addd0409c8ffd75824884fea0"
          }
        },
        "995be9f34d1941eabf250498fd84628b": {
          "model_module": "@jupyter-widgets/controls",
          "model_module_version": "1.5.0",
          "model_name": "ProgressStyleModel",
          "state": {
            "_model_module": "@jupyter-widgets/controls",
            "_model_module_version": "1.5.0",
            "_model_name": "ProgressStyleModel",
            "_view_count": null,
            "_view_module": "@jupyter-widgets/base",
            "_view_module_version": "1.2.0",
            "_view_name": "StyleView",
            "bar_color": null,
            "description_width": ""
          }
        },
        "998c12b7f49a45d29177c004d4ce235d": {
          "model_module": "@jupyter-widgets/controls",
          "model_module_version": "1.5.0",
          "model_name": "DescriptionStyleModel",
          "state": {
            "_model_module": "@jupyter-widgets/controls",
            "_model_module_version": "1.5.0",
            "_model_name": "DescriptionStyleModel",
            "_view_count": null,
            "_view_module": "@jupyter-widgets/base",
            "_view_module_version": "1.2.0",
            "_view_name": "StyleView",
            "description_width": ""
          }
        },
        "9a2209635b0d4f2ebd5cc1ed4c353cbb": {
          "model_module": "@jupyter-widgets/controls",
          "model_module_version": "1.5.0",
          "model_name": "DescriptionStyleModel",
          "state": {
            "_model_module": "@jupyter-widgets/controls",
            "_model_module_version": "1.5.0",
            "_model_name": "DescriptionStyleModel",
            "_view_count": null,
            "_view_module": "@jupyter-widgets/base",
            "_view_module_version": "1.2.0",
            "_view_name": "StyleView",
            "description_width": ""
          }
        },
        "9a442e2e9fc5463b8d260a0c563f2ad1": {
          "model_module": "@jupyter-widgets/controls",
          "model_module_version": "1.5.0",
          "model_name": "HTMLModel",
          "state": {
            "_dom_classes": [],
            "_model_module": "@jupyter-widgets/controls",
            "_model_module_version": "1.5.0",
            "_model_name": "HTMLModel",
            "_view_count": null,
            "_view_module": "@jupyter-widgets/controls",
            "_view_module_version": "1.5.0",
            "_view_name": "HTMLView",
            "description": "",
            "description_tooltip": null,
            "layout": "IPY_MODEL_c5757d9adc55457090bf2fb827101387",
            "placeholder": "​",
            "style": "IPY_MODEL_b3a949f956104879b17d283e8a1f6ef7",
            "value": " 754/754 [00:00&lt;00:00, 51.4kB/s]"
          }
        },
        "9bdc996eb5e9448b8a2e0045772f9a57": {
          "model_module": "@jupyter-widgets/base",
          "model_module_version": "1.2.0",
          "model_name": "LayoutModel",
          "state": {
            "_model_module": "@jupyter-widgets/base",
            "_model_module_version": "1.2.0",
            "_model_name": "LayoutModel",
            "_view_count": null,
            "_view_module": "@jupyter-widgets/base",
            "_view_module_version": "1.2.0",
            "_view_name": "LayoutView",
            "align_content": null,
            "align_items": null,
            "align_self": null,
            "border": null,
            "bottom": null,
            "display": null,
            "flex": null,
            "flex_flow": null,
            "grid_area": null,
            "grid_auto_columns": null,
            "grid_auto_flow": null,
            "grid_auto_rows": null,
            "grid_column": null,
            "grid_gap": null,
            "grid_row": null,
            "grid_template_areas": null,
            "grid_template_columns": null,
            "grid_template_rows": null,
            "height": null,
            "justify_content": null,
            "justify_items": null,
            "left": null,
            "margin": null,
            "max_height": null,
            "max_width": null,
            "min_height": null,
            "min_width": null,
            "object_fit": null,
            "object_position": null,
            "order": null,
            "overflow": null,
            "overflow_x": null,
            "overflow_y": null,
            "padding": null,
            "right": null,
            "top": null,
            "visibility": null,
            "width": null
          }
        },
        "9e7cc7ec942e46908b22813d3c6a75f5": {
          "model_module": "@jupyter-widgets/controls",
          "model_module_version": "1.5.0",
          "model_name": "HBoxModel",
          "state": {
            "_dom_classes": [],
            "_model_module": "@jupyter-widgets/controls",
            "_model_module_version": "1.5.0",
            "_model_name": "HBoxModel",
            "_view_count": null,
            "_view_module": "@jupyter-widgets/controls",
            "_view_module_version": "1.5.0",
            "_view_name": "HBoxView",
            "box_style": "",
            "children": [
              "IPY_MODEL_5f867b1cb624401285f1d5a32197decd",
              "IPY_MODEL_5ae9ab5979bc4babb74e13e1af6150c4",
              "IPY_MODEL_6e500743cfe44f638a7e6aee51e10d5c"
            ],
            "layout": "IPY_MODEL_391f98f2714441fd9e31121ef17a7493"
          }
        },
        "9ef8affbefe74a2a9de967f30f00a10f": {
          "model_module": "@jupyter-widgets/controls",
          "model_module_version": "1.5.0",
          "model_name": "HBoxModel",
          "state": {
            "_dom_classes": [],
            "_model_module": "@jupyter-widgets/controls",
            "_model_module_version": "1.5.0",
            "_model_name": "HBoxModel",
            "_view_count": null,
            "_view_module": "@jupyter-widgets/controls",
            "_view_module_version": "1.5.0",
            "_view_name": "HBoxView",
            "box_style": "",
            "children": [
              "IPY_MODEL_d8e548e63df04d56abfaaee84be89a87",
              "IPY_MODEL_41105c7314a4409f9f8c3ecf1a20da93",
              "IPY_MODEL_c31da4be91f944d1a73769f2501b59f7"
            ],
            "layout": "IPY_MODEL_aa093804cc924597895272790a9208e6"
          }
        },
        "9f1630f83b3e40929f8002516c27cfa7": {
          "model_module": "@jupyter-widgets/controls",
          "model_module_version": "1.5.0",
          "model_name": "DescriptionStyleModel",
          "state": {
            "_model_module": "@jupyter-widgets/controls",
            "_model_module_version": "1.5.0",
            "_model_name": "DescriptionStyleModel",
            "_view_count": null,
            "_view_module": "@jupyter-widgets/base",
            "_view_module_version": "1.2.0",
            "_view_name": "StyleView",
            "description_width": ""
          }
        },
        "a2afd618802448bdb62a2ab0fe3b96f5": {
          "model_module": "@jupyter-widgets/base",
          "model_module_version": "1.2.0",
          "model_name": "LayoutModel",
          "state": {
            "_model_module": "@jupyter-widgets/base",
            "_model_module_version": "1.2.0",
            "_model_name": "LayoutModel",
            "_view_count": null,
            "_view_module": "@jupyter-widgets/base",
            "_view_module_version": "1.2.0",
            "_view_name": "LayoutView",
            "align_content": null,
            "align_items": null,
            "align_self": null,
            "border": null,
            "bottom": null,
            "display": null,
            "flex": null,
            "flex_flow": null,
            "grid_area": null,
            "grid_auto_columns": null,
            "grid_auto_flow": null,
            "grid_auto_rows": null,
            "grid_column": null,
            "grid_gap": null,
            "grid_row": null,
            "grid_template_areas": null,
            "grid_template_columns": null,
            "grid_template_rows": null,
            "height": null,
            "justify_content": null,
            "justify_items": null,
            "left": null,
            "margin": null,
            "max_height": null,
            "max_width": null,
            "min_height": null,
            "min_width": null,
            "object_fit": null,
            "object_position": null,
            "order": null,
            "overflow": null,
            "overflow_x": null,
            "overflow_y": null,
            "padding": null,
            "right": null,
            "top": null,
            "visibility": null,
            "width": null
          }
        },
        "a52aca5eda24484f98f5360324690df2": {
          "model_module": "@jupyter-widgets/controls",
          "model_module_version": "1.5.0",
          "model_name": "ProgressStyleModel",
          "state": {
            "_model_module": "@jupyter-widgets/controls",
            "_model_module_version": "1.5.0",
            "_model_name": "ProgressStyleModel",
            "_view_count": null,
            "_view_module": "@jupyter-widgets/base",
            "_view_module_version": "1.2.0",
            "_view_name": "StyleView",
            "bar_color": null,
            "description_width": ""
          }
        },
        "a5fe15b5876e4306a45e7aad191852eb": {
          "model_module": "@jupyter-widgets/controls",
          "model_module_version": "1.5.0",
          "model_name": "HBoxModel",
          "state": {
            "_dom_classes": [],
            "_model_module": "@jupyter-widgets/controls",
            "_model_module_version": "1.5.0",
            "_model_name": "HBoxModel",
            "_view_count": null,
            "_view_module": "@jupyter-widgets/controls",
            "_view_module_version": "1.5.0",
            "_view_name": "HBoxView",
            "box_style": "",
            "children": [
              "IPY_MODEL_083349018e4449b6a77266c29f4759f3",
              "IPY_MODEL_1032b75dfafb4c2d86c7ea8921f67e04",
              "IPY_MODEL_d183af6e3bca4765a16ad705d577c82d"
            ],
            "layout": "IPY_MODEL_04532cb50120489b83ecb3047a95ddd0"
          }
        },
        "a64e710a411e4565acdf0edffb2c2717": {
          "model_module": "@jupyter-widgets/base",
          "model_module_version": "1.2.0",
          "model_name": "LayoutModel",
          "state": {
            "_model_module": "@jupyter-widgets/base",
            "_model_module_version": "1.2.0",
            "_model_name": "LayoutModel",
            "_view_count": null,
            "_view_module": "@jupyter-widgets/base",
            "_view_module_version": "1.2.0",
            "_view_name": "LayoutView",
            "align_content": null,
            "align_items": null,
            "align_self": null,
            "border": null,
            "bottom": null,
            "display": null,
            "flex": null,
            "flex_flow": null,
            "grid_area": null,
            "grid_auto_columns": null,
            "grid_auto_flow": null,
            "grid_auto_rows": null,
            "grid_column": null,
            "grid_gap": null,
            "grid_row": null,
            "grid_template_areas": null,
            "grid_template_columns": null,
            "grid_template_rows": null,
            "height": null,
            "justify_content": null,
            "justify_items": null,
            "left": null,
            "margin": null,
            "max_height": null,
            "max_width": null,
            "min_height": null,
            "min_width": null,
            "object_fit": null,
            "object_position": null,
            "order": null,
            "overflow": null,
            "overflow_x": null,
            "overflow_y": null,
            "padding": null,
            "right": null,
            "top": null,
            "visibility": null,
            "width": null
          }
        },
        "a659dbc0e454445888a24c074b7c473b": {
          "model_module": "@jupyter-widgets/base",
          "model_module_version": "1.2.0",
          "model_name": "LayoutModel",
          "state": {
            "_model_module": "@jupyter-widgets/base",
            "_model_module_version": "1.2.0",
            "_model_name": "LayoutModel",
            "_view_count": null,
            "_view_module": "@jupyter-widgets/base",
            "_view_module_version": "1.2.0",
            "_view_name": "LayoutView",
            "align_content": null,
            "align_items": null,
            "align_self": null,
            "border": null,
            "bottom": null,
            "display": null,
            "flex": null,
            "flex_flow": null,
            "grid_area": null,
            "grid_auto_columns": null,
            "grid_auto_flow": null,
            "grid_auto_rows": null,
            "grid_column": null,
            "grid_gap": null,
            "grid_row": null,
            "grid_template_areas": null,
            "grid_template_columns": null,
            "grid_template_rows": null,
            "height": null,
            "justify_content": null,
            "justify_items": null,
            "left": null,
            "margin": null,
            "max_height": null,
            "max_width": null,
            "min_height": null,
            "min_width": null,
            "object_fit": null,
            "object_position": null,
            "order": null,
            "overflow": null,
            "overflow_x": null,
            "overflow_y": null,
            "padding": null,
            "right": null,
            "top": null,
            "visibility": null,
            "width": null
          }
        },
        "a9e5d3afad60423490092159a728d432": {
          "model_module": "@jupyter-widgets/controls",
          "model_module_version": "1.5.0",
          "model_name": "DescriptionStyleModel",
          "state": {
            "_model_module": "@jupyter-widgets/controls",
            "_model_module_version": "1.5.0",
            "_model_name": "DescriptionStyleModel",
            "_view_count": null,
            "_view_module": "@jupyter-widgets/base",
            "_view_module_version": "1.2.0",
            "_view_name": "StyleView",
            "description_width": ""
          }
        },
        "a9fbbc556eb6467ebb340b6bf905b4ad": {
          "model_module": "@jupyter-widgets/controls",
          "model_module_version": "1.5.0",
          "model_name": "DescriptionStyleModel",
          "state": {
            "_model_module": "@jupyter-widgets/controls",
            "_model_module_version": "1.5.0",
            "_model_name": "DescriptionStyleModel",
            "_view_count": null,
            "_view_module": "@jupyter-widgets/base",
            "_view_module_version": "1.2.0",
            "_view_name": "StyleView",
            "description_width": ""
          }
        },
        "aa093804cc924597895272790a9208e6": {
          "model_module": "@jupyter-widgets/base",
          "model_module_version": "1.2.0",
          "model_name": "LayoutModel",
          "state": {
            "_model_module": "@jupyter-widgets/base",
            "_model_module_version": "1.2.0",
            "_model_name": "LayoutModel",
            "_view_count": null,
            "_view_module": "@jupyter-widgets/base",
            "_view_module_version": "1.2.0",
            "_view_name": "LayoutView",
            "align_content": null,
            "align_items": null,
            "align_self": null,
            "border": null,
            "bottom": null,
            "display": null,
            "flex": null,
            "flex_flow": null,
            "grid_area": null,
            "grid_auto_columns": null,
            "grid_auto_flow": null,
            "grid_auto_rows": null,
            "grid_column": null,
            "grid_gap": null,
            "grid_row": null,
            "grid_template_areas": null,
            "grid_template_columns": null,
            "grid_template_rows": null,
            "height": null,
            "justify_content": null,
            "justify_items": null,
            "left": null,
            "margin": null,
            "max_height": null,
            "max_width": null,
            "min_height": null,
            "min_width": null,
            "object_fit": null,
            "object_position": null,
            "order": null,
            "overflow": null,
            "overflow_x": null,
            "overflow_y": null,
            "padding": null,
            "right": null,
            "top": null,
            "visibility": null,
            "width": null
          }
        },
        "aa9ba519348346b094f876df1af79bff": {
          "model_module": "@jupyter-widgets/base",
          "model_module_version": "1.2.0",
          "model_name": "LayoutModel",
          "state": {
            "_model_module": "@jupyter-widgets/base",
            "_model_module_version": "1.2.0",
            "_model_name": "LayoutModel",
            "_view_count": null,
            "_view_module": "@jupyter-widgets/base",
            "_view_module_version": "1.2.0",
            "_view_name": "LayoutView",
            "align_content": null,
            "align_items": null,
            "align_self": null,
            "border": null,
            "bottom": null,
            "display": null,
            "flex": null,
            "flex_flow": null,
            "grid_area": null,
            "grid_auto_columns": null,
            "grid_auto_flow": null,
            "grid_auto_rows": null,
            "grid_column": null,
            "grid_gap": null,
            "grid_row": null,
            "grid_template_areas": null,
            "grid_template_columns": null,
            "grid_template_rows": null,
            "height": null,
            "justify_content": null,
            "justify_items": null,
            "left": null,
            "margin": null,
            "max_height": null,
            "max_width": null,
            "min_height": null,
            "min_width": null,
            "object_fit": null,
            "object_position": null,
            "order": null,
            "overflow": null,
            "overflow_x": null,
            "overflow_y": null,
            "padding": null,
            "right": null,
            "top": null,
            "visibility": null,
            "width": null
          }
        },
        "aafc92bbdfc14c7c81d34944c118f46a": {
          "model_module": "@jupyter-widgets/base",
          "model_module_version": "1.2.0",
          "model_name": "LayoutModel",
          "state": {
            "_model_module": "@jupyter-widgets/base",
            "_model_module_version": "1.2.0",
            "_model_name": "LayoutModel",
            "_view_count": null,
            "_view_module": "@jupyter-widgets/base",
            "_view_module_version": "1.2.0",
            "_view_name": "LayoutView",
            "align_content": null,
            "align_items": null,
            "align_self": null,
            "border": null,
            "bottom": null,
            "display": null,
            "flex": null,
            "flex_flow": null,
            "grid_area": null,
            "grid_auto_columns": null,
            "grid_auto_flow": null,
            "grid_auto_rows": null,
            "grid_column": null,
            "grid_gap": null,
            "grid_row": null,
            "grid_template_areas": null,
            "grid_template_columns": null,
            "grid_template_rows": null,
            "height": null,
            "justify_content": null,
            "justify_items": null,
            "left": null,
            "margin": null,
            "max_height": null,
            "max_width": null,
            "min_height": null,
            "min_width": null,
            "object_fit": null,
            "object_position": null,
            "order": null,
            "overflow": null,
            "overflow_x": null,
            "overflow_y": null,
            "padding": null,
            "right": null,
            "top": null,
            "visibility": null,
            "width": null
          }
        },
        "ac0840b4d2934e09a94649403a8453f1": {
          "model_module": "@jupyter-widgets/base",
          "model_module_version": "1.2.0",
          "model_name": "LayoutModel",
          "state": {
            "_model_module": "@jupyter-widgets/base",
            "_model_module_version": "1.2.0",
            "_model_name": "LayoutModel",
            "_view_count": null,
            "_view_module": "@jupyter-widgets/base",
            "_view_module_version": "1.2.0",
            "_view_name": "LayoutView",
            "align_content": null,
            "align_items": null,
            "align_self": null,
            "border": null,
            "bottom": null,
            "display": null,
            "flex": null,
            "flex_flow": null,
            "grid_area": null,
            "grid_auto_columns": null,
            "grid_auto_flow": null,
            "grid_auto_rows": null,
            "grid_column": null,
            "grid_gap": null,
            "grid_row": null,
            "grid_template_areas": null,
            "grid_template_columns": null,
            "grid_template_rows": null,
            "height": null,
            "justify_content": null,
            "justify_items": null,
            "left": null,
            "margin": null,
            "max_height": null,
            "max_width": null,
            "min_height": null,
            "min_width": null,
            "object_fit": null,
            "object_position": null,
            "order": null,
            "overflow": null,
            "overflow_x": null,
            "overflow_y": null,
            "padding": null,
            "right": null,
            "top": null,
            "visibility": null,
            "width": null
          }
        },
        "af003d202d4b48fe9f3819c6e72c14f8": {
          "model_module": "@jupyter-widgets/controls",
          "model_module_version": "1.5.0",
          "model_name": "DescriptionStyleModel",
          "state": {
            "_model_module": "@jupyter-widgets/controls",
            "_model_module_version": "1.5.0",
            "_model_name": "DescriptionStyleModel",
            "_view_count": null,
            "_view_module": "@jupyter-widgets/base",
            "_view_module_version": "1.2.0",
            "_view_name": "StyleView",
            "description_width": ""
          }
        },
        "b037ecae767d4c6d8e9b36e5376ec5b4": {
          "model_module": "@jupyter-widgets/controls",
          "model_module_version": "1.5.0",
          "model_name": "HTMLModel",
          "state": {
            "_dom_classes": [],
            "_model_module": "@jupyter-widgets/controls",
            "_model_module_version": "1.5.0",
            "_model_name": "HTMLModel",
            "_view_count": null,
            "_view_module": "@jupyter-widgets/controls",
            "_view_module_version": "1.5.0",
            "_view_name": "HTMLView",
            "description": "",
            "description_tooltip": null,
            "layout": "IPY_MODEL_7c20b21dd7a6465a927c6f5d30a1cdf5",
            "placeholder": "​",
            "style": "IPY_MODEL_6c987af64e5d4c5c84cfd975ee7da07a",
            "value": " 25.0/25.0 [00:00&lt;00:00, 635B/s]"
          }
        },
        "b2c6adcfe0204d98acc63280e634bf65": {
          "model_module": "@jupyter-widgets/controls",
          "model_module_version": "1.5.0",
          "model_name": "HBoxModel",
          "state": {
            "_dom_classes": [],
            "_model_module": "@jupyter-widgets/controls",
            "_model_module_version": "1.5.0",
            "_model_name": "HBoxModel",
            "_view_count": null,
            "_view_module": "@jupyter-widgets/controls",
            "_view_module_version": "1.5.0",
            "_view_name": "HBoxView",
            "box_style": "",
            "children": [
              "IPY_MODEL_52cbd782d7e543f68d7984a5de341c11",
              "IPY_MODEL_b79ee7b2746b4321970ee039d81a4902",
              "IPY_MODEL_7e46059c7de646ea94095e24abc248c5"
            ],
            "layout": "IPY_MODEL_0d1cb787645a473683d129451e5a4446"
          }
        },
        "b3a949f956104879b17d283e8a1f6ef7": {
          "model_module": "@jupyter-widgets/controls",
          "model_module_version": "1.5.0",
          "model_name": "DescriptionStyleModel",
          "state": {
            "_model_module": "@jupyter-widgets/controls",
            "_model_module_version": "1.5.0",
            "_model_name": "DescriptionStyleModel",
            "_view_count": null,
            "_view_module": "@jupyter-widgets/base",
            "_view_module_version": "1.2.0",
            "_view_name": "StyleView",
            "description_width": ""
          }
        },
        "b516b3d650df4fb9b51143702202d8f5": {
          "model_module": "@jupyter-widgets/controls",
          "model_module_version": "1.5.0",
          "model_name": "DescriptionStyleModel",
          "state": {
            "_model_module": "@jupyter-widgets/controls",
            "_model_module_version": "1.5.0",
            "_model_name": "DescriptionStyleModel",
            "_view_count": null,
            "_view_module": "@jupyter-widgets/base",
            "_view_module_version": "1.2.0",
            "_view_name": "StyleView",
            "description_width": ""
          }
        },
        "b5422037207d40059fceb52117538171": {
          "model_module": "@jupyter-widgets/controls",
          "model_module_version": "1.5.0",
          "model_name": "ProgressStyleModel",
          "state": {
            "_model_module": "@jupyter-widgets/controls",
            "_model_module_version": "1.5.0",
            "_model_name": "ProgressStyleModel",
            "_view_count": null,
            "_view_module": "@jupyter-widgets/base",
            "_view_module_version": "1.2.0",
            "_view_name": "StyleView",
            "bar_color": null,
            "description_width": ""
          }
        },
        "b632e9fb8cd8429c97ddace5d778cd41": {
          "model_module": "@jupyter-widgets/controls",
          "model_module_version": "1.5.0",
          "model_name": "HBoxModel",
          "state": {
            "_dom_classes": [],
            "_model_module": "@jupyter-widgets/controls",
            "_model_module_version": "1.5.0",
            "_model_name": "HBoxModel",
            "_view_count": null,
            "_view_module": "@jupyter-widgets/controls",
            "_view_module_version": "1.5.0",
            "_view_name": "HBoxView",
            "box_style": "",
            "children": [
              "IPY_MODEL_5922c0ed35584b848e52a46e65b8112b",
              "IPY_MODEL_01a1e55046eb4f96aff4c86611ff9363",
              "IPY_MODEL_096683c110014bbaad2905f554df99d4"
            ],
            "layout": "IPY_MODEL_93ed3ae4712b4c33a28f80d9c9bafd35"
          }
        },
        "b79ee7b2746b4321970ee039d81a4902": {
          "model_module": "@jupyter-widgets/controls",
          "model_module_version": "1.5.0",
          "model_name": "FloatProgressModel",
          "state": {
            "_dom_classes": [],
            "_model_module": "@jupyter-widgets/controls",
            "_model_module_version": "1.5.0",
            "_model_name": "FloatProgressModel",
            "_view_count": null,
            "_view_module": "@jupyter-widgets/controls",
            "_view_module_version": "1.5.0",
            "_view_name": "ProgressView",
            "bar_style": "success",
            "description": "",
            "description_tooltip": null,
            "layout": "IPY_MODEL_ac0840b4d2934e09a94649403a8453f1",
            "max": 501009162,
            "min": 0,
            "orientation": "horizontal",
            "style": "IPY_MODEL_1f07cddbb5fe4fe3a61b2123144423bd",
            "value": 501009162
          }
        },
        "b7d4102bad3442b4aef8fd1d7cfd3e58": {
          "model_module": "@jupyter-widgets/controls",
          "model_module_version": "1.5.0",
          "model_name": "HTMLModel",
          "state": {
            "_dom_classes": [],
            "_model_module": "@jupyter-widgets/controls",
            "_model_module_version": "1.5.0",
            "_model_name": "HTMLModel",
            "_view_count": null,
            "_view_module": "@jupyter-widgets/controls",
            "_view_module_version": "1.5.0",
            "_view_name": "HTMLView",
            "description": "",
            "description_tooltip": null,
            "layout": "IPY_MODEL_6a482eef94844abbb31e246459600eb1",
            "placeholder": "​",
            "style": "IPY_MODEL_14388a09e5ca4c42ac0933e08c3d93ca",
            "value": " 2/2 [00:00&lt;00:00, 59.59it/s]"
          }
        },
        "badd635d84504735b835a2bc00ba575a": {
          "model_module": "@jupyter-widgets/base",
          "model_module_version": "1.2.0",
          "model_name": "LayoutModel",
          "state": {
            "_model_module": "@jupyter-widgets/base",
            "_model_module_version": "1.2.0",
            "_model_name": "LayoutModel",
            "_view_count": null,
            "_view_module": "@jupyter-widgets/base",
            "_view_module_version": "1.2.0",
            "_view_name": "LayoutView",
            "align_content": null,
            "align_items": null,
            "align_self": null,
            "border": null,
            "bottom": null,
            "display": null,
            "flex": null,
            "flex_flow": null,
            "grid_area": null,
            "grid_auto_columns": null,
            "grid_auto_flow": null,
            "grid_auto_rows": null,
            "grid_column": null,
            "grid_gap": null,
            "grid_row": null,
            "grid_template_areas": null,
            "grid_template_columns": null,
            "grid_template_rows": null,
            "height": null,
            "justify_content": null,
            "justify_items": null,
            "left": null,
            "margin": null,
            "max_height": null,
            "max_width": null,
            "min_height": null,
            "min_width": null,
            "object_fit": null,
            "object_position": null,
            "order": null,
            "overflow": null,
            "overflow_x": null,
            "overflow_y": null,
            "padding": null,
            "right": null,
            "top": null,
            "visibility": null,
            "width": null
          }
        },
        "bb1b03a3d36043e78fde10127d0fcca2": {
          "model_module": "@jupyter-widgets/controls",
          "model_module_version": "1.5.0",
          "model_name": "HTMLModel",
          "state": {
            "_dom_classes": [],
            "_model_module": "@jupyter-widgets/controls",
            "_model_module_version": "1.5.0",
            "_model_name": "HTMLModel",
            "_view_count": null,
            "_view_module": "@jupyter-widgets/controls",
            "_view_module_version": "1.5.0",
            "_view_name": "HTMLView",
            "description": "",
            "description_tooltip": null,
            "layout": "IPY_MODEL_633d8c4a780f4df893ea6d8da87537c0",
            "placeholder": "​",
            "style": "IPY_MODEL_59103499f6894f938756d32d679b17c2",
            "value": " 239/239 [00:00&lt;00:00, 13.5kB/s]"
          }
        },
        "bb6795b8cbfb4445bb81c163c5c70235": {
          "model_module": "@jupyter-widgets/base",
          "model_module_version": "1.2.0",
          "model_name": "LayoutModel",
          "state": {
            "_model_module": "@jupyter-widgets/base",
            "_model_module_version": "1.2.0",
            "_model_name": "LayoutModel",
            "_view_count": null,
            "_view_module": "@jupyter-widgets/base",
            "_view_module_version": "1.2.0",
            "_view_name": "LayoutView",
            "align_content": null,
            "align_items": null,
            "align_self": null,
            "border": null,
            "bottom": null,
            "display": null,
            "flex": null,
            "flex_flow": null,
            "grid_area": null,
            "grid_auto_columns": null,
            "grid_auto_flow": null,
            "grid_auto_rows": null,
            "grid_column": null,
            "grid_gap": null,
            "grid_row": null,
            "grid_template_areas": null,
            "grid_template_columns": null,
            "grid_template_rows": null,
            "height": null,
            "justify_content": null,
            "justify_items": null,
            "left": null,
            "margin": null,
            "max_height": null,
            "max_width": null,
            "min_height": null,
            "min_width": null,
            "object_fit": null,
            "object_position": null,
            "order": null,
            "overflow": null,
            "overflow_x": null,
            "overflow_y": null,
            "padding": null,
            "right": null,
            "top": null,
            "visibility": null,
            "width": null
          }
        },
        "bbe63125c8324e2890af28ed1ff5926c": {
          "model_module": "@jupyter-widgets/base",
          "model_module_version": "1.2.0",
          "model_name": "LayoutModel",
          "state": {
            "_model_module": "@jupyter-widgets/base",
            "_model_module_version": "1.2.0",
            "_model_name": "LayoutModel",
            "_view_count": null,
            "_view_module": "@jupyter-widgets/base",
            "_view_module_version": "1.2.0",
            "_view_name": "LayoutView",
            "align_content": null,
            "align_items": null,
            "align_self": null,
            "border": null,
            "bottom": null,
            "display": null,
            "flex": null,
            "flex_flow": null,
            "grid_area": null,
            "grid_auto_columns": null,
            "grid_auto_flow": null,
            "grid_auto_rows": null,
            "grid_column": null,
            "grid_gap": null,
            "grid_row": null,
            "grid_template_areas": null,
            "grid_template_columns": null,
            "grid_template_rows": null,
            "height": null,
            "justify_content": null,
            "justify_items": null,
            "left": null,
            "margin": null,
            "max_height": null,
            "max_width": null,
            "min_height": null,
            "min_width": null,
            "object_fit": null,
            "object_position": null,
            "order": null,
            "overflow": null,
            "overflow_x": null,
            "overflow_y": null,
            "padding": null,
            "right": null,
            "top": null,
            "visibility": null,
            "width": null
          }
        },
        "c0ec34fc3fb644b2b343248f7973d430": {
          "model_module": "@jupyter-widgets/controls",
          "model_module_version": "1.5.0",
          "model_name": "DescriptionStyleModel",
          "state": {
            "_model_module": "@jupyter-widgets/controls",
            "_model_module_version": "1.5.0",
            "_model_name": "DescriptionStyleModel",
            "_view_count": null,
            "_view_module": "@jupyter-widgets/base",
            "_view_module_version": "1.2.0",
            "_view_name": "StyleView",
            "description_width": ""
          }
        },
        "c31da4be91f944d1a73769f2501b59f7": {
          "model_module": "@jupyter-widgets/controls",
          "model_module_version": "1.5.0",
          "model_name": "HTMLModel",
          "state": {
            "_dom_classes": [],
            "_model_module": "@jupyter-widgets/controls",
            "_model_module_version": "1.5.0",
            "_model_name": "HTMLModel",
            "_view_count": null,
            "_view_module": "@jupyter-widgets/controls",
            "_view_module_version": "1.5.0",
            "_view_name": "HTMLView",
            "description": "",
            "description_tooltip": null,
            "layout": "IPY_MODEL_11adab514e304ec2baf453184216d3ea",
            "placeholder": "​",
            "style": "IPY_MODEL_af003d202d4b48fe9f3819c6e72c14f8",
            "value": " 239/239 [00:00&lt;00:00, 6.05kB/s]"
          }
        },
        "c553b8b893504c53b0ce3a76c787378e": {
          "model_module": "@jupyter-widgets/controls",
          "model_module_version": "1.5.0",
          "model_name": "DescriptionStyleModel",
          "state": {
            "_model_module": "@jupyter-widgets/controls",
            "_model_module_version": "1.5.0",
            "_model_name": "DescriptionStyleModel",
            "_view_count": null,
            "_view_module": "@jupyter-widgets/base",
            "_view_module_version": "1.2.0",
            "_view_name": "StyleView",
            "description_width": ""
          }
        },
        "c5757d9adc55457090bf2fb827101387": {
          "model_module": "@jupyter-widgets/base",
          "model_module_version": "1.2.0",
          "model_name": "LayoutModel",
          "state": {
            "_model_module": "@jupyter-widgets/base",
            "_model_module_version": "1.2.0",
            "_model_name": "LayoutModel",
            "_view_count": null,
            "_view_module": "@jupyter-widgets/base",
            "_view_module_version": "1.2.0",
            "_view_name": "LayoutView",
            "align_content": null,
            "align_items": null,
            "align_self": null,
            "border": null,
            "bottom": null,
            "display": null,
            "flex": null,
            "flex_flow": null,
            "grid_area": null,
            "grid_auto_columns": null,
            "grid_auto_flow": null,
            "grid_auto_rows": null,
            "grid_column": null,
            "grid_gap": null,
            "grid_row": null,
            "grid_template_areas": null,
            "grid_template_columns": null,
            "grid_template_rows": null,
            "height": null,
            "justify_content": null,
            "justify_items": null,
            "left": null,
            "margin": null,
            "max_height": null,
            "max_width": null,
            "min_height": null,
            "min_width": null,
            "object_fit": null,
            "object_position": null,
            "order": null,
            "overflow": null,
            "overflow_x": null,
            "overflow_y": null,
            "padding": null,
            "right": null,
            "top": null,
            "visibility": null,
            "width": null
          }
        },
        "c83dea5105b3415a9e7b0ecec1e5cecc": {
          "model_module": "@jupyter-widgets/controls",
          "model_module_version": "1.5.0",
          "model_name": "FloatProgressModel",
          "state": {
            "_dom_classes": [],
            "_model_module": "@jupyter-widgets/controls",
            "_model_module_version": "1.5.0",
            "_model_name": "FloatProgressModel",
            "_view_count": null,
            "_view_module": "@jupyter-widgets/controls",
            "_view_module_version": "1.5.0",
            "_view_name": "ProgressView",
            "bar_style": "success",
            "description": "",
            "description_tooltip": null,
            "layout": "IPY_MODEL_63a69b0c5e3146759d98b40693c0ea5d",
            "max": 501009162,
            "min": 0,
            "orientation": "horizontal",
            "style": "IPY_MODEL_4e7f5b7426734109b5e95fbc6e147958",
            "value": 501009162
          }
        },
        "ca4fee0be4f24faaa506a4399e8512ab": {
          "model_module": "@jupyter-widgets/controls",
          "model_module_version": "1.5.0",
          "model_name": "HBoxModel",
          "state": {
            "_dom_classes": [],
            "_model_module": "@jupyter-widgets/controls",
            "_model_module_version": "1.5.0",
            "_model_name": "HBoxModel",
            "_view_count": null,
            "_view_module": "@jupyter-widgets/controls",
            "_view_module_version": "1.5.0",
            "_view_name": "HBoxView",
            "box_style": "",
            "children": [
              "IPY_MODEL_90ee491e574d4757bc1d07213339ab5b",
              "IPY_MODEL_16cfb6b9267d46238e7bde0b14a17eb3",
              "IPY_MODEL_5c04322d8d0b476298a4bb35d73a6a72"
            ],
            "layout": "IPY_MODEL_aa9ba519348346b094f876df1af79bff"
          }
        },
        "ca8830131360459c8b568cfcd53cf5e9": {
          "model_module": "@jupyter-widgets/controls",
          "model_module_version": "1.5.0",
          "model_name": "DescriptionStyleModel",
          "state": {
            "_model_module": "@jupyter-widgets/controls",
            "_model_module_version": "1.5.0",
            "_model_name": "DescriptionStyleModel",
            "_view_count": null,
            "_view_module": "@jupyter-widgets/base",
            "_view_module_version": "1.2.0",
            "_view_name": "StyleView",
            "description_width": ""
          }
        },
        "cb7f3c4bdc274487aac8c661438eccec": {
          "model_module": "@jupyter-widgets/controls",
          "model_module_version": "1.5.0",
          "model_name": "DescriptionStyleModel",
          "state": {
            "_model_module": "@jupyter-widgets/controls",
            "_model_module_version": "1.5.0",
            "_model_name": "DescriptionStyleModel",
            "_view_count": null,
            "_view_module": "@jupyter-widgets/base",
            "_view_module_version": "1.2.0",
            "_view_name": "StyleView",
            "description_width": ""
          }
        },
        "ccc96dda6bb349b79dd4c5f58f839115": {
          "model_module": "@jupyter-widgets/controls",
          "model_module_version": "1.5.0",
          "model_name": "ProgressStyleModel",
          "state": {
            "_model_module": "@jupyter-widgets/controls",
            "_model_module_version": "1.5.0",
            "_model_name": "ProgressStyleModel",
            "_view_count": null,
            "_view_module": "@jupyter-widgets/base",
            "_view_module_version": "1.2.0",
            "_view_name": "StyleView",
            "bar_color": null,
            "description_width": ""
          }
        },
        "cd838b5c9fd34fc481985d603cca12e4": {
          "model_module": "@jupyter-widgets/base",
          "model_module_version": "1.2.0",
          "model_name": "LayoutModel",
          "state": {
            "_model_module": "@jupyter-widgets/base",
            "_model_module_version": "1.2.0",
            "_model_name": "LayoutModel",
            "_view_count": null,
            "_view_module": "@jupyter-widgets/base",
            "_view_module_version": "1.2.0",
            "_view_name": "LayoutView",
            "align_content": null,
            "align_items": null,
            "align_self": null,
            "border": null,
            "bottom": null,
            "display": null,
            "flex": null,
            "flex_flow": null,
            "grid_area": null,
            "grid_auto_columns": null,
            "grid_auto_flow": null,
            "grid_auto_rows": null,
            "grid_column": null,
            "grid_gap": null,
            "grid_row": null,
            "grid_template_areas": null,
            "grid_template_columns": null,
            "grid_template_rows": null,
            "height": null,
            "justify_content": null,
            "justify_items": null,
            "left": null,
            "margin": null,
            "max_height": null,
            "max_width": null,
            "min_height": null,
            "min_width": null,
            "object_fit": null,
            "object_position": null,
            "order": null,
            "overflow": null,
            "overflow_x": null,
            "overflow_y": null,
            "padding": null,
            "right": null,
            "top": null,
            "visibility": null,
            "width": null
          }
        },
        "ce3e72ec3bc34d54a9c50d6661a2405c": {
          "model_module": "@jupyter-widgets/controls",
          "model_module_version": "1.5.0",
          "model_name": "HTMLModel",
          "state": {
            "_dom_classes": [],
            "_model_module": "@jupyter-widgets/controls",
            "_model_module_version": "1.5.0",
            "_model_name": "HTMLModel",
            "_view_count": null,
            "_view_module": "@jupyter-widgets/controls",
            "_view_module_version": "1.5.0",
            "_view_name": "HTMLView",
            "description": "",
            "description_tooltip": null,
            "layout": "IPY_MODEL_93902de0ebe1482c98f4dcbbbdb71972",
            "placeholder": "​",
            "style": "IPY_MODEL_ff661a0fc054417ea5626f3efff3cbb4",
            "value": " 2/2 [00:00&lt;00:00, 80.58it/s]"
          }
        },
        "d183af6e3bca4765a16ad705d577c82d": {
          "model_module": "@jupyter-widgets/controls",
          "model_module_version": "1.5.0",
          "model_name": "HTMLModel",
          "state": {
            "_dom_classes": [],
            "_model_module": "@jupyter-widgets/controls",
            "_model_module_version": "1.5.0",
            "_model_name": "HTMLModel",
            "_view_count": null,
            "_view_module": "@jupyter-widgets/controls",
            "_view_module_version": "1.5.0",
            "_view_name": "HTMLView",
            "description": "",
            "description_tooltip": null,
            "layout": "IPY_MODEL_a64e710a411e4565acdf0edffb2c2717",
            "placeholder": "​",
            "style": "IPY_MODEL_9f1630f83b3e40929f8002516c27cfa7",
            "value": " 2/2 [00:00&lt;00:00, 21.54it/s]"
          }
        },
        "d5ecfac11df240ec841cbb05b06c8de6": {
          "model_module": "@jupyter-widgets/controls",
          "model_module_version": "1.5.0",
          "model_name": "FloatProgressModel",
          "state": {
            "_dom_classes": [],
            "_model_module": "@jupyter-widgets/controls",
            "_model_module_version": "1.5.0",
            "_model_name": "FloatProgressModel",
            "_view_count": null,
            "_view_module": "@jupyter-widgets/controls",
            "_view_module_version": "1.5.0",
            "_view_name": "ProgressView",
            "bar_style": "success",
            "description": "",
            "description_tooltip": null,
            "layout": "IPY_MODEL_a659dbc0e454445888a24c074b7c473b",
            "max": 2,
            "min": 0,
            "orientation": "horizontal",
            "style": "IPY_MODEL_04290986565b4f26968380e7c6feb563",
            "value": 2
          }
        },
        "d8e548e63df04d56abfaaee84be89a87": {
          "model_module": "@jupyter-widgets/controls",
          "model_module_version": "1.5.0",
          "model_name": "HTMLModel",
          "state": {
            "_dom_classes": [],
            "_model_module": "@jupyter-widgets/controls",
            "_model_module_version": "1.5.0",
            "_model_name": "HTMLModel",
            "_view_count": null,
            "_view_module": "@jupyter-widgets/controls",
            "_view_module_version": "1.5.0",
            "_view_name": "HTMLView",
            "description": "",
            "description_tooltip": null,
            "layout": "IPY_MODEL_3661c76727c54fb08caf33fb3bfd0a25",
            "placeholder": "​",
            "style": "IPY_MODEL_cb7f3c4bdc274487aac8c661438eccec",
            "value": "Downloading (…)cial_tokens_map.json: 100%"
          }
        },
        "de175045fccc4fb19d38d2224560f8d3": {
          "model_module": "@jupyter-widgets/controls",
          "model_module_version": "1.5.0",
          "model_name": "DescriptionStyleModel",
          "state": {
            "_model_module": "@jupyter-widgets/controls",
            "_model_module_version": "1.5.0",
            "_model_name": "DescriptionStyleModel",
            "_view_count": null,
            "_view_module": "@jupyter-widgets/base",
            "_view_module_version": "1.2.0",
            "_view_name": "StyleView",
            "description_width": ""
          }
        },
        "e0e4a7aad2a14d49840c0970c2e623bd": {
          "model_module": "@jupyter-widgets/controls",
          "model_module_version": "1.5.0",
          "model_name": "DescriptionStyleModel",
          "state": {
            "_model_module": "@jupyter-widgets/controls",
            "_model_module_version": "1.5.0",
            "_model_name": "DescriptionStyleModel",
            "_view_count": null,
            "_view_module": "@jupyter-widgets/base",
            "_view_module_version": "1.2.0",
            "_view_name": "StyleView",
            "description_width": ""
          }
        },
        "e50013e43b5f4cca9f2ffd8adfe0bbec": {
          "model_module": "@jupyter-widgets/base",
          "model_module_version": "1.2.0",
          "model_name": "LayoutModel",
          "state": {
            "_model_module": "@jupyter-widgets/base",
            "_model_module_version": "1.2.0",
            "_model_name": "LayoutModel",
            "_view_count": null,
            "_view_module": "@jupyter-widgets/base",
            "_view_module_version": "1.2.0",
            "_view_name": "LayoutView",
            "align_content": null,
            "align_items": null,
            "align_self": null,
            "border": null,
            "bottom": null,
            "display": null,
            "flex": null,
            "flex_flow": null,
            "grid_area": null,
            "grid_auto_columns": null,
            "grid_auto_flow": null,
            "grid_auto_rows": null,
            "grid_column": null,
            "grid_gap": null,
            "grid_row": null,
            "grid_template_areas": null,
            "grid_template_columns": null,
            "grid_template_rows": null,
            "height": null,
            "justify_content": null,
            "justify_items": null,
            "left": null,
            "margin": null,
            "max_height": null,
            "max_width": null,
            "min_height": null,
            "min_width": null,
            "object_fit": null,
            "object_position": null,
            "order": null,
            "overflow": null,
            "overflow_x": null,
            "overflow_y": null,
            "padding": null,
            "right": null,
            "top": null,
            "visibility": null,
            "width": null
          }
        },
        "e517e1917e0e4cb29adaff6f27e3ff9e": {
          "model_module": "@jupyter-widgets/controls",
          "model_module_version": "1.5.0",
          "model_name": "DescriptionStyleModel",
          "state": {
            "_model_module": "@jupyter-widgets/controls",
            "_model_module_version": "1.5.0",
            "_model_name": "DescriptionStyleModel",
            "_view_count": null,
            "_view_module": "@jupyter-widgets/base",
            "_view_module_version": "1.2.0",
            "_view_name": "StyleView",
            "description_width": ""
          }
        },
        "e55b438addd0409c8ffd75824884fea0": {
          "model_module": "@jupyter-widgets/base",
          "model_module_version": "1.2.0",
          "model_name": "LayoutModel",
          "state": {
            "_model_module": "@jupyter-widgets/base",
            "_model_module_version": "1.2.0",
            "_model_name": "LayoutModel",
            "_view_count": null,
            "_view_module": "@jupyter-widgets/base",
            "_view_module_version": "1.2.0",
            "_view_name": "LayoutView",
            "align_content": null,
            "align_items": null,
            "align_self": null,
            "border": null,
            "bottom": null,
            "display": null,
            "flex": null,
            "flex_flow": null,
            "grid_area": null,
            "grid_auto_columns": null,
            "grid_auto_flow": null,
            "grid_auto_rows": null,
            "grid_column": null,
            "grid_gap": null,
            "grid_row": null,
            "grid_template_areas": null,
            "grid_template_columns": null,
            "grid_template_rows": null,
            "height": null,
            "justify_content": null,
            "justify_items": null,
            "left": null,
            "margin": null,
            "max_height": null,
            "max_width": null,
            "min_height": null,
            "min_width": null,
            "object_fit": null,
            "object_position": null,
            "order": null,
            "overflow": null,
            "overflow_x": null,
            "overflow_y": null,
            "padding": null,
            "right": null,
            "top": null,
            "visibility": null,
            "width": null
          }
        },
        "e6670ff69f0f47eea8962170aa07380f": {
          "model_module": "@jupyter-widgets/controls",
          "model_module_version": "1.5.0",
          "model_name": "HTMLModel",
          "state": {
            "_dom_classes": [],
            "_model_module": "@jupyter-widgets/controls",
            "_model_module_version": "1.5.0",
            "_model_name": "HTMLModel",
            "_view_count": null,
            "_view_module": "@jupyter-widgets/controls",
            "_view_module_version": "1.5.0",
            "_view_name": "HTMLView",
            "description": "",
            "description_tooltip": null,
            "layout": "IPY_MODEL_08513640aceb40fea8519cdd657d2bfd",
            "placeholder": "​",
            "style": "IPY_MODEL_04ee1e81c42e42ae958f2bdd50f18884",
            "value": "100%"
          }
        },
        "e7357310763e4456b24a95aec99327b9": {
          "model_module": "@jupyter-widgets/controls",
          "model_module_version": "1.5.0",
          "model_name": "FloatProgressModel",
          "state": {
            "_dom_classes": [],
            "_model_module": "@jupyter-widgets/controls",
            "_model_module_version": "1.5.0",
            "_model_name": "FloatProgressModel",
            "_view_count": null,
            "_view_module": "@jupyter-widgets/controls",
            "_view_module_version": "1.5.0",
            "_view_name": "ProgressView",
            "bar_style": "success",
            "description": "",
            "description_tooltip": null,
            "layout": "IPY_MODEL_30fee92ed4d545068196227f78fb7c86",
            "max": 798293,
            "min": 0,
            "orientation": "horizontal",
            "style": "IPY_MODEL_001e1320344a4c9e83dbae905f7acf74",
            "value": 798293
          }
        },
        "e7a53e92589a48b981a6e27576d5a5d0": {
          "model_module": "@jupyter-widgets/controls",
          "model_module_version": "1.5.0",
          "model_name": "HTMLModel",
          "state": {
            "_dom_classes": [],
            "_model_module": "@jupyter-widgets/controls",
            "_model_module_version": "1.5.0",
            "_model_name": "HTMLModel",
            "_view_count": null,
            "_view_module": "@jupyter-widgets/controls",
            "_view_module_version": "1.5.0",
            "_view_name": "HTMLView",
            "description": "",
            "description_tooltip": null,
            "layout": "IPY_MODEL_bb6795b8cbfb4445bb81c163c5c70235",
            "placeholder": "​",
            "style": "IPY_MODEL_51f951c8c5ab4984b6ae5ef5bd475ed6",
            "value": "100%"
          }
        },
        "eaaf9465877e4b9fb0d3dcf65a980ed7": {
          "model_module": "@jupyter-widgets/controls",
          "model_module_version": "1.5.0",
          "model_name": "FloatProgressModel",
          "state": {
            "_dom_classes": [],
            "_model_module": "@jupyter-widgets/controls",
            "_model_module_version": "1.5.0",
            "_model_name": "FloatProgressModel",
            "_view_count": null,
            "_view_module": "@jupyter-widgets/controls",
            "_view_module_version": "1.5.0",
            "_view_name": "ProgressView",
            "bar_style": "success",
            "description": "",
            "description_tooltip": null,
            "layout": "IPY_MODEL_4eeef9b1c58746b7a4b15d13545351f1",
            "max": 456356,
            "min": 0,
            "orientation": "horizontal",
            "style": "IPY_MODEL_b5422037207d40059fceb52117538171",
            "value": 456356
          }
        },
        "eba8bd4f43e54af9a98d5b586cc7d6f1": {
          "model_module": "@jupyter-widgets/controls",
          "model_module_version": "1.5.0",
          "model_name": "ProgressStyleModel",
          "state": {
            "_model_module": "@jupyter-widgets/controls",
            "_model_module_version": "1.5.0",
            "_model_name": "ProgressStyleModel",
            "_view_count": null,
            "_view_module": "@jupyter-widgets/base",
            "_view_module_version": "1.2.0",
            "_view_name": "StyleView",
            "bar_color": null,
            "description_width": ""
          }
        },
        "ec6af857f4bf4c598562bbe1d49b15a0": {
          "model_module": "@jupyter-widgets/base",
          "model_module_version": "1.2.0",
          "model_name": "LayoutModel",
          "state": {
            "_model_module": "@jupyter-widgets/base",
            "_model_module_version": "1.2.0",
            "_model_name": "LayoutModel",
            "_view_count": null,
            "_view_module": "@jupyter-widgets/base",
            "_view_module_version": "1.2.0",
            "_view_name": "LayoutView",
            "align_content": null,
            "align_items": null,
            "align_self": null,
            "border": null,
            "bottom": null,
            "display": null,
            "flex": null,
            "flex_flow": null,
            "grid_area": null,
            "grid_auto_columns": null,
            "grid_auto_flow": null,
            "grid_auto_rows": null,
            "grid_column": null,
            "grid_gap": null,
            "grid_row": null,
            "grid_template_areas": null,
            "grid_template_columns": null,
            "grid_template_rows": null,
            "height": null,
            "justify_content": null,
            "justify_items": null,
            "left": null,
            "margin": null,
            "max_height": null,
            "max_width": null,
            "min_height": null,
            "min_width": null,
            "object_fit": null,
            "object_position": null,
            "order": null,
            "overflow": null,
            "overflow_x": null,
            "overflow_y": null,
            "padding": null,
            "right": null,
            "top": null,
            "visibility": null,
            "width": null
          }
        },
        "ecbde4600eed41ff8a7699d0b008cbc0": {
          "model_module": "@jupyter-widgets/base",
          "model_module_version": "1.2.0",
          "model_name": "LayoutModel",
          "state": {
            "_model_module": "@jupyter-widgets/base",
            "_model_module_version": "1.2.0",
            "_model_name": "LayoutModel",
            "_view_count": null,
            "_view_module": "@jupyter-widgets/base",
            "_view_module_version": "1.2.0",
            "_view_name": "LayoutView",
            "align_content": null,
            "align_items": null,
            "align_self": null,
            "border": null,
            "bottom": null,
            "display": null,
            "flex": null,
            "flex_flow": null,
            "grid_area": null,
            "grid_auto_columns": null,
            "grid_auto_flow": null,
            "grid_auto_rows": null,
            "grid_column": null,
            "grid_gap": null,
            "grid_row": null,
            "grid_template_areas": null,
            "grid_template_columns": null,
            "grid_template_rows": null,
            "height": null,
            "justify_content": null,
            "justify_items": null,
            "left": null,
            "margin": null,
            "max_height": null,
            "max_width": null,
            "min_height": null,
            "min_width": null,
            "object_fit": null,
            "object_position": null,
            "order": null,
            "overflow": null,
            "overflow_x": null,
            "overflow_y": null,
            "padding": null,
            "right": null,
            "top": null,
            "visibility": null,
            "width": null
          }
        },
        "f30f2cb4c2674bdb86c534a75fe12a57": {
          "model_module": "@jupyter-widgets/base",
          "model_module_version": "1.2.0",
          "model_name": "LayoutModel",
          "state": {
            "_model_module": "@jupyter-widgets/base",
            "_model_module_version": "1.2.0",
            "_model_name": "LayoutModel",
            "_view_count": null,
            "_view_module": "@jupyter-widgets/base",
            "_view_module_version": "1.2.0",
            "_view_name": "LayoutView",
            "align_content": null,
            "align_items": null,
            "align_self": null,
            "border": null,
            "bottom": null,
            "display": null,
            "flex": null,
            "flex_flow": null,
            "grid_area": null,
            "grid_auto_columns": null,
            "grid_auto_flow": null,
            "grid_auto_rows": null,
            "grid_column": null,
            "grid_gap": null,
            "grid_row": null,
            "grid_template_areas": null,
            "grid_template_columns": null,
            "grid_template_rows": null,
            "height": null,
            "justify_content": null,
            "justify_items": null,
            "left": null,
            "margin": null,
            "max_height": null,
            "max_width": null,
            "min_height": null,
            "min_width": null,
            "object_fit": null,
            "object_position": null,
            "order": null,
            "overflow": null,
            "overflow_x": null,
            "overflow_y": null,
            "padding": null,
            "right": null,
            "top": null,
            "visibility": null,
            "width": null
          }
        },
        "f528fdcc0e9e403d9f0dd47ebd1bb7e2": {
          "model_module": "@jupyter-widgets/controls",
          "model_module_version": "1.5.0",
          "model_name": "HTMLModel",
          "state": {
            "_dom_classes": [],
            "_model_module": "@jupyter-widgets/controls",
            "_model_module_version": "1.5.0",
            "_model_name": "HTMLModel",
            "_view_count": null,
            "_view_module": "@jupyter-widgets/controls",
            "_view_module_version": "1.5.0",
            "_view_name": "HTMLView",
            "description": "",
            "description_tooltip": null,
            "layout": "IPY_MODEL_6acccd61398c4abe8314e1a8217771b1",
            "placeholder": "​",
            "style": "IPY_MODEL_998c12b7f49a45d29177c004d4ce235d",
            "value": " 798k/798k [00:01&lt;00:00, 719kB/s]"
          }
        },
        "f6778ffb41c344e0bb281ed8e8956264": {
          "model_module": "@jupyter-widgets/controls",
          "model_module_version": "1.5.0",
          "model_name": "ProgressStyleModel",
          "state": {
            "_model_module": "@jupyter-widgets/controls",
            "_model_module_version": "1.5.0",
            "_model_name": "ProgressStyleModel",
            "_view_count": null,
            "_view_module": "@jupyter-widgets/base",
            "_view_module_version": "1.2.0",
            "_view_name": "StyleView",
            "bar_color": null,
            "description_width": ""
          }
        },
        "f87490a4d42e4254b3bfdec0cdb6c068": {
          "model_module": "@jupyter-widgets/controls",
          "model_module_version": "1.5.0",
          "model_name": "FloatProgressModel",
          "state": {
            "_dom_classes": [],
            "_model_module": "@jupyter-widgets/controls",
            "_model_module_version": "1.5.0",
            "_model_name": "FloatProgressModel",
            "_view_count": null,
            "_view_module": "@jupyter-widgets/controls",
            "_view_module_version": "1.5.0",
            "_view_name": "ProgressView",
            "bar_style": "success",
            "description": "",
            "description_tooltip": null,
            "layout": "IPY_MODEL_f30f2cb4c2674bdb86c534a75fe12a57",
            "max": 798293,
            "min": 0,
            "orientation": "horizontal",
            "style": "IPY_MODEL_98683ae7e96c4b11ba54241696f9c3c3",
            "value": 798293
          }
        },
        "f89b2ff8747140a8905a8d4eb8c624f9": {
          "model_module": "@jupyter-widgets/controls",
          "model_module_version": "1.5.0",
          "model_name": "FloatProgressModel",
          "state": {
            "_dom_classes": [],
            "_model_module": "@jupyter-widgets/controls",
            "_model_module_version": "1.5.0",
            "_model_name": "FloatProgressModel",
            "_view_count": null,
            "_view_module": "@jupyter-widgets/controls",
            "_view_module_version": "1.5.0",
            "_view_name": "ProgressView",
            "bar_style": "success",
            "description": "",
            "description_tooltip": null,
            "layout": "IPY_MODEL_2be8d513c1da468084fc4718b37fdade",
            "max": 25,
            "min": 0,
            "orientation": "horizontal",
            "style": "IPY_MODEL_a52aca5eda24484f98f5360324690df2",
            "value": 25
          }
        },
        "f8a7d608ce134e30a2c00c8fe73a2941": {
          "model_module": "@jupyter-widgets/controls",
          "model_module_version": "1.5.0",
          "model_name": "HTMLModel",
          "state": {
            "_dom_classes": [],
            "_model_module": "@jupyter-widgets/controls",
            "_model_module_version": "1.5.0",
            "_model_name": "HTMLModel",
            "_view_count": null,
            "_view_module": "@jupyter-widgets/controls",
            "_view_module_version": "1.5.0",
            "_view_name": "HTMLView",
            "description": "",
            "description_tooltip": null,
            "layout": "IPY_MODEL_616459ad367e401aaf70637a847047d6",
            "placeholder": "​",
            "style": "IPY_MODEL_e517e1917e0e4cb29adaff6f27e3ff9e",
            "value": " 456k/456k [00:00&lt;00:00, 495kB/s]"
          }
        },
        "f8a9dae58aa446bdbce7b2605cc45fab": {
          "model_module": "@jupyter-widgets/controls",
          "model_module_version": "1.5.0",
          "model_name": "DescriptionStyleModel",
          "state": {
            "_model_module": "@jupyter-widgets/controls",
            "_model_module_version": "1.5.0",
            "_model_name": "DescriptionStyleModel",
            "_view_count": null,
            "_view_module": "@jupyter-widgets/base",
            "_view_module_version": "1.2.0",
            "_view_name": "StyleView",
            "description_width": ""
          }
        },
        "f96fcd603fc74c69ac19e468683bd9e6": {
          "model_module": "@jupyter-widgets/controls",
          "model_module_version": "1.5.0",
          "model_name": "HBoxModel",
          "state": {
            "_dom_classes": [],
            "_model_module": "@jupyter-widgets/controls",
            "_model_module_version": "1.5.0",
            "_model_name": "HBoxModel",
            "_view_count": null,
            "_view_module": "@jupyter-widgets/controls",
            "_view_module_version": "1.5.0",
            "_view_name": "HBoxView",
            "box_style": "",
            "children": [
              "IPY_MODEL_97624d116c6f446b98c7a864aea28a34",
              "IPY_MODEL_78c0da13ebf047a3afaaf6211b7712b7",
              "IPY_MODEL_5fff42156b1441a98cc539c00942f7eb"
            ],
            "layout": "IPY_MODEL_67e371cbb18b448d80681fa7fd37d6cc"
          }
        },
        "fbed7e77f5f24d139f097a2df16577ba": {
          "model_module": "@jupyter-widgets/controls",
          "model_module_version": "1.5.0",
          "model_name": "ProgressStyleModel",
          "state": {
            "_model_module": "@jupyter-widgets/controls",
            "_model_module_version": "1.5.0",
            "_model_name": "ProgressStyleModel",
            "_view_count": null,
            "_view_module": "@jupyter-widgets/base",
            "_view_module_version": "1.2.0",
            "_view_name": "StyleView",
            "bar_color": null,
            "description_width": ""
          }
        },
        "fd067a60d8f142ec811396a7228145e5": {
          "model_module": "@jupyter-widgets/base",
          "model_module_version": "1.2.0",
          "model_name": "LayoutModel",
          "state": {
            "_model_module": "@jupyter-widgets/base",
            "_model_module_version": "1.2.0",
            "_model_name": "LayoutModel",
            "_view_count": null,
            "_view_module": "@jupyter-widgets/base",
            "_view_module_version": "1.2.0",
            "_view_name": "LayoutView",
            "align_content": null,
            "align_items": null,
            "align_self": null,
            "border": null,
            "bottom": null,
            "display": null,
            "flex": null,
            "flex_flow": null,
            "grid_area": null,
            "grid_auto_columns": null,
            "grid_auto_flow": null,
            "grid_auto_rows": null,
            "grid_column": null,
            "grid_gap": null,
            "grid_row": null,
            "grid_template_areas": null,
            "grid_template_columns": null,
            "grid_template_rows": null,
            "height": null,
            "justify_content": null,
            "justify_items": null,
            "left": null,
            "margin": null,
            "max_height": null,
            "max_width": null,
            "min_height": null,
            "min_width": null,
            "object_fit": null,
            "object_position": null,
            "order": null,
            "overflow": null,
            "overflow_x": null,
            "overflow_y": null,
            "padding": null,
            "right": null,
            "top": null,
            "visibility": null,
            "width": null
          }
        },
        "fd895b92042f491d85dd124c7d21090b": {
          "model_module": "@jupyter-widgets/base",
          "model_module_version": "1.2.0",
          "model_name": "LayoutModel",
          "state": {
            "_model_module": "@jupyter-widgets/base",
            "_model_module_version": "1.2.0",
            "_model_name": "LayoutModel",
            "_view_count": null,
            "_view_module": "@jupyter-widgets/base",
            "_view_module_version": "1.2.0",
            "_view_name": "LayoutView",
            "align_content": null,
            "align_items": null,
            "align_self": null,
            "border": null,
            "bottom": null,
            "display": null,
            "flex": null,
            "flex_flow": null,
            "grid_area": null,
            "grid_auto_columns": null,
            "grid_auto_flow": null,
            "grid_auto_rows": null,
            "grid_column": null,
            "grid_gap": null,
            "grid_row": null,
            "grid_template_areas": null,
            "grid_template_columns": null,
            "grid_template_rows": null,
            "height": null,
            "justify_content": null,
            "justify_items": null,
            "left": null,
            "margin": null,
            "max_height": null,
            "max_width": null,
            "min_height": null,
            "min_width": null,
            "object_fit": null,
            "object_position": null,
            "order": null,
            "overflow": null,
            "overflow_x": null,
            "overflow_y": null,
            "padding": null,
            "right": null,
            "top": null,
            "visibility": null,
            "width": null
          }
        },
        "ff121e7e9868484c804e1173c8bc1382": {
          "model_module": "@jupyter-widgets/base",
          "model_module_version": "1.2.0",
          "model_name": "LayoutModel",
          "state": {
            "_model_module": "@jupyter-widgets/base",
            "_model_module_version": "1.2.0",
            "_model_name": "LayoutModel",
            "_view_count": null,
            "_view_module": "@jupyter-widgets/base",
            "_view_module_version": "1.2.0",
            "_view_name": "LayoutView",
            "align_content": null,
            "align_items": null,
            "align_self": null,
            "border": null,
            "bottom": null,
            "display": null,
            "flex": null,
            "flex_flow": null,
            "grid_area": null,
            "grid_auto_columns": null,
            "grid_auto_flow": null,
            "grid_auto_rows": null,
            "grid_column": null,
            "grid_gap": null,
            "grid_row": null,
            "grid_template_areas": null,
            "grid_template_columns": null,
            "grid_template_rows": null,
            "height": null,
            "justify_content": null,
            "justify_items": null,
            "left": null,
            "margin": null,
            "max_height": null,
            "max_width": null,
            "min_height": null,
            "min_width": null,
            "object_fit": null,
            "object_position": null,
            "order": null,
            "overflow": null,
            "overflow_x": null,
            "overflow_y": null,
            "padding": null,
            "right": null,
            "top": null,
            "visibility": null,
            "width": null
          }
        },
        "ff661a0fc054417ea5626f3efff3cbb4": {
          "model_module": "@jupyter-widgets/controls",
          "model_module_version": "1.5.0",
          "model_name": "DescriptionStyleModel",
          "state": {
            "_model_module": "@jupyter-widgets/controls",
            "_model_module_version": "1.5.0",
            "_model_name": "DescriptionStyleModel",
            "_view_count": null,
            "_view_module": "@jupyter-widgets/base",
            "_view_module_version": "1.2.0",
            "_view_name": "StyleView",
            "description_width": ""
          }
        },
        "ffcaf934003e4994a7809474f351567e": {
          "model_module": "@jupyter-widgets/base",
          "model_module_version": "1.2.0",
          "model_name": "LayoutModel",
          "state": {
            "_model_module": "@jupyter-widgets/base",
            "_model_module_version": "1.2.0",
            "_model_name": "LayoutModel",
            "_view_count": null,
            "_view_module": "@jupyter-widgets/base",
            "_view_module_version": "1.2.0",
            "_view_name": "LayoutView",
            "align_content": null,
            "align_items": null,
            "align_self": null,
            "border": null,
            "bottom": null,
            "display": null,
            "flex": null,
            "flex_flow": null,
            "grid_area": null,
            "grid_auto_columns": null,
            "grid_auto_flow": null,
            "grid_auto_rows": null,
            "grid_column": null,
            "grid_gap": null,
            "grid_row": null,
            "grid_template_areas": null,
            "grid_template_columns": null,
            "grid_template_rows": null,
            "height": null,
            "justify_content": null,
            "justify_items": null,
            "left": null,
            "margin": null,
            "max_height": null,
            "max_width": null,
            "min_height": null,
            "min_width": null,
            "object_fit": null,
            "object_position": null,
            "order": null,
            "overflow": null,
            "overflow_x": null,
            "overflow_y": null,
            "padding": null,
            "right": null,
            "top": null,
            "visibility": null,
            "width": null
          }
        },
        "3ee35b90d45b4eaba783b1a660732a28": {
          "model_module": "@jupyter-widgets/controls",
          "model_name": "HBoxModel",
          "model_module_version": "1.5.0",
          "state": {
            "_dom_classes": [],
            "_model_module": "@jupyter-widgets/controls",
            "_model_module_version": "1.5.0",
            "_model_name": "HBoxModel",
            "_view_count": null,
            "_view_module": "@jupyter-widgets/controls",
            "_view_module_version": "1.5.0",
            "_view_name": "HBoxView",
            "box_style": "",
            "children": [
              "IPY_MODEL_2685efdd61404a91b458577e2b0ed298",
              "IPY_MODEL_9c3b6a090b5a48a1be506c59e499ecb7",
              "IPY_MODEL_1d795db43a73470e91e6a090a6f90226"
            ],
            "layout": "IPY_MODEL_3cb0ba4e588e442b9c50dfd0be67fe09"
          }
        },
        "2685efdd61404a91b458577e2b0ed298": {
          "model_module": "@jupyter-widgets/controls",
          "model_name": "HTMLModel",
          "model_module_version": "1.5.0",
          "state": {
            "_dom_classes": [],
            "_model_module": "@jupyter-widgets/controls",
            "_model_module_version": "1.5.0",
            "_model_name": "HTMLModel",
            "_view_count": null,
            "_view_module": "@jupyter-widgets/controls",
            "_view_module_version": "1.5.0",
            "_view_name": "HTMLView",
            "description": "",
            "description_tooltip": null,
            "layout": "IPY_MODEL_0caef24231a342fdb563ff3f10a5f2e3",
            "placeholder": "​",
            "style": "IPY_MODEL_4a435840256c452fa02d9278304feb56",
            "value": "Downloading builder script: "
          }
        },
        "9c3b6a090b5a48a1be506c59e499ecb7": {
          "model_module": "@jupyter-widgets/controls",
          "model_name": "FloatProgressModel",
          "model_module_version": "1.5.0",
          "state": {
            "_dom_classes": [],
            "_model_module": "@jupyter-widgets/controls",
            "_model_module_version": "1.5.0",
            "_model_name": "FloatProgressModel",
            "_view_count": null,
            "_view_module": "@jupyter-widgets/controls",
            "_view_module_version": "1.5.0",
            "_view_name": "ProgressView",
            "bar_style": "success",
            "description": "",
            "description_tooltip": null,
            "layout": "IPY_MODEL_771fbeeb9f8a49098b152f38a20f7c62",
            "max": 1831,
            "min": 0,
            "orientation": "horizontal",
            "style": "IPY_MODEL_c58225a4ec994a3387c741b9eac8cea2",
            "value": 1831
          }
        },
        "1d795db43a73470e91e6a090a6f90226": {
          "model_module": "@jupyter-widgets/controls",
          "model_name": "HTMLModel",
          "model_module_version": "1.5.0",
          "state": {
            "_dom_classes": [],
            "_model_module": "@jupyter-widgets/controls",
            "_model_module_version": "1.5.0",
            "_model_name": "HTMLModel",
            "_view_count": null,
            "_view_module": "@jupyter-widgets/controls",
            "_view_module_version": "1.5.0",
            "_view_name": "HTMLView",
            "description": "",
            "description_tooltip": null,
            "layout": "IPY_MODEL_dce4c5baa8334b319e0cc9f8a06bfa4a",
            "placeholder": "​",
            "style": "IPY_MODEL_672050aef7ca4e70a6431eca191cf68d",
            "value": " 4.06k/? [00:00&lt;00:00, 297kB/s]"
          }
        },
        "3cb0ba4e588e442b9c50dfd0be67fe09": {
          "model_module": "@jupyter-widgets/base",
          "model_name": "LayoutModel",
          "model_module_version": "1.2.0",
          "state": {
            "_model_module": "@jupyter-widgets/base",
            "_model_module_version": "1.2.0",
            "_model_name": "LayoutModel",
            "_view_count": null,
            "_view_module": "@jupyter-widgets/base",
            "_view_module_version": "1.2.0",
            "_view_name": "LayoutView",
            "align_content": null,
            "align_items": null,
            "align_self": null,
            "border": null,
            "bottom": null,
            "display": null,
            "flex": null,
            "flex_flow": null,
            "grid_area": null,
            "grid_auto_columns": null,
            "grid_auto_flow": null,
            "grid_auto_rows": null,
            "grid_column": null,
            "grid_gap": null,
            "grid_row": null,
            "grid_template_areas": null,
            "grid_template_columns": null,
            "grid_template_rows": null,
            "height": null,
            "justify_content": null,
            "justify_items": null,
            "left": null,
            "margin": null,
            "max_height": null,
            "max_width": null,
            "min_height": null,
            "min_width": null,
            "object_fit": null,
            "object_position": null,
            "order": null,
            "overflow": null,
            "overflow_x": null,
            "overflow_y": null,
            "padding": null,
            "right": null,
            "top": null,
            "visibility": null,
            "width": null
          }
        },
        "0caef24231a342fdb563ff3f10a5f2e3": {
          "model_module": "@jupyter-widgets/base",
          "model_name": "LayoutModel",
          "model_module_version": "1.2.0",
          "state": {
            "_model_module": "@jupyter-widgets/base",
            "_model_module_version": "1.2.0",
            "_model_name": "LayoutModel",
            "_view_count": null,
            "_view_module": "@jupyter-widgets/base",
            "_view_module_version": "1.2.0",
            "_view_name": "LayoutView",
            "align_content": null,
            "align_items": null,
            "align_self": null,
            "border": null,
            "bottom": null,
            "display": null,
            "flex": null,
            "flex_flow": null,
            "grid_area": null,
            "grid_auto_columns": null,
            "grid_auto_flow": null,
            "grid_auto_rows": null,
            "grid_column": null,
            "grid_gap": null,
            "grid_row": null,
            "grid_template_areas": null,
            "grid_template_columns": null,
            "grid_template_rows": null,
            "height": null,
            "justify_content": null,
            "justify_items": null,
            "left": null,
            "margin": null,
            "max_height": null,
            "max_width": null,
            "min_height": null,
            "min_width": null,
            "object_fit": null,
            "object_position": null,
            "order": null,
            "overflow": null,
            "overflow_x": null,
            "overflow_y": null,
            "padding": null,
            "right": null,
            "top": null,
            "visibility": null,
            "width": null
          }
        },
        "4a435840256c452fa02d9278304feb56": {
          "model_module": "@jupyter-widgets/controls",
          "model_name": "DescriptionStyleModel",
          "model_module_version": "1.5.0",
          "state": {
            "_model_module": "@jupyter-widgets/controls",
            "_model_module_version": "1.5.0",
            "_model_name": "DescriptionStyleModel",
            "_view_count": null,
            "_view_module": "@jupyter-widgets/base",
            "_view_module_version": "1.2.0",
            "_view_name": "StyleView",
            "description_width": ""
          }
        },
        "771fbeeb9f8a49098b152f38a20f7c62": {
          "model_module": "@jupyter-widgets/base",
          "model_name": "LayoutModel",
          "model_module_version": "1.2.0",
          "state": {
            "_model_module": "@jupyter-widgets/base",
            "_model_module_version": "1.2.0",
            "_model_name": "LayoutModel",
            "_view_count": null,
            "_view_module": "@jupyter-widgets/base",
            "_view_module_version": "1.2.0",
            "_view_name": "LayoutView",
            "align_content": null,
            "align_items": null,
            "align_self": null,
            "border": null,
            "bottom": null,
            "display": null,
            "flex": null,
            "flex_flow": null,
            "grid_area": null,
            "grid_auto_columns": null,
            "grid_auto_flow": null,
            "grid_auto_rows": null,
            "grid_column": null,
            "grid_gap": null,
            "grid_row": null,
            "grid_template_areas": null,
            "grid_template_columns": null,
            "grid_template_rows": null,
            "height": null,
            "justify_content": null,
            "justify_items": null,
            "left": null,
            "margin": null,
            "max_height": null,
            "max_width": null,
            "min_height": null,
            "min_width": null,
            "object_fit": null,
            "object_position": null,
            "order": null,
            "overflow": null,
            "overflow_x": null,
            "overflow_y": null,
            "padding": null,
            "right": null,
            "top": null,
            "visibility": null,
            "width": null
          }
        },
        "c58225a4ec994a3387c741b9eac8cea2": {
          "model_module": "@jupyter-widgets/controls",
          "model_name": "ProgressStyleModel",
          "model_module_version": "1.5.0",
          "state": {
            "_model_module": "@jupyter-widgets/controls",
            "_model_module_version": "1.5.0",
            "_model_name": "ProgressStyleModel",
            "_view_count": null,
            "_view_module": "@jupyter-widgets/base",
            "_view_module_version": "1.2.0",
            "_view_name": "StyleView",
            "bar_color": null,
            "description_width": ""
          }
        },
        "dce4c5baa8334b319e0cc9f8a06bfa4a": {
          "model_module": "@jupyter-widgets/base",
          "model_name": "LayoutModel",
          "model_module_version": "1.2.0",
          "state": {
            "_model_module": "@jupyter-widgets/base",
            "_model_module_version": "1.2.0",
            "_model_name": "LayoutModel",
            "_view_count": null,
            "_view_module": "@jupyter-widgets/base",
            "_view_module_version": "1.2.0",
            "_view_name": "LayoutView",
            "align_content": null,
            "align_items": null,
            "align_self": null,
            "border": null,
            "bottom": null,
            "display": null,
            "flex": null,
            "flex_flow": null,
            "grid_area": null,
            "grid_auto_columns": null,
            "grid_auto_flow": null,
            "grid_auto_rows": null,
            "grid_column": null,
            "grid_gap": null,
            "grid_row": null,
            "grid_template_areas": null,
            "grid_template_columns": null,
            "grid_template_rows": null,
            "height": null,
            "justify_content": null,
            "justify_items": null,
            "left": null,
            "margin": null,
            "max_height": null,
            "max_width": null,
            "min_height": null,
            "min_width": null,
            "object_fit": null,
            "object_position": null,
            "order": null,
            "overflow": null,
            "overflow_x": null,
            "overflow_y": null,
            "padding": null,
            "right": null,
            "top": null,
            "visibility": null,
            "width": null
          }
        },
        "672050aef7ca4e70a6431eca191cf68d": {
          "model_module": "@jupyter-widgets/controls",
          "model_name": "DescriptionStyleModel",
          "model_module_version": "1.5.0",
          "state": {
            "_model_module": "@jupyter-widgets/controls",
            "_model_module_version": "1.5.0",
            "_model_name": "DescriptionStyleModel",
            "_view_count": null,
            "_view_module": "@jupyter-widgets/base",
            "_view_module_version": "1.2.0",
            "_view_name": "StyleView",
            "description_width": ""
          }
        },
        "30b27fa8ffa647c9ac03fe2c19110141": {
          "model_module": "@jupyter-widgets/controls",
          "model_name": "HBoxModel",
          "model_module_version": "1.5.0",
          "state": {
            "_dom_classes": [],
            "_model_module": "@jupyter-widgets/controls",
            "_model_module_version": "1.5.0",
            "_model_name": "HBoxModel",
            "_view_count": null,
            "_view_module": "@jupyter-widgets/controls",
            "_view_module_version": "1.5.0",
            "_view_name": "HBoxView",
            "box_style": "",
            "children": [
              "IPY_MODEL_838747f3cf8149808ea2b8a3941c471d",
              "IPY_MODEL_c34b509efe8c40f8b4a9f98ba60bd58f",
              "IPY_MODEL_2f98709f2e214386a7ad71effccfbc9a"
            ],
            "layout": "IPY_MODEL_9af61782215f497b9b8bec5cf2afa080"
          }
        },
        "838747f3cf8149808ea2b8a3941c471d": {
          "model_module": "@jupyter-widgets/controls",
          "model_name": "HTMLModel",
          "model_module_version": "1.5.0",
          "state": {
            "_dom_classes": [],
            "_model_module": "@jupyter-widgets/controls",
            "_model_module_version": "1.5.0",
            "_model_name": "HTMLModel",
            "_view_count": null,
            "_view_module": "@jupyter-widgets/controls",
            "_view_module_version": "1.5.0",
            "_view_name": "HTMLView",
            "description": "",
            "description_tooltip": null,
            "layout": "IPY_MODEL_9e0b2c92ca9d4a15895fa6dca9a6b9e8",
            "placeholder": "​",
            "style": "IPY_MODEL_334146807d7f4fca81569af8fb7d052e",
            "value": "Downloading metadata: "
          }
        },
        "c34b509efe8c40f8b4a9f98ba60bd58f": {
          "model_module": "@jupyter-widgets/controls",
          "model_name": "FloatProgressModel",
          "model_module_version": "1.5.0",
          "state": {
            "_dom_classes": [],
            "_model_module": "@jupyter-widgets/controls",
            "_model_module_version": "1.5.0",
            "_model_name": "FloatProgressModel",
            "_view_count": null,
            "_view_module": "@jupyter-widgets/controls",
            "_view_module_version": "1.5.0",
            "_view_name": "ProgressView",
            "bar_style": "success",
            "description": "",
            "description_tooltip": null,
            "layout": "IPY_MODEL_4d28d6b664c9405db0755985a04968b1",
            "max": 1285,
            "min": 0,
            "orientation": "horizontal",
            "style": "IPY_MODEL_cb7590278bae481b8545ddcd88caa33f",
            "value": 1285
          }
        },
        "2f98709f2e214386a7ad71effccfbc9a": {
          "model_module": "@jupyter-widgets/controls",
          "model_name": "HTMLModel",
          "model_module_version": "1.5.0",
          "state": {
            "_dom_classes": [],
            "_model_module": "@jupyter-widgets/controls",
            "_model_module_version": "1.5.0",
            "_model_name": "HTMLModel",
            "_view_count": null,
            "_view_module": "@jupyter-widgets/controls",
            "_view_module_version": "1.5.0",
            "_view_name": "HTMLView",
            "description": "",
            "description_tooltip": null,
            "layout": "IPY_MODEL_2127462ef9ce4024a4c5c79ec3e4e3ef",
            "placeholder": "​",
            "style": "IPY_MODEL_a8081724f66e4d938cdb2643eee8497e",
            "value": " 2.65k/? [00:00&lt;00:00, 148kB/s]"
          }
        },
        "9af61782215f497b9b8bec5cf2afa080": {
          "model_module": "@jupyter-widgets/base",
          "model_name": "LayoutModel",
          "model_module_version": "1.2.0",
          "state": {
            "_model_module": "@jupyter-widgets/base",
            "_model_module_version": "1.2.0",
            "_model_name": "LayoutModel",
            "_view_count": null,
            "_view_module": "@jupyter-widgets/base",
            "_view_module_version": "1.2.0",
            "_view_name": "LayoutView",
            "align_content": null,
            "align_items": null,
            "align_self": null,
            "border": null,
            "bottom": null,
            "display": null,
            "flex": null,
            "flex_flow": null,
            "grid_area": null,
            "grid_auto_columns": null,
            "grid_auto_flow": null,
            "grid_auto_rows": null,
            "grid_column": null,
            "grid_gap": null,
            "grid_row": null,
            "grid_template_areas": null,
            "grid_template_columns": null,
            "grid_template_rows": null,
            "height": null,
            "justify_content": null,
            "justify_items": null,
            "left": null,
            "margin": null,
            "max_height": null,
            "max_width": null,
            "min_height": null,
            "min_width": null,
            "object_fit": null,
            "object_position": null,
            "order": null,
            "overflow": null,
            "overflow_x": null,
            "overflow_y": null,
            "padding": null,
            "right": null,
            "top": null,
            "visibility": null,
            "width": null
          }
        },
        "9e0b2c92ca9d4a15895fa6dca9a6b9e8": {
          "model_module": "@jupyter-widgets/base",
          "model_name": "LayoutModel",
          "model_module_version": "1.2.0",
          "state": {
            "_model_module": "@jupyter-widgets/base",
            "_model_module_version": "1.2.0",
            "_model_name": "LayoutModel",
            "_view_count": null,
            "_view_module": "@jupyter-widgets/base",
            "_view_module_version": "1.2.0",
            "_view_name": "LayoutView",
            "align_content": null,
            "align_items": null,
            "align_self": null,
            "border": null,
            "bottom": null,
            "display": null,
            "flex": null,
            "flex_flow": null,
            "grid_area": null,
            "grid_auto_columns": null,
            "grid_auto_flow": null,
            "grid_auto_rows": null,
            "grid_column": null,
            "grid_gap": null,
            "grid_row": null,
            "grid_template_areas": null,
            "grid_template_columns": null,
            "grid_template_rows": null,
            "height": null,
            "justify_content": null,
            "justify_items": null,
            "left": null,
            "margin": null,
            "max_height": null,
            "max_width": null,
            "min_height": null,
            "min_width": null,
            "object_fit": null,
            "object_position": null,
            "order": null,
            "overflow": null,
            "overflow_x": null,
            "overflow_y": null,
            "padding": null,
            "right": null,
            "top": null,
            "visibility": null,
            "width": null
          }
        },
        "334146807d7f4fca81569af8fb7d052e": {
          "model_module": "@jupyter-widgets/controls",
          "model_name": "DescriptionStyleModel",
          "model_module_version": "1.5.0",
          "state": {
            "_model_module": "@jupyter-widgets/controls",
            "_model_module_version": "1.5.0",
            "_model_name": "DescriptionStyleModel",
            "_view_count": null,
            "_view_module": "@jupyter-widgets/base",
            "_view_module_version": "1.2.0",
            "_view_name": "StyleView",
            "description_width": ""
          }
        },
        "4d28d6b664c9405db0755985a04968b1": {
          "model_module": "@jupyter-widgets/base",
          "model_name": "LayoutModel",
          "model_module_version": "1.2.0",
          "state": {
            "_model_module": "@jupyter-widgets/base",
            "_model_module_version": "1.2.0",
            "_model_name": "LayoutModel",
            "_view_count": null,
            "_view_module": "@jupyter-widgets/base",
            "_view_module_version": "1.2.0",
            "_view_name": "LayoutView",
            "align_content": null,
            "align_items": null,
            "align_self": null,
            "border": null,
            "bottom": null,
            "display": null,
            "flex": null,
            "flex_flow": null,
            "grid_area": null,
            "grid_auto_columns": null,
            "grid_auto_flow": null,
            "grid_auto_rows": null,
            "grid_column": null,
            "grid_gap": null,
            "grid_row": null,
            "grid_template_areas": null,
            "grid_template_columns": null,
            "grid_template_rows": null,
            "height": null,
            "justify_content": null,
            "justify_items": null,
            "left": null,
            "margin": null,
            "max_height": null,
            "max_width": null,
            "min_height": null,
            "min_width": null,
            "object_fit": null,
            "object_position": null,
            "order": null,
            "overflow": null,
            "overflow_x": null,
            "overflow_y": null,
            "padding": null,
            "right": null,
            "top": null,
            "visibility": null,
            "width": null
          }
        },
        "cb7590278bae481b8545ddcd88caa33f": {
          "model_module": "@jupyter-widgets/controls",
          "model_name": "ProgressStyleModel",
          "model_module_version": "1.5.0",
          "state": {
            "_model_module": "@jupyter-widgets/controls",
            "_model_module_version": "1.5.0",
            "_model_name": "ProgressStyleModel",
            "_view_count": null,
            "_view_module": "@jupyter-widgets/base",
            "_view_module_version": "1.2.0",
            "_view_name": "StyleView",
            "bar_color": null,
            "description_width": ""
          }
        },
        "2127462ef9ce4024a4c5c79ec3e4e3ef": {
          "model_module": "@jupyter-widgets/base",
          "model_name": "LayoutModel",
          "model_module_version": "1.2.0",
          "state": {
            "_model_module": "@jupyter-widgets/base",
            "_model_module_version": "1.2.0",
            "_model_name": "LayoutModel",
            "_view_count": null,
            "_view_module": "@jupyter-widgets/base",
            "_view_module_version": "1.2.0",
            "_view_name": "LayoutView",
            "align_content": null,
            "align_items": null,
            "align_self": null,
            "border": null,
            "bottom": null,
            "display": null,
            "flex": null,
            "flex_flow": null,
            "grid_area": null,
            "grid_auto_columns": null,
            "grid_auto_flow": null,
            "grid_auto_rows": null,
            "grid_column": null,
            "grid_gap": null,
            "grid_row": null,
            "grid_template_areas": null,
            "grid_template_columns": null,
            "grid_template_rows": null,
            "height": null,
            "justify_content": null,
            "justify_items": null,
            "left": null,
            "margin": null,
            "max_height": null,
            "max_width": null,
            "min_height": null,
            "min_width": null,
            "object_fit": null,
            "object_position": null,
            "order": null,
            "overflow": null,
            "overflow_x": null,
            "overflow_y": null,
            "padding": null,
            "right": null,
            "top": null,
            "visibility": null,
            "width": null
          }
        },
        "a8081724f66e4d938cdb2643eee8497e": {
          "model_module": "@jupyter-widgets/controls",
          "model_name": "DescriptionStyleModel",
          "model_module_version": "1.5.0",
          "state": {
            "_model_module": "@jupyter-widgets/controls",
            "_model_module_version": "1.5.0",
            "_model_name": "DescriptionStyleModel",
            "_view_count": null,
            "_view_module": "@jupyter-widgets/base",
            "_view_module_version": "1.2.0",
            "_view_name": "StyleView",
            "description_width": ""
          }
        },
        "763a64d07ad74b92b5208aa6ca677c75": {
          "model_module": "@jupyter-widgets/controls",
          "model_name": "HBoxModel",
          "model_module_version": "1.5.0",
          "state": {
            "_dom_classes": [],
            "_model_module": "@jupyter-widgets/controls",
            "_model_module_version": "1.5.0",
            "_model_name": "HBoxModel",
            "_view_count": null,
            "_view_module": "@jupyter-widgets/controls",
            "_view_module_version": "1.5.0",
            "_view_name": "HBoxView",
            "box_style": "",
            "children": [
              "IPY_MODEL_2a569d68f43445df83b08292bfe565d5",
              "IPY_MODEL_707d57243d6b4581b395854d5da36f0a",
              "IPY_MODEL_c8085f06b4a14395a9d3da123d66d9e8"
            ],
            "layout": "IPY_MODEL_9f371205f2e541cea1503052305c0a86"
          }
        },
        "2a569d68f43445df83b08292bfe565d5": {
          "model_module": "@jupyter-widgets/controls",
          "model_name": "HTMLModel",
          "model_module_version": "1.5.0",
          "state": {
            "_dom_classes": [],
            "_model_module": "@jupyter-widgets/controls",
            "_model_module_version": "1.5.0",
            "_model_name": "HTMLModel",
            "_view_count": null,
            "_view_module": "@jupyter-widgets/controls",
            "_view_module_version": "1.5.0",
            "_view_name": "HTMLView",
            "description": "",
            "description_tooltip": null,
            "layout": "IPY_MODEL_f05ee84dce184dd0860618b566385f2b",
            "placeholder": "​",
            "style": "IPY_MODEL_4e8eb872178f4e9ca33695143bf5e015",
            "value": "Downloading data: "
          }
        },
        "707d57243d6b4581b395854d5da36f0a": {
          "model_module": "@jupyter-widgets/controls",
          "model_name": "FloatProgressModel",
          "model_module_version": "1.5.0",
          "state": {
            "_dom_classes": [],
            "_model_module": "@jupyter-widgets/controls",
            "_model_module_version": "1.5.0",
            "_model_name": "FloatProgressModel",
            "_view_count": null,
            "_view_module": "@jupyter-widgets/controls",
            "_view_module_version": "1.5.0",
            "_view_name": "ProgressView",
            "bar_style": "success",
            "description": "",
            "description_tooltip": null,
            "layout": "IPY_MODEL_c0bc663164744fb5b4db73a90e5fdc35",
            "max": 11045148,
            "min": 0,
            "orientation": "horizontal",
            "style": "IPY_MODEL_8cc605ad034f43739baa4bcacfd4a5bd",
            "value": 11045148
          }
        },
        "c8085f06b4a14395a9d3da123d66d9e8": {
          "model_module": "@jupyter-widgets/controls",
          "model_name": "HTMLModel",
          "model_module_version": "1.5.0",
          "state": {
            "_dom_classes": [],
            "_model_module": "@jupyter-widgets/controls",
            "_model_module_version": "1.5.0",
            "_model_name": "HTMLModel",
            "_view_count": null,
            "_view_module": "@jupyter-widgets/controls",
            "_view_module_version": "1.5.0",
            "_view_name": "HTMLView",
            "description": "",
            "description_tooltip": null,
            "layout": "IPY_MODEL_7f0ae84cbd7e46a5a6d5a29bc23de503",
            "placeholder": "​",
            "style": "IPY_MODEL_8136b4d2ba1345a29fd68f577394ef82",
            "value": " 29.5M/? [00:00&lt;00:00, 66.6MB/s]"
          }
        },
        "9f371205f2e541cea1503052305c0a86": {
          "model_module": "@jupyter-widgets/base",
          "model_name": "LayoutModel",
          "model_module_version": "1.2.0",
          "state": {
            "_model_module": "@jupyter-widgets/base",
            "_model_module_version": "1.2.0",
            "_model_name": "LayoutModel",
            "_view_count": null,
            "_view_module": "@jupyter-widgets/base",
            "_view_module_version": "1.2.0",
            "_view_name": "LayoutView",
            "align_content": null,
            "align_items": null,
            "align_self": null,
            "border": null,
            "bottom": null,
            "display": null,
            "flex": null,
            "flex_flow": null,
            "grid_area": null,
            "grid_auto_columns": null,
            "grid_auto_flow": null,
            "grid_auto_rows": null,
            "grid_column": null,
            "grid_gap": null,
            "grid_row": null,
            "grid_template_areas": null,
            "grid_template_columns": null,
            "grid_template_rows": null,
            "height": null,
            "justify_content": null,
            "justify_items": null,
            "left": null,
            "margin": null,
            "max_height": null,
            "max_width": null,
            "min_height": null,
            "min_width": null,
            "object_fit": null,
            "object_position": null,
            "order": null,
            "overflow": null,
            "overflow_x": null,
            "overflow_y": null,
            "padding": null,
            "right": null,
            "top": null,
            "visibility": null,
            "width": null
          }
        },
        "f05ee84dce184dd0860618b566385f2b": {
          "model_module": "@jupyter-widgets/base",
          "model_name": "LayoutModel",
          "model_module_version": "1.2.0",
          "state": {
            "_model_module": "@jupyter-widgets/base",
            "_model_module_version": "1.2.0",
            "_model_name": "LayoutModel",
            "_view_count": null,
            "_view_module": "@jupyter-widgets/base",
            "_view_module_version": "1.2.0",
            "_view_name": "LayoutView",
            "align_content": null,
            "align_items": null,
            "align_self": null,
            "border": null,
            "bottom": null,
            "display": null,
            "flex": null,
            "flex_flow": null,
            "grid_area": null,
            "grid_auto_columns": null,
            "grid_auto_flow": null,
            "grid_auto_rows": null,
            "grid_column": null,
            "grid_gap": null,
            "grid_row": null,
            "grid_template_areas": null,
            "grid_template_columns": null,
            "grid_template_rows": null,
            "height": null,
            "justify_content": null,
            "justify_items": null,
            "left": null,
            "margin": null,
            "max_height": null,
            "max_width": null,
            "min_height": null,
            "min_width": null,
            "object_fit": null,
            "object_position": null,
            "order": null,
            "overflow": null,
            "overflow_x": null,
            "overflow_y": null,
            "padding": null,
            "right": null,
            "top": null,
            "visibility": null,
            "width": null
          }
        },
        "4e8eb872178f4e9ca33695143bf5e015": {
          "model_module": "@jupyter-widgets/controls",
          "model_name": "DescriptionStyleModel",
          "model_module_version": "1.5.0",
          "state": {
            "_model_module": "@jupyter-widgets/controls",
            "_model_module_version": "1.5.0",
            "_model_name": "DescriptionStyleModel",
            "_view_count": null,
            "_view_module": "@jupyter-widgets/base",
            "_view_module_version": "1.2.0",
            "_view_name": "StyleView",
            "description_width": ""
          }
        },
        "c0bc663164744fb5b4db73a90e5fdc35": {
          "model_module": "@jupyter-widgets/base",
          "model_name": "LayoutModel",
          "model_module_version": "1.2.0",
          "state": {
            "_model_module": "@jupyter-widgets/base",
            "_model_module_version": "1.2.0",
            "_model_name": "LayoutModel",
            "_view_count": null,
            "_view_module": "@jupyter-widgets/base",
            "_view_module_version": "1.2.0",
            "_view_name": "LayoutView",
            "align_content": null,
            "align_items": null,
            "align_self": null,
            "border": null,
            "bottom": null,
            "display": null,
            "flex": null,
            "flex_flow": null,
            "grid_area": null,
            "grid_auto_columns": null,
            "grid_auto_flow": null,
            "grid_auto_rows": null,
            "grid_column": null,
            "grid_gap": null,
            "grid_row": null,
            "grid_template_areas": null,
            "grid_template_columns": null,
            "grid_template_rows": null,
            "height": null,
            "justify_content": null,
            "justify_items": null,
            "left": null,
            "margin": null,
            "max_height": null,
            "max_width": null,
            "min_height": null,
            "min_width": null,
            "object_fit": null,
            "object_position": null,
            "order": null,
            "overflow": null,
            "overflow_x": null,
            "overflow_y": null,
            "padding": null,
            "right": null,
            "top": null,
            "visibility": null,
            "width": null
          }
        },
        "8cc605ad034f43739baa4bcacfd4a5bd": {
          "model_module": "@jupyter-widgets/controls",
          "model_name": "ProgressStyleModel",
          "model_module_version": "1.5.0",
          "state": {
            "_model_module": "@jupyter-widgets/controls",
            "_model_module_version": "1.5.0",
            "_model_name": "ProgressStyleModel",
            "_view_count": null,
            "_view_module": "@jupyter-widgets/base",
            "_view_module_version": "1.2.0",
            "_view_name": "StyleView",
            "bar_color": null,
            "description_width": ""
          }
        },
        "7f0ae84cbd7e46a5a6d5a29bc23de503": {
          "model_module": "@jupyter-widgets/base",
          "model_name": "LayoutModel",
          "model_module_version": "1.2.0",
          "state": {
            "_model_module": "@jupyter-widgets/base",
            "_model_module_version": "1.2.0",
            "_model_name": "LayoutModel",
            "_view_count": null,
            "_view_module": "@jupyter-widgets/base",
            "_view_module_version": "1.2.0",
            "_view_name": "LayoutView",
            "align_content": null,
            "align_items": null,
            "align_self": null,
            "border": null,
            "bottom": null,
            "display": null,
            "flex": null,
            "flex_flow": null,
            "grid_area": null,
            "grid_auto_columns": null,
            "grid_auto_flow": null,
            "grid_auto_rows": null,
            "grid_column": null,
            "grid_gap": null,
            "grid_row": null,
            "grid_template_areas": null,
            "grid_template_columns": null,
            "grid_template_rows": null,
            "height": null,
            "justify_content": null,
            "justify_items": null,
            "left": null,
            "margin": null,
            "max_height": null,
            "max_width": null,
            "min_height": null,
            "min_width": null,
            "object_fit": null,
            "object_position": null,
            "order": null,
            "overflow": null,
            "overflow_x": null,
            "overflow_y": null,
            "padding": null,
            "right": null,
            "top": null,
            "visibility": null,
            "width": null
          }
        },
        "8136b4d2ba1345a29fd68f577394ef82": {
          "model_module": "@jupyter-widgets/controls",
          "model_name": "DescriptionStyleModel",
          "model_module_version": "1.5.0",
          "state": {
            "_model_module": "@jupyter-widgets/controls",
            "_model_module_version": "1.5.0",
            "_model_name": "DescriptionStyleModel",
            "_view_count": null,
            "_view_module": "@jupyter-widgets/base",
            "_view_module_version": "1.2.0",
            "_view_name": "StyleView",
            "description_width": ""
          }
        },
        "c3e82f45aab84e3e83407cbd10198cd0": {
          "model_module": "@jupyter-widgets/controls",
          "model_name": "HBoxModel",
          "model_module_version": "1.5.0",
          "state": {
            "_dom_classes": [],
            "_model_module": "@jupyter-widgets/controls",
            "_model_module_version": "1.5.0",
            "_model_name": "HBoxModel",
            "_view_count": null,
            "_view_module": "@jupyter-widgets/controls",
            "_view_module_version": "1.5.0",
            "_view_name": "HBoxView",
            "box_style": "",
            "children": [
              "IPY_MODEL_e09c2d0bb3614191bb6009df565f631c",
              "IPY_MODEL_4df3ea42441f41e8badc201c6cf8521b",
              "IPY_MODEL_5fc72d2bba174fc9a5ce71095a30b913"
            ],
            "layout": "IPY_MODEL_5553f20d06404df089c74ba51b346f61"
          }
        },
        "e09c2d0bb3614191bb6009df565f631c": {
          "model_module": "@jupyter-widgets/controls",
          "model_name": "HTMLModel",
          "model_module_version": "1.5.0",
          "state": {
            "_dom_classes": [],
            "_model_module": "@jupyter-widgets/controls",
            "_model_module_version": "1.5.0",
            "_model_name": "HTMLModel",
            "_view_count": null,
            "_view_module": "@jupyter-widgets/controls",
            "_view_module_version": "1.5.0",
            "_view_name": "HTMLView",
            "description": "",
            "description_tooltip": null,
            "layout": "IPY_MODEL_dc50e9ece0cb41bab6360cddb4f32628",
            "placeholder": "​",
            "style": "IPY_MODEL_63bdfdd8f5624cd095343b406b727f73",
            "value": "Downloading data: "
          }
        },
        "4df3ea42441f41e8badc201c6cf8521b": {
          "model_module": "@jupyter-widgets/controls",
          "model_name": "FloatProgressModel",
          "model_module_version": "1.5.0",
          "state": {
            "_dom_classes": [],
            "_model_module": "@jupyter-widgets/controls",
            "_model_module_version": "1.5.0",
            "_model_name": "FloatProgressModel",
            "_view_count": null,
            "_view_module": "@jupyter-widgets/controls",
            "_view_module_version": "1.5.0",
            "_view_name": "ProgressView",
            "bar_style": "success",
            "description": "",
            "description_tooltip": null,
            "layout": "IPY_MODEL_f611d225abef42979a04608db1f39163",
            "max": 751209,
            "min": 0,
            "orientation": "horizontal",
            "style": "IPY_MODEL_aad15b669f3548c0b407022104fe6cdc",
            "value": 751209
          }
        },
        "5fc72d2bba174fc9a5ce71095a30b913": {
          "model_module": "@jupyter-widgets/controls",
          "model_name": "HTMLModel",
          "model_module_version": "1.5.0",
          "state": {
            "_dom_classes": [],
            "_model_module": "@jupyter-widgets/controls",
            "_model_module_version": "1.5.0",
            "_model_name": "HTMLModel",
            "_view_count": null,
            "_view_module": "@jupyter-widgets/controls",
            "_view_module_version": "1.5.0",
            "_view_name": "HTMLView",
            "description": "",
            "description_tooltip": null,
            "layout": "IPY_MODEL_92e5ce7f76834a6381c3d55e3a5c4330",
            "placeholder": "​",
            "style": "IPY_MODEL_85b633c637e24b35a67269ca88990803",
            "value": " 1.86M/? [00:00&lt;00:00, 28.2MB/s]"
          }
        },
        "5553f20d06404df089c74ba51b346f61": {
          "model_module": "@jupyter-widgets/base",
          "model_name": "LayoutModel",
          "model_module_version": "1.2.0",
          "state": {
            "_model_module": "@jupyter-widgets/base",
            "_model_module_version": "1.2.0",
            "_model_name": "LayoutModel",
            "_view_count": null,
            "_view_module": "@jupyter-widgets/base",
            "_view_module_version": "1.2.0",
            "_view_name": "LayoutView",
            "align_content": null,
            "align_items": null,
            "align_self": null,
            "border": null,
            "bottom": null,
            "display": null,
            "flex": null,
            "flex_flow": null,
            "grid_area": null,
            "grid_auto_columns": null,
            "grid_auto_flow": null,
            "grid_auto_rows": null,
            "grid_column": null,
            "grid_gap": null,
            "grid_row": null,
            "grid_template_areas": null,
            "grid_template_columns": null,
            "grid_template_rows": null,
            "height": null,
            "justify_content": null,
            "justify_items": null,
            "left": null,
            "margin": null,
            "max_height": null,
            "max_width": null,
            "min_height": null,
            "min_width": null,
            "object_fit": null,
            "object_position": null,
            "order": null,
            "overflow": null,
            "overflow_x": null,
            "overflow_y": null,
            "padding": null,
            "right": null,
            "top": null,
            "visibility": null,
            "width": null
          }
        },
        "dc50e9ece0cb41bab6360cddb4f32628": {
          "model_module": "@jupyter-widgets/base",
          "model_name": "LayoutModel",
          "model_module_version": "1.2.0",
          "state": {
            "_model_module": "@jupyter-widgets/base",
            "_model_module_version": "1.2.0",
            "_model_name": "LayoutModel",
            "_view_count": null,
            "_view_module": "@jupyter-widgets/base",
            "_view_module_version": "1.2.0",
            "_view_name": "LayoutView",
            "align_content": null,
            "align_items": null,
            "align_self": null,
            "border": null,
            "bottom": null,
            "display": null,
            "flex": null,
            "flex_flow": null,
            "grid_area": null,
            "grid_auto_columns": null,
            "grid_auto_flow": null,
            "grid_auto_rows": null,
            "grid_column": null,
            "grid_gap": null,
            "grid_row": null,
            "grid_template_areas": null,
            "grid_template_columns": null,
            "grid_template_rows": null,
            "height": null,
            "justify_content": null,
            "justify_items": null,
            "left": null,
            "margin": null,
            "max_height": null,
            "max_width": null,
            "min_height": null,
            "min_width": null,
            "object_fit": null,
            "object_position": null,
            "order": null,
            "overflow": null,
            "overflow_x": null,
            "overflow_y": null,
            "padding": null,
            "right": null,
            "top": null,
            "visibility": null,
            "width": null
          }
        },
        "63bdfdd8f5624cd095343b406b727f73": {
          "model_module": "@jupyter-widgets/controls",
          "model_name": "DescriptionStyleModel",
          "model_module_version": "1.5.0",
          "state": {
            "_model_module": "@jupyter-widgets/controls",
            "_model_module_version": "1.5.0",
            "_model_name": "DescriptionStyleModel",
            "_view_count": null,
            "_view_module": "@jupyter-widgets/base",
            "_view_module_version": "1.2.0",
            "_view_name": "StyleView",
            "description_width": ""
          }
        },
        "f611d225abef42979a04608db1f39163": {
          "model_module": "@jupyter-widgets/base",
          "model_name": "LayoutModel",
          "model_module_version": "1.2.0",
          "state": {
            "_model_module": "@jupyter-widgets/base",
            "_model_module_version": "1.2.0",
            "_model_name": "LayoutModel",
            "_view_count": null,
            "_view_module": "@jupyter-widgets/base",
            "_view_module_version": "1.2.0",
            "_view_name": "LayoutView",
            "align_content": null,
            "align_items": null,
            "align_self": null,
            "border": null,
            "bottom": null,
            "display": null,
            "flex": null,
            "flex_flow": null,
            "grid_area": null,
            "grid_auto_columns": null,
            "grid_auto_flow": null,
            "grid_auto_rows": null,
            "grid_column": null,
            "grid_gap": null,
            "grid_row": null,
            "grid_template_areas": null,
            "grid_template_columns": null,
            "grid_template_rows": null,
            "height": null,
            "justify_content": null,
            "justify_items": null,
            "left": null,
            "margin": null,
            "max_height": null,
            "max_width": null,
            "min_height": null,
            "min_width": null,
            "object_fit": null,
            "object_position": null,
            "order": null,
            "overflow": null,
            "overflow_x": null,
            "overflow_y": null,
            "padding": null,
            "right": null,
            "top": null,
            "visibility": null,
            "width": null
          }
        },
        "aad15b669f3548c0b407022104fe6cdc": {
          "model_module": "@jupyter-widgets/controls",
          "model_name": "ProgressStyleModel",
          "model_module_version": "1.5.0",
          "state": {
            "_model_module": "@jupyter-widgets/controls",
            "_model_module_version": "1.5.0",
            "_model_name": "ProgressStyleModel",
            "_view_count": null,
            "_view_module": "@jupyter-widgets/base",
            "_view_module_version": "1.2.0",
            "_view_name": "StyleView",
            "bar_color": null,
            "description_width": ""
          }
        },
        "92e5ce7f76834a6381c3d55e3a5c4330": {
          "model_module": "@jupyter-widgets/base",
          "model_name": "LayoutModel",
          "model_module_version": "1.2.0",
          "state": {
            "_model_module": "@jupyter-widgets/base",
            "_model_module_version": "1.2.0",
            "_model_name": "LayoutModel",
            "_view_count": null,
            "_view_module": "@jupyter-widgets/base",
            "_view_module_version": "1.2.0",
            "_view_name": "LayoutView",
            "align_content": null,
            "align_items": null,
            "align_self": null,
            "border": null,
            "bottom": null,
            "display": null,
            "flex": null,
            "flex_flow": null,
            "grid_area": null,
            "grid_auto_columns": null,
            "grid_auto_flow": null,
            "grid_auto_rows": null,
            "grid_column": null,
            "grid_gap": null,
            "grid_row": null,
            "grid_template_areas": null,
            "grid_template_columns": null,
            "grid_template_rows": null,
            "height": null,
            "justify_content": null,
            "justify_items": null,
            "left": null,
            "margin": null,
            "max_height": null,
            "max_width": null,
            "min_height": null,
            "min_width": null,
            "object_fit": null,
            "object_position": null,
            "order": null,
            "overflow": null,
            "overflow_x": null,
            "overflow_y": null,
            "padding": null,
            "right": null,
            "top": null,
            "visibility": null,
            "width": null
          }
        },
        "85b633c637e24b35a67269ca88990803": {
          "model_module": "@jupyter-widgets/controls",
          "model_name": "DescriptionStyleModel",
          "model_module_version": "1.5.0",
          "state": {
            "_model_module": "@jupyter-widgets/controls",
            "_model_module_version": "1.5.0",
            "_model_name": "DescriptionStyleModel",
            "_view_count": null,
            "_view_module": "@jupyter-widgets/base",
            "_view_module_version": "1.2.0",
            "_view_name": "StyleView",
            "description_width": ""
          }
        },
        "3f5dc942b5ae469faaece0c4e3dfc655": {
          "model_module": "@jupyter-widgets/controls",
          "model_name": "HBoxModel",
          "model_module_version": "1.5.0",
          "state": {
            "_dom_classes": [],
            "_model_module": "@jupyter-widgets/controls",
            "_model_module_version": "1.5.0",
            "_model_name": "HBoxModel",
            "_view_count": null,
            "_view_module": "@jupyter-widgets/controls",
            "_view_module_version": "1.5.0",
            "_view_name": "HBoxView",
            "box_style": "",
            "children": [
              "IPY_MODEL_b37cc184bf3d41d7b31b326deee0a6e0",
              "IPY_MODEL_7435944b5fb94d6bb975d0ac40ce10dc",
              "IPY_MODEL_615d1b30066e44ed907f1a2033556f69"
            ],
            "layout": "IPY_MODEL_2cd5b7c8b2a145e6ba2c18dedbeb15d9"
          }
        },
        "b37cc184bf3d41d7b31b326deee0a6e0": {
          "model_module": "@jupyter-widgets/controls",
          "model_name": "HTMLModel",
          "model_module_version": "1.5.0",
          "state": {
            "_dom_classes": [],
            "_model_module": "@jupyter-widgets/controls",
            "_model_module_version": "1.5.0",
            "_model_name": "HTMLModel",
            "_view_count": null,
            "_view_module": "@jupyter-widgets/controls",
            "_view_module_version": "1.5.0",
            "_view_name": "HTMLView",
            "description": "",
            "description_tooltip": null,
            "layout": "IPY_MODEL_d8ee299919cf442b9877b7298ea6cf60",
            "placeholder": "​",
            "style": "IPY_MODEL_8aa873a34927449491b8115ede9f18de",
            "value": "Generating train split: 100%"
          }
        },
        "7435944b5fb94d6bb975d0ac40ce10dc": {
          "model_module": "@jupyter-widgets/controls",
          "model_name": "FloatProgressModel",
          "model_module_version": "1.5.0",
          "state": {
            "_dom_classes": [],
            "_model_module": "@jupyter-widgets/controls",
            "_model_module_version": "1.5.0",
            "_model_name": "FloatProgressModel",
            "_view_count": null,
            "_view_module": "@jupyter-widgets/controls",
            "_view_module_version": "1.5.0",
            "_view_name": "ProgressView",
            "bar_style": "",
            "description": "",
            "description_tooltip": null,
            "layout": "IPY_MODEL_1d3aae6917794767ac40e96acb47991c",
            "max": 120000,
            "min": 0,
            "orientation": "horizontal",
            "style": "IPY_MODEL_8fbc719d192c4299a9fa9403c17a4c46",
            "value": 120000
          }
        },
        "615d1b30066e44ed907f1a2033556f69": {
          "model_module": "@jupyter-widgets/controls",
          "model_name": "HTMLModel",
          "model_module_version": "1.5.0",
          "state": {
            "_dom_classes": [],
            "_model_module": "@jupyter-widgets/controls",
            "_model_module_version": "1.5.0",
            "_model_name": "HTMLModel",
            "_view_count": null,
            "_view_module": "@jupyter-widgets/controls",
            "_view_module_version": "1.5.0",
            "_view_name": "HTMLView",
            "description": "",
            "description_tooltip": null,
            "layout": "IPY_MODEL_88f1b3d4f91d43d4b7574e9ebc183b14",
            "placeholder": "​",
            "style": "IPY_MODEL_35f93162fffa473c944be20746df9129",
            "value": " 119453/120000 [00:03&lt;00:00, 34505.07 examples/s]"
          }
        },
        "2cd5b7c8b2a145e6ba2c18dedbeb15d9": {
          "model_module": "@jupyter-widgets/base",
          "model_name": "LayoutModel",
          "model_module_version": "1.2.0",
          "state": {
            "_model_module": "@jupyter-widgets/base",
            "_model_module_version": "1.2.0",
            "_model_name": "LayoutModel",
            "_view_count": null,
            "_view_module": "@jupyter-widgets/base",
            "_view_module_version": "1.2.0",
            "_view_name": "LayoutView",
            "align_content": null,
            "align_items": null,
            "align_self": null,
            "border": null,
            "bottom": null,
            "display": null,
            "flex": null,
            "flex_flow": null,
            "grid_area": null,
            "grid_auto_columns": null,
            "grid_auto_flow": null,
            "grid_auto_rows": null,
            "grid_column": null,
            "grid_gap": null,
            "grid_row": null,
            "grid_template_areas": null,
            "grid_template_columns": null,
            "grid_template_rows": null,
            "height": null,
            "justify_content": null,
            "justify_items": null,
            "left": null,
            "margin": null,
            "max_height": null,
            "max_width": null,
            "min_height": null,
            "min_width": null,
            "object_fit": null,
            "object_position": null,
            "order": null,
            "overflow": null,
            "overflow_x": null,
            "overflow_y": null,
            "padding": null,
            "right": null,
            "top": null,
            "visibility": "hidden",
            "width": null
          }
        },
        "d8ee299919cf442b9877b7298ea6cf60": {
          "model_module": "@jupyter-widgets/base",
          "model_name": "LayoutModel",
          "model_module_version": "1.2.0",
          "state": {
            "_model_module": "@jupyter-widgets/base",
            "_model_module_version": "1.2.0",
            "_model_name": "LayoutModel",
            "_view_count": null,
            "_view_module": "@jupyter-widgets/base",
            "_view_module_version": "1.2.0",
            "_view_name": "LayoutView",
            "align_content": null,
            "align_items": null,
            "align_self": null,
            "border": null,
            "bottom": null,
            "display": null,
            "flex": null,
            "flex_flow": null,
            "grid_area": null,
            "grid_auto_columns": null,
            "grid_auto_flow": null,
            "grid_auto_rows": null,
            "grid_column": null,
            "grid_gap": null,
            "grid_row": null,
            "grid_template_areas": null,
            "grid_template_columns": null,
            "grid_template_rows": null,
            "height": null,
            "justify_content": null,
            "justify_items": null,
            "left": null,
            "margin": null,
            "max_height": null,
            "max_width": null,
            "min_height": null,
            "min_width": null,
            "object_fit": null,
            "object_position": null,
            "order": null,
            "overflow": null,
            "overflow_x": null,
            "overflow_y": null,
            "padding": null,
            "right": null,
            "top": null,
            "visibility": null,
            "width": null
          }
        },
        "8aa873a34927449491b8115ede9f18de": {
          "model_module": "@jupyter-widgets/controls",
          "model_name": "DescriptionStyleModel",
          "model_module_version": "1.5.0",
          "state": {
            "_model_module": "@jupyter-widgets/controls",
            "_model_module_version": "1.5.0",
            "_model_name": "DescriptionStyleModel",
            "_view_count": null,
            "_view_module": "@jupyter-widgets/base",
            "_view_module_version": "1.2.0",
            "_view_name": "StyleView",
            "description_width": ""
          }
        },
        "1d3aae6917794767ac40e96acb47991c": {
          "model_module": "@jupyter-widgets/base",
          "model_name": "LayoutModel",
          "model_module_version": "1.2.0",
          "state": {
            "_model_module": "@jupyter-widgets/base",
            "_model_module_version": "1.2.0",
            "_model_name": "LayoutModel",
            "_view_count": null,
            "_view_module": "@jupyter-widgets/base",
            "_view_module_version": "1.2.0",
            "_view_name": "LayoutView",
            "align_content": null,
            "align_items": null,
            "align_self": null,
            "border": null,
            "bottom": null,
            "display": null,
            "flex": null,
            "flex_flow": null,
            "grid_area": null,
            "grid_auto_columns": null,
            "grid_auto_flow": null,
            "grid_auto_rows": null,
            "grid_column": null,
            "grid_gap": null,
            "grid_row": null,
            "grid_template_areas": null,
            "grid_template_columns": null,
            "grid_template_rows": null,
            "height": null,
            "justify_content": null,
            "justify_items": null,
            "left": null,
            "margin": null,
            "max_height": null,
            "max_width": null,
            "min_height": null,
            "min_width": null,
            "object_fit": null,
            "object_position": null,
            "order": null,
            "overflow": null,
            "overflow_x": null,
            "overflow_y": null,
            "padding": null,
            "right": null,
            "top": null,
            "visibility": null,
            "width": null
          }
        },
        "8fbc719d192c4299a9fa9403c17a4c46": {
          "model_module": "@jupyter-widgets/controls",
          "model_name": "ProgressStyleModel",
          "model_module_version": "1.5.0",
          "state": {
            "_model_module": "@jupyter-widgets/controls",
            "_model_module_version": "1.5.0",
            "_model_name": "ProgressStyleModel",
            "_view_count": null,
            "_view_module": "@jupyter-widgets/base",
            "_view_module_version": "1.2.0",
            "_view_name": "StyleView",
            "bar_color": null,
            "description_width": ""
          }
        },
        "88f1b3d4f91d43d4b7574e9ebc183b14": {
          "model_module": "@jupyter-widgets/base",
          "model_name": "LayoutModel",
          "model_module_version": "1.2.0",
          "state": {
            "_model_module": "@jupyter-widgets/base",
            "_model_module_version": "1.2.0",
            "_model_name": "LayoutModel",
            "_view_count": null,
            "_view_module": "@jupyter-widgets/base",
            "_view_module_version": "1.2.0",
            "_view_name": "LayoutView",
            "align_content": null,
            "align_items": null,
            "align_self": null,
            "border": null,
            "bottom": null,
            "display": null,
            "flex": null,
            "flex_flow": null,
            "grid_area": null,
            "grid_auto_columns": null,
            "grid_auto_flow": null,
            "grid_auto_rows": null,
            "grid_column": null,
            "grid_gap": null,
            "grid_row": null,
            "grid_template_areas": null,
            "grid_template_columns": null,
            "grid_template_rows": null,
            "height": null,
            "justify_content": null,
            "justify_items": null,
            "left": null,
            "margin": null,
            "max_height": null,
            "max_width": null,
            "min_height": null,
            "min_width": null,
            "object_fit": null,
            "object_position": null,
            "order": null,
            "overflow": null,
            "overflow_x": null,
            "overflow_y": null,
            "padding": null,
            "right": null,
            "top": null,
            "visibility": null,
            "width": null
          }
        },
        "35f93162fffa473c944be20746df9129": {
          "model_module": "@jupyter-widgets/controls",
          "model_name": "DescriptionStyleModel",
          "model_module_version": "1.5.0",
          "state": {
            "_model_module": "@jupyter-widgets/controls",
            "_model_module_version": "1.5.0",
            "_model_name": "DescriptionStyleModel",
            "_view_count": null,
            "_view_module": "@jupyter-widgets/base",
            "_view_module_version": "1.2.0",
            "_view_name": "StyleView",
            "description_width": ""
          }
        },
        "5d7832732f734e0a81dabb19cb0eb294": {
          "model_module": "@jupyter-widgets/controls",
          "model_name": "HBoxModel",
          "model_module_version": "1.5.0",
          "state": {
            "_dom_classes": [],
            "_model_module": "@jupyter-widgets/controls",
            "_model_module_version": "1.5.0",
            "_model_name": "HBoxModel",
            "_view_count": null,
            "_view_module": "@jupyter-widgets/controls",
            "_view_module_version": "1.5.0",
            "_view_name": "HBoxView",
            "box_style": "",
            "children": [
              "IPY_MODEL_83bf2cd8a1724b7785292d3957cf8c2a",
              "IPY_MODEL_e5ddea631d0e41a284192a245b22771e",
              "IPY_MODEL_d5d6c6d741c54ab3b4e07a81eee70bbb"
            ],
            "layout": "IPY_MODEL_adee46dba91f4c629110e8e1a24d7c81"
          }
        },
        "83bf2cd8a1724b7785292d3957cf8c2a": {
          "model_module": "@jupyter-widgets/controls",
          "model_name": "HTMLModel",
          "model_module_version": "1.5.0",
          "state": {
            "_dom_classes": [],
            "_model_module": "@jupyter-widgets/controls",
            "_model_module_version": "1.5.0",
            "_model_name": "HTMLModel",
            "_view_count": null,
            "_view_module": "@jupyter-widgets/controls",
            "_view_module_version": "1.5.0",
            "_view_name": "HTMLView",
            "description": "",
            "description_tooltip": null,
            "layout": "IPY_MODEL_77e1ec5979734919b3c7bc0a92cbfacf",
            "placeholder": "​",
            "style": "IPY_MODEL_dc994a3dd21f466faf11cfc094dd7b2c",
            "value": "Generating test split:  79%"
          }
        },
        "e5ddea631d0e41a284192a245b22771e": {
          "model_module": "@jupyter-widgets/controls",
          "model_name": "FloatProgressModel",
          "model_module_version": "1.5.0",
          "state": {
            "_dom_classes": [],
            "_model_module": "@jupyter-widgets/controls",
            "_model_module_version": "1.5.0",
            "_model_name": "FloatProgressModel",
            "_view_count": null,
            "_view_module": "@jupyter-widgets/controls",
            "_view_module_version": "1.5.0",
            "_view_name": "ProgressView",
            "bar_style": "",
            "description": "",
            "description_tooltip": null,
            "layout": "IPY_MODEL_a90fb73da2384336b026e7ff6e7f7a94",
            "max": 7600,
            "min": 0,
            "orientation": "horizontal",
            "style": "IPY_MODEL_e2b2142722e84ab1b2cb70ad593eaef4",
            "value": 7600
          }
        },
        "d5d6c6d741c54ab3b4e07a81eee70bbb": {
          "model_module": "@jupyter-widgets/controls",
          "model_name": "HTMLModel",
          "model_module_version": "1.5.0",
          "state": {
            "_dom_classes": [],
            "_model_module": "@jupyter-widgets/controls",
            "_model_module_version": "1.5.0",
            "_model_name": "HTMLModel",
            "_view_count": null,
            "_view_module": "@jupyter-widgets/controls",
            "_view_module_version": "1.5.0",
            "_view_name": "HTMLView",
            "description": "",
            "description_tooltip": null,
            "layout": "IPY_MODEL_bbd551095e70453ca905208b7e370af0",
            "placeholder": "​",
            "style": "IPY_MODEL_8b8fee810a2c4208bbf261190b052d4a",
            "value": " 5986/7600 [00:00&lt;00:00, 30274.54 examples/s]"
          }
        },
        "adee46dba91f4c629110e8e1a24d7c81": {
          "model_module": "@jupyter-widgets/base",
          "model_name": "LayoutModel",
          "model_module_version": "1.2.0",
          "state": {
            "_model_module": "@jupyter-widgets/base",
            "_model_module_version": "1.2.0",
            "_model_name": "LayoutModel",
            "_view_count": null,
            "_view_module": "@jupyter-widgets/base",
            "_view_module_version": "1.2.0",
            "_view_name": "LayoutView",
            "align_content": null,
            "align_items": null,
            "align_self": null,
            "border": null,
            "bottom": null,
            "display": null,
            "flex": null,
            "flex_flow": null,
            "grid_area": null,
            "grid_auto_columns": null,
            "grid_auto_flow": null,
            "grid_auto_rows": null,
            "grid_column": null,
            "grid_gap": null,
            "grid_row": null,
            "grid_template_areas": null,
            "grid_template_columns": null,
            "grid_template_rows": null,
            "height": null,
            "justify_content": null,
            "justify_items": null,
            "left": null,
            "margin": null,
            "max_height": null,
            "max_width": null,
            "min_height": null,
            "min_width": null,
            "object_fit": null,
            "object_position": null,
            "order": null,
            "overflow": null,
            "overflow_x": null,
            "overflow_y": null,
            "padding": null,
            "right": null,
            "top": null,
            "visibility": "hidden",
            "width": null
          }
        },
        "77e1ec5979734919b3c7bc0a92cbfacf": {
          "model_module": "@jupyter-widgets/base",
          "model_name": "LayoutModel",
          "model_module_version": "1.2.0",
          "state": {
            "_model_module": "@jupyter-widgets/base",
            "_model_module_version": "1.2.0",
            "_model_name": "LayoutModel",
            "_view_count": null,
            "_view_module": "@jupyter-widgets/base",
            "_view_module_version": "1.2.0",
            "_view_name": "LayoutView",
            "align_content": null,
            "align_items": null,
            "align_self": null,
            "border": null,
            "bottom": null,
            "display": null,
            "flex": null,
            "flex_flow": null,
            "grid_area": null,
            "grid_auto_columns": null,
            "grid_auto_flow": null,
            "grid_auto_rows": null,
            "grid_column": null,
            "grid_gap": null,
            "grid_row": null,
            "grid_template_areas": null,
            "grid_template_columns": null,
            "grid_template_rows": null,
            "height": null,
            "justify_content": null,
            "justify_items": null,
            "left": null,
            "margin": null,
            "max_height": null,
            "max_width": null,
            "min_height": null,
            "min_width": null,
            "object_fit": null,
            "object_position": null,
            "order": null,
            "overflow": null,
            "overflow_x": null,
            "overflow_y": null,
            "padding": null,
            "right": null,
            "top": null,
            "visibility": null,
            "width": null
          }
        },
        "dc994a3dd21f466faf11cfc094dd7b2c": {
          "model_module": "@jupyter-widgets/controls",
          "model_name": "DescriptionStyleModel",
          "model_module_version": "1.5.0",
          "state": {
            "_model_module": "@jupyter-widgets/controls",
            "_model_module_version": "1.5.0",
            "_model_name": "DescriptionStyleModel",
            "_view_count": null,
            "_view_module": "@jupyter-widgets/base",
            "_view_module_version": "1.2.0",
            "_view_name": "StyleView",
            "description_width": ""
          }
        },
        "a90fb73da2384336b026e7ff6e7f7a94": {
          "model_module": "@jupyter-widgets/base",
          "model_name": "LayoutModel",
          "model_module_version": "1.2.0",
          "state": {
            "_model_module": "@jupyter-widgets/base",
            "_model_module_version": "1.2.0",
            "_model_name": "LayoutModel",
            "_view_count": null,
            "_view_module": "@jupyter-widgets/base",
            "_view_module_version": "1.2.0",
            "_view_name": "LayoutView",
            "align_content": null,
            "align_items": null,
            "align_self": null,
            "border": null,
            "bottom": null,
            "display": null,
            "flex": null,
            "flex_flow": null,
            "grid_area": null,
            "grid_auto_columns": null,
            "grid_auto_flow": null,
            "grid_auto_rows": null,
            "grid_column": null,
            "grid_gap": null,
            "grid_row": null,
            "grid_template_areas": null,
            "grid_template_columns": null,
            "grid_template_rows": null,
            "height": null,
            "justify_content": null,
            "justify_items": null,
            "left": null,
            "margin": null,
            "max_height": null,
            "max_width": null,
            "min_height": null,
            "min_width": null,
            "object_fit": null,
            "object_position": null,
            "order": null,
            "overflow": null,
            "overflow_x": null,
            "overflow_y": null,
            "padding": null,
            "right": null,
            "top": null,
            "visibility": null,
            "width": null
          }
        },
        "e2b2142722e84ab1b2cb70ad593eaef4": {
          "model_module": "@jupyter-widgets/controls",
          "model_name": "ProgressStyleModel",
          "model_module_version": "1.5.0",
          "state": {
            "_model_module": "@jupyter-widgets/controls",
            "_model_module_version": "1.5.0",
            "_model_name": "ProgressStyleModel",
            "_view_count": null,
            "_view_module": "@jupyter-widgets/base",
            "_view_module_version": "1.2.0",
            "_view_name": "StyleView",
            "bar_color": null,
            "description_width": ""
          }
        },
        "bbd551095e70453ca905208b7e370af0": {
          "model_module": "@jupyter-widgets/base",
          "model_name": "LayoutModel",
          "model_module_version": "1.2.0",
          "state": {
            "_model_module": "@jupyter-widgets/base",
            "_model_module_version": "1.2.0",
            "_model_name": "LayoutModel",
            "_view_count": null,
            "_view_module": "@jupyter-widgets/base",
            "_view_module_version": "1.2.0",
            "_view_name": "LayoutView",
            "align_content": null,
            "align_items": null,
            "align_self": null,
            "border": null,
            "bottom": null,
            "display": null,
            "flex": null,
            "flex_flow": null,
            "grid_area": null,
            "grid_auto_columns": null,
            "grid_auto_flow": null,
            "grid_auto_rows": null,
            "grid_column": null,
            "grid_gap": null,
            "grid_row": null,
            "grid_template_areas": null,
            "grid_template_columns": null,
            "grid_template_rows": null,
            "height": null,
            "justify_content": null,
            "justify_items": null,
            "left": null,
            "margin": null,
            "max_height": null,
            "max_width": null,
            "min_height": null,
            "min_width": null,
            "object_fit": null,
            "object_position": null,
            "order": null,
            "overflow": null,
            "overflow_x": null,
            "overflow_y": null,
            "padding": null,
            "right": null,
            "top": null,
            "visibility": null,
            "width": null
          }
        },
        "8b8fee810a2c4208bbf261190b052d4a": {
          "model_module": "@jupyter-widgets/controls",
          "model_name": "DescriptionStyleModel",
          "model_module_version": "1.5.0",
          "state": {
            "_model_module": "@jupyter-widgets/controls",
            "_model_module_version": "1.5.0",
            "_model_name": "DescriptionStyleModel",
            "_view_count": null,
            "_view_module": "@jupyter-widgets/base",
            "_view_module_version": "1.2.0",
            "_view_name": "StyleView",
            "description_width": ""
          }
        },
        "d504028e350f4bcdb42d3e1a66b92a99": {
          "model_module": "@jupyter-widgets/controls",
          "model_name": "HBoxModel",
          "model_module_version": "1.5.0",
          "state": {
            "_dom_classes": [],
            "_model_module": "@jupyter-widgets/controls",
            "_model_module_version": "1.5.0",
            "_model_name": "HBoxModel",
            "_view_count": null,
            "_view_module": "@jupyter-widgets/controls",
            "_view_module_version": "1.5.0",
            "_view_name": "HBoxView",
            "box_style": "",
            "children": [
              "IPY_MODEL_8c56820f86d74486ace45506c3e529e0",
              "IPY_MODEL_cdbbfa837f6248719f50f2fdf8742680",
              "IPY_MODEL_d66a7980775647daacc59a5b87dee5df"
            ],
            "layout": "IPY_MODEL_2f648b33f97f48b8a1845b954749b4d7"
          }
        },
        "8c56820f86d74486ace45506c3e529e0": {
          "model_module": "@jupyter-widgets/controls",
          "model_name": "HTMLModel",
          "model_module_version": "1.5.0",
          "state": {
            "_dom_classes": [],
            "_model_module": "@jupyter-widgets/controls",
            "_model_module_version": "1.5.0",
            "_model_name": "HTMLModel",
            "_view_count": null,
            "_view_module": "@jupyter-widgets/controls",
            "_view_module_version": "1.5.0",
            "_view_name": "HTMLView",
            "description": "",
            "description_tooltip": null,
            "layout": "IPY_MODEL_a3a62ac92b554a948e5a34161bc8c08d",
            "placeholder": "​",
            "style": "IPY_MODEL_b489f70803314220b60ecf5c7ea6a2cf",
            "value": "Downloading (…)lve/main/config.json: 100%"
          }
        },
        "cdbbfa837f6248719f50f2fdf8742680": {
          "model_module": "@jupyter-widgets/controls",
          "model_name": "FloatProgressModel",
          "model_module_version": "1.5.0",
          "state": {
            "_dom_classes": [],
            "_model_module": "@jupyter-widgets/controls",
            "_model_module_version": "1.5.0",
            "_model_name": "FloatProgressModel",
            "_view_count": null,
            "_view_module": "@jupyter-widgets/controls",
            "_view_module_version": "1.5.0",
            "_view_name": "ProgressView",
            "bar_style": "success",
            "description": "",
            "description_tooltip": null,
            "layout": "IPY_MODEL_70fb0be4db844aa0ac3c44e90c805b95",
            "max": 754,
            "min": 0,
            "orientation": "horizontal",
            "style": "IPY_MODEL_70885d5bd5424b94a0718bd0294ec211",
            "value": 754
          }
        },
        "d66a7980775647daacc59a5b87dee5df": {
          "model_module": "@jupyter-widgets/controls",
          "model_name": "HTMLModel",
          "model_module_version": "1.5.0",
          "state": {
            "_dom_classes": [],
            "_model_module": "@jupyter-widgets/controls",
            "_model_module_version": "1.5.0",
            "_model_name": "HTMLModel",
            "_view_count": null,
            "_view_module": "@jupyter-widgets/controls",
            "_view_module_version": "1.5.0",
            "_view_name": "HTMLView",
            "description": "",
            "description_tooltip": null,
            "layout": "IPY_MODEL_025f1b8dbb6b4e3b8306fc80cb5b240d",
            "placeholder": "​",
            "style": "IPY_MODEL_13acadb394e34ecb8d56c55c989cba04",
            "value": " 754/754 [00:00&lt;00:00, 35.7kB/s]"
          }
        },
        "2f648b33f97f48b8a1845b954749b4d7": {
          "model_module": "@jupyter-widgets/base",
          "model_name": "LayoutModel",
          "model_module_version": "1.2.0",
          "state": {
            "_model_module": "@jupyter-widgets/base",
            "_model_module_version": "1.2.0",
            "_model_name": "LayoutModel",
            "_view_count": null,
            "_view_module": "@jupyter-widgets/base",
            "_view_module_version": "1.2.0",
            "_view_name": "LayoutView",
            "align_content": null,
            "align_items": null,
            "align_self": null,
            "border": null,
            "bottom": null,
            "display": null,
            "flex": null,
            "flex_flow": null,
            "grid_area": null,
            "grid_auto_columns": null,
            "grid_auto_flow": null,
            "grid_auto_rows": null,
            "grid_column": null,
            "grid_gap": null,
            "grid_row": null,
            "grid_template_areas": null,
            "grid_template_columns": null,
            "grid_template_rows": null,
            "height": null,
            "justify_content": null,
            "justify_items": null,
            "left": null,
            "margin": null,
            "max_height": null,
            "max_width": null,
            "min_height": null,
            "min_width": null,
            "object_fit": null,
            "object_position": null,
            "order": null,
            "overflow": null,
            "overflow_x": null,
            "overflow_y": null,
            "padding": null,
            "right": null,
            "top": null,
            "visibility": null,
            "width": null
          }
        },
        "a3a62ac92b554a948e5a34161bc8c08d": {
          "model_module": "@jupyter-widgets/base",
          "model_name": "LayoutModel",
          "model_module_version": "1.2.0",
          "state": {
            "_model_module": "@jupyter-widgets/base",
            "_model_module_version": "1.2.0",
            "_model_name": "LayoutModel",
            "_view_count": null,
            "_view_module": "@jupyter-widgets/base",
            "_view_module_version": "1.2.0",
            "_view_name": "LayoutView",
            "align_content": null,
            "align_items": null,
            "align_self": null,
            "border": null,
            "bottom": null,
            "display": null,
            "flex": null,
            "flex_flow": null,
            "grid_area": null,
            "grid_auto_columns": null,
            "grid_auto_flow": null,
            "grid_auto_rows": null,
            "grid_column": null,
            "grid_gap": null,
            "grid_row": null,
            "grid_template_areas": null,
            "grid_template_columns": null,
            "grid_template_rows": null,
            "height": null,
            "justify_content": null,
            "justify_items": null,
            "left": null,
            "margin": null,
            "max_height": null,
            "max_width": null,
            "min_height": null,
            "min_width": null,
            "object_fit": null,
            "object_position": null,
            "order": null,
            "overflow": null,
            "overflow_x": null,
            "overflow_y": null,
            "padding": null,
            "right": null,
            "top": null,
            "visibility": null,
            "width": null
          }
        },
        "b489f70803314220b60ecf5c7ea6a2cf": {
          "model_module": "@jupyter-widgets/controls",
          "model_name": "DescriptionStyleModel",
          "model_module_version": "1.5.0",
          "state": {
            "_model_module": "@jupyter-widgets/controls",
            "_model_module_version": "1.5.0",
            "_model_name": "DescriptionStyleModel",
            "_view_count": null,
            "_view_module": "@jupyter-widgets/base",
            "_view_module_version": "1.2.0",
            "_view_name": "StyleView",
            "description_width": ""
          }
        },
        "70fb0be4db844aa0ac3c44e90c805b95": {
          "model_module": "@jupyter-widgets/base",
          "model_name": "LayoutModel",
          "model_module_version": "1.2.0",
          "state": {
            "_model_module": "@jupyter-widgets/base",
            "_model_module_version": "1.2.0",
            "_model_name": "LayoutModel",
            "_view_count": null,
            "_view_module": "@jupyter-widgets/base",
            "_view_module_version": "1.2.0",
            "_view_name": "LayoutView",
            "align_content": null,
            "align_items": null,
            "align_self": null,
            "border": null,
            "bottom": null,
            "display": null,
            "flex": null,
            "flex_flow": null,
            "grid_area": null,
            "grid_auto_columns": null,
            "grid_auto_flow": null,
            "grid_auto_rows": null,
            "grid_column": null,
            "grid_gap": null,
            "grid_row": null,
            "grid_template_areas": null,
            "grid_template_columns": null,
            "grid_template_rows": null,
            "height": null,
            "justify_content": null,
            "justify_items": null,
            "left": null,
            "margin": null,
            "max_height": null,
            "max_width": null,
            "min_height": null,
            "min_width": null,
            "object_fit": null,
            "object_position": null,
            "order": null,
            "overflow": null,
            "overflow_x": null,
            "overflow_y": null,
            "padding": null,
            "right": null,
            "top": null,
            "visibility": null,
            "width": null
          }
        },
        "70885d5bd5424b94a0718bd0294ec211": {
          "model_module": "@jupyter-widgets/controls",
          "model_name": "ProgressStyleModel",
          "model_module_version": "1.5.0",
          "state": {
            "_model_module": "@jupyter-widgets/controls",
            "_model_module_version": "1.5.0",
            "_model_name": "ProgressStyleModel",
            "_view_count": null,
            "_view_module": "@jupyter-widgets/base",
            "_view_module_version": "1.2.0",
            "_view_name": "StyleView",
            "bar_color": null,
            "description_width": ""
          }
        },
        "025f1b8dbb6b4e3b8306fc80cb5b240d": {
          "model_module": "@jupyter-widgets/base",
          "model_name": "LayoutModel",
          "model_module_version": "1.2.0",
          "state": {
            "_model_module": "@jupyter-widgets/base",
            "_model_module_version": "1.2.0",
            "_model_name": "LayoutModel",
            "_view_count": null,
            "_view_module": "@jupyter-widgets/base",
            "_view_module_version": "1.2.0",
            "_view_name": "LayoutView",
            "align_content": null,
            "align_items": null,
            "align_self": null,
            "border": null,
            "bottom": null,
            "display": null,
            "flex": null,
            "flex_flow": null,
            "grid_area": null,
            "grid_auto_columns": null,
            "grid_auto_flow": null,
            "grid_auto_rows": null,
            "grid_column": null,
            "grid_gap": null,
            "grid_row": null,
            "grid_template_areas": null,
            "grid_template_columns": null,
            "grid_template_rows": null,
            "height": null,
            "justify_content": null,
            "justify_items": null,
            "left": null,
            "margin": null,
            "max_height": null,
            "max_width": null,
            "min_height": null,
            "min_width": null,
            "object_fit": null,
            "object_position": null,
            "order": null,
            "overflow": null,
            "overflow_x": null,
            "overflow_y": null,
            "padding": null,
            "right": null,
            "top": null,
            "visibility": null,
            "width": null
          }
        },
        "13acadb394e34ecb8d56c55c989cba04": {
          "model_module": "@jupyter-widgets/controls",
          "model_name": "DescriptionStyleModel",
          "model_module_version": "1.5.0",
          "state": {
            "_model_module": "@jupyter-widgets/controls",
            "_model_module_version": "1.5.0",
            "_model_name": "DescriptionStyleModel",
            "_view_count": null,
            "_view_module": "@jupyter-widgets/base",
            "_view_module_version": "1.2.0",
            "_view_name": "StyleView",
            "description_width": ""
          }
        },
        "20cec0d988e1430381ae6219fb4164fc": {
          "model_module": "@jupyter-widgets/controls",
          "model_name": "HBoxModel",
          "model_module_version": "1.5.0",
          "state": {
            "_dom_classes": [],
            "_model_module": "@jupyter-widgets/controls",
            "_model_module_version": "1.5.0",
            "_model_name": "HBoxModel",
            "_view_count": null,
            "_view_module": "@jupyter-widgets/controls",
            "_view_module_version": "1.5.0",
            "_view_name": "HBoxView",
            "box_style": "",
            "children": [
              "IPY_MODEL_12e60b5e07224476b04ea35b709ea30f",
              "IPY_MODEL_92017fa4bd624c1a8a77463468f1036d",
              "IPY_MODEL_68e3fc51ea9449e0aca8d634a7c33d6f"
            ],
            "layout": "IPY_MODEL_79a5c2f3393647e4b66dfabd61a2f10d"
          }
        },
        "12e60b5e07224476b04ea35b709ea30f": {
          "model_module": "@jupyter-widgets/controls",
          "model_name": "HTMLModel",
          "model_module_version": "1.5.0",
          "state": {
            "_dom_classes": [],
            "_model_module": "@jupyter-widgets/controls",
            "_model_module_version": "1.5.0",
            "_model_name": "HTMLModel",
            "_view_count": null,
            "_view_module": "@jupyter-widgets/controls",
            "_view_module_version": "1.5.0",
            "_view_name": "HTMLView",
            "description": "",
            "description_tooltip": null,
            "layout": "IPY_MODEL_95cfe0eda1c344dbae8e607da972bbd9",
            "placeholder": "​",
            "style": "IPY_MODEL_b6b48cb25f464e36beb4477d472cdc97",
            "value": "Downloading pytorch_model.bin: 100%"
          }
        },
        "92017fa4bd624c1a8a77463468f1036d": {
          "model_module": "@jupyter-widgets/controls",
          "model_name": "FloatProgressModel",
          "model_module_version": "1.5.0",
          "state": {
            "_dom_classes": [],
            "_model_module": "@jupyter-widgets/controls",
            "_model_module_version": "1.5.0",
            "_model_name": "FloatProgressModel",
            "_view_count": null,
            "_view_module": "@jupyter-widgets/controls",
            "_view_module_version": "1.5.0",
            "_view_name": "ProgressView",
            "bar_style": "success",
            "description": "",
            "description_tooltip": null,
            "layout": "IPY_MODEL_5277135959414d0b95d7c99043435766",
            "max": 501009162,
            "min": 0,
            "orientation": "horizontal",
            "style": "IPY_MODEL_2765eb537f19406aabbc934d19184da0",
            "value": 501009162
          }
        },
        "68e3fc51ea9449e0aca8d634a7c33d6f": {
          "model_module": "@jupyter-widgets/controls",
          "model_name": "HTMLModel",
          "model_module_version": "1.5.0",
          "state": {
            "_dom_classes": [],
            "_model_module": "@jupyter-widgets/controls",
            "_model_module_version": "1.5.0",
            "_model_name": "HTMLModel",
            "_view_count": null,
            "_view_module": "@jupyter-widgets/controls",
            "_view_module_version": "1.5.0",
            "_view_name": "HTMLView",
            "description": "",
            "description_tooltip": null,
            "layout": "IPY_MODEL_b5a70c0dab704791ad8cbc2057d5320d",
            "placeholder": "​",
            "style": "IPY_MODEL_e1c9f41a1cc84925bcca681428e39bc4",
            "value": " 501M/501M [00:03&lt;00:00, 118MB/s]"
          }
        },
        "79a5c2f3393647e4b66dfabd61a2f10d": {
          "model_module": "@jupyter-widgets/base",
          "model_name": "LayoutModel",
          "model_module_version": "1.2.0",
          "state": {
            "_model_module": "@jupyter-widgets/base",
            "_model_module_version": "1.2.0",
            "_model_name": "LayoutModel",
            "_view_count": null,
            "_view_module": "@jupyter-widgets/base",
            "_view_module_version": "1.2.0",
            "_view_name": "LayoutView",
            "align_content": null,
            "align_items": null,
            "align_self": null,
            "border": null,
            "bottom": null,
            "display": null,
            "flex": null,
            "flex_flow": null,
            "grid_area": null,
            "grid_auto_columns": null,
            "grid_auto_flow": null,
            "grid_auto_rows": null,
            "grid_column": null,
            "grid_gap": null,
            "grid_row": null,
            "grid_template_areas": null,
            "grid_template_columns": null,
            "grid_template_rows": null,
            "height": null,
            "justify_content": null,
            "justify_items": null,
            "left": null,
            "margin": null,
            "max_height": null,
            "max_width": null,
            "min_height": null,
            "min_width": null,
            "object_fit": null,
            "object_position": null,
            "order": null,
            "overflow": null,
            "overflow_x": null,
            "overflow_y": null,
            "padding": null,
            "right": null,
            "top": null,
            "visibility": null,
            "width": null
          }
        },
        "95cfe0eda1c344dbae8e607da972bbd9": {
          "model_module": "@jupyter-widgets/base",
          "model_name": "LayoutModel",
          "model_module_version": "1.2.0",
          "state": {
            "_model_module": "@jupyter-widgets/base",
            "_model_module_version": "1.2.0",
            "_model_name": "LayoutModel",
            "_view_count": null,
            "_view_module": "@jupyter-widgets/base",
            "_view_module_version": "1.2.0",
            "_view_name": "LayoutView",
            "align_content": null,
            "align_items": null,
            "align_self": null,
            "border": null,
            "bottom": null,
            "display": null,
            "flex": null,
            "flex_flow": null,
            "grid_area": null,
            "grid_auto_columns": null,
            "grid_auto_flow": null,
            "grid_auto_rows": null,
            "grid_column": null,
            "grid_gap": null,
            "grid_row": null,
            "grid_template_areas": null,
            "grid_template_columns": null,
            "grid_template_rows": null,
            "height": null,
            "justify_content": null,
            "justify_items": null,
            "left": null,
            "margin": null,
            "max_height": null,
            "max_width": null,
            "min_height": null,
            "min_width": null,
            "object_fit": null,
            "object_position": null,
            "order": null,
            "overflow": null,
            "overflow_x": null,
            "overflow_y": null,
            "padding": null,
            "right": null,
            "top": null,
            "visibility": null,
            "width": null
          }
        },
        "b6b48cb25f464e36beb4477d472cdc97": {
          "model_module": "@jupyter-widgets/controls",
          "model_name": "DescriptionStyleModel",
          "model_module_version": "1.5.0",
          "state": {
            "_model_module": "@jupyter-widgets/controls",
            "_model_module_version": "1.5.0",
            "_model_name": "DescriptionStyleModel",
            "_view_count": null,
            "_view_module": "@jupyter-widgets/base",
            "_view_module_version": "1.2.0",
            "_view_name": "StyleView",
            "description_width": ""
          }
        },
        "5277135959414d0b95d7c99043435766": {
          "model_module": "@jupyter-widgets/base",
          "model_name": "LayoutModel",
          "model_module_version": "1.2.0",
          "state": {
            "_model_module": "@jupyter-widgets/base",
            "_model_module_version": "1.2.0",
            "_model_name": "LayoutModel",
            "_view_count": null,
            "_view_module": "@jupyter-widgets/base",
            "_view_module_version": "1.2.0",
            "_view_name": "LayoutView",
            "align_content": null,
            "align_items": null,
            "align_self": null,
            "border": null,
            "bottom": null,
            "display": null,
            "flex": null,
            "flex_flow": null,
            "grid_area": null,
            "grid_auto_columns": null,
            "grid_auto_flow": null,
            "grid_auto_rows": null,
            "grid_column": null,
            "grid_gap": null,
            "grid_row": null,
            "grid_template_areas": null,
            "grid_template_columns": null,
            "grid_template_rows": null,
            "height": null,
            "justify_content": null,
            "justify_items": null,
            "left": null,
            "margin": null,
            "max_height": null,
            "max_width": null,
            "min_height": null,
            "min_width": null,
            "object_fit": null,
            "object_position": null,
            "order": null,
            "overflow": null,
            "overflow_x": null,
            "overflow_y": null,
            "padding": null,
            "right": null,
            "top": null,
            "visibility": null,
            "width": null
          }
        },
        "2765eb537f19406aabbc934d19184da0": {
          "model_module": "@jupyter-widgets/controls",
          "model_name": "ProgressStyleModel",
          "model_module_version": "1.5.0",
          "state": {
            "_model_module": "@jupyter-widgets/controls",
            "_model_module_version": "1.5.0",
            "_model_name": "ProgressStyleModel",
            "_view_count": null,
            "_view_module": "@jupyter-widgets/base",
            "_view_module_version": "1.2.0",
            "_view_name": "StyleView",
            "bar_color": null,
            "description_width": ""
          }
        },
        "b5a70c0dab704791ad8cbc2057d5320d": {
          "model_module": "@jupyter-widgets/base",
          "model_name": "LayoutModel",
          "model_module_version": "1.2.0",
          "state": {
            "_model_module": "@jupyter-widgets/base",
            "_model_module_version": "1.2.0",
            "_model_name": "LayoutModel",
            "_view_count": null,
            "_view_module": "@jupyter-widgets/base",
            "_view_module_version": "1.2.0",
            "_view_name": "LayoutView",
            "align_content": null,
            "align_items": null,
            "align_self": null,
            "border": null,
            "bottom": null,
            "display": null,
            "flex": null,
            "flex_flow": null,
            "grid_area": null,
            "grid_auto_columns": null,
            "grid_auto_flow": null,
            "grid_auto_rows": null,
            "grid_column": null,
            "grid_gap": null,
            "grid_row": null,
            "grid_template_areas": null,
            "grid_template_columns": null,
            "grid_template_rows": null,
            "height": null,
            "justify_content": null,
            "justify_items": null,
            "left": null,
            "margin": null,
            "max_height": null,
            "max_width": null,
            "min_height": null,
            "min_width": null,
            "object_fit": null,
            "object_position": null,
            "order": null,
            "overflow": null,
            "overflow_x": null,
            "overflow_y": null,
            "padding": null,
            "right": null,
            "top": null,
            "visibility": null,
            "width": null
          }
        },
        "e1c9f41a1cc84925bcca681428e39bc4": {
          "model_module": "@jupyter-widgets/controls",
          "model_name": "DescriptionStyleModel",
          "model_module_version": "1.5.0",
          "state": {
            "_model_module": "@jupyter-widgets/controls",
            "_model_module_version": "1.5.0",
            "_model_name": "DescriptionStyleModel",
            "_view_count": null,
            "_view_module": "@jupyter-widgets/base",
            "_view_module_version": "1.2.0",
            "_view_name": "StyleView",
            "description_width": ""
          }
        },
        "67d008d8e70548239c1fc30912ddf02d": {
          "model_module": "@jupyter-widgets/controls",
          "model_name": "HBoxModel",
          "model_module_version": "1.5.0",
          "state": {
            "_dom_classes": [],
            "_model_module": "@jupyter-widgets/controls",
            "_model_module_version": "1.5.0",
            "_model_name": "HBoxModel",
            "_view_count": null,
            "_view_module": "@jupyter-widgets/controls",
            "_view_module_version": "1.5.0",
            "_view_name": "HBoxView",
            "box_style": "",
            "children": [
              "IPY_MODEL_d5fe7109da6e440eb76e4c9f6e15b5d1",
              "IPY_MODEL_866d1eecb58c4c62bed0e111a5426e76",
              "IPY_MODEL_998d977b65fd40bf8e828e9e191e5ff1"
            ],
            "layout": "IPY_MODEL_72aa96323ea445e5a356a70a3e03baef"
          }
        },
        "d5fe7109da6e440eb76e4c9f6e15b5d1": {
          "model_module": "@jupyter-widgets/controls",
          "model_name": "HTMLModel",
          "model_module_version": "1.5.0",
          "state": {
            "_dom_classes": [],
            "_model_module": "@jupyter-widgets/controls",
            "_model_module_version": "1.5.0",
            "_model_name": "HTMLModel",
            "_view_count": null,
            "_view_module": "@jupyter-widgets/controls",
            "_view_module_version": "1.5.0",
            "_view_name": "HTMLView",
            "description": "",
            "description_tooltip": null,
            "layout": "IPY_MODEL_56b7a3787f4f4ae9b16c14f454203fbc",
            "placeholder": "​",
            "style": "IPY_MODEL_de39d882a11e4a69bd712bcdfa71383b",
            "value": "Downloading (…)okenizer_config.json: 100%"
          }
        },
        "866d1eecb58c4c62bed0e111a5426e76": {
          "model_module": "@jupyter-widgets/controls",
          "model_name": "FloatProgressModel",
          "model_module_version": "1.5.0",
          "state": {
            "_dom_classes": [],
            "_model_module": "@jupyter-widgets/controls",
            "_model_module_version": "1.5.0",
            "_model_name": "FloatProgressModel",
            "_view_count": null,
            "_view_module": "@jupyter-widgets/controls",
            "_view_module_version": "1.5.0",
            "_view_name": "ProgressView",
            "bar_style": "success",
            "description": "",
            "description_tooltip": null,
            "layout": "IPY_MODEL_7f5766727111477aa01fea7e946abcf8",
            "max": 25,
            "min": 0,
            "orientation": "horizontal",
            "style": "IPY_MODEL_85057e393ca248e2a42cd8393ddb0b2d",
            "value": 25
          }
        },
        "998d977b65fd40bf8e828e9e191e5ff1": {
          "model_module": "@jupyter-widgets/controls",
          "model_name": "HTMLModel",
          "model_module_version": "1.5.0",
          "state": {
            "_dom_classes": [],
            "_model_module": "@jupyter-widgets/controls",
            "_model_module_version": "1.5.0",
            "_model_name": "HTMLModel",
            "_view_count": null,
            "_view_module": "@jupyter-widgets/controls",
            "_view_module_version": "1.5.0",
            "_view_name": "HTMLView",
            "description": "",
            "description_tooltip": null,
            "layout": "IPY_MODEL_7c22b78735b945b08d1d3ef070bb23b1",
            "placeholder": "​",
            "style": "IPY_MODEL_2d51bd30594b47ceab835aa9cac3207c",
            "value": " 25.0/25.0 [00:00&lt;00:00, 1.70kB/s]"
          }
        },
        "72aa96323ea445e5a356a70a3e03baef": {
          "model_module": "@jupyter-widgets/base",
          "model_name": "LayoutModel",
          "model_module_version": "1.2.0",
          "state": {
            "_model_module": "@jupyter-widgets/base",
            "_model_module_version": "1.2.0",
            "_model_name": "LayoutModel",
            "_view_count": null,
            "_view_module": "@jupyter-widgets/base",
            "_view_module_version": "1.2.0",
            "_view_name": "LayoutView",
            "align_content": null,
            "align_items": null,
            "align_self": null,
            "border": null,
            "bottom": null,
            "display": null,
            "flex": null,
            "flex_flow": null,
            "grid_area": null,
            "grid_auto_columns": null,
            "grid_auto_flow": null,
            "grid_auto_rows": null,
            "grid_column": null,
            "grid_gap": null,
            "grid_row": null,
            "grid_template_areas": null,
            "grid_template_columns": null,
            "grid_template_rows": null,
            "height": null,
            "justify_content": null,
            "justify_items": null,
            "left": null,
            "margin": null,
            "max_height": null,
            "max_width": null,
            "min_height": null,
            "min_width": null,
            "object_fit": null,
            "object_position": null,
            "order": null,
            "overflow": null,
            "overflow_x": null,
            "overflow_y": null,
            "padding": null,
            "right": null,
            "top": null,
            "visibility": null,
            "width": null
          }
        },
        "56b7a3787f4f4ae9b16c14f454203fbc": {
          "model_module": "@jupyter-widgets/base",
          "model_name": "LayoutModel",
          "model_module_version": "1.2.0",
          "state": {
            "_model_module": "@jupyter-widgets/base",
            "_model_module_version": "1.2.0",
            "_model_name": "LayoutModel",
            "_view_count": null,
            "_view_module": "@jupyter-widgets/base",
            "_view_module_version": "1.2.0",
            "_view_name": "LayoutView",
            "align_content": null,
            "align_items": null,
            "align_self": null,
            "border": null,
            "bottom": null,
            "display": null,
            "flex": null,
            "flex_flow": null,
            "grid_area": null,
            "grid_auto_columns": null,
            "grid_auto_flow": null,
            "grid_auto_rows": null,
            "grid_column": null,
            "grid_gap": null,
            "grid_row": null,
            "grid_template_areas": null,
            "grid_template_columns": null,
            "grid_template_rows": null,
            "height": null,
            "justify_content": null,
            "justify_items": null,
            "left": null,
            "margin": null,
            "max_height": null,
            "max_width": null,
            "min_height": null,
            "min_width": null,
            "object_fit": null,
            "object_position": null,
            "order": null,
            "overflow": null,
            "overflow_x": null,
            "overflow_y": null,
            "padding": null,
            "right": null,
            "top": null,
            "visibility": null,
            "width": null
          }
        },
        "de39d882a11e4a69bd712bcdfa71383b": {
          "model_module": "@jupyter-widgets/controls",
          "model_name": "DescriptionStyleModel",
          "model_module_version": "1.5.0",
          "state": {
            "_model_module": "@jupyter-widgets/controls",
            "_model_module_version": "1.5.0",
            "_model_name": "DescriptionStyleModel",
            "_view_count": null,
            "_view_module": "@jupyter-widgets/base",
            "_view_module_version": "1.2.0",
            "_view_name": "StyleView",
            "description_width": ""
          }
        },
        "7f5766727111477aa01fea7e946abcf8": {
          "model_module": "@jupyter-widgets/base",
          "model_name": "LayoutModel",
          "model_module_version": "1.2.0",
          "state": {
            "_model_module": "@jupyter-widgets/base",
            "_model_module_version": "1.2.0",
            "_model_name": "LayoutModel",
            "_view_count": null,
            "_view_module": "@jupyter-widgets/base",
            "_view_module_version": "1.2.0",
            "_view_name": "LayoutView",
            "align_content": null,
            "align_items": null,
            "align_self": null,
            "border": null,
            "bottom": null,
            "display": null,
            "flex": null,
            "flex_flow": null,
            "grid_area": null,
            "grid_auto_columns": null,
            "grid_auto_flow": null,
            "grid_auto_rows": null,
            "grid_column": null,
            "grid_gap": null,
            "grid_row": null,
            "grid_template_areas": null,
            "grid_template_columns": null,
            "grid_template_rows": null,
            "height": null,
            "justify_content": null,
            "justify_items": null,
            "left": null,
            "margin": null,
            "max_height": null,
            "max_width": null,
            "min_height": null,
            "min_width": null,
            "object_fit": null,
            "object_position": null,
            "order": null,
            "overflow": null,
            "overflow_x": null,
            "overflow_y": null,
            "padding": null,
            "right": null,
            "top": null,
            "visibility": null,
            "width": null
          }
        },
        "85057e393ca248e2a42cd8393ddb0b2d": {
          "model_module": "@jupyter-widgets/controls",
          "model_name": "ProgressStyleModel",
          "model_module_version": "1.5.0",
          "state": {
            "_model_module": "@jupyter-widgets/controls",
            "_model_module_version": "1.5.0",
            "_model_name": "ProgressStyleModel",
            "_view_count": null,
            "_view_module": "@jupyter-widgets/base",
            "_view_module_version": "1.2.0",
            "_view_name": "StyleView",
            "bar_color": null,
            "description_width": ""
          }
        },
        "7c22b78735b945b08d1d3ef070bb23b1": {
          "model_module": "@jupyter-widgets/base",
          "model_name": "LayoutModel",
          "model_module_version": "1.2.0",
          "state": {
            "_model_module": "@jupyter-widgets/base",
            "_model_module_version": "1.2.0",
            "_model_name": "LayoutModel",
            "_view_count": null,
            "_view_module": "@jupyter-widgets/base",
            "_view_module_version": "1.2.0",
            "_view_name": "LayoutView",
            "align_content": null,
            "align_items": null,
            "align_self": null,
            "border": null,
            "bottom": null,
            "display": null,
            "flex": null,
            "flex_flow": null,
            "grid_area": null,
            "grid_auto_columns": null,
            "grid_auto_flow": null,
            "grid_auto_rows": null,
            "grid_column": null,
            "grid_gap": null,
            "grid_row": null,
            "grid_template_areas": null,
            "grid_template_columns": null,
            "grid_template_rows": null,
            "height": null,
            "justify_content": null,
            "justify_items": null,
            "left": null,
            "margin": null,
            "max_height": null,
            "max_width": null,
            "min_height": null,
            "min_width": null,
            "object_fit": null,
            "object_position": null,
            "order": null,
            "overflow": null,
            "overflow_x": null,
            "overflow_y": null,
            "padding": null,
            "right": null,
            "top": null,
            "visibility": null,
            "width": null
          }
        },
        "2d51bd30594b47ceab835aa9cac3207c": {
          "model_module": "@jupyter-widgets/controls",
          "model_name": "DescriptionStyleModel",
          "model_module_version": "1.5.0",
          "state": {
            "_model_module": "@jupyter-widgets/controls",
            "_model_module_version": "1.5.0",
            "_model_name": "DescriptionStyleModel",
            "_view_count": null,
            "_view_module": "@jupyter-widgets/base",
            "_view_module_version": "1.2.0",
            "_view_name": "StyleView",
            "description_width": ""
          }
        },
        "1f408055a11c4c2e8ffcba4e8e3058e9": {
          "model_module": "@jupyter-widgets/controls",
          "model_name": "HBoxModel",
          "model_module_version": "1.5.0",
          "state": {
            "_dom_classes": [],
            "_model_module": "@jupyter-widgets/controls",
            "_model_module_version": "1.5.0",
            "_model_name": "HBoxModel",
            "_view_count": null,
            "_view_module": "@jupyter-widgets/controls",
            "_view_module_version": "1.5.0",
            "_view_name": "HBoxView",
            "box_style": "",
            "children": [
              "IPY_MODEL_202a6f8be0e04947a64c084031e7b1f3",
              "IPY_MODEL_db695e00d8914ba4ae53a9486285bd21",
              "IPY_MODEL_ecc81477fe65469cbc59b9f01678894d"
            ],
            "layout": "IPY_MODEL_3821baa63aea451aad3acbfdc2899bbd"
          }
        },
        "202a6f8be0e04947a64c084031e7b1f3": {
          "model_module": "@jupyter-widgets/controls",
          "model_name": "HTMLModel",
          "model_module_version": "1.5.0",
          "state": {
            "_dom_classes": [],
            "_model_module": "@jupyter-widgets/controls",
            "_model_module_version": "1.5.0",
            "_model_name": "HTMLModel",
            "_view_count": null,
            "_view_module": "@jupyter-widgets/controls",
            "_view_module_version": "1.5.0",
            "_view_name": "HTMLView",
            "description": "",
            "description_tooltip": null,
            "layout": "IPY_MODEL_91dec0dd6ad24c0fa433750af8f2dfd8",
            "placeholder": "​",
            "style": "IPY_MODEL_dd56e682496246bb84a1aa192e8809cb",
            "value": "Downloading (…)olve/main/vocab.json: 100%"
          }
        },
        "db695e00d8914ba4ae53a9486285bd21": {
          "model_module": "@jupyter-widgets/controls",
          "model_name": "FloatProgressModel",
          "model_module_version": "1.5.0",
          "state": {
            "_dom_classes": [],
            "_model_module": "@jupyter-widgets/controls",
            "_model_module_version": "1.5.0",
            "_model_name": "FloatProgressModel",
            "_view_count": null,
            "_view_module": "@jupyter-widgets/controls",
            "_view_module_version": "1.5.0",
            "_view_name": "ProgressView",
            "bar_style": "success",
            "description": "",
            "description_tooltip": null,
            "layout": "IPY_MODEL_4a7243295d79448e8ccf0819dae703d2",
            "max": 798293,
            "min": 0,
            "orientation": "horizontal",
            "style": "IPY_MODEL_9c2b94706582402d89ed291a094ee153",
            "value": 798293
          }
        },
        "ecc81477fe65469cbc59b9f01678894d": {
          "model_module": "@jupyter-widgets/controls",
          "model_name": "HTMLModel",
          "model_module_version": "1.5.0",
          "state": {
            "_dom_classes": [],
            "_model_module": "@jupyter-widgets/controls",
            "_model_module_version": "1.5.0",
            "_model_name": "HTMLModel",
            "_view_count": null,
            "_view_module": "@jupyter-widgets/controls",
            "_view_module_version": "1.5.0",
            "_view_name": "HTMLView",
            "description": "",
            "description_tooltip": null,
            "layout": "IPY_MODEL_17483589e2aa445a8c86bc2469bf8dae",
            "placeholder": "​",
            "style": "IPY_MODEL_9d9023e821b34f3e8b1b9d186591ea4b",
            "value": " 798k/798k [00:00&lt;00:00, 5.48MB/s]"
          }
        },
        "3821baa63aea451aad3acbfdc2899bbd": {
          "model_module": "@jupyter-widgets/base",
          "model_name": "LayoutModel",
          "model_module_version": "1.2.0",
          "state": {
            "_model_module": "@jupyter-widgets/base",
            "_model_module_version": "1.2.0",
            "_model_name": "LayoutModel",
            "_view_count": null,
            "_view_module": "@jupyter-widgets/base",
            "_view_module_version": "1.2.0",
            "_view_name": "LayoutView",
            "align_content": null,
            "align_items": null,
            "align_self": null,
            "border": null,
            "bottom": null,
            "display": null,
            "flex": null,
            "flex_flow": null,
            "grid_area": null,
            "grid_auto_columns": null,
            "grid_auto_flow": null,
            "grid_auto_rows": null,
            "grid_column": null,
            "grid_gap": null,
            "grid_row": null,
            "grid_template_areas": null,
            "grid_template_columns": null,
            "grid_template_rows": null,
            "height": null,
            "justify_content": null,
            "justify_items": null,
            "left": null,
            "margin": null,
            "max_height": null,
            "max_width": null,
            "min_height": null,
            "min_width": null,
            "object_fit": null,
            "object_position": null,
            "order": null,
            "overflow": null,
            "overflow_x": null,
            "overflow_y": null,
            "padding": null,
            "right": null,
            "top": null,
            "visibility": null,
            "width": null
          }
        },
        "91dec0dd6ad24c0fa433750af8f2dfd8": {
          "model_module": "@jupyter-widgets/base",
          "model_name": "LayoutModel",
          "model_module_version": "1.2.0",
          "state": {
            "_model_module": "@jupyter-widgets/base",
            "_model_module_version": "1.2.0",
            "_model_name": "LayoutModel",
            "_view_count": null,
            "_view_module": "@jupyter-widgets/base",
            "_view_module_version": "1.2.0",
            "_view_name": "LayoutView",
            "align_content": null,
            "align_items": null,
            "align_self": null,
            "border": null,
            "bottom": null,
            "display": null,
            "flex": null,
            "flex_flow": null,
            "grid_area": null,
            "grid_auto_columns": null,
            "grid_auto_flow": null,
            "grid_auto_rows": null,
            "grid_column": null,
            "grid_gap": null,
            "grid_row": null,
            "grid_template_areas": null,
            "grid_template_columns": null,
            "grid_template_rows": null,
            "height": null,
            "justify_content": null,
            "justify_items": null,
            "left": null,
            "margin": null,
            "max_height": null,
            "max_width": null,
            "min_height": null,
            "min_width": null,
            "object_fit": null,
            "object_position": null,
            "order": null,
            "overflow": null,
            "overflow_x": null,
            "overflow_y": null,
            "padding": null,
            "right": null,
            "top": null,
            "visibility": null,
            "width": null
          }
        },
        "dd56e682496246bb84a1aa192e8809cb": {
          "model_module": "@jupyter-widgets/controls",
          "model_name": "DescriptionStyleModel",
          "model_module_version": "1.5.0",
          "state": {
            "_model_module": "@jupyter-widgets/controls",
            "_model_module_version": "1.5.0",
            "_model_name": "DescriptionStyleModel",
            "_view_count": null,
            "_view_module": "@jupyter-widgets/base",
            "_view_module_version": "1.2.0",
            "_view_name": "StyleView",
            "description_width": ""
          }
        },
        "4a7243295d79448e8ccf0819dae703d2": {
          "model_module": "@jupyter-widgets/base",
          "model_name": "LayoutModel",
          "model_module_version": "1.2.0",
          "state": {
            "_model_module": "@jupyter-widgets/base",
            "_model_module_version": "1.2.0",
            "_model_name": "LayoutModel",
            "_view_count": null,
            "_view_module": "@jupyter-widgets/base",
            "_view_module_version": "1.2.0",
            "_view_name": "LayoutView",
            "align_content": null,
            "align_items": null,
            "align_self": null,
            "border": null,
            "bottom": null,
            "display": null,
            "flex": null,
            "flex_flow": null,
            "grid_area": null,
            "grid_auto_columns": null,
            "grid_auto_flow": null,
            "grid_auto_rows": null,
            "grid_column": null,
            "grid_gap": null,
            "grid_row": null,
            "grid_template_areas": null,
            "grid_template_columns": null,
            "grid_template_rows": null,
            "height": null,
            "justify_content": null,
            "justify_items": null,
            "left": null,
            "margin": null,
            "max_height": null,
            "max_width": null,
            "min_height": null,
            "min_width": null,
            "object_fit": null,
            "object_position": null,
            "order": null,
            "overflow": null,
            "overflow_x": null,
            "overflow_y": null,
            "padding": null,
            "right": null,
            "top": null,
            "visibility": null,
            "width": null
          }
        },
        "9c2b94706582402d89ed291a094ee153": {
          "model_module": "@jupyter-widgets/controls",
          "model_name": "ProgressStyleModel",
          "model_module_version": "1.5.0",
          "state": {
            "_model_module": "@jupyter-widgets/controls",
            "_model_module_version": "1.5.0",
            "_model_name": "ProgressStyleModel",
            "_view_count": null,
            "_view_module": "@jupyter-widgets/base",
            "_view_module_version": "1.2.0",
            "_view_name": "StyleView",
            "bar_color": null,
            "description_width": ""
          }
        },
        "17483589e2aa445a8c86bc2469bf8dae": {
          "model_module": "@jupyter-widgets/base",
          "model_name": "LayoutModel",
          "model_module_version": "1.2.0",
          "state": {
            "_model_module": "@jupyter-widgets/base",
            "_model_module_version": "1.2.0",
            "_model_name": "LayoutModel",
            "_view_count": null,
            "_view_module": "@jupyter-widgets/base",
            "_view_module_version": "1.2.0",
            "_view_name": "LayoutView",
            "align_content": null,
            "align_items": null,
            "align_self": null,
            "border": null,
            "bottom": null,
            "display": null,
            "flex": null,
            "flex_flow": null,
            "grid_area": null,
            "grid_auto_columns": null,
            "grid_auto_flow": null,
            "grid_auto_rows": null,
            "grid_column": null,
            "grid_gap": null,
            "grid_row": null,
            "grid_template_areas": null,
            "grid_template_columns": null,
            "grid_template_rows": null,
            "height": null,
            "justify_content": null,
            "justify_items": null,
            "left": null,
            "margin": null,
            "max_height": null,
            "max_width": null,
            "min_height": null,
            "min_width": null,
            "object_fit": null,
            "object_position": null,
            "order": null,
            "overflow": null,
            "overflow_x": null,
            "overflow_y": null,
            "padding": null,
            "right": null,
            "top": null,
            "visibility": null,
            "width": null
          }
        },
        "9d9023e821b34f3e8b1b9d186591ea4b": {
          "model_module": "@jupyter-widgets/controls",
          "model_name": "DescriptionStyleModel",
          "model_module_version": "1.5.0",
          "state": {
            "_model_module": "@jupyter-widgets/controls",
            "_model_module_version": "1.5.0",
            "_model_name": "DescriptionStyleModel",
            "_view_count": null,
            "_view_module": "@jupyter-widgets/base",
            "_view_module_version": "1.2.0",
            "_view_name": "StyleView",
            "description_width": ""
          }
        },
        "9f8937fbc1814674b5e9f8b07a001c0e": {
          "model_module": "@jupyter-widgets/controls",
          "model_name": "HBoxModel",
          "model_module_version": "1.5.0",
          "state": {
            "_dom_classes": [],
            "_model_module": "@jupyter-widgets/controls",
            "_model_module_version": "1.5.0",
            "_model_name": "HBoxModel",
            "_view_count": null,
            "_view_module": "@jupyter-widgets/controls",
            "_view_module_version": "1.5.0",
            "_view_name": "HBoxView",
            "box_style": "",
            "children": [
              "IPY_MODEL_c95f03b75e284013a7cfd054af807b81",
              "IPY_MODEL_d2b4957549e3423c853fc4d89972e612",
              "IPY_MODEL_0f42cfb858114c009c045a141057a894"
            ],
            "layout": "IPY_MODEL_2f9d4147a8f04c529b51581c72966eaf"
          }
        },
        "c95f03b75e284013a7cfd054af807b81": {
          "model_module": "@jupyter-widgets/controls",
          "model_name": "HTMLModel",
          "model_module_version": "1.5.0",
          "state": {
            "_dom_classes": [],
            "_model_module": "@jupyter-widgets/controls",
            "_model_module_version": "1.5.0",
            "_model_name": "HTMLModel",
            "_view_count": null,
            "_view_module": "@jupyter-widgets/controls",
            "_view_module_version": "1.5.0",
            "_view_name": "HTMLView",
            "description": "",
            "description_tooltip": null,
            "layout": "IPY_MODEL_4a4b303a34474263b26eda89f541b73d",
            "placeholder": "​",
            "style": "IPY_MODEL_0ce79201045e4fcaa4f7e59ea820189d",
            "value": "Downloading (…)olve/main/merges.txt: 100%"
          }
        },
        "d2b4957549e3423c853fc4d89972e612": {
          "model_module": "@jupyter-widgets/controls",
          "model_name": "FloatProgressModel",
          "model_module_version": "1.5.0",
          "state": {
            "_dom_classes": [],
            "_model_module": "@jupyter-widgets/controls",
            "_model_module_version": "1.5.0",
            "_model_name": "FloatProgressModel",
            "_view_count": null,
            "_view_module": "@jupyter-widgets/controls",
            "_view_module_version": "1.5.0",
            "_view_name": "ProgressView",
            "bar_style": "success",
            "description": "",
            "description_tooltip": null,
            "layout": "IPY_MODEL_9e46e4ebd48a4d64a0ae8f22d2dd436f",
            "max": 456356,
            "min": 0,
            "orientation": "horizontal",
            "style": "IPY_MODEL_be59126e790c460d835334e5aaad2257",
            "value": 456356
          }
        },
        "0f42cfb858114c009c045a141057a894": {
          "model_module": "@jupyter-widgets/controls",
          "model_name": "HTMLModel",
          "model_module_version": "1.5.0",
          "state": {
            "_dom_classes": [],
            "_model_module": "@jupyter-widgets/controls",
            "_model_module_version": "1.5.0",
            "_model_name": "HTMLModel",
            "_view_count": null,
            "_view_module": "@jupyter-widgets/controls",
            "_view_module_version": "1.5.0",
            "_view_name": "HTMLView",
            "description": "",
            "description_tooltip": null,
            "layout": "IPY_MODEL_79a4aa12ac3a4fafa67376cf7f9334fa",
            "placeholder": "​",
            "style": "IPY_MODEL_9f7cf9900abf4d408001aefc4b8b50d7",
            "value": " 456k/456k [00:00&lt;00:00, 4.19MB/s]"
          }
        },
        "2f9d4147a8f04c529b51581c72966eaf": {
          "model_module": "@jupyter-widgets/base",
          "model_name": "LayoutModel",
          "model_module_version": "1.2.0",
          "state": {
            "_model_module": "@jupyter-widgets/base",
            "_model_module_version": "1.2.0",
            "_model_name": "LayoutModel",
            "_view_count": null,
            "_view_module": "@jupyter-widgets/base",
            "_view_module_version": "1.2.0",
            "_view_name": "LayoutView",
            "align_content": null,
            "align_items": null,
            "align_self": null,
            "border": null,
            "bottom": null,
            "display": null,
            "flex": null,
            "flex_flow": null,
            "grid_area": null,
            "grid_auto_columns": null,
            "grid_auto_flow": null,
            "grid_auto_rows": null,
            "grid_column": null,
            "grid_gap": null,
            "grid_row": null,
            "grid_template_areas": null,
            "grid_template_columns": null,
            "grid_template_rows": null,
            "height": null,
            "justify_content": null,
            "justify_items": null,
            "left": null,
            "margin": null,
            "max_height": null,
            "max_width": null,
            "min_height": null,
            "min_width": null,
            "object_fit": null,
            "object_position": null,
            "order": null,
            "overflow": null,
            "overflow_x": null,
            "overflow_y": null,
            "padding": null,
            "right": null,
            "top": null,
            "visibility": null,
            "width": null
          }
        },
        "4a4b303a34474263b26eda89f541b73d": {
          "model_module": "@jupyter-widgets/base",
          "model_name": "LayoutModel",
          "model_module_version": "1.2.0",
          "state": {
            "_model_module": "@jupyter-widgets/base",
            "_model_module_version": "1.2.0",
            "_model_name": "LayoutModel",
            "_view_count": null,
            "_view_module": "@jupyter-widgets/base",
            "_view_module_version": "1.2.0",
            "_view_name": "LayoutView",
            "align_content": null,
            "align_items": null,
            "align_self": null,
            "border": null,
            "bottom": null,
            "display": null,
            "flex": null,
            "flex_flow": null,
            "grid_area": null,
            "grid_auto_columns": null,
            "grid_auto_flow": null,
            "grid_auto_rows": null,
            "grid_column": null,
            "grid_gap": null,
            "grid_row": null,
            "grid_template_areas": null,
            "grid_template_columns": null,
            "grid_template_rows": null,
            "height": null,
            "justify_content": null,
            "justify_items": null,
            "left": null,
            "margin": null,
            "max_height": null,
            "max_width": null,
            "min_height": null,
            "min_width": null,
            "object_fit": null,
            "object_position": null,
            "order": null,
            "overflow": null,
            "overflow_x": null,
            "overflow_y": null,
            "padding": null,
            "right": null,
            "top": null,
            "visibility": null,
            "width": null
          }
        },
        "0ce79201045e4fcaa4f7e59ea820189d": {
          "model_module": "@jupyter-widgets/controls",
          "model_name": "DescriptionStyleModel",
          "model_module_version": "1.5.0",
          "state": {
            "_model_module": "@jupyter-widgets/controls",
            "_model_module_version": "1.5.0",
            "_model_name": "DescriptionStyleModel",
            "_view_count": null,
            "_view_module": "@jupyter-widgets/base",
            "_view_module_version": "1.2.0",
            "_view_name": "StyleView",
            "description_width": ""
          }
        },
        "9e46e4ebd48a4d64a0ae8f22d2dd436f": {
          "model_module": "@jupyter-widgets/base",
          "model_name": "LayoutModel",
          "model_module_version": "1.2.0",
          "state": {
            "_model_module": "@jupyter-widgets/base",
            "_model_module_version": "1.2.0",
            "_model_name": "LayoutModel",
            "_view_count": null,
            "_view_module": "@jupyter-widgets/base",
            "_view_module_version": "1.2.0",
            "_view_name": "LayoutView",
            "align_content": null,
            "align_items": null,
            "align_self": null,
            "border": null,
            "bottom": null,
            "display": null,
            "flex": null,
            "flex_flow": null,
            "grid_area": null,
            "grid_auto_columns": null,
            "grid_auto_flow": null,
            "grid_auto_rows": null,
            "grid_column": null,
            "grid_gap": null,
            "grid_row": null,
            "grid_template_areas": null,
            "grid_template_columns": null,
            "grid_template_rows": null,
            "height": null,
            "justify_content": null,
            "justify_items": null,
            "left": null,
            "margin": null,
            "max_height": null,
            "max_width": null,
            "min_height": null,
            "min_width": null,
            "object_fit": null,
            "object_position": null,
            "order": null,
            "overflow": null,
            "overflow_x": null,
            "overflow_y": null,
            "padding": null,
            "right": null,
            "top": null,
            "visibility": null,
            "width": null
          }
        },
        "be59126e790c460d835334e5aaad2257": {
          "model_module": "@jupyter-widgets/controls",
          "model_name": "ProgressStyleModel",
          "model_module_version": "1.5.0",
          "state": {
            "_model_module": "@jupyter-widgets/controls",
            "_model_module_version": "1.5.0",
            "_model_name": "ProgressStyleModel",
            "_view_count": null,
            "_view_module": "@jupyter-widgets/base",
            "_view_module_version": "1.2.0",
            "_view_name": "StyleView",
            "bar_color": null,
            "description_width": ""
          }
        },
        "79a4aa12ac3a4fafa67376cf7f9334fa": {
          "model_module": "@jupyter-widgets/base",
          "model_name": "LayoutModel",
          "model_module_version": "1.2.0",
          "state": {
            "_model_module": "@jupyter-widgets/base",
            "_model_module_version": "1.2.0",
            "_model_name": "LayoutModel",
            "_view_count": null,
            "_view_module": "@jupyter-widgets/base",
            "_view_module_version": "1.2.0",
            "_view_name": "LayoutView",
            "align_content": null,
            "align_items": null,
            "align_self": null,
            "border": null,
            "bottom": null,
            "display": null,
            "flex": null,
            "flex_flow": null,
            "grid_area": null,
            "grid_auto_columns": null,
            "grid_auto_flow": null,
            "grid_auto_rows": null,
            "grid_column": null,
            "grid_gap": null,
            "grid_row": null,
            "grid_template_areas": null,
            "grid_template_columns": null,
            "grid_template_rows": null,
            "height": null,
            "justify_content": null,
            "justify_items": null,
            "left": null,
            "margin": null,
            "max_height": null,
            "max_width": null,
            "min_height": null,
            "min_width": null,
            "object_fit": null,
            "object_position": null,
            "order": null,
            "overflow": null,
            "overflow_x": null,
            "overflow_y": null,
            "padding": null,
            "right": null,
            "top": null,
            "visibility": null,
            "width": null
          }
        },
        "9f7cf9900abf4d408001aefc4b8b50d7": {
          "model_module": "@jupyter-widgets/controls",
          "model_name": "DescriptionStyleModel",
          "model_module_version": "1.5.0",
          "state": {
            "_model_module": "@jupyter-widgets/controls",
            "_model_module_version": "1.5.0",
            "_model_name": "DescriptionStyleModel",
            "_view_count": null,
            "_view_module": "@jupyter-widgets/base",
            "_view_module_version": "1.2.0",
            "_view_name": "StyleView",
            "description_width": ""
          }
        },
        "8d8e5ae550644e6b864aeb8c99857e36": {
          "model_module": "@jupyter-widgets/controls",
          "model_name": "HBoxModel",
          "model_module_version": "1.5.0",
          "state": {
            "_dom_classes": [],
            "_model_module": "@jupyter-widgets/controls",
            "_model_module_version": "1.5.0",
            "_model_name": "HBoxModel",
            "_view_count": null,
            "_view_module": "@jupyter-widgets/controls",
            "_view_module_version": "1.5.0",
            "_view_name": "HBoxView",
            "box_style": "",
            "children": [
              "IPY_MODEL_13b67d2624074ca78268cf9f6c9703bc",
              "IPY_MODEL_5d8b2f7151634870bfdcbcec121ed7af",
              "IPY_MODEL_af1866fdeeea463c899e709c35d52815"
            ],
            "layout": "IPY_MODEL_fb2319cad48742f8bbfa5f76222867b9"
          }
        },
        "13b67d2624074ca78268cf9f6c9703bc": {
          "model_module": "@jupyter-widgets/controls",
          "model_name": "HTMLModel",
          "model_module_version": "1.5.0",
          "state": {
            "_dom_classes": [],
            "_model_module": "@jupyter-widgets/controls",
            "_model_module_version": "1.5.0",
            "_model_name": "HTMLModel",
            "_view_count": null,
            "_view_module": "@jupyter-widgets/controls",
            "_view_module_version": "1.5.0",
            "_view_name": "HTMLView",
            "description": "",
            "description_tooltip": null,
            "layout": "IPY_MODEL_52cd33c9b81e464ba43960a0300e1e29",
            "placeholder": "​",
            "style": "IPY_MODEL_5369c4686390449a98fb4b60db2b7deb",
            "value": "Downloading (…)cial_tokens_map.json: 100%"
          }
        },
        "5d8b2f7151634870bfdcbcec121ed7af": {
          "model_module": "@jupyter-widgets/controls",
          "model_name": "FloatProgressModel",
          "model_module_version": "1.5.0",
          "state": {
            "_dom_classes": [],
            "_model_module": "@jupyter-widgets/controls",
            "_model_module_version": "1.5.0",
            "_model_name": "FloatProgressModel",
            "_view_count": null,
            "_view_module": "@jupyter-widgets/controls",
            "_view_module_version": "1.5.0",
            "_view_name": "ProgressView",
            "bar_style": "success",
            "description": "",
            "description_tooltip": null,
            "layout": "IPY_MODEL_2bb4dbfe14574df88cd5cbfc7e4443b1",
            "max": 239,
            "min": 0,
            "orientation": "horizontal",
            "style": "IPY_MODEL_c612fa60ecab49fa8119494bf4676eeb",
            "value": 239
          }
        },
        "af1866fdeeea463c899e709c35d52815": {
          "model_module": "@jupyter-widgets/controls",
          "model_name": "HTMLModel",
          "model_module_version": "1.5.0",
          "state": {
            "_dom_classes": [],
            "_model_module": "@jupyter-widgets/controls",
            "_model_module_version": "1.5.0",
            "_model_name": "HTMLModel",
            "_view_count": null,
            "_view_module": "@jupyter-widgets/controls",
            "_view_module_version": "1.5.0",
            "_view_name": "HTMLView",
            "description": "",
            "description_tooltip": null,
            "layout": "IPY_MODEL_500e267c5cb54654b8f288477afdab15",
            "placeholder": "​",
            "style": "IPY_MODEL_3b24a2848bb44d1f85882b0248e7237f",
            "value": " 239/239 [00:00&lt;00:00, 16.0kB/s]"
          }
        },
        "fb2319cad48742f8bbfa5f76222867b9": {
          "model_module": "@jupyter-widgets/base",
          "model_name": "LayoutModel",
          "model_module_version": "1.2.0",
          "state": {
            "_model_module": "@jupyter-widgets/base",
            "_model_module_version": "1.2.0",
            "_model_name": "LayoutModel",
            "_view_count": null,
            "_view_module": "@jupyter-widgets/base",
            "_view_module_version": "1.2.0",
            "_view_name": "LayoutView",
            "align_content": null,
            "align_items": null,
            "align_self": null,
            "border": null,
            "bottom": null,
            "display": null,
            "flex": null,
            "flex_flow": null,
            "grid_area": null,
            "grid_auto_columns": null,
            "grid_auto_flow": null,
            "grid_auto_rows": null,
            "grid_column": null,
            "grid_gap": null,
            "grid_row": null,
            "grid_template_areas": null,
            "grid_template_columns": null,
            "grid_template_rows": null,
            "height": null,
            "justify_content": null,
            "justify_items": null,
            "left": null,
            "margin": null,
            "max_height": null,
            "max_width": null,
            "min_height": null,
            "min_width": null,
            "object_fit": null,
            "object_position": null,
            "order": null,
            "overflow": null,
            "overflow_x": null,
            "overflow_y": null,
            "padding": null,
            "right": null,
            "top": null,
            "visibility": null,
            "width": null
          }
        },
        "52cd33c9b81e464ba43960a0300e1e29": {
          "model_module": "@jupyter-widgets/base",
          "model_name": "LayoutModel",
          "model_module_version": "1.2.0",
          "state": {
            "_model_module": "@jupyter-widgets/base",
            "_model_module_version": "1.2.0",
            "_model_name": "LayoutModel",
            "_view_count": null,
            "_view_module": "@jupyter-widgets/base",
            "_view_module_version": "1.2.0",
            "_view_name": "LayoutView",
            "align_content": null,
            "align_items": null,
            "align_self": null,
            "border": null,
            "bottom": null,
            "display": null,
            "flex": null,
            "flex_flow": null,
            "grid_area": null,
            "grid_auto_columns": null,
            "grid_auto_flow": null,
            "grid_auto_rows": null,
            "grid_column": null,
            "grid_gap": null,
            "grid_row": null,
            "grid_template_areas": null,
            "grid_template_columns": null,
            "grid_template_rows": null,
            "height": null,
            "justify_content": null,
            "justify_items": null,
            "left": null,
            "margin": null,
            "max_height": null,
            "max_width": null,
            "min_height": null,
            "min_width": null,
            "object_fit": null,
            "object_position": null,
            "order": null,
            "overflow": null,
            "overflow_x": null,
            "overflow_y": null,
            "padding": null,
            "right": null,
            "top": null,
            "visibility": null,
            "width": null
          }
        },
        "5369c4686390449a98fb4b60db2b7deb": {
          "model_module": "@jupyter-widgets/controls",
          "model_name": "DescriptionStyleModel",
          "model_module_version": "1.5.0",
          "state": {
            "_model_module": "@jupyter-widgets/controls",
            "_model_module_version": "1.5.0",
            "_model_name": "DescriptionStyleModel",
            "_view_count": null,
            "_view_module": "@jupyter-widgets/base",
            "_view_module_version": "1.2.0",
            "_view_name": "StyleView",
            "description_width": ""
          }
        },
        "2bb4dbfe14574df88cd5cbfc7e4443b1": {
          "model_module": "@jupyter-widgets/base",
          "model_name": "LayoutModel",
          "model_module_version": "1.2.0",
          "state": {
            "_model_module": "@jupyter-widgets/base",
            "_model_module_version": "1.2.0",
            "_model_name": "LayoutModel",
            "_view_count": null,
            "_view_module": "@jupyter-widgets/base",
            "_view_module_version": "1.2.0",
            "_view_name": "LayoutView",
            "align_content": null,
            "align_items": null,
            "align_self": null,
            "border": null,
            "bottom": null,
            "display": null,
            "flex": null,
            "flex_flow": null,
            "grid_area": null,
            "grid_auto_columns": null,
            "grid_auto_flow": null,
            "grid_auto_rows": null,
            "grid_column": null,
            "grid_gap": null,
            "grid_row": null,
            "grid_template_areas": null,
            "grid_template_columns": null,
            "grid_template_rows": null,
            "height": null,
            "justify_content": null,
            "justify_items": null,
            "left": null,
            "margin": null,
            "max_height": null,
            "max_width": null,
            "min_height": null,
            "min_width": null,
            "object_fit": null,
            "object_position": null,
            "order": null,
            "overflow": null,
            "overflow_x": null,
            "overflow_y": null,
            "padding": null,
            "right": null,
            "top": null,
            "visibility": null,
            "width": null
          }
        },
        "c612fa60ecab49fa8119494bf4676eeb": {
          "model_module": "@jupyter-widgets/controls",
          "model_name": "ProgressStyleModel",
          "model_module_version": "1.5.0",
          "state": {
            "_model_module": "@jupyter-widgets/controls",
            "_model_module_version": "1.5.0",
            "_model_name": "ProgressStyleModel",
            "_view_count": null,
            "_view_module": "@jupyter-widgets/base",
            "_view_module_version": "1.2.0",
            "_view_name": "StyleView",
            "bar_color": null,
            "description_width": ""
          }
        },
        "500e267c5cb54654b8f288477afdab15": {
          "model_module": "@jupyter-widgets/base",
          "model_name": "LayoutModel",
          "model_module_version": "1.2.0",
          "state": {
            "_model_module": "@jupyter-widgets/base",
            "_model_module_version": "1.2.0",
            "_model_name": "LayoutModel",
            "_view_count": null,
            "_view_module": "@jupyter-widgets/base",
            "_view_module_version": "1.2.0",
            "_view_name": "LayoutView",
            "align_content": null,
            "align_items": null,
            "align_self": null,
            "border": null,
            "bottom": null,
            "display": null,
            "flex": null,
            "flex_flow": null,
            "grid_area": null,
            "grid_auto_columns": null,
            "grid_auto_flow": null,
            "grid_auto_rows": null,
            "grid_column": null,
            "grid_gap": null,
            "grid_row": null,
            "grid_template_areas": null,
            "grid_template_columns": null,
            "grid_template_rows": null,
            "height": null,
            "justify_content": null,
            "justify_items": null,
            "left": null,
            "margin": null,
            "max_height": null,
            "max_width": null,
            "min_height": null,
            "min_width": null,
            "object_fit": null,
            "object_position": null,
            "order": null,
            "overflow": null,
            "overflow_x": null,
            "overflow_y": null,
            "padding": null,
            "right": null,
            "top": null,
            "visibility": null,
            "width": null
          }
        },
        "3b24a2848bb44d1f85882b0248e7237f": {
          "model_module": "@jupyter-widgets/controls",
          "model_name": "DescriptionStyleModel",
          "model_module_version": "1.5.0",
          "state": {
            "_model_module": "@jupyter-widgets/controls",
            "_model_module_version": "1.5.0",
            "_model_name": "DescriptionStyleModel",
            "_view_count": null,
            "_view_module": "@jupyter-widgets/base",
            "_view_module_version": "1.2.0",
            "_view_name": "StyleView",
            "description_width": ""
          }
        },
        "cee4bec4852e4becaced65b3f5a88514": {
          "model_module": "@jupyter-widgets/controls",
          "model_name": "HBoxModel",
          "model_module_version": "1.5.0",
          "state": {
            "_dom_classes": [],
            "_model_module": "@jupyter-widgets/controls",
            "_model_module_version": "1.5.0",
            "_model_name": "HBoxModel",
            "_view_count": null,
            "_view_module": "@jupyter-widgets/controls",
            "_view_module_version": "1.5.0",
            "_view_name": "HBoxView",
            "box_style": "",
            "children": [
              "IPY_MODEL_c46550994f2a4e9d9baa5c0569dc40f4",
              "IPY_MODEL_9cf6a3c1d39e4ba1b37398d0788190cd",
              "IPY_MODEL_12d9df3958cc42078a9264c2ee309e80"
            ],
            "layout": "IPY_MODEL_579f103674ac400bbf0e2d72f2e89a6e"
          }
        },
        "c46550994f2a4e9d9baa5c0569dc40f4": {
          "model_module": "@jupyter-widgets/controls",
          "model_name": "HTMLModel",
          "model_module_version": "1.5.0",
          "state": {
            "_dom_classes": [],
            "_model_module": "@jupyter-widgets/controls",
            "_model_module_version": "1.5.0",
            "_model_name": "HTMLModel",
            "_view_count": null,
            "_view_module": "@jupyter-widgets/controls",
            "_view_module_version": "1.5.0",
            "_view_name": "HTMLView",
            "description": "",
            "description_tooltip": null,
            "layout": "IPY_MODEL_2d25a7c91de148e2bafd22ee5679171f",
            "placeholder": "​",
            "style": "IPY_MODEL_71e1c9ecdc18439db6145fe6c5228bcb",
            "value": "100%"
          }
        },
        "9cf6a3c1d39e4ba1b37398d0788190cd": {
          "model_module": "@jupyter-widgets/controls",
          "model_name": "FloatProgressModel",
          "model_module_version": "1.5.0",
          "state": {
            "_dom_classes": [],
            "_model_module": "@jupyter-widgets/controls",
            "_model_module_version": "1.5.0",
            "_model_name": "FloatProgressModel",
            "_view_count": null,
            "_view_module": "@jupyter-widgets/controls",
            "_view_module_version": "1.5.0",
            "_view_name": "ProgressView",
            "bar_style": "success",
            "description": "",
            "description_tooltip": null,
            "layout": "IPY_MODEL_bd1099e893fa47efa8bc1282bf9fe675",
            "max": 2,
            "min": 0,
            "orientation": "horizontal",
            "style": "IPY_MODEL_5265dfa5e9f445caad0477170fad8b19",
            "value": 2
          }
        },
        "12d9df3958cc42078a9264c2ee309e80": {
          "model_module": "@jupyter-widgets/controls",
          "model_name": "HTMLModel",
          "model_module_version": "1.5.0",
          "state": {
            "_dom_classes": [],
            "_model_module": "@jupyter-widgets/controls",
            "_model_module_version": "1.5.0",
            "_model_name": "HTMLModel",
            "_view_count": null,
            "_view_module": "@jupyter-widgets/controls",
            "_view_module_version": "1.5.0",
            "_view_name": "HTMLView",
            "description": "",
            "description_tooltip": null,
            "layout": "IPY_MODEL_cb3d83f347e94c36851d6d5c52914aca",
            "placeholder": "​",
            "style": "IPY_MODEL_ccfdc4cf59cf428b860e49224fa7dbc4",
            "value": " 2/2 [00:00&lt;00:00, 123.58it/s]"
          }
        },
        "579f103674ac400bbf0e2d72f2e89a6e": {
          "model_module": "@jupyter-widgets/base",
          "model_name": "LayoutModel",
          "model_module_version": "1.2.0",
          "state": {
            "_model_module": "@jupyter-widgets/base",
            "_model_module_version": "1.2.0",
            "_model_name": "LayoutModel",
            "_view_count": null,
            "_view_module": "@jupyter-widgets/base",
            "_view_module_version": "1.2.0",
            "_view_name": "LayoutView",
            "align_content": null,
            "align_items": null,
            "align_self": null,
            "border": null,
            "bottom": null,
            "display": null,
            "flex": null,
            "flex_flow": null,
            "grid_area": null,
            "grid_auto_columns": null,
            "grid_auto_flow": null,
            "grid_auto_rows": null,
            "grid_column": null,
            "grid_gap": null,
            "grid_row": null,
            "grid_template_areas": null,
            "grid_template_columns": null,
            "grid_template_rows": null,
            "height": null,
            "justify_content": null,
            "justify_items": null,
            "left": null,
            "margin": null,
            "max_height": null,
            "max_width": null,
            "min_height": null,
            "min_width": null,
            "object_fit": null,
            "object_position": null,
            "order": null,
            "overflow": null,
            "overflow_x": null,
            "overflow_y": null,
            "padding": null,
            "right": null,
            "top": null,
            "visibility": null,
            "width": null
          }
        },
        "2d25a7c91de148e2bafd22ee5679171f": {
          "model_module": "@jupyter-widgets/base",
          "model_name": "LayoutModel",
          "model_module_version": "1.2.0",
          "state": {
            "_model_module": "@jupyter-widgets/base",
            "_model_module_version": "1.2.0",
            "_model_name": "LayoutModel",
            "_view_count": null,
            "_view_module": "@jupyter-widgets/base",
            "_view_module_version": "1.2.0",
            "_view_name": "LayoutView",
            "align_content": null,
            "align_items": null,
            "align_self": null,
            "border": null,
            "bottom": null,
            "display": null,
            "flex": null,
            "flex_flow": null,
            "grid_area": null,
            "grid_auto_columns": null,
            "grid_auto_flow": null,
            "grid_auto_rows": null,
            "grid_column": null,
            "grid_gap": null,
            "grid_row": null,
            "grid_template_areas": null,
            "grid_template_columns": null,
            "grid_template_rows": null,
            "height": null,
            "justify_content": null,
            "justify_items": null,
            "left": null,
            "margin": null,
            "max_height": null,
            "max_width": null,
            "min_height": null,
            "min_width": null,
            "object_fit": null,
            "object_position": null,
            "order": null,
            "overflow": null,
            "overflow_x": null,
            "overflow_y": null,
            "padding": null,
            "right": null,
            "top": null,
            "visibility": null,
            "width": null
          }
        },
        "71e1c9ecdc18439db6145fe6c5228bcb": {
          "model_module": "@jupyter-widgets/controls",
          "model_name": "DescriptionStyleModel",
          "model_module_version": "1.5.0",
          "state": {
            "_model_module": "@jupyter-widgets/controls",
            "_model_module_version": "1.5.0",
            "_model_name": "DescriptionStyleModel",
            "_view_count": null,
            "_view_module": "@jupyter-widgets/base",
            "_view_module_version": "1.2.0",
            "_view_name": "StyleView",
            "description_width": ""
          }
        },
        "bd1099e893fa47efa8bc1282bf9fe675": {
          "model_module": "@jupyter-widgets/base",
          "model_name": "LayoutModel",
          "model_module_version": "1.2.0",
          "state": {
            "_model_module": "@jupyter-widgets/base",
            "_model_module_version": "1.2.0",
            "_model_name": "LayoutModel",
            "_view_count": null,
            "_view_module": "@jupyter-widgets/base",
            "_view_module_version": "1.2.0",
            "_view_name": "LayoutView",
            "align_content": null,
            "align_items": null,
            "align_self": null,
            "border": null,
            "bottom": null,
            "display": null,
            "flex": null,
            "flex_flow": null,
            "grid_area": null,
            "grid_auto_columns": null,
            "grid_auto_flow": null,
            "grid_auto_rows": null,
            "grid_column": null,
            "grid_gap": null,
            "grid_row": null,
            "grid_template_areas": null,
            "grid_template_columns": null,
            "grid_template_rows": null,
            "height": null,
            "justify_content": null,
            "justify_items": null,
            "left": null,
            "margin": null,
            "max_height": null,
            "max_width": null,
            "min_height": null,
            "min_width": null,
            "object_fit": null,
            "object_position": null,
            "order": null,
            "overflow": null,
            "overflow_x": null,
            "overflow_y": null,
            "padding": null,
            "right": null,
            "top": null,
            "visibility": null,
            "width": null
          }
        },
        "5265dfa5e9f445caad0477170fad8b19": {
          "model_module": "@jupyter-widgets/controls",
          "model_name": "ProgressStyleModel",
          "model_module_version": "1.5.0",
          "state": {
            "_model_module": "@jupyter-widgets/controls",
            "_model_module_version": "1.5.0",
            "_model_name": "ProgressStyleModel",
            "_view_count": null,
            "_view_module": "@jupyter-widgets/base",
            "_view_module_version": "1.2.0",
            "_view_name": "StyleView",
            "bar_color": null,
            "description_width": ""
          }
        },
        "cb3d83f347e94c36851d6d5c52914aca": {
          "model_module": "@jupyter-widgets/base",
          "model_name": "LayoutModel",
          "model_module_version": "1.2.0",
          "state": {
            "_model_module": "@jupyter-widgets/base",
            "_model_module_version": "1.2.0",
            "_model_name": "LayoutModel",
            "_view_count": null,
            "_view_module": "@jupyter-widgets/base",
            "_view_module_version": "1.2.0",
            "_view_name": "LayoutView",
            "align_content": null,
            "align_items": null,
            "align_self": null,
            "border": null,
            "bottom": null,
            "display": null,
            "flex": null,
            "flex_flow": null,
            "grid_area": null,
            "grid_auto_columns": null,
            "grid_auto_flow": null,
            "grid_auto_rows": null,
            "grid_column": null,
            "grid_gap": null,
            "grid_row": null,
            "grid_template_areas": null,
            "grid_template_columns": null,
            "grid_template_rows": null,
            "height": null,
            "justify_content": null,
            "justify_items": null,
            "left": null,
            "margin": null,
            "max_height": null,
            "max_width": null,
            "min_height": null,
            "min_width": null,
            "object_fit": null,
            "object_position": null,
            "order": null,
            "overflow": null,
            "overflow_x": null,
            "overflow_y": null,
            "padding": null,
            "right": null,
            "top": null,
            "visibility": null,
            "width": null
          }
        },
        "ccfdc4cf59cf428b860e49224fa7dbc4": {
          "model_module": "@jupyter-widgets/controls",
          "model_name": "DescriptionStyleModel",
          "model_module_version": "1.5.0",
          "state": {
            "_model_module": "@jupyter-widgets/controls",
            "_model_module_version": "1.5.0",
            "_model_name": "DescriptionStyleModel",
            "_view_count": null,
            "_view_module": "@jupyter-widgets/base",
            "_view_module_version": "1.2.0",
            "_view_name": "StyleView",
            "description_width": ""
          }
        }
      }
    }
  },
  "nbformat": 4,
  "nbformat_minor": 0
}